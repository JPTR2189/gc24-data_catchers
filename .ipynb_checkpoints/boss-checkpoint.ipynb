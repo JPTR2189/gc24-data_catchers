{
 "cells": [
  {
   "cell_type": "code",
   "execution_count": null,
   "metadata": {
    "tags": []
   },
   "outputs": [],
   "source": [
    "!pip install category_encoders"
   ]
  },
  {
   "cell_type": "code",
   "execution_count": null,
   "metadata": {
    "id": "-RdySyaiQ3i5"
   },
   "outputs": [],
   "source": [
    "import pandas as pd\n",
    "import plotly.express as px\n",
    "import seaborn as sns\n",
    "import matplotlib.pyplot as plt\n",
    "import numpy as np"
   ]
  },
  {
   "cell_type": "code",
   "execution_count": null,
   "metadata": {
    "colab": {
     "base_uri": "https://localhost:8080/",
     "height": 756
    },
    "id": "ZE5RDtmnVj7R",
    "outputId": "a14f1bd5-bbc3-49f0-fdbe-e13838e106f2"
   },
   "outputs": [],
   "source": [
    "#Importação do DF\n",
    "df = pd.read_csv('dataset.csv')\n",
    "df"
   ]
  },
  {
   "cell_type": "code",
   "execution_count": null,
   "metadata": {
    "id": "wtG24-LKaPzb"
   },
   "outputs": [],
   "source": [
    "# Criando um DataFrame com dados nulos\n",
    "num_linhas_nulas = 5  # Número de linhas com valores nulos que você deseja adicionar\n",
    "linhas_nulas = pd.DataFrame({\n",
    "    'track_genre': [np.nan] * num_linhas_nulas,\n",
    "    'popularity': [np.nan] * num_linhas_nulas\n",
    "})"
   ]
  },
  {
   "cell_type": "code",
   "execution_count": null,
   "metadata": {
    "colab": {
     "base_uri": "https://localhost:8080/"
    },
    "id": "OknikQkbabYD",
    "outputId": "0652ffac-0acd-4ecc-e6cf-b48a00239de2"
   },
   "outputs": [],
   "source": [
    "#Adicionando os nulos no df\n",
    "df_com_nulos = pd.concat([df, linhas_nulas], ignore_index=True)\n",
    "\n",
    "print(df_com_nulos)"
   ]
  },
  {
   "cell_type": "code",
   "execution_count": null,
   "metadata": {
    "colab": {
     "base_uri": "https://localhost:8080/",
     "height": 743
    },
    "id": "l5BeNk4Dakdz",
    "outputId": "18d37d7f-ba25-4a1a-eadb-82a3d0e5ba4b"
   },
   "outputs": [],
   "source": [
    "#Verificando valores nulos:\n",
    "display(df_com_nulos.isnull().sum())"
   ]
  },
  {
   "cell_type": "code",
   "execution_count": null,
   "metadata": {
    "colab": {
     "base_uri": "https://localhost:8080/",
     "height": 743
    },
    "id": "s_7M8NEmavDM",
    "outputId": "160d3933-e714-4578-9183-6fcac78c3036"
   },
   "outputs": [],
   "source": [
    "#Dropagem de linhas com valores nulos\n",
    "df1 = df_com_nulos.dropna()\n",
    "df1.isnull().sum()\n",
    "\n"
   ]
  },
  {
   "cell_type": "code",
   "execution_count": null,
   "metadata": {
    "colab": {
     "base_uri": "https://localhost:8080/"
    },
    "id": "-c2JiyXBVu9i",
    "outputId": "5a90b110-ddaa-4fd1-86cf-ee8eb93fa218"
   },
   "outputs": [],
   "source": [
    "#duração esta em milissegundos:\n",
    "df1['duration_minutes'] = df1['duration_ms'] // 60000  # Minutos\n",
    "df1['duration_seconds'] = (df1['duration_ms'] % 60000) // 1000  # Segundos\n",
    "\n",
    "# Criando uma nova coluna no formato \"mm:ss\":\n",
    "df1['formatted_duration'] = df1['duration_minutes'].astype(str) + ':' + \\\n",
    "    df1['duration_seconds'].apply(lambda x: f\"{x:02}\")  # Formata segundos com dois dígitos\n",
    "\n",
    "# Exibindo as primeiras linhas para verificar o resultado:\n",
    "print(df1[['duration_ms', 'formatted_duration']].head())"
   ]
  },
  {
   "cell_type": "code",
   "execution_count": null,
   "metadata": {
    "colab": {
     "base_uri": "https://localhost:8080/",
     "height": 738
    },
    "id": "CE9yXfjLX96D",
    "outputId": "dc33f546-d0e8-468b-f1cf-7db9d05ed857"
   },
   "outputs": [],
   "source": [
    "#Dropagem de colunas que a princípio não serão necessárias\n",
    "df1 = df1.drop(columns=['Unnamed: 0', 'track_id', 'key','duration_ms', 'artists', 'album_name'])\n",
    "df1"
   ]
  },
  {
   "cell_type": "code",
   "execution_count": null,
   "metadata": {
    "colab": {
     "base_uri": "https://localhost:8080/"
    },
    "id": "of-lEaaJYOcK",
    "outputId": "29def481-93e9-4892-99f1-027ce49f13b6"
   },
   "outputs": [],
   "source": [
    "# Removendo os gêneros \"world-music\" e \"sleep\"\n",
    "#Por que? No data set ja temos músicas de vários países e o world-musica só tinha o nome da música e não o pais.\n",
    "#O sleep rmovemos por que estava causando outliers e sem necessidade manter sleep na playlist\n",
    "df1 = df1[~((df1['track_genre'] == 'world-music') | (df1['track_genre'] == 'sleep'))]\n",
    "# Verificando se os gêneros foram removidos\n",
    "print(df1['track_genre'].unique())\n"
   ]
  },
  {
   "cell_type": "code",
   "execution_count": null,
   "metadata": {
    "colab": {
     "base_uri": "https://localhost:8080/"
    },
    "id": "u3rKc5emjSep",
    "outputId": "92c942a3-1f1c-4bf3-8889-b4a5f03151e8"
   },
   "outputs": [],
   "source": [
    "# Dicionário para armazenar o número de duplicatas por coluna\n",
    "duplicatas_por_coluna = {}\n",
    "\n",
    "# Itera sobre as colunas do DataFrame\n",
    "for coluna in df1.columns:\n",
    "    # Conta as duplicatas na coluna atual\n",
    "    num_duplicatas = df1.duplicated(subset=[coluna], keep=False).sum()\n",
    "\n",
    "    # Armazena o número de duplicatas no dicionário\n",
    "    duplicatas_por_coluna[coluna] = num_duplicatas\n",
    "\n",
    "# Exibe o número de duplicatas por coluna\n",
    "for coluna, num_duplicatas in duplicatas_por_coluna.items():\n",
    "    print(f\"Coluna '{coluna}': {num_duplicatas} duplicatas\")\n",
    "#Todas essa duplicadas são necessárias para o dataframe, pois fazem part existem músicas diversas do mesmo artista e com os mesmos parâmetros"
   ]
  },
  {
   "cell_type": "code",
   "execution_count": null,
   "metadata": {
    "colab": {
     "base_uri": "https://localhost:8080/"
    },
    "id": "ogoaXWB3lPbP",
    "outputId": "cb4fd8a2-e4e8-46ad-90e4-e227fa7a1872"
   },
   "outputs": [],
   "source": [
    "#Procura valores não numéricos em colunas numéricas\n",
    "#não encontrado valores não numéricos nas colunas: popularity, duration_ms, danceability, energy, loudness, mode, speechiness, acousticness, instrumentalness, liveness, valence, tempo, time_signature.\n",
    "coluna = 'time_signature'\n",
    "print(df1[~df1[coluna].apply(lambda x: isinstance(x, (int, float)))])"
   ]
  },
  {
   "cell_type": "code",
   "execution_count": null,
   "metadata": {
    "colab": {
     "base_uri": "https://localhost:8080/",
     "height": 320
    },
    "id": "9H8lubbPojBI",
    "outputId": "502d4aed-c355-47c7-8fea-da394b82013c"
   },
   "outputs": [],
   "source": [
    "df1.describe()"
   ]
  },
  {
   "cell_type": "code",
   "execution_count": null,
   "metadata": {
    "colab": {
     "base_uri": "https://localhost:8080/",
     "height": 542
    },
    "id": "Ji7Rw22sokN4",
    "outputId": "be13e74e-3c57-4d44-edd9-bb9db0f985d2"
   },
   "outputs": [],
   "source": [
    "#Relações de algumas colunas com popularidade\n",
    "#Relação \"dançabilidade\" de uma música x popularidade\n",
    "fig0 = px.scatter(\n",
    "    df1,\n",
    "    y='popularity',\n",
    "    x='danceability',\n",
    "    title='Relação \"dançabilidade\" de uma música x popularidade',\n",
    "    labels={'popularity':'Popularidade','danceability':'Dançabilidade'},\n",
    "    color='track_genre',\n",
    "    hover_data=['track_name']\n",
    "\n",
    ")\n",
    "fig0.show()\n",
    "#Aqui a gente pode ver quer as músicas mais populares nem sempre serão as mais \"dançaveis\",as mais populares ta entre 0.5 a 0.7 de \"dançavel\"\n"
   ]
  },
  {
   "cell_type": "code",
   "execution_count": null,
   "metadata": {
    "colab": {
     "base_uri": "https://localhost:8080/",
     "height": 542
    },
    "id": "oT00jxALovfp",
    "outputId": "13ea7399-5045-43c4-e50c-d18aff57ce17"
   },
   "outputs": [],
   "source": [
    "#Relação instrumental x popularidade\n",
    "px.scatter(\n",
    "    df1,\n",
    "    title='Relação instrumental x popularidade',\n",
    "    x='instrumentalness',\n",
    "    y='popularity',\n",
    "    labels={'popularity':'Popularidade','instrumentalness':'Instrumentalidade'}\n",
    ")\n",
    "#Interessante aqui que as músicas que tem alta popularidade são menos instrumentais e mais vocais"
   ]
  },
  {
   "cell_type": "code",
   "execution_count": null,
   "metadata": {
    "colab": {
     "base_uri": "https://localhost:8080/",
     "height": 542
    },
    "id": "19hyeQUIozXY",
    "outputId": "75de61a7-822a-41b5-e223-f062c341d4c0"
   },
   "outputs": [],
   "source": [
    "#Relação entre valence e popularidade\n",
    "px.scatter(\n",
    "    df1,\n",
    "    x='valence',\n",
    "    y='popularity',\n",
    "    color='track_genre',\n",
    "    labels={'popularity':'Popularidade','valence':'Quanto mais próximo do 0 mais sentimentos negativos essa música causa, o contrário para sentimentos positivos! ', 'track_genre':'Gênero'}\n",
    ")\n",
    "#Aqui conseguimos perceber que existem músicas bem tristes mas que ainda sim são populares, o que indica esse lado muito mais sentimental que uma música tem, não apenas uma letra escrita e cantada, consgeuioms ver que o gênero dance é o mais popular mas ainda sim parece ser triste."
   ]
  },
  {
   "cell_type": "code",
   "execution_count": null,
   "metadata": {
    "colab": {
     "base_uri": "https://localhost:8080/",
     "height": 542
    },
    "id": "gY4e9lQvo82p",
    "outputId": "c0684fb2-071f-4d72-a7f1-9812d058f83f"
   },
   "outputs": [],
   "source": [
    "px.scatter(\n",
    "    df1,\n",
    "    x='formatted_duration',\n",
    "    y='popularity',\n",
    "    color='track_genre',\n",
    "    labels={'popularity':'Popularidade','formatted_duration':'duração','track_genre':'Gênero'}\n",
    ")\n",
    "#Aqui vemos que as pessoas preferem músicas mais curtas e maioria do pop, e os gêneros que mais gostam são EDM, hip-hop, pop, emo e hardrock"
   ]
  },
  {
   "cell_type": "code",
   "execution_count": null,
   "metadata": {
    "colab": {
     "base_uri": "https://localhost:8080/",
     "height": 809
    },
    "id": "T2IDZv6KpBxw",
    "outputId": "7b9a9646-5a06-41f8-c5c5-4aca2c1317bd"
   },
   "outputs": [],
   "source": [
    "#Criação de heatmap para conprovar meus insigths\n",
    "# pego apenas colunas numéricas\n",
    "numeric_columns = df1.select_dtypes(include=['number'])\n",
    "\n",
    "# Calcula a matriz de correlação\n",
    "correlation_matrix = numeric_columns.corr()\n",
    "\n",
    "\n",
    "# Cria o mapa de calor\n",
    "plt.figure(figsize=(10, 8))  # Tamanho do gráfico\n",
    "sns.heatmap(correlation_matrix, annot=True, cmap='coolwarm', fmt='.2f', linewidths=0.5)\n",
    "plt.title('Correlações', fontsize=16)\n",
    "plt.show()"
   ]
  },
  {
   "cell_type": "code",
   "execution_count": null,
   "metadata": {},
   "outputs": [],
   "source": [
    "# Dataframe tratado df1"
   ]
  },
  {
   "cell_type": "markdown",
   "metadata": {},
   "source": [
    "### Análise descritiva estatísticas dos dados: \n",
    "##### Tipos de análise: Média, Mediana, Moda, Desvio-padrão"
   ]
  },
  {
   "cell_type": "code",
   "execution_count": null,
   "metadata": {},
   "outputs": [],
   "source": [
    "# Filtrando apenas as colunas numéricas\n",
    "df_numerico = df1.select_dtypes(include=['number'])#Isso seleciona apenas as colunas do DataFrame que contêm dados numéricos\n",
    "\n",
    "# Calculando as estatísticas para as colunas numéricas\n",
    "moda = df1.mode().iloc[0]  # Moda de cada coluna (pegamos a primeira moda)\n",
    "desvio_padrao = df_numerico.std()  # Desvio-padrão de cada coluna\n",
    "\n",
    "# Criando um DataFrame com as estatísticas calculadas\n",
    "estatisticas = pd.DataFrame({\n",
    "    'Moda': moda,\n",
    "    'Desvio-padrão': desvio_padrao\n",
    "})\n",
    "estatisticas"
   ]
  },
  {
   "cell_type": "markdown",
   "metadata": {},
   "source": [
    "### Features relevantes \n",
    "##### Tipos de features: energy, loudness, intensidade, tempo, velocidade"
   ]
  },
  {
   "cell_type": "code",
   "execution_count": null,
   "metadata": {
    "tags": []
   },
   "outputs": [],
   "source": [
    "#Classificando a intensidade\n",
    "def calcular_intensidade(energy, loudness):\n",
    "    # loudness positivo\n",
    "    if loudness <= 0:\n",
    "        loudness = 1  # Se loudness for zero ou negativo, ajustar para 1\n",
    "\n",
    "#Cálculo da intensidade\n",
    "    intensidade = energy * np.log(loudness + 1)\n",
    "\n",
    "#Multiplicando por 100 e ajustando a faixa de 0 a 200\n",
    "    intensidade *= 100\n",
    "\n",
    "#Garantindo que a intensidade esteja entre 0 e 200\n",
    "    intensidade = np.clip(intensidade, 0, 200)\n",
    "\n",
    "    return round(intensidade) \n",
    "\n",
    "#Cálculo de intensidade\n",
    "df1['intensidade'] = df1.apply(lambda row: calcular_intensidade(row['energy'], row['loudness']), axis=1)\n",
    "\n",
    "#Nova coluna de intensidade\n",
    "(df1[['energy', 'loudness', 'intensidade']].head())"
   ]
  },
  {
   "cell_type": "code",
   "execution_count": null,
   "metadata": {},
   "outputs": [],
   "source": [
    "# Classificando a velocidade\n",
    "def classificar_velocidade(bpm):\n",
    "    if bpm <= 90:\n",
    "        return 'Lento'\n",
    "    elif bpm <= 150:\n",
    "        return 'Moderado'\n",
    "    elif bpm <= 200:\n",
    "        return 'Rápido'\n",
    "    else:\n",
    "        return 'Desconhecido'\n",
    "\n",
    "df1 = df1.copy()\n",
    "\n",
    "# Aplicando a função à coluna \"tempo\"\n",
    "if 'tempo' in df1.columns:\n",
    "    df1.loc[:, 'velocidade'] = df1['tempo'].apply(classificar_velocidade)\n",
    "    (df1[['tempo', 'velocidade']].head())\n",
    "else:\n",
    "    print(\"A coluna 'tempo' não está disponível no DataFrame.\")\n"
   ]
  },
  {
   "cell_type": "code",
   "execution_count": null,
   "metadata": {},
   "outputs": [],
   "source": [
    "# Novas features\n",
    "(df1[['energy', 'loudness', 'intensidade', 'tempo', 'velocidade']].head())"
   ]
  },
  {
   "cell_type": "markdown",
   "metadata": {},
   "source": [
    "### Transformar variáveis categóricas em numéricas\n",
    "##### Tipo: Nominais"
   ]
  },
  {
   "cell_type": "code",
   "execution_count": null,
   "metadata": {
    "tags": []
   },
   "outputs": [],
   "source": [
    "# Exibe informações sobre o DataFrame\n",
    "df1.info()"
   ]
  },
  {
   "cell_type": "code",
   "execution_count": null,
   "metadata": {
    "tags": []
   },
   "outputs": [],
   "source": [
    "# Exibindo colunas que são do tipo String\n",
    "df1.select_dtypes(include='object')"
   ]
  },
  {
   "cell_type": "code",
   "execution_count": null,
   "metadata": {
    "tags": []
   },
   "outputs": [],
   "source": [
    "# Transforma variaveis categoricas em numericas usando OneHotEnconder\n",
    "\n",
    "from category_encoders.one_hot import OneHotEncoder\n",
    "\n",
    "one_hot = OneHotEncoder(cols=['track_genre'])\n",
    "df1 = one_hot.fit_transform(df1)\n",
    "df1.head()"
   ]
  }
 ],
 "metadata": {
  "colab": {
   "provenance": []
  },
  "kernelspec": {
   "display_name": "Python 3 (ipykernel)",
   "language": "python",
   "name": "python3"
  },
  "language_info": {
   "codemirror_mode": {
    "name": "ipython",
    "version": 3
   },
   "file_extension": ".py",
   "mimetype": "text/x-python",
   "name": "python",
   "nbconvert_exporter": "python",
   "pygments_lexer": "ipython3",
   "version": "3.12.4"
  }
 },
 "nbformat": 4,
 "nbformat_minor": 4
}
