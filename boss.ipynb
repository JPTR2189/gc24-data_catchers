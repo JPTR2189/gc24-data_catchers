{
 "cells": [
  {
   "cell_type": "code",
   "execution_count": 234,
   "metadata": {
    "tags": []
   },
   "outputs": [
    {
     "name": "stdout",
     "output_type": "stream",
     "text": [
      "Requirement already satisfied: category_encoders in d:\\miniconda\\lib\\site-packages (2.6.4)\n",
      "Requirement already satisfied: numpy>=1.14.0 in d:\\miniconda\\lib\\site-packages (from category_encoders) (2.1.1)\n",
      "Requirement already satisfied: scikit-learn>=0.20.0 in d:\\miniconda\\lib\\site-packages (from category_encoders) (1.5.2)\n",
      "Requirement already satisfied: scipy>=1.0.0 in d:\\miniconda\\lib\\site-packages (from category_encoders) (1.14.1)\n",
      "Requirement already satisfied: statsmodels>=0.9.0 in d:\\miniconda\\lib\\site-packages (from category_encoders) (0.14.4)\n",
      "Requirement already satisfied: pandas>=1.0.5 in d:\\miniconda\\lib\\site-packages (from category_encoders) (2.2.3)\n",
      "Requirement already satisfied: patsy>=0.5.1 in d:\\miniconda\\lib\\site-packages (from category_encoders) (1.0.1)\n",
      "Requirement already satisfied: python-dateutil>=2.8.2 in c:\\users\\jp\\appdata\\roaming\\python\\python312\\site-packages (from pandas>=1.0.5->category_encoders) (2.9.0.post0)\n",
      "Requirement already satisfied: pytz>=2020.1 in d:\\miniconda\\lib\\site-packages (from pandas>=1.0.5->category_encoders) (2024.2)\n",
      "Requirement already satisfied: tzdata>=2022.7 in d:\\miniconda\\lib\\site-packages (from pandas>=1.0.5->category_encoders) (2024.1)\n",
      "Requirement already satisfied: joblib>=1.2.0 in d:\\miniconda\\lib\\site-packages (from scikit-learn>=0.20.0->category_encoders) (1.4.2)\n",
      "Requirement already satisfied: threadpoolctl>=3.1.0 in d:\\miniconda\\lib\\site-packages (from scikit-learn>=0.20.0->category_encoders) (3.5.0)\n",
      "Requirement already satisfied: packaging>=21.3 in c:\\users\\jp\\appdata\\roaming\\python\\python312\\site-packages (from statsmodels>=0.9.0->category_encoders) (24.1)\n",
      "Requirement already satisfied: six>=1.5 in c:\\users\\jp\\appdata\\roaming\\python\\python312\\site-packages (from python-dateutil>=2.8.2->pandas>=1.0.5->category_encoders) (1.16.0)\n"
     ]
    }
   ],
   "source": [
    "!pip install category_encoders"
   ]
  },
  {
   "cell_type": "markdown",
   "metadata": {},
   "source": [
    "#### Importação das bibliotecas"
   ]
  },
  {
   "cell_type": "code",
   "execution_count": 235,
   "metadata": {
    "id": "-RdySyaiQ3i5"
   },
   "outputs": [],
   "source": [
    "import pandas as pd\n",
    "import plotly.express as px\n",
    "import seaborn as sns\n",
    "import matplotlib.pyplot as plt\n",
    "import numpy as np"
   ]
  },
  {
   "cell_type": "code",
   "execution_count": 236,
   "metadata": {
    "colab": {
     "base_uri": "https://localhost:8080/",
     "height": 756
    },
    "id": "ZE5RDtmnVj7R",
    "outputId": "a14f1bd5-bbc3-49f0-fdbe-e13838e106f2"
   },
   "outputs": [
    {
     "data": {
      "text/html": [
       "<div>\n",
       "<style scoped>\n",
       "    .dataframe tbody tr th:only-of-type {\n",
       "        vertical-align: middle;\n",
       "    }\n",
       "\n",
       "    .dataframe tbody tr th {\n",
       "        vertical-align: top;\n",
       "    }\n",
       "\n",
       "    .dataframe thead th {\n",
       "        text-align: right;\n",
       "    }\n",
       "</style>\n",
       "<table border=\"1\" class=\"dataframe\">\n",
       "  <thead>\n",
       "    <tr style=\"text-align: right;\">\n",
       "      <th></th>\n",
       "      <th>Unnamed: 0</th>\n",
       "      <th>track_id</th>\n",
       "      <th>artists</th>\n",
       "      <th>album_name</th>\n",
       "      <th>track_name</th>\n",
       "      <th>popularity</th>\n",
       "      <th>duration_ms</th>\n",
       "      <th>explicit</th>\n",
       "      <th>danceability</th>\n",
       "      <th>energy</th>\n",
       "      <th>...</th>\n",
       "      <th>loudness</th>\n",
       "      <th>mode</th>\n",
       "      <th>speechiness</th>\n",
       "      <th>acousticness</th>\n",
       "      <th>instrumentalness</th>\n",
       "      <th>liveness</th>\n",
       "      <th>valence</th>\n",
       "      <th>tempo</th>\n",
       "      <th>time_signature</th>\n",
       "      <th>track_genre</th>\n",
       "    </tr>\n",
       "  </thead>\n",
       "  <tbody>\n",
       "    <tr>\n",
       "      <th>0</th>\n",
       "      <td>0</td>\n",
       "      <td>5SuOikwiRyPMVoIQDJUgSV</td>\n",
       "      <td>Gen Hoshino</td>\n",
       "      <td>Comedy</td>\n",
       "      <td>Comedy</td>\n",
       "      <td>73</td>\n",
       "      <td>230666</td>\n",
       "      <td>False</td>\n",
       "      <td>0.676</td>\n",
       "      <td>0.4610</td>\n",
       "      <td>...</td>\n",
       "      <td>-6.746</td>\n",
       "      <td>0</td>\n",
       "      <td>0.1430</td>\n",
       "      <td>0.0322</td>\n",
       "      <td>0.000001</td>\n",
       "      <td>0.3580</td>\n",
       "      <td>0.7150</td>\n",
       "      <td>87.917</td>\n",
       "      <td>4</td>\n",
       "      <td>acoustic</td>\n",
       "    </tr>\n",
       "    <tr>\n",
       "      <th>1</th>\n",
       "      <td>1</td>\n",
       "      <td>4qPNDBW1i3p13qLCt0Ki3A</td>\n",
       "      <td>Ben Woodward</td>\n",
       "      <td>Ghost (Acoustic)</td>\n",
       "      <td>Ghost - Acoustic</td>\n",
       "      <td>55</td>\n",
       "      <td>149610</td>\n",
       "      <td>False</td>\n",
       "      <td>0.420</td>\n",
       "      <td>0.1660</td>\n",
       "      <td>...</td>\n",
       "      <td>-17.235</td>\n",
       "      <td>1</td>\n",
       "      <td>0.0763</td>\n",
       "      <td>0.9240</td>\n",
       "      <td>0.000006</td>\n",
       "      <td>0.1010</td>\n",
       "      <td>0.2670</td>\n",
       "      <td>77.489</td>\n",
       "      <td>4</td>\n",
       "      <td>acoustic</td>\n",
       "    </tr>\n",
       "    <tr>\n",
       "      <th>2</th>\n",
       "      <td>2</td>\n",
       "      <td>1iJBSr7s7jYXzM8EGcbK5b</td>\n",
       "      <td>Ingrid Michaelson;ZAYN</td>\n",
       "      <td>To Begin Again</td>\n",
       "      <td>To Begin Again</td>\n",
       "      <td>57</td>\n",
       "      <td>210826</td>\n",
       "      <td>False</td>\n",
       "      <td>0.438</td>\n",
       "      <td>0.3590</td>\n",
       "      <td>...</td>\n",
       "      <td>-9.734</td>\n",
       "      <td>1</td>\n",
       "      <td>0.0557</td>\n",
       "      <td>0.2100</td>\n",
       "      <td>0.000000</td>\n",
       "      <td>0.1170</td>\n",
       "      <td>0.1200</td>\n",
       "      <td>76.332</td>\n",
       "      <td>4</td>\n",
       "      <td>acoustic</td>\n",
       "    </tr>\n",
       "    <tr>\n",
       "      <th>3</th>\n",
       "      <td>3</td>\n",
       "      <td>6lfxq3CG4xtTiEg7opyCyx</td>\n",
       "      <td>Kina Grannis</td>\n",
       "      <td>Crazy Rich Asians (Original Motion Picture Sou...</td>\n",
       "      <td>Can't Help Falling In Love</td>\n",
       "      <td>71</td>\n",
       "      <td>201933</td>\n",
       "      <td>False</td>\n",
       "      <td>0.266</td>\n",
       "      <td>0.0596</td>\n",
       "      <td>...</td>\n",
       "      <td>-18.515</td>\n",
       "      <td>1</td>\n",
       "      <td>0.0363</td>\n",
       "      <td>0.9050</td>\n",
       "      <td>0.000071</td>\n",
       "      <td>0.1320</td>\n",
       "      <td>0.1430</td>\n",
       "      <td>181.740</td>\n",
       "      <td>3</td>\n",
       "      <td>acoustic</td>\n",
       "    </tr>\n",
       "    <tr>\n",
       "      <th>4</th>\n",
       "      <td>4</td>\n",
       "      <td>5vjLSffimiIP26QG5WcN2K</td>\n",
       "      <td>Chord Overstreet</td>\n",
       "      <td>Hold On</td>\n",
       "      <td>Hold On</td>\n",
       "      <td>82</td>\n",
       "      <td>198853</td>\n",
       "      <td>False</td>\n",
       "      <td>0.618</td>\n",
       "      <td>0.4430</td>\n",
       "      <td>...</td>\n",
       "      <td>-9.681</td>\n",
       "      <td>1</td>\n",
       "      <td>0.0526</td>\n",
       "      <td>0.4690</td>\n",
       "      <td>0.000000</td>\n",
       "      <td>0.0829</td>\n",
       "      <td>0.1670</td>\n",
       "      <td>119.949</td>\n",
       "      <td>4</td>\n",
       "      <td>acoustic</td>\n",
       "    </tr>\n",
       "    <tr>\n",
       "      <th>...</th>\n",
       "      <td>...</td>\n",
       "      <td>...</td>\n",
       "      <td>...</td>\n",
       "      <td>...</td>\n",
       "      <td>...</td>\n",
       "      <td>...</td>\n",
       "      <td>...</td>\n",
       "      <td>...</td>\n",
       "      <td>...</td>\n",
       "      <td>...</td>\n",
       "      <td>...</td>\n",
       "      <td>...</td>\n",
       "      <td>...</td>\n",
       "      <td>...</td>\n",
       "      <td>...</td>\n",
       "      <td>...</td>\n",
       "      <td>...</td>\n",
       "      <td>...</td>\n",
       "      <td>...</td>\n",
       "      <td>...</td>\n",
       "      <td>...</td>\n",
       "    </tr>\n",
       "    <tr>\n",
       "      <th>113995</th>\n",
       "      <td>113995</td>\n",
       "      <td>2C3TZjDRiAzdyViavDJ217</td>\n",
       "      <td>Rainy Lullaby</td>\n",
       "      <td>#mindfulness - Soft Rain for Mindful Meditatio...</td>\n",
       "      <td>Sleep My Little Boy</td>\n",
       "      <td>21</td>\n",
       "      <td>384999</td>\n",
       "      <td>False</td>\n",
       "      <td>0.172</td>\n",
       "      <td>0.2350</td>\n",
       "      <td>...</td>\n",
       "      <td>-16.393</td>\n",
       "      <td>1</td>\n",
       "      <td>0.0422</td>\n",
       "      <td>0.6400</td>\n",
       "      <td>0.928000</td>\n",
       "      <td>0.0863</td>\n",
       "      <td>0.0339</td>\n",
       "      <td>125.995</td>\n",
       "      <td>5</td>\n",
       "      <td>world-music</td>\n",
       "    </tr>\n",
       "    <tr>\n",
       "      <th>113996</th>\n",
       "      <td>113996</td>\n",
       "      <td>1hIz5L4IB9hN3WRYPOCGPw</td>\n",
       "      <td>Rainy Lullaby</td>\n",
       "      <td>#mindfulness - Soft Rain for Mindful Meditatio...</td>\n",
       "      <td>Water Into Light</td>\n",
       "      <td>22</td>\n",
       "      <td>385000</td>\n",
       "      <td>False</td>\n",
       "      <td>0.174</td>\n",
       "      <td>0.1170</td>\n",
       "      <td>...</td>\n",
       "      <td>-18.318</td>\n",
       "      <td>0</td>\n",
       "      <td>0.0401</td>\n",
       "      <td>0.9940</td>\n",
       "      <td>0.976000</td>\n",
       "      <td>0.1050</td>\n",
       "      <td>0.0350</td>\n",
       "      <td>85.239</td>\n",
       "      <td>4</td>\n",
       "      <td>world-music</td>\n",
       "    </tr>\n",
       "    <tr>\n",
       "      <th>113997</th>\n",
       "      <td>113997</td>\n",
       "      <td>6x8ZfSoqDjuNa5SVP5QjvX</td>\n",
       "      <td>Cesária Evora</td>\n",
       "      <td>Best Of</td>\n",
       "      <td>Miss Perfumado</td>\n",
       "      <td>22</td>\n",
       "      <td>271466</td>\n",
       "      <td>False</td>\n",
       "      <td>0.629</td>\n",
       "      <td>0.3290</td>\n",
       "      <td>...</td>\n",
       "      <td>-10.895</td>\n",
       "      <td>0</td>\n",
       "      <td>0.0420</td>\n",
       "      <td>0.8670</td>\n",
       "      <td>0.000000</td>\n",
       "      <td>0.0839</td>\n",
       "      <td>0.7430</td>\n",
       "      <td>132.378</td>\n",
       "      <td>4</td>\n",
       "      <td>world-music</td>\n",
       "    </tr>\n",
       "    <tr>\n",
       "      <th>113998</th>\n",
       "      <td>113998</td>\n",
       "      <td>2e6sXL2bYv4bSz6VTdnfLs</td>\n",
       "      <td>Michael W. Smith</td>\n",
       "      <td>Change Your World</td>\n",
       "      <td>Friends</td>\n",
       "      <td>41</td>\n",
       "      <td>283893</td>\n",
       "      <td>False</td>\n",
       "      <td>0.587</td>\n",
       "      <td>0.5060</td>\n",
       "      <td>...</td>\n",
       "      <td>-10.889</td>\n",
       "      <td>1</td>\n",
       "      <td>0.0297</td>\n",
       "      <td>0.3810</td>\n",
       "      <td>0.000000</td>\n",
       "      <td>0.2700</td>\n",
       "      <td>0.4130</td>\n",
       "      <td>135.960</td>\n",
       "      <td>4</td>\n",
       "      <td>world-music</td>\n",
       "    </tr>\n",
       "    <tr>\n",
       "      <th>113999</th>\n",
       "      <td>113999</td>\n",
       "      <td>2hETkH7cOfqmz3LqZDHZf5</td>\n",
       "      <td>Cesária Evora</td>\n",
       "      <td>Miss Perfumado</td>\n",
       "      <td>Barbincor</td>\n",
       "      <td>22</td>\n",
       "      <td>241826</td>\n",
       "      <td>False</td>\n",
       "      <td>0.526</td>\n",
       "      <td>0.4870</td>\n",
       "      <td>...</td>\n",
       "      <td>-10.204</td>\n",
       "      <td>0</td>\n",
       "      <td>0.0725</td>\n",
       "      <td>0.6810</td>\n",
       "      <td>0.000000</td>\n",
       "      <td>0.0893</td>\n",
       "      <td>0.7080</td>\n",
       "      <td>79.198</td>\n",
       "      <td>4</td>\n",
       "      <td>world-music</td>\n",
       "    </tr>\n",
       "  </tbody>\n",
       "</table>\n",
       "<p>114000 rows × 21 columns</p>\n",
       "</div>"
      ],
      "text/plain": [
       "        Unnamed: 0                track_id                 artists  \\\n",
       "0                0  5SuOikwiRyPMVoIQDJUgSV             Gen Hoshino   \n",
       "1                1  4qPNDBW1i3p13qLCt0Ki3A            Ben Woodward   \n",
       "2                2  1iJBSr7s7jYXzM8EGcbK5b  Ingrid Michaelson;ZAYN   \n",
       "3                3  6lfxq3CG4xtTiEg7opyCyx            Kina Grannis   \n",
       "4                4  5vjLSffimiIP26QG5WcN2K        Chord Overstreet   \n",
       "...            ...                     ...                     ...   \n",
       "113995      113995  2C3TZjDRiAzdyViavDJ217           Rainy Lullaby   \n",
       "113996      113996  1hIz5L4IB9hN3WRYPOCGPw           Rainy Lullaby   \n",
       "113997      113997  6x8ZfSoqDjuNa5SVP5QjvX           Cesária Evora   \n",
       "113998      113998  2e6sXL2bYv4bSz6VTdnfLs        Michael W. Smith   \n",
       "113999      113999  2hETkH7cOfqmz3LqZDHZf5           Cesária Evora   \n",
       "\n",
       "                                               album_name  \\\n",
       "0                                                  Comedy   \n",
       "1                                        Ghost (Acoustic)   \n",
       "2                                          To Begin Again   \n",
       "3       Crazy Rich Asians (Original Motion Picture Sou...   \n",
       "4                                                 Hold On   \n",
       "...                                                   ...   \n",
       "113995  #mindfulness - Soft Rain for Mindful Meditatio...   \n",
       "113996  #mindfulness - Soft Rain for Mindful Meditatio...   \n",
       "113997                                            Best Of   \n",
       "113998                                  Change Your World   \n",
       "113999                                     Miss Perfumado   \n",
       "\n",
       "                        track_name  popularity  duration_ms  explicit  \\\n",
       "0                           Comedy          73       230666     False   \n",
       "1                 Ghost - Acoustic          55       149610     False   \n",
       "2                   To Begin Again          57       210826     False   \n",
       "3       Can't Help Falling In Love          71       201933     False   \n",
       "4                          Hold On          82       198853     False   \n",
       "...                            ...         ...          ...       ...   \n",
       "113995         Sleep My Little Boy          21       384999     False   \n",
       "113996            Water Into Light          22       385000     False   \n",
       "113997              Miss Perfumado          22       271466     False   \n",
       "113998                     Friends          41       283893     False   \n",
       "113999                   Barbincor          22       241826     False   \n",
       "\n",
       "        danceability  energy  ...  loudness  mode  speechiness  acousticness  \\\n",
       "0              0.676  0.4610  ...    -6.746     0       0.1430        0.0322   \n",
       "1              0.420  0.1660  ...   -17.235     1       0.0763        0.9240   \n",
       "2              0.438  0.3590  ...    -9.734     1       0.0557        0.2100   \n",
       "3              0.266  0.0596  ...   -18.515     1       0.0363        0.9050   \n",
       "4              0.618  0.4430  ...    -9.681     1       0.0526        0.4690   \n",
       "...              ...     ...  ...       ...   ...          ...           ...   \n",
       "113995         0.172  0.2350  ...   -16.393     1       0.0422        0.6400   \n",
       "113996         0.174  0.1170  ...   -18.318     0       0.0401        0.9940   \n",
       "113997         0.629  0.3290  ...   -10.895     0       0.0420        0.8670   \n",
       "113998         0.587  0.5060  ...   -10.889     1       0.0297        0.3810   \n",
       "113999         0.526  0.4870  ...   -10.204     0       0.0725        0.6810   \n",
       "\n",
       "        instrumentalness  liveness  valence    tempo  time_signature  \\\n",
       "0               0.000001    0.3580   0.7150   87.917               4   \n",
       "1               0.000006    0.1010   0.2670   77.489               4   \n",
       "2               0.000000    0.1170   0.1200   76.332               4   \n",
       "3               0.000071    0.1320   0.1430  181.740               3   \n",
       "4               0.000000    0.0829   0.1670  119.949               4   \n",
       "...                  ...       ...      ...      ...             ...   \n",
       "113995          0.928000    0.0863   0.0339  125.995               5   \n",
       "113996          0.976000    0.1050   0.0350   85.239               4   \n",
       "113997          0.000000    0.0839   0.7430  132.378               4   \n",
       "113998          0.000000    0.2700   0.4130  135.960               4   \n",
       "113999          0.000000    0.0893   0.7080   79.198               4   \n",
       "\n",
       "        track_genre  \n",
       "0          acoustic  \n",
       "1          acoustic  \n",
       "2          acoustic  \n",
       "3          acoustic  \n",
       "4          acoustic  \n",
       "...             ...  \n",
       "113995  world-music  \n",
       "113996  world-music  \n",
       "113997  world-music  \n",
       "113998  world-music  \n",
       "113999  world-music  \n",
       "\n",
       "[114000 rows x 21 columns]"
      ]
     },
     "execution_count": 236,
     "metadata": {},
     "output_type": "execute_result"
    }
   ],
   "source": [
    "#Importação do DF\n",
    "df = pd.read_csv('dataset.csv')\n",
    "df"
   ]
  },
  {
   "cell_type": "markdown",
   "metadata": {},
   "source": [
    "#### Criação de nulos e remoção dos mesmos\n"
   ]
  },
  {
   "cell_type": "code",
   "execution_count": 237,
   "metadata": {
    "id": "wtG24-LKaPzb"
   },
   "outputs": [],
   "source": [
    "# Criando um DataFrame com dados nulos\n",
    "num_linhas_nulas = 5  # Número de linhas com valores nulos que você deseja adicionar\n",
    "linhas_nulas = pd.DataFrame({\n",
    "    'track_genre': [np.nan] * num_linhas_nulas,\n",
    "    'popularity': [np.nan] * num_linhas_nulas\n",
    "})"
   ]
  },
  {
   "cell_type": "code",
   "execution_count": 238,
   "metadata": {
    "colab": {
     "base_uri": "https://localhost:8080/"
    },
    "id": "OknikQkbabYD",
    "outputId": "0652ffac-0acd-4ecc-e6cf-b48a00239de2"
   },
   "outputs": [
    {
     "name": "stdout",
     "output_type": "stream",
     "text": [
      "        Unnamed: 0                track_id                 artists  \\\n",
      "0              0.0  5SuOikwiRyPMVoIQDJUgSV             Gen Hoshino   \n",
      "1              1.0  4qPNDBW1i3p13qLCt0Ki3A            Ben Woodward   \n",
      "2              2.0  1iJBSr7s7jYXzM8EGcbK5b  Ingrid Michaelson;ZAYN   \n",
      "3              3.0  6lfxq3CG4xtTiEg7opyCyx            Kina Grannis   \n",
      "4              4.0  5vjLSffimiIP26QG5WcN2K        Chord Overstreet   \n",
      "...            ...                     ...                     ...   \n",
      "114000         NaN                     NaN                     NaN   \n",
      "114001         NaN                     NaN                     NaN   \n",
      "114002         NaN                     NaN                     NaN   \n",
      "114003         NaN                     NaN                     NaN   \n",
      "114004         NaN                     NaN                     NaN   \n",
      "\n",
      "                                               album_name  \\\n",
      "0                                                  Comedy   \n",
      "1                                        Ghost (Acoustic)   \n",
      "2                                          To Begin Again   \n",
      "3       Crazy Rich Asians (Original Motion Picture Sou...   \n",
      "4                                                 Hold On   \n",
      "...                                                   ...   \n",
      "114000                                                NaN   \n",
      "114001                                                NaN   \n",
      "114002                                                NaN   \n",
      "114003                                                NaN   \n",
      "114004                                                NaN   \n",
      "\n",
      "                        track_name  popularity  duration_ms explicit  \\\n",
      "0                           Comedy        73.0     230666.0    False   \n",
      "1                 Ghost - Acoustic        55.0     149610.0    False   \n",
      "2                   To Begin Again        57.0     210826.0    False   \n",
      "3       Can't Help Falling In Love        71.0     201933.0    False   \n",
      "4                          Hold On        82.0     198853.0    False   \n",
      "...                            ...         ...          ...      ...   \n",
      "114000                         NaN         NaN          NaN      NaN   \n",
      "114001                         NaN         NaN          NaN      NaN   \n",
      "114002                         NaN         NaN          NaN      NaN   \n",
      "114003                         NaN         NaN          NaN      NaN   \n",
      "114004                         NaN         NaN          NaN      NaN   \n",
      "\n",
      "        danceability  energy  ...  loudness  mode  speechiness  acousticness  \\\n",
      "0              0.676  0.4610  ...    -6.746   0.0       0.1430        0.0322   \n",
      "1              0.420  0.1660  ...   -17.235   1.0       0.0763        0.9240   \n",
      "2              0.438  0.3590  ...    -9.734   1.0       0.0557        0.2100   \n",
      "3              0.266  0.0596  ...   -18.515   1.0       0.0363        0.9050   \n",
      "4              0.618  0.4430  ...    -9.681   1.0       0.0526        0.4690   \n",
      "...              ...     ...  ...       ...   ...          ...           ...   \n",
      "114000           NaN     NaN  ...       NaN   NaN          NaN           NaN   \n",
      "114001           NaN     NaN  ...       NaN   NaN          NaN           NaN   \n",
      "114002           NaN     NaN  ...       NaN   NaN          NaN           NaN   \n",
      "114003           NaN     NaN  ...       NaN   NaN          NaN           NaN   \n",
      "114004           NaN     NaN  ...       NaN   NaN          NaN           NaN   \n",
      "\n",
      "        instrumentalness  liveness  valence    tempo  time_signature  \\\n",
      "0               0.000001    0.3580    0.715   87.917             4.0   \n",
      "1               0.000006    0.1010    0.267   77.489             4.0   \n",
      "2               0.000000    0.1170    0.120   76.332             4.0   \n",
      "3               0.000071    0.1320    0.143  181.740             3.0   \n",
      "4               0.000000    0.0829    0.167  119.949             4.0   \n",
      "...                  ...       ...      ...      ...             ...   \n",
      "114000               NaN       NaN      NaN      NaN             NaN   \n",
      "114001               NaN       NaN      NaN      NaN             NaN   \n",
      "114002               NaN       NaN      NaN      NaN             NaN   \n",
      "114003               NaN       NaN      NaN      NaN             NaN   \n",
      "114004               NaN       NaN      NaN      NaN             NaN   \n",
      "\n",
      "        track_genre  \n",
      "0          acoustic  \n",
      "1          acoustic  \n",
      "2          acoustic  \n",
      "3          acoustic  \n",
      "4          acoustic  \n",
      "...             ...  \n",
      "114000          NaN  \n",
      "114001          NaN  \n",
      "114002          NaN  \n",
      "114003          NaN  \n",
      "114004          NaN  \n",
      "\n",
      "[114005 rows x 21 columns]\n"
     ]
    }
   ],
   "source": [
    "#Adicionando os nulos no df\n",
    "df_com_nulos = pd.concat([df, linhas_nulas], ignore_index=True)\n",
    "\n",
    "print(df_com_nulos)"
   ]
  },
  {
   "cell_type": "code",
   "execution_count": 239,
   "metadata": {
    "colab": {
     "base_uri": "https://localhost:8080/",
     "height": 743
    },
    "id": "l5BeNk4Dakdz",
    "outputId": "18d37d7f-ba25-4a1a-eadb-82a3d0e5ba4b"
   },
   "outputs": [
    {
     "data": {
      "text/plain": [
       "Unnamed: 0          5\n",
       "track_id            5\n",
       "artists             6\n",
       "album_name          6\n",
       "track_name          6\n",
       "popularity          5\n",
       "duration_ms         5\n",
       "explicit            5\n",
       "danceability        5\n",
       "energy              5\n",
       "key                 5\n",
       "loudness            5\n",
       "mode                5\n",
       "speechiness         5\n",
       "acousticness        5\n",
       "instrumentalness    5\n",
       "liveness            5\n",
       "valence             5\n",
       "tempo               5\n",
       "time_signature      5\n",
       "track_genre         5\n",
       "dtype: int64"
      ]
     },
     "metadata": {},
     "output_type": "display_data"
    }
   ],
   "source": [
    "#Verificando valores nulos:\n",
    "display(df_com_nulos.isnull().sum())"
   ]
  },
  {
   "cell_type": "code",
   "execution_count": 240,
   "metadata": {
    "colab": {
     "base_uri": "https://localhost:8080/",
     "height": 743
    },
    "id": "s_7M8NEmavDM",
    "outputId": "160d3933-e714-4578-9183-6fcac78c3036"
   },
   "outputs": [
    {
     "data": {
      "text/plain": [
       "Unnamed: 0          0\n",
       "track_id            0\n",
       "artists             0\n",
       "album_name          0\n",
       "track_name          0\n",
       "popularity          0\n",
       "duration_ms         0\n",
       "explicit            0\n",
       "danceability        0\n",
       "energy              0\n",
       "key                 0\n",
       "loudness            0\n",
       "mode                0\n",
       "speechiness         0\n",
       "acousticness        0\n",
       "instrumentalness    0\n",
       "liveness            0\n",
       "valence             0\n",
       "tempo               0\n",
       "time_signature      0\n",
       "track_genre         0\n",
       "dtype: int64"
      ]
     },
     "execution_count": 240,
     "metadata": {},
     "output_type": "execute_result"
    }
   ],
   "source": [
    "#Dropagem de linhas com valores nulos\n",
    "df1 = df_com_nulos.dropna()\n",
    "df1.isnull().sum()"
   ]
  },
  {
   "cell_type": "markdown",
   "metadata": {},
   "source": [
    "#### Dropagem das colunas desncessárias"
   ]
  },
  {
   "cell_type": "code",
   "execution_count": 241,
   "metadata": {
    "colab": {
     "base_uri": "https://localhost:8080/",
     "height": 738
    },
    "id": "CE9yXfjLX96D",
    "outputId": "dc33f546-d0e8-468b-f1cf-7db9d05ed857"
   },
   "outputs": [
    {
     "data": {
      "text/html": [
       "<div>\n",
       "<style scoped>\n",
       "    .dataframe tbody tr th:only-of-type {\n",
       "        vertical-align: middle;\n",
       "    }\n",
       "\n",
       "    .dataframe tbody tr th {\n",
       "        vertical-align: top;\n",
       "    }\n",
       "\n",
       "    .dataframe thead th {\n",
       "        text-align: right;\n",
       "    }\n",
       "</style>\n",
       "<table border=\"1\" class=\"dataframe\">\n",
       "  <thead>\n",
       "    <tr style=\"text-align: right;\">\n",
       "      <th></th>\n",
       "      <th>track_name</th>\n",
       "      <th>popularity</th>\n",
       "      <th>duration_ms</th>\n",
       "      <th>explicit</th>\n",
       "      <th>danceability</th>\n",
       "      <th>energy</th>\n",
       "      <th>loudness</th>\n",
       "      <th>mode</th>\n",
       "      <th>speechiness</th>\n",
       "      <th>acousticness</th>\n",
       "      <th>instrumentalness</th>\n",
       "      <th>liveness</th>\n",
       "      <th>valence</th>\n",
       "      <th>tempo</th>\n",
       "      <th>time_signature</th>\n",
       "      <th>track_genre</th>\n",
       "    </tr>\n",
       "  </thead>\n",
       "  <tbody>\n",
       "    <tr>\n",
       "      <th>0</th>\n",
       "      <td>Comedy</td>\n",
       "      <td>73.0</td>\n",
       "      <td>230666.0</td>\n",
       "      <td>False</td>\n",
       "      <td>0.676</td>\n",
       "      <td>0.4610</td>\n",
       "      <td>-6.746</td>\n",
       "      <td>0.0</td>\n",
       "      <td>0.1430</td>\n",
       "      <td>0.0322</td>\n",
       "      <td>0.000001</td>\n",
       "      <td>0.3580</td>\n",
       "      <td>0.7150</td>\n",
       "      <td>87.917</td>\n",
       "      <td>4.0</td>\n",
       "      <td>acoustic</td>\n",
       "    </tr>\n",
       "    <tr>\n",
       "      <th>1</th>\n",
       "      <td>Ghost - Acoustic</td>\n",
       "      <td>55.0</td>\n",
       "      <td>149610.0</td>\n",
       "      <td>False</td>\n",
       "      <td>0.420</td>\n",
       "      <td>0.1660</td>\n",
       "      <td>-17.235</td>\n",
       "      <td>1.0</td>\n",
       "      <td>0.0763</td>\n",
       "      <td>0.9240</td>\n",
       "      <td>0.000006</td>\n",
       "      <td>0.1010</td>\n",
       "      <td>0.2670</td>\n",
       "      <td>77.489</td>\n",
       "      <td>4.0</td>\n",
       "      <td>acoustic</td>\n",
       "    </tr>\n",
       "    <tr>\n",
       "      <th>2</th>\n",
       "      <td>To Begin Again</td>\n",
       "      <td>57.0</td>\n",
       "      <td>210826.0</td>\n",
       "      <td>False</td>\n",
       "      <td>0.438</td>\n",
       "      <td>0.3590</td>\n",
       "      <td>-9.734</td>\n",
       "      <td>1.0</td>\n",
       "      <td>0.0557</td>\n",
       "      <td>0.2100</td>\n",
       "      <td>0.000000</td>\n",
       "      <td>0.1170</td>\n",
       "      <td>0.1200</td>\n",
       "      <td>76.332</td>\n",
       "      <td>4.0</td>\n",
       "      <td>acoustic</td>\n",
       "    </tr>\n",
       "    <tr>\n",
       "      <th>3</th>\n",
       "      <td>Can't Help Falling In Love</td>\n",
       "      <td>71.0</td>\n",
       "      <td>201933.0</td>\n",
       "      <td>False</td>\n",
       "      <td>0.266</td>\n",
       "      <td>0.0596</td>\n",
       "      <td>-18.515</td>\n",
       "      <td>1.0</td>\n",
       "      <td>0.0363</td>\n",
       "      <td>0.9050</td>\n",
       "      <td>0.000071</td>\n",
       "      <td>0.1320</td>\n",
       "      <td>0.1430</td>\n",
       "      <td>181.740</td>\n",
       "      <td>3.0</td>\n",
       "      <td>acoustic</td>\n",
       "    </tr>\n",
       "    <tr>\n",
       "      <th>4</th>\n",
       "      <td>Hold On</td>\n",
       "      <td>82.0</td>\n",
       "      <td>198853.0</td>\n",
       "      <td>False</td>\n",
       "      <td>0.618</td>\n",
       "      <td>0.4430</td>\n",
       "      <td>-9.681</td>\n",
       "      <td>1.0</td>\n",
       "      <td>0.0526</td>\n",
       "      <td>0.4690</td>\n",
       "      <td>0.000000</td>\n",
       "      <td>0.0829</td>\n",
       "      <td>0.1670</td>\n",
       "      <td>119.949</td>\n",
       "      <td>4.0</td>\n",
       "      <td>acoustic</td>\n",
       "    </tr>\n",
       "    <tr>\n",
       "      <th>...</th>\n",
       "      <td>...</td>\n",
       "      <td>...</td>\n",
       "      <td>...</td>\n",
       "      <td>...</td>\n",
       "      <td>...</td>\n",
       "      <td>...</td>\n",
       "      <td>...</td>\n",
       "      <td>...</td>\n",
       "      <td>...</td>\n",
       "      <td>...</td>\n",
       "      <td>...</td>\n",
       "      <td>...</td>\n",
       "      <td>...</td>\n",
       "      <td>...</td>\n",
       "      <td>...</td>\n",
       "      <td>...</td>\n",
       "    </tr>\n",
       "    <tr>\n",
       "      <th>113995</th>\n",
       "      <td>Sleep My Little Boy</td>\n",
       "      <td>21.0</td>\n",
       "      <td>384999.0</td>\n",
       "      <td>False</td>\n",
       "      <td>0.172</td>\n",
       "      <td>0.2350</td>\n",
       "      <td>-16.393</td>\n",
       "      <td>1.0</td>\n",
       "      <td>0.0422</td>\n",
       "      <td>0.6400</td>\n",
       "      <td>0.928000</td>\n",
       "      <td>0.0863</td>\n",
       "      <td>0.0339</td>\n",
       "      <td>125.995</td>\n",
       "      <td>5.0</td>\n",
       "      <td>world-music</td>\n",
       "    </tr>\n",
       "    <tr>\n",
       "      <th>113996</th>\n",
       "      <td>Water Into Light</td>\n",
       "      <td>22.0</td>\n",
       "      <td>385000.0</td>\n",
       "      <td>False</td>\n",
       "      <td>0.174</td>\n",
       "      <td>0.1170</td>\n",
       "      <td>-18.318</td>\n",
       "      <td>0.0</td>\n",
       "      <td>0.0401</td>\n",
       "      <td>0.9940</td>\n",
       "      <td>0.976000</td>\n",
       "      <td>0.1050</td>\n",
       "      <td>0.0350</td>\n",
       "      <td>85.239</td>\n",
       "      <td>4.0</td>\n",
       "      <td>world-music</td>\n",
       "    </tr>\n",
       "    <tr>\n",
       "      <th>113997</th>\n",
       "      <td>Miss Perfumado</td>\n",
       "      <td>22.0</td>\n",
       "      <td>271466.0</td>\n",
       "      <td>False</td>\n",
       "      <td>0.629</td>\n",
       "      <td>0.3290</td>\n",
       "      <td>-10.895</td>\n",
       "      <td>0.0</td>\n",
       "      <td>0.0420</td>\n",
       "      <td>0.8670</td>\n",
       "      <td>0.000000</td>\n",
       "      <td>0.0839</td>\n",
       "      <td>0.7430</td>\n",
       "      <td>132.378</td>\n",
       "      <td>4.0</td>\n",
       "      <td>world-music</td>\n",
       "    </tr>\n",
       "    <tr>\n",
       "      <th>113998</th>\n",
       "      <td>Friends</td>\n",
       "      <td>41.0</td>\n",
       "      <td>283893.0</td>\n",
       "      <td>False</td>\n",
       "      <td>0.587</td>\n",
       "      <td>0.5060</td>\n",
       "      <td>-10.889</td>\n",
       "      <td>1.0</td>\n",
       "      <td>0.0297</td>\n",
       "      <td>0.3810</td>\n",
       "      <td>0.000000</td>\n",
       "      <td>0.2700</td>\n",
       "      <td>0.4130</td>\n",
       "      <td>135.960</td>\n",
       "      <td>4.0</td>\n",
       "      <td>world-music</td>\n",
       "    </tr>\n",
       "    <tr>\n",
       "      <th>113999</th>\n",
       "      <td>Barbincor</td>\n",
       "      <td>22.0</td>\n",
       "      <td>241826.0</td>\n",
       "      <td>False</td>\n",
       "      <td>0.526</td>\n",
       "      <td>0.4870</td>\n",
       "      <td>-10.204</td>\n",
       "      <td>0.0</td>\n",
       "      <td>0.0725</td>\n",
       "      <td>0.6810</td>\n",
       "      <td>0.000000</td>\n",
       "      <td>0.0893</td>\n",
       "      <td>0.7080</td>\n",
       "      <td>79.198</td>\n",
       "      <td>4.0</td>\n",
       "      <td>world-music</td>\n",
       "    </tr>\n",
       "  </tbody>\n",
       "</table>\n",
       "<p>113999 rows × 16 columns</p>\n",
       "</div>"
      ],
      "text/plain": [
       "                        track_name  popularity  duration_ms explicit  \\\n",
       "0                           Comedy        73.0     230666.0    False   \n",
       "1                 Ghost - Acoustic        55.0     149610.0    False   \n",
       "2                   To Begin Again        57.0     210826.0    False   \n",
       "3       Can't Help Falling In Love        71.0     201933.0    False   \n",
       "4                          Hold On        82.0     198853.0    False   \n",
       "...                            ...         ...          ...      ...   \n",
       "113995         Sleep My Little Boy        21.0     384999.0    False   \n",
       "113996            Water Into Light        22.0     385000.0    False   \n",
       "113997              Miss Perfumado        22.0     271466.0    False   \n",
       "113998                     Friends        41.0     283893.0    False   \n",
       "113999                   Barbincor        22.0     241826.0    False   \n",
       "\n",
       "        danceability  energy  loudness  mode  speechiness  acousticness  \\\n",
       "0              0.676  0.4610    -6.746   0.0       0.1430        0.0322   \n",
       "1              0.420  0.1660   -17.235   1.0       0.0763        0.9240   \n",
       "2              0.438  0.3590    -9.734   1.0       0.0557        0.2100   \n",
       "3              0.266  0.0596   -18.515   1.0       0.0363        0.9050   \n",
       "4              0.618  0.4430    -9.681   1.0       0.0526        0.4690   \n",
       "...              ...     ...       ...   ...          ...           ...   \n",
       "113995         0.172  0.2350   -16.393   1.0       0.0422        0.6400   \n",
       "113996         0.174  0.1170   -18.318   0.0       0.0401        0.9940   \n",
       "113997         0.629  0.3290   -10.895   0.0       0.0420        0.8670   \n",
       "113998         0.587  0.5060   -10.889   1.0       0.0297        0.3810   \n",
       "113999         0.526  0.4870   -10.204   0.0       0.0725        0.6810   \n",
       "\n",
       "        instrumentalness  liveness  valence    tempo  time_signature  \\\n",
       "0               0.000001    0.3580   0.7150   87.917             4.0   \n",
       "1               0.000006    0.1010   0.2670   77.489             4.0   \n",
       "2               0.000000    0.1170   0.1200   76.332             4.0   \n",
       "3               0.000071    0.1320   0.1430  181.740             3.0   \n",
       "4               0.000000    0.0829   0.1670  119.949             4.0   \n",
       "...                  ...       ...      ...      ...             ...   \n",
       "113995          0.928000    0.0863   0.0339  125.995             5.0   \n",
       "113996          0.976000    0.1050   0.0350   85.239             4.0   \n",
       "113997          0.000000    0.0839   0.7430  132.378             4.0   \n",
       "113998          0.000000    0.2700   0.4130  135.960             4.0   \n",
       "113999          0.000000    0.0893   0.7080   79.198             4.0   \n",
       "\n",
       "        track_genre  \n",
       "0          acoustic  \n",
       "1          acoustic  \n",
       "2          acoustic  \n",
       "3          acoustic  \n",
       "4          acoustic  \n",
       "...             ...  \n",
       "113995  world-music  \n",
       "113996  world-music  \n",
       "113997  world-music  \n",
       "113998  world-music  \n",
       "113999  world-music  \n",
       "\n",
       "[113999 rows x 16 columns]"
      ]
     },
     "execution_count": 241,
     "metadata": {},
     "output_type": "execute_result"
    }
   ],
   "source": [
    "#Dropagem de colunas que a princípio não serão necessárias\n",
    "df1 = df1.drop(columns=['Unnamed: 0', 'track_id', 'key', 'artists', 'album_name'])\n",
    "df1"
   ]
  },
  {
   "cell_type": "markdown",
   "metadata": {},
   "source": [
    "#### Exclussão de gêneros desnecessários\n"
   ]
  },
  {
   "cell_type": "code",
   "execution_count": 242,
   "metadata": {
    "colab": {
     "base_uri": "https://localhost:8080/"
    },
    "id": "of-lEaaJYOcK",
    "outputId": "29def481-93e9-4892-99f1-027ce49f13b6"
   },
   "outputs": [
    {
     "name": "stdout",
     "output_type": "stream",
     "text": [
      "['acoustic' 'afrobeat' 'alt-rock' 'alternative' 'ambient' 'anime'\n",
      " 'black-metal' 'bluegrass' 'blues' 'brazil' 'breakbeat' 'cantopop'\n",
      " 'chicago-house' 'children' 'chill' 'classical' 'club' 'comedy' 'country'\n",
      " 'dance' 'dancehall' 'death-metal' 'deep-house' 'detroit-techno' 'disco'\n",
      " 'disney' 'drum-and-bass' 'dub' 'dubstep' 'edm' 'electro' 'electronic'\n",
      " 'emo' 'folk' 'forro' 'french' 'funk' 'garage' 'gospel' 'goth' 'grindcore'\n",
      " 'groove' 'grunge' 'guitar' 'happy' 'hard-rock' 'hardcore' 'hardstyle'\n",
      " 'heavy-metal' 'hip-hop' 'honky-tonk' 'house' 'idm' 'indie-pop' 'indie'\n",
      " 'industrial' 'j-dance' 'j-idol' 'j-pop' 'j-rock' 'jazz' 'k-pop' 'kids'\n",
      " 'latin' 'latino' 'mandopop' 'metal' 'metalcore' 'minimal-techno' 'mpb'\n",
      " 'new-age' 'opera' 'pagode' 'party' 'piano' 'pop-film' 'pop' 'power-pop'\n",
      " 'progressive-house' 'psych-rock' 'punk-rock' 'punk' 'r-n-b' 'reggae'\n",
      " 'reggaeton' 'rock-n-roll' 'rock' 'rockabilly' 'romance' 'sad' 'salsa'\n",
      " 'samba' 'sertanejo' 'show-tunes' 'singer-songwriter' 'ska' 'songwriter'\n",
      " 'soul' 'spanish' 'study' 'synth-pop' 'tango' 'techno' 'trance' 'trip-hop']\n"
     ]
    }
   ],
   "source": [
    "# Removendo os gêneros \"world-music\" e \"sleep\"\n",
    "#Por que? No data set o gênero world-music só tinha o nome da música e não o pais.\n",
    "#O sleep removemos por que estava causando outliers e não há anecessidade de manter sleep na playlist\n",
    "# Removemos os gêneros dos países, deixando apenas: Brazil, Latino e Espanha, pois achamos mais adequado para o contexto que o modelo será usado\n",
    "dados_incosistentes = ['british', 'german', 'indian', 'iranian', 'malay', 'swedish', 'turkish', 'world-music', 'sleep']\n",
    "df1 = df1[~((df1['track_genre'].isin(dados_incosistentes)) )]\n",
    "\n",
    "# Verificando se os gêneros foram removidos\n",
    "print(df1['track_genre'].unique())"
   ]
  },
  {
   "cell_type": "markdown",
   "metadata": {},
   "source": [
    "#### Remoção de valores duplicados"
   ]
  },
  {
   "cell_type": "code",
   "execution_count": 243,
   "metadata": {
    "colab": {
     "base_uri": "https://localhost:8080/"
    },
    "id": "u3rKc5emjSep",
    "outputId": "92c942a3-1f1c-4bf3-8889-b4a5f03151e8"
   },
   "outputs": [
    {
     "name": "stdout",
     "output_type": "stream",
     "text": [
      "Coluna 'track_name': 54104 duplicatas\n",
      "Coluna 'popularity': 104998 duplicatas\n",
      "Coluna 'duration_ms': 77341 duplicatas\n",
      "Coluna 'explicit': 104999 duplicatas\n",
      "Coluna 'danceability': 104880 duplicatas\n",
      "Coluna 'energy': 104672 duplicatas\n",
      "Coluna 'loudness': 100242 duplicatas\n",
      "Coluna 'mode': 104999 duplicatas\n",
      "Coluna 'speechiness': 104890 duplicatas\n",
      "Coluna 'acousticness': 104519 duplicatas\n",
      "Coluna 'instrumentalness': 104824 duplicatas\n",
      "Coluna 'liveness': 104947 duplicatas\n",
      "Coluna 'valence': 104960 duplicatas\n",
      "Coluna 'tempo': 81424 duplicatas\n",
      "Coluna 'time_signature': 104999 duplicatas\n",
      "Coluna 'track_genre': 104999 duplicatas\n"
     ]
    }
   ],
   "source": [
    "# Dicionário para armazenar o número de duplicatas por coluna\n",
    "duplicatas_por_coluna = {}\n",
    "\n",
    "# Itera sobre as colunas do DataFrame\n",
    "for coluna in df1.columns:\n",
    "    # Conta as duplicatas na coluna atual\n",
    "    num_duplicatas = df1.duplicated(subset=[coluna], keep=False).sum()\n",
    "\n",
    "    # Armazena o número de duplicatas no dicionário\n",
    "    duplicatas_por_coluna[coluna] = num_duplicatas\n",
    "\n",
    "# Exibe o número de duplicatas por coluna\n",
    "for coluna, num_duplicatas in duplicatas_por_coluna.items():\n",
    "    print(f\"Coluna '{coluna}': {num_duplicatas} duplicatas\")\n",
    "#Todas essa duplicadas são necessárias para o dataframe, pois fazem part existem músicas diversas do mesmo artista e com os mesmos parâmetros"
   ]
  },
  {
   "cell_type": "code",
   "execution_count": 244,
   "metadata": {},
   "outputs": [
    {
     "name": "stdout",
     "output_type": "stream",
     "text": [
      "Coluna 'track_name': 0 duplicatas\n",
      "Coluna 'popularity': 67481 duplicatas\n",
      "Coluna 'duration_ms': 35685 duplicatas\n",
      "Coluna 'explicit': 67485 duplicatas\n",
      "Coluna 'danceability': 67358 duplicatas\n",
      "Coluna 'energy': 67073 duplicatas\n",
      "Coluna 'loudness': 61836 duplicatas\n",
      "Coluna 'mode': 67485 duplicatas\n",
      "Coluna 'speechiness': 67356 duplicatas\n",
      "Coluna 'acousticness': 66870 duplicatas\n",
      "Coluna 'instrumentalness': 67171 duplicatas\n",
      "Coluna 'liveness': 67415 duplicatas\n",
      "Coluna 'valence': 67441 duplicatas\n",
      "Coluna 'tempo': 40431 duplicatas\n",
      "Coluna 'time_signature': 67485 duplicatas\n",
      "Coluna 'track_genre': 67485 duplicatas\n"
     ]
    }
   ],
   "source": [
    "df1 = df1.drop_duplicates(subset='track_name')\n",
    "\n",
    "# Dicionário para armazenar o número de duplicatas por coluna\n",
    "duplicatas_por_coluna = {}\n",
    "\n",
    "# Itera sobre as colunas do DataFrame\n",
    "for coluna in df1.columns:\n",
    "    # Conta as duplicatas na coluna atual\n",
    "    num_duplicatas = df1.duplicated(subset=[coluna], keep=False).sum()\n",
    "\n",
    "    # Armazena o número de duplicatas no dicionário\n",
    "    duplicatas_por_coluna[coluna] = num_duplicatas\n",
    "\n",
    "# Exibe o número de duplicatas por coluna\n",
    "for coluna, num_duplicatas in duplicatas_por_coluna.items():\n",
    "    print(f\"Coluna '{coluna}': {num_duplicatas} duplicatas\")\n",
    "#Todas essa duplicadas são necessárias para o dataframe, pois fazem part existem músicas diversas do mesmo artista e com os mesmos parâmetros"
   ]
  },
  {
   "cell_type": "markdown",
   "metadata": {},
   "source": [
    "#### Verificando valores inconsistentes  nas colunas \n"
   ]
  },
  {
   "cell_type": "code",
   "execution_count": 245,
   "metadata": {
    "colab": {
     "base_uri": "https://localhost:8080/"
    },
    "id": "ogoaXWB3lPbP",
    "outputId": "cb4fd8a2-e4e8-46ad-90e4-e227fa7a1872"
   },
   "outputs": [
    {
     "name": "stdout",
     "output_type": "stream",
     "text": [
      "Empty DataFrame\n",
      "Columns: [track_name, popularity, duration_ms, explicit, danceability, energy, loudness, mode, speechiness, acousticness, instrumentalness, liveness, valence, tempo, time_signature, track_genre]\n",
      "Index: []\n"
     ]
    }
   ],
   "source": [
    "#Procura valores não numéricos em colunas numéricas\n",
    "#não encontrado valores não numéricos nas colunas: popularity, duration_ms, danceability, energy, loudness, mode, speechiness, acousticness, instrumentalness, liveness, valence, tempo, time_signature.\n",
    "coluna = 'time_signature'\n",
    "print(df1[~df1[coluna].apply(lambda x: isinstance(x, (int, float)))])"
   ]
  },
  {
   "cell_type": "markdown",
   "metadata": {},
   "source": [
    "#### Verificação e remoção de Oulliers"
   ]
  },
  {
   "cell_type": "code",
   "execution_count": 246,
   "metadata": {},
   "outputs": [
    {
     "name": "stdout",
     "output_type": "stream",
     "text": [
      "Antes: 67485 músicas no dataset (original)\n",
      "Depois 52296 músicas no dataset (sem outliers)\n"
     ]
    },
    {
     "name": "stderr",
     "output_type": "stream",
     "text": [
      "C:\\Users\\JP\\AppData\\Local\\Temp\\ipykernel_15852\\4083659280.py:19: DeprecationWarning:\n",
      "\n",
      "DataFrameGroupBy.apply operated on the grouping columns. This behavior is deprecated, and in a future version of pandas the grouping columns will be excluded from the operation. Either pass `include_groups=False` to exclude the groupings or explicitly select the grouping columns after groupby to silence this warning.\n",
      "\n"
     ]
    }
   ],
   "source": [
    "#Verificação de outliers\n",
    "#Função para filtrar outliers com base no desvio padrão\n",
    "grouped = df1.groupby(['track_genre'])\n",
    "\n",
    "def remove_outliers(group):\n",
    "\t#Calcula a média e o desvio padrão da duração das músicas em segundos.\n",
    "\tmedia_duration = group['duration_ms'].mean()\n",
    "\tdesvio_duration = group['duration_ms'].std()\n",
    "\t#Define limiar superior e inferior para outliers\n",
    "\tlimiar_superior = media_duration + 0.5 * desvio_duration\n",
    "\tlimiar_inferior =  media_duration - 0.5 * desvio_duration\n",
    "\n",
    "\tlimiar_superior = max(limiar_superior, 9000)\n",
    "\tlimiar_inferior = min(limiar_inferior, 600)\n",
    "\n",
    "\treturn group[(group['duration_ms'] >= limiar_inferior) & (group['duration_ms'] <= limiar_superior)]\n",
    "\n",
    "#Aplicando função\n",
    "df1_reduzido = grouped.apply(remove_outliers, include_groups=True).reset_index(drop=True)\n",
    "\n",
    "print(f\"Antes: {len(df1)} músicas no dataset (original)\")\n",
    "print(f\"Depois {len(df1_reduzido)} músicas no dataset (sem outliers)\")\n",
    "df1 = df1_reduzido"
   ]
  },
  {
   "cell_type": "markdown",
   "metadata": {},
   "source": [
    "#### Criação de Colunas duration_minutes e duration_seconds"
   ]
  },
  {
   "cell_type": "code",
   "execution_count": 247,
   "metadata": {},
   "outputs": [
    {
     "name": "stdout",
     "output_type": "stream",
     "text": [
      "   duration_ms formatted_duration\n",
      "0     230666.0               3:50\n",
      "1     149610.0               2:29\n",
      "2     210826.0               3:30\n",
      "3     201933.0               3:21\n",
      "4     198853.0               3:18\n"
     ]
    }
   ],
   "source": [
    "df1 = df1.copy()\n",
    "#duração esta em milissegundos:\n",
    "df1['duration_minutes'] = (df1['duration_ms'] // 60000).astype(int)  # Minutos\n",
    "df1['duration_seconds'] = ((df1['duration_ms'] % 60000) // 1000).astype(int)  # Segundos\n",
    "\n",
    "# Criando uma nova coluna no formato \"mm:ss\":\n",
    "df1['formatted_duration'] = df1['duration_minutes'].astype(str) + ':' + \\\n",
    "    df1['duration_seconds'].apply(lambda x: f\"{x:02}\")  # Formata segundos com dois dígitos\n",
    "\n",
    "# Exibindo as primeiras linhas para verificar o resultado:\n",
    "print(df1[['duration_ms', 'formatted_duration']].head())\n"
   ]
  },
  {
   "cell_type": "code",
   "execution_count": 248,
   "metadata": {
    "colab": {
     "base_uri": "https://localhost:8080/",
     "height": 320
    },
    "id": "9H8lubbPojBI",
    "outputId": "502d4aed-c355-47c7-8fea-da394b82013c"
   },
   "outputs": [
    {
     "data": {
      "text/html": [
       "<div>\n",
       "<style scoped>\n",
       "    .dataframe tbody tr th:only-of-type {\n",
       "        vertical-align: middle;\n",
       "    }\n",
       "\n",
       "    .dataframe tbody tr th {\n",
       "        vertical-align: top;\n",
       "    }\n",
       "\n",
       "    .dataframe thead th {\n",
       "        text-align: right;\n",
       "    }\n",
       "</style>\n",
       "<table border=\"1\" class=\"dataframe\">\n",
       "  <thead>\n",
       "    <tr style=\"text-align: right;\">\n",
       "      <th></th>\n",
       "      <th>popularity</th>\n",
       "      <th>duration_ms</th>\n",
       "      <th>danceability</th>\n",
       "      <th>energy</th>\n",
       "      <th>loudness</th>\n",
       "      <th>mode</th>\n",
       "      <th>speechiness</th>\n",
       "      <th>acousticness</th>\n",
       "      <th>instrumentalness</th>\n",
       "      <th>liveness</th>\n",
       "      <th>valence</th>\n",
       "      <th>tempo</th>\n",
       "      <th>time_signature</th>\n",
       "      <th>duration_minutes</th>\n",
       "      <th>duration_seconds</th>\n",
       "    </tr>\n",
       "  </thead>\n",
       "  <tbody>\n",
       "    <tr>\n",
       "      <th>count</th>\n",
       "      <td>52296.000000</td>\n",
       "      <td>52296.000000</td>\n",
       "      <td>52296.000000</td>\n",
       "      <td>52296.000000</td>\n",
       "      <td>52296.000000</td>\n",
       "      <td>52296.000000</td>\n",
       "      <td>52296.000000</td>\n",
       "      <td>52296.000000</td>\n",
       "      <td>52296.000000</td>\n",
       "      <td>52296.000000</td>\n",
       "      <td>52296.000000</td>\n",
       "      <td>52296.000000</td>\n",
       "      <td>52296.000000</td>\n",
       "      <td>52296.000000</td>\n",
       "      <td>52296.000000</td>\n",
       "    </tr>\n",
       "    <tr>\n",
       "      <th>mean</th>\n",
       "      <td>34.546237</td>\n",
       "      <td>201783.311362</td>\n",
       "      <td>0.575410</td>\n",
       "      <td>0.647695</td>\n",
       "      <td>-8.255927</td>\n",
       "      <td>0.635727</td>\n",
       "      <td>0.093459</td>\n",
       "      <td>0.327330</td>\n",
       "      <td>0.175860</td>\n",
       "      <td>0.219406</td>\n",
       "      <td>0.495814</td>\n",
       "      <td>123.045562</td>\n",
       "      <td>3.909305</td>\n",
       "      <td>2.865802</td>\n",
       "      <td>29.359052</td>\n",
       "    </tr>\n",
       "    <tr>\n",
       "      <th>std</th>\n",
       "      <td>19.263638</td>\n",
       "      <td>65200.216801</td>\n",
       "      <td>0.169512</td>\n",
       "      <td>0.257050</td>\n",
       "      <td>4.975895</td>\n",
       "      <td>0.481230</td>\n",
       "      <td>0.121843</td>\n",
       "      <td>0.340897</td>\n",
       "      <td>0.324817</td>\n",
       "      <td>0.194686</td>\n",
       "      <td>0.260153</td>\n",
       "      <td>29.729699</td>\n",
       "      <td>0.419818</td>\n",
       "      <td>1.123727</td>\n",
       "      <td>17.281350</td>\n",
       "    </tr>\n",
       "    <tr>\n",
       "      <th>min</th>\n",
       "      <td>0.000000</td>\n",
       "      <td>17453.000000</td>\n",
       "      <td>0.000000</td>\n",
       "      <td>0.000073</td>\n",
       "      <td>-43.957000</td>\n",
       "      <td>0.000000</td>\n",
       "      <td>0.000000</td>\n",
       "      <td>0.000000</td>\n",
       "      <td>0.000000</td>\n",
       "      <td>0.009860</td>\n",
       "      <td>0.000000</td>\n",
       "      <td>0.000000</td>\n",
       "      <td>0.000000</td>\n",
       "      <td>0.000000</td>\n",
       "      <td>0.000000</td>\n",
       "    </tr>\n",
       "    <tr>\n",
       "      <th>25%</th>\n",
       "      <td>21.000000</td>\n",
       "      <td>162216.250000</td>\n",
       "      <td>0.466000</td>\n",
       "      <td>0.468000</td>\n",
       "      <td>-10.166000</td>\n",
       "      <td>0.000000</td>\n",
       "      <td>0.036800</td>\n",
       "      <td>0.014000</td>\n",
       "      <td>0.000000</td>\n",
       "      <td>0.098900</td>\n",
       "      <td>0.281750</td>\n",
       "      <td>99.991750</td>\n",
       "      <td>4.000000</td>\n",
       "      <td>2.000000</td>\n",
       "      <td>15.000000</td>\n",
       "    </tr>\n",
       "    <tr>\n",
       "      <th>50%</th>\n",
       "      <td>34.000000</td>\n",
       "      <td>198649.000000</td>\n",
       "      <td>0.588000</td>\n",
       "      <td>0.694000</td>\n",
       "      <td>-7.036000</td>\n",
       "      <td>1.000000</td>\n",
       "      <td>0.051100</td>\n",
       "      <td>0.184000</td>\n",
       "      <td>0.000064</td>\n",
       "      <td>0.135000</td>\n",
       "      <td>0.491000</td>\n",
       "      <td>122.960500</td>\n",
       "      <td>4.000000</td>\n",
       "      <td>3.000000</td>\n",
       "      <td>29.000000</td>\n",
       "    </tr>\n",
       "    <tr>\n",
       "      <th>75%</th>\n",
       "      <td>49.000000</td>\n",
       "      <td>235561.750000</td>\n",
       "      <td>0.701000</td>\n",
       "      <td>0.869000</td>\n",
       "      <td>-4.961000</td>\n",
       "      <td>1.000000</td>\n",
       "      <td>0.092600</td>\n",
       "      <td>0.629000</td>\n",
       "      <td>0.111000</td>\n",
       "      <td>0.286000</td>\n",
       "      <td>0.707000</td>\n",
       "      <td>141.007000</td>\n",
       "      <td>4.000000</td>\n",
       "      <td>3.000000</td>\n",
       "      <td>44.000000</td>\n",
       "    </tr>\n",
       "    <tr>\n",
       "      <th>max</th>\n",
       "      <td>100.000000</td>\n",
       "      <td>505577.000000</td>\n",
       "      <td>0.985000</td>\n",
       "      <td>1.000000</td>\n",
       "      <td>4.532000</td>\n",
       "      <td>1.000000</td>\n",
       "      <td>0.965000</td>\n",
       "      <td>0.996000</td>\n",
       "      <td>0.999000</td>\n",
       "      <td>0.995000</td>\n",
       "      <td>0.995000</td>\n",
       "      <td>243.372000</td>\n",
       "      <td>5.000000</td>\n",
       "      <td>8.000000</td>\n",
       "      <td>59.000000</td>\n",
       "    </tr>\n",
       "  </tbody>\n",
       "</table>\n",
       "</div>"
      ],
      "text/plain": [
       "         popularity    duration_ms  danceability        energy      loudness  \\\n",
       "count  52296.000000   52296.000000  52296.000000  52296.000000  52296.000000   \n",
       "mean      34.546237  201783.311362      0.575410      0.647695     -8.255927   \n",
       "std       19.263638   65200.216801      0.169512      0.257050      4.975895   \n",
       "min        0.000000   17453.000000      0.000000      0.000073    -43.957000   \n",
       "25%       21.000000  162216.250000      0.466000      0.468000    -10.166000   \n",
       "50%       34.000000  198649.000000      0.588000      0.694000     -7.036000   \n",
       "75%       49.000000  235561.750000      0.701000      0.869000     -4.961000   \n",
       "max      100.000000  505577.000000      0.985000      1.000000      4.532000   \n",
       "\n",
       "               mode   speechiness  acousticness  instrumentalness  \\\n",
       "count  52296.000000  52296.000000  52296.000000      52296.000000   \n",
       "mean       0.635727      0.093459      0.327330          0.175860   \n",
       "std        0.481230      0.121843      0.340897          0.324817   \n",
       "min        0.000000      0.000000      0.000000          0.000000   \n",
       "25%        0.000000      0.036800      0.014000          0.000000   \n",
       "50%        1.000000      0.051100      0.184000          0.000064   \n",
       "75%        1.000000      0.092600      0.629000          0.111000   \n",
       "max        1.000000      0.965000      0.996000          0.999000   \n",
       "\n",
       "           liveness       valence         tempo  time_signature  \\\n",
       "count  52296.000000  52296.000000  52296.000000    52296.000000   \n",
       "mean       0.219406      0.495814    123.045562        3.909305   \n",
       "std        0.194686      0.260153     29.729699        0.419818   \n",
       "min        0.009860      0.000000      0.000000        0.000000   \n",
       "25%        0.098900      0.281750     99.991750        4.000000   \n",
       "50%        0.135000      0.491000    122.960500        4.000000   \n",
       "75%        0.286000      0.707000    141.007000        4.000000   \n",
       "max        0.995000      0.995000    243.372000        5.000000   \n",
       "\n",
       "       duration_minutes  duration_seconds  \n",
       "count      52296.000000      52296.000000  \n",
       "mean           2.865802         29.359052  \n",
       "std            1.123727         17.281350  \n",
       "min            0.000000          0.000000  \n",
       "25%            2.000000         15.000000  \n",
       "50%            3.000000         29.000000  \n",
       "75%            3.000000         44.000000  \n",
       "max            8.000000         59.000000  "
      ]
     },
     "execution_count": 248,
     "metadata": {},
     "output_type": "execute_result"
    }
   ],
   "source": [
    "df1.describe()"
   ]
  },
  {
   "cell_type": "markdown",
   "metadata": {},
   "source": [
    "#### Tirando alguns insights"
   ]
  },
  {
   "cell_type": "code",
   "execution_count": 249,
   "metadata": {
    "colab": {
     "base_uri": "https://localhost:8080/",
     "height": 542
    },
    "id": "Ji7Rw22sokN4",
    "outputId": "be13e74e-3c57-4d44-edd9-bb9db0f985d2"
   },
   "outputs": [
    {
     "data": {
      "application/vnd.plotly.v1+json": {
       "config": {
        "plotlyServerURL": "https://plot.ly"
       },
       "data": [
        {
         "alignmentgroup": "True",
         "hovertemplate": "Gênero=%{x}<br>Quantidade=%{text}<extra></extra>",
         "legendgroup": "kids",
         "marker": {
          "color": "#A020F0",
          "pattern": {
           "shape": ""
          }
         },
         "name": "kids",
         "offsetgroup": "kids",
         "orientation": "v",
         "showlegend": true,
         "text": [
          294
         ],
         "textposition": "inside",
         "texttemplate": "%{text:.2s}",
         "type": "bar",
         "x": [
          "kids"
         ],
         "xaxis": "x",
         "y": [
          294
         ],
         "yaxis": "y"
        },
        {
         "alignmentgroup": "True",
         "hovertemplate": "Gênero=%{x}<br>Quantidade=%{text}<extra></extra>",
         "legendgroup": "minimal-techno",
         "marker": {
          "color": "#8A2BE2",
          "pattern": {
           "shape": ""
          }
         },
         "name": "minimal-techno",
         "offsetgroup": "minimal-techno",
         "orientation": "v",
         "showlegend": true,
         "text": [
          197
         ],
         "textposition": "inside",
         "texttemplate": "%{text:.2s}",
         "type": "bar",
         "x": [
          "minimal-techno"
         ],
         "xaxis": "x",
         "y": [
          197
         ],
         "yaxis": "y"
        },
        {
         "alignmentgroup": "True",
         "hovertemplate": "Gênero=%{x}<br>Quantidade=%{text}<extra></extra>",
         "legendgroup": "trip-hop",
         "marker": {
          "color": "#4B0082",
          "pattern": {
           "shape": ""
          }
         },
         "name": "trip-hop",
         "offsetgroup": "trip-hop",
         "orientation": "v",
         "showlegend": true,
         "text": [
          68
         ],
         "textposition": "inside",
         "texttemplate": "%{text:.2s}",
         "type": "bar",
         "x": [
          "trip-hop"
         ],
         "xaxis": "x",
         "y": [
          68
         ],
         "yaxis": "y"
        }
       ],
       "layout": {
        "autosize": true,
        "barmode": "relative",
        "legend": {
         "title": {
          "text": "Gênero"
         },
         "tracegroupgap": 0
        },
        "template": {
         "data": {
          "bar": [
           {
            "error_x": {
             "color": "#2a3f5f"
            },
            "error_y": {
             "color": "#2a3f5f"
            },
            "marker": {
             "line": {
              "color": "#E5ECF6",
              "width": 0.5
             },
             "pattern": {
              "fillmode": "overlay",
              "size": 10,
              "solidity": 0.2
             }
            },
            "type": "bar"
           }
          ],
          "barpolar": [
           {
            "marker": {
             "line": {
              "color": "#E5ECF6",
              "width": 0.5
             },
             "pattern": {
              "fillmode": "overlay",
              "size": 10,
              "solidity": 0.2
             }
            },
            "type": "barpolar"
           }
          ],
          "carpet": [
           {
            "aaxis": {
             "endlinecolor": "#2a3f5f",
             "gridcolor": "white",
             "linecolor": "white",
             "minorgridcolor": "white",
             "startlinecolor": "#2a3f5f"
            },
            "baxis": {
             "endlinecolor": "#2a3f5f",
             "gridcolor": "white",
             "linecolor": "white",
             "minorgridcolor": "white",
             "startlinecolor": "#2a3f5f"
            },
            "type": "carpet"
           }
          ],
          "choropleth": [
           {
            "colorbar": {
             "outlinewidth": 0,
             "ticks": ""
            },
            "type": "choropleth"
           }
          ],
          "contour": [
           {
            "colorbar": {
             "outlinewidth": 0,
             "ticks": ""
            },
            "colorscale": [
             [
              0,
              "#0d0887"
             ],
             [
              0.1111111111111111,
              "#46039f"
             ],
             [
              0.2222222222222222,
              "#7201a8"
             ],
             [
              0.3333333333333333,
              "#9c179e"
             ],
             [
              0.4444444444444444,
              "#bd3786"
             ],
             [
              0.5555555555555556,
              "#d8576b"
             ],
             [
              0.6666666666666666,
              "#ed7953"
             ],
             [
              0.7777777777777778,
              "#fb9f3a"
             ],
             [
              0.8888888888888888,
              "#fdca26"
             ],
             [
              1,
              "#f0f921"
             ]
            ],
            "type": "contour"
           }
          ],
          "contourcarpet": [
           {
            "colorbar": {
             "outlinewidth": 0,
             "ticks": ""
            },
            "type": "contourcarpet"
           }
          ],
          "heatmap": [
           {
            "colorbar": {
             "outlinewidth": 0,
             "ticks": ""
            },
            "colorscale": [
             [
              0,
              "#0d0887"
             ],
             [
              0.1111111111111111,
              "#46039f"
             ],
             [
              0.2222222222222222,
              "#7201a8"
             ],
             [
              0.3333333333333333,
              "#9c179e"
             ],
             [
              0.4444444444444444,
              "#bd3786"
             ],
             [
              0.5555555555555556,
              "#d8576b"
             ],
             [
              0.6666666666666666,
              "#ed7953"
             ],
             [
              0.7777777777777778,
              "#fb9f3a"
             ],
             [
              0.8888888888888888,
              "#fdca26"
             ],
             [
              1,
              "#f0f921"
             ]
            ],
            "type": "heatmap"
           }
          ],
          "heatmapgl": [
           {
            "colorbar": {
             "outlinewidth": 0,
             "ticks": ""
            },
            "colorscale": [
             [
              0,
              "#0d0887"
             ],
             [
              0.1111111111111111,
              "#46039f"
             ],
             [
              0.2222222222222222,
              "#7201a8"
             ],
             [
              0.3333333333333333,
              "#9c179e"
             ],
             [
              0.4444444444444444,
              "#bd3786"
             ],
             [
              0.5555555555555556,
              "#d8576b"
             ],
             [
              0.6666666666666666,
              "#ed7953"
             ],
             [
              0.7777777777777778,
              "#fb9f3a"
             ],
             [
              0.8888888888888888,
              "#fdca26"
             ],
             [
              1,
              "#f0f921"
             ]
            ],
            "type": "heatmapgl"
           }
          ],
          "histogram": [
           {
            "marker": {
             "pattern": {
              "fillmode": "overlay",
              "size": 10,
              "solidity": 0.2
             }
            },
            "type": "histogram"
           }
          ],
          "histogram2d": [
           {
            "colorbar": {
             "outlinewidth": 0,
             "ticks": ""
            },
            "colorscale": [
             [
              0,
              "#0d0887"
             ],
             [
              0.1111111111111111,
              "#46039f"
             ],
             [
              0.2222222222222222,
              "#7201a8"
             ],
             [
              0.3333333333333333,
              "#9c179e"
             ],
             [
              0.4444444444444444,
              "#bd3786"
             ],
             [
              0.5555555555555556,
              "#d8576b"
             ],
             [
              0.6666666666666666,
              "#ed7953"
             ],
             [
              0.7777777777777778,
              "#fb9f3a"
             ],
             [
              0.8888888888888888,
              "#fdca26"
             ],
             [
              1,
              "#f0f921"
             ]
            ],
            "type": "histogram2d"
           }
          ],
          "histogram2dcontour": [
           {
            "colorbar": {
             "outlinewidth": 0,
             "ticks": ""
            },
            "colorscale": [
             [
              0,
              "#0d0887"
             ],
             [
              0.1111111111111111,
              "#46039f"
             ],
             [
              0.2222222222222222,
              "#7201a8"
             ],
             [
              0.3333333333333333,
              "#9c179e"
             ],
             [
              0.4444444444444444,
              "#bd3786"
             ],
             [
              0.5555555555555556,
              "#d8576b"
             ],
             [
              0.6666666666666666,
              "#ed7953"
             ],
             [
              0.7777777777777778,
              "#fb9f3a"
             ],
             [
              0.8888888888888888,
              "#fdca26"
             ],
             [
              1,
              "#f0f921"
             ]
            ],
            "type": "histogram2dcontour"
           }
          ],
          "mesh3d": [
           {
            "colorbar": {
             "outlinewidth": 0,
             "ticks": ""
            },
            "type": "mesh3d"
           }
          ],
          "parcoords": [
           {
            "line": {
             "colorbar": {
              "outlinewidth": 0,
              "ticks": ""
             }
            },
            "type": "parcoords"
           }
          ],
          "pie": [
           {
            "automargin": true,
            "type": "pie"
           }
          ],
          "scatter": [
           {
            "fillpattern": {
             "fillmode": "overlay",
             "size": 10,
             "solidity": 0.2
            },
            "type": "scatter"
           }
          ],
          "scatter3d": [
           {
            "line": {
             "colorbar": {
              "outlinewidth": 0,
              "ticks": ""
             }
            },
            "marker": {
             "colorbar": {
              "outlinewidth": 0,
              "ticks": ""
             }
            },
            "type": "scatter3d"
           }
          ],
          "scattercarpet": [
           {
            "marker": {
             "colorbar": {
              "outlinewidth": 0,
              "ticks": ""
             }
            },
            "type": "scattercarpet"
           }
          ],
          "scattergeo": [
           {
            "marker": {
             "colorbar": {
              "outlinewidth": 0,
              "ticks": ""
             }
            },
            "type": "scattergeo"
           }
          ],
          "scattergl": [
           {
            "marker": {
             "colorbar": {
              "outlinewidth": 0,
              "ticks": ""
             }
            },
            "type": "scattergl"
           }
          ],
          "scattermapbox": [
           {
            "marker": {
             "colorbar": {
              "outlinewidth": 0,
              "ticks": ""
             }
            },
            "type": "scattermapbox"
           }
          ],
          "scatterpolar": [
           {
            "marker": {
             "colorbar": {
              "outlinewidth": 0,
              "ticks": ""
             }
            },
            "type": "scatterpolar"
           }
          ],
          "scatterpolargl": [
           {
            "marker": {
             "colorbar": {
              "outlinewidth": 0,
              "ticks": ""
             }
            },
            "type": "scatterpolargl"
           }
          ],
          "scatterternary": [
           {
            "marker": {
             "colorbar": {
              "outlinewidth": 0,
              "ticks": ""
             }
            },
            "type": "scatterternary"
           }
          ],
          "surface": [
           {
            "colorbar": {
             "outlinewidth": 0,
             "ticks": ""
            },
            "colorscale": [
             [
              0,
              "#0d0887"
             ],
             [
              0.1111111111111111,
              "#46039f"
             ],
             [
              0.2222222222222222,
              "#7201a8"
             ],
             [
              0.3333333333333333,
              "#9c179e"
             ],
             [
              0.4444444444444444,
              "#bd3786"
             ],
             [
              0.5555555555555556,
              "#d8576b"
             ],
             [
              0.6666666666666666,
              "#ed7953"
             ],
             [
              0.7777777777777778,
              "#fb9f3a"
             ],
             [
              0.8888888888888888,
              "#fdca26"
             ],
             [
              1,
              "#f0f921"
             ]
            ],
            "type": "surface"
           }
          ],
          "table": [
           {
            "cells": {
             "fill": {
              "color": "#EBF0F8"
             },
             "line": {
              "color": "white"
             }
            },
            "header": {
             "fill": {
              "color": "#C8D4E3"
             },
             "line": {
              "color": "white"
             }
            },
            "type": "table"
           }
          ]
         },
         "layout": {
          "annotationdefaults": {
           "arrowcolor": "#2a3f5f",
           "arrowhead": 0,
           "arrowwidth": 1
          },
          "autotypenumbers": "strict",
          "coloraxis": {
           "colorbar": {
            "outlinewidth": 0,
            "ticks": ""
           }
          },
          "colorscale": {
           "diverging": [
            [
             0,
             "#8e0152"
            ],
            [
             0.1,
             "#c51b7d"
            ],
            [
             0.2,
             "#de77ae"
            ],
            [
             0.3,
             "#f1b6da"
            ],
            [
             0.4,
             "#fde0ef"
            ],
            [
             0.5,
             "#f7f7f7"
            ],
            [
             0.6,
             "#e6f5d0"
            ],
            [
             0.7,
             "#b8e186"
            ],
            [
             0.8,
             "#7fbc41"
            ],
            [
             0.9,
             "#4d9221"
            ],
            [
             1,
             "#276419"
            ]
           ],
           "sequential": [
            [
             0,
             "#0d0887"
            ],
            [
             0.1111111111111111,
             "#46039f"
            ],
            [
             0.2222222222222222,
             "#7201a8"
            ],
            [
             0.3333333333333333,
             "#9c179e"
            ],
            [
             0.4444444444444444,
             "#bd3786"
            ],
            [
             0.5555555555555556,
             "#d8576b"
            ],
            [
             0.6666666666666666,
             "#ed7953"
            ],
            [
             0.7777777777777778,
             "#fb9f3a"
            ],
            [
             0.8888888888888888,
             "#fdca26"
            ],
            [
             1,
             "#f0f921"
            ]
           ],
           "sequentialminus": [
            [
             0,
             "#0d0887"
            ],
            [
             0.1111111111111111,
             "#46039f"
            ],
            [
             0.2222222222222222,
             "#7201a8"
            ],
            [
             0.3333333333333333,
             "#9c179e"
            ],
            [
             0.4444444444444444,
             "#bd3786"
            ],
            [
             0.5555555555555556,
             "#d8576b"
            ],
            [
             0.6666666666666666,
             "#ed7953"
            ],
            [
             0.7777777777777778,
             "#fb9f3a"
            ],
            [
             0.8888888888888888,
             "#fdca26"
            ],
            [
             1,
             "#f0f921"
            ]
           ]
          },
          "colorway": [
           "#636efa",
           "#EF553B",
           "#00cc96",
           "#ab63fa",
           "#FFA15A",
           "#19d3f3",
           "#FF6692",
           "#B6E880",
           "#FF97FF",
           "#FECB52"
          ],
          "font": {
           "color": "#2a3f5f"
          },
          "geo": {
           "bgcolor": "white",
           "lakecolor": "white",
           "landcolor": "#E5ECF6",
           "showlakes": true,
           "showland": true,
           "subunitcolor": "white"
          },
          "hoverlabel": {
           "align": "left"
          },
          "hovermode": "closest",
          "mapbox": {
           "style": "light"
          },
          "paper_bgcolor": "white",
          "plot_bgcolor": "#E5ECF6",
          "polar": {
           "angularaxis": {
            "gridcolor": "white",
            "linecolor": "white",
            "ticks": ""
           },
           "bgcolor": "#E5ECF6",
           "radialaxis": {
            "gridcolor": "white",
            "linecolor": "white",
            "ticks": ""
           }
          },
          "scene": {
           "xaxis": {
            "backgroundcolor": "#E5ECF6",
            "gridcolor": "white",
            "gridwidth": 2,
            "linecolor": "white",
            "showbackground": true,
            "ticks": "",
            "zerolinecolor": "white"
           },
           "yaxis": {
            "backgroundcolor": "#E5ECF6",
            "gridcolor": "white",
            "gridwidth": 2,
            "linecolor": "white",
            "showbackground": true,
            "ticks": "",
            "zerolinecolor": "white"
           },
           "zaxis": {
            "backgroundcolor": "#E5ECF6",
            "gridcolor": "white",
            "gridwidth": 2,
            "linecolor": "white",
            "showbackground": true,
            "ticks": "",
            "zerolinecolor": "white"
           }
          },
          "shapedefaults": {
           "line": {
            "color": "#2a3f5f"
           }
          },
          "ternary": {
           "aaxis": {
            "gridcolor": "white",
            "linecolor": "white",
            "ticks": ""
           },
           "baxis": {
            "gridcolor": "white",
            "linecolor": "white",
            "ticks": ""
           },
           "bgcolor": "#E5ECF6",
           "caxis": {
            "gridcolor": "white",
            "linecolor": "white",
            "ticks": ""
           }
          },
          "title": {
           "x": 0.05
          },
          "xaxis": {
           "automargin": true,
           "gridcolor": "white",
           "linecolor": "white",
           "ticks": "",
           "title": {
            "standoff": 15
           },
           "zerolinecolor": "white",
           "zerolinewidth": 2
          },
          "yaxis": {
           "automargin": true,
           "gridcolor": "white",
           "linecolor": "white",
           "ticks": "",
           "title": {
            "standoff": 15
           },
           "zerolinecolor": "white",
           "zerolinewidth": 2
          }
         }
        },
        "title": {
         "text": "Gêneros com mais músicas dançáveis"
        },
        "xaxis": {
         "anchor": "y",
         "autorange": true,
         "categoryarray": [
          "kids",
          "minimal-techno",
          "trip-hop"
         ],
         "categoryorder": "array",
         "domain": [
          0,
          1
         ],
         "range": [
          -0.5,
          2.5
         ],
         "title": {
          "text": "Gênero"
         },
         "type": "category"
        },
        "yaxis": {
         "anchor": "x",
         "autorange": true,
         "domain": [
          0,
          1
         ],
         "range": [
          0,
          309.4736842105263
         ],
         "title": {
          "text": "Quantidade"
         },
         "type": "linear"
        }
       }
      },
      "text/html": [
       "<div>                            <div id=\"9d78947d-9387-4122-a577-180228293899\" class=\"plotly-graph-div\" style=\"height:525px; width:100%;\"></div>            <script type=\"text/javascript\">                require([\"plotly\"], function(Plotly) {                    window.PLOTLYENV=window.PLOTLYENV || {};                                    if (document.getElementById(\"9d78947d-9387-4122-a577-180228293899\")) {                    Plotly.newPlot(                        \"9d78947d-9387-4122-a577-180228293899\",                        [{\"alignmentgroup\":\"True\",\"hovertemplate\":\"G\\u00eanero=%{x}\\u003cbr\\u003eQuantidade=%{text}\\u003cextra\\u003e\\u003c\\u002fextra\\u003e\",\"legendgroup\":\"kids\",\"marker\":{\"color\":\"#A020F0\",\"pattern\":{\"shape\":\"\"}},\"name\":\"kids\",\"offsetgroup\":\"kids\",\"orientation\":\"v\",\"showlegend\":true,\"text\":[294.0],\"textposition\":\"inside\",\"x\":[\"kids\"],\"xaxis\":\"x\",\"y\":[294],\"yaxis\":\"y\",\"type\":\"bar\",\"texttemplate\":\"%{text:.2s}\"},{\"alignmentgroup\":\"True\",\"hovertemplate\":\"G\\u00eanero=%{x}\\u003cbr\\u003eQuantidade=%{text}\\u003cextra\\u003e\\u003c\\u002fextra\\u003e\",\"legendgroup\":\"minimal-techno\",\"marker\":{\"color\":\"#8A2BE2\",\"pattern\":{\"shape\":\"\"}},\"name\":\"minimal-techno\",\"offsetgroup\":\"minimal-techno\",\"orientation\":\"v\",\"showlegend\":true,\"text\":[197.0],\"textposition\":\"inside\",\"x\":[\"minimal-techno\"],\"xaxis\":\"x\",\"y\":[197],\"yaxis\":\"y\",\"type\":\"bar\",\"texttemplate\":\"%{text:.2s}\"},{\"alignmentgroup\":\"True\",\"hovertemplate\":\"G\\u00eanero=%{x}\\u003cbr\\u003eQuantidade=%{text}\\u003cextra\\u003e\\u003c\\u002fextra\\u003e\",\"legendgroup\":\"trip-hop\",\"marker\":{\"color\":\"#4B0082\",\"pattern\":{\"shape\":\"\"}},\"name\":\"trip-hop\",\"offsetgroup\":\"trip-hop\",\"orientation\":\"v\",\"showlegend\":true,\"text\":[68.0],\"textposition\":\"inside\",\"x\":[\"trip-hop\"],\"xaxis\":\"x\",\"y\":[68],\"yaxis\":\"y\",\"type\":\"bar\",\"texttemplate\":\"%{text:.2s}\"}],                        {\"template\":{\"data\":{\"histogram2dcontour\":[{\"type\":\"histogram2dcontour\",\"colorbar\":{\"outlinewidth\":0,\"ticks\":\"\"},\"colorscale\":[[0.0,\"#0d0887\"],[0.1111111111111111,\"#46039f\"],[0.2222222222222222,\"#7201a8\"],[0.3333333333333333,\"#9c179e\"],[0.4444444444444444,\"#bd3786\"],[0.5555555555555556,\"#d8576b\"],[0.6666666666666666,\"#ed7953\"],[0.7777777777777778,\"#fb9f3a\"],[0.8888888888888888,\"#fdca26\"],[1.0,\"#f0f921\"]]}],\"choropleth\":[{\"type\":\"choropleth\",\"colorbar\":{\"outlinewidth\":0,\"ticks\":\"\"}}],\"histogram2d\":[{\"type\":\"histogram2d\",\"colorbar\":{\"outlinewidth\":0,\"ticks\":\"\"},\"colorscale\":[[0.0,\"#0d0887\"],[0.1111111111111111,\"#46039f\"],[0.2222222222222222,\"#7201a8\"],[0.3333333333333333,\"#9c179e\"],[0.4444444444444444,\"#bd3786\"],[0.5555555555555556,\"#d8576b\"],[0.6666666666666666,\"#ed7953\"],[0.7777777777777778,\"#fb9f3a\"],[0.8888888888888888,\"#fdca26\"],[1.0,\"#f0f921\"]]}],\"heatmap\":[{\"type\":\"heatmap\",\"colorbar\":{\"outlinewidth\":0,\"ticks\":\"\"},\"colorscale\":[[0.0,\"#0d0887\"],[0.1111111111111111,\"#46039f\"],[0.2222222222222222,\"#7201a8\"],[0.3333333333333333,\"#9c179e\"],[0.4444444444444444,\"#bd3786\"],[0.5555555555555556,\"#d8576b\"],[0.6666666666666666,\"#ed7953\"],[0.7777777777777778,\"#fb9f3a\"],[0.8888888888888888,\"#fdca26\"],[1.0,\"#f0f921\"]]}],\"heatmapgl\":[{\"type\":\"heatmapgl\",\"colorbar\":{\"outlinewidth\":0,\"ticks\":\"\"},\"colorscale\":[[0.0,\"#0d0887\"],[0.1111111111111111,\"#46039f\"],[0.2222222222222222,\"#7201a8\"],[0.3333333333333333,\"#9c179e\"],[0.4444444444444444,\"#bd3786\"],[0.5555555555555556,\"#d8576b\"],[0.6666666666666666,\"#ed7953\"],[0.7777777777777778,\"#fb9f3a\"],[0.8888888888888888,\"#fdca26\"],[1.0,\"#f0f921\"]]}],\"contourcarpet\":[{\"type\":\"contourcarpet\",\"colorbar\":{\"outlinewidth\":0,\"ticks\":\"\"}}],\"contour\":[{\"type\":\"contour\",\"colorbar\":{\"outlinewidth\":0,\"ticks\":\"\"},\"colorscale\":[[0.0,\"#0d0887\"],[0.1111111111111111,\"#46039f\"],[0.2222222222222222,\"#7201a8\"],[0.3333333333333333,\"#9c179e\"],[0.4444444444444444,\"#bd3786\"],[0.5555555555555556,\"#d8576b\"],[0.6666666666666666,\"#ed7953\"],[0.7777777777777778,\"#fb9f3a\"],[0.8888888888888888,\"#fdca26\"],[1.0,\"#f0f921\"]]}],\"surface\":[{\"type\":\"surface\",\"colorbar\":{\"outlinewidth\":0,\"ticks\":\"\"},\"colorscale\":[[0.0,\"#0d0887\"],[0.1111111111111111,\"#46039f\"],[0.2222222222222222,\"#7201a8\"],[0.3333333333333333,\"#9c179e\"],[0.4444444444444444,\"#bd3786\"],[0.5555555555555556,\"#d8576b\"],[0.6666666666666666,\"#ed7953\"],[0.7777777777777778,\"#fb9f3a\"],[0.8888888888888888,\"#fdca26\"],[1.0,\"#f0f921\"]]}],\"mesh3d\":[{\"type\":\"mesh3d\",\"colorbar\":{\"outlinewidth\":0,\"ticks\":\"\"}}],\"scatter\":[{\"fillpattern\":{\"fillmode\":\"overlay\",\"size\":10,\"solidity\":0.2},\"type\":\"scatter\"}],\"parcoords\":[{\"type\":\"parcoords\",\"line\":{\"colorbar\":{\"outlinewidth\":0,\"ticks\":\"\"}}}],\"scatterpolargl\":[{\"type\":\"scatterpolargl\",\"marker\":{\"colorbar\":{\"outlinewidth\":0,\"ticks\":\"\"}}}],\"bar\":[{\"error_x\":{\"color\":\"#2a3f5f\"},\"error_y\":{\"color\":\"#2a3f5f\"},\"marker\":{\"line\":{\"color\":\"#E5ECF6\",\"width\":0.5},\"pattern\":{\"fillmode\":\"overlay\",\"size\":10,\"solidity\":0.2}},\"type\":\"bar\"}],\"scattergeo\":[{\"type\":\"scattergeo\",\"marker\":{\"colorbar\":{\"outlinewidth\":0,\"ticks\":\"\"}}}],\"scatterpolar\":[{\"type\":\"scatterpolar\",\"marker\":{\"colorbar\":{\"outlinewidth\":0,\"ticks\":\"\"}}}],\"histogram\":[{\"marker\":{\"pattern\":{\"fillmode\":\"overlay\",\"size\":10,\"solidity\":0.2}},\"type\":\"histogram\"}],\"scattergl\":[{\"type\":\"scattergl\",\"marker\":{\"colorbar\":{\"outlinewidth\":0,\"ticks\":\"\"}}}],\"scatter3d\":[{\"type\":\"scatter3d\",\"line\":{\"colorbar\":{\"outlinewidth\":0,\"ticks\":\"\"}},\"marker\":{\"colorbar\":{\"outlinewidth\":0,\"ticks\":\"\"}}}],\"scattermapbox\":[{\"type\":\"scattermapbox\",\"marker\":{\"colorbar\":{\"outlinewidth\":0,\"ticks\":\"\"}}}],\"scatterternary\":[{\"type\":\"scatterternary\",\"marker\":{\"colorbar\":{\"outlinewidth\":0,\"ticks\":\"\"}}}],\"scattercarpet\":[{\"type\":\"scattercarpet\",\"marker\":{\"colorbar\":{\"outlinewidth\":0,\"ticks\":\"\"}}}],\"carpet\":[{\"aaxis\":{\"endlinecolor\":\"#2a3f5f\",\"gridcolor\":\"white\",\"linecolor\":\"white\",\"minorgridcolor\":\"white\",\"startlinecolor\":\"#2a3f5f\"},\"baxis\":{\"endlinecolor\":\"#2a3f5f\",\"gridcolor\":\"white\",\"linecolor\":\"white\",\"minorgridcolor\":\"white\",\"startlinecolor\":\"#2a3f5f\"},\"type\":\"carpet\"}],\"table\":[{\"cells\":{\"fill\":{\"color\":\"#EBF0F8\"},\"line\":{\"color\":\"white\"}},\"header\":{\"fill\":{\"color\":\"#C8D4E3\"},\"line\":{\"color\":\"white\"}},\"type\":\"table\"}],\"barpolar\":[{\"marker\":{\"line\":{\"color\":\"#E5ECF6\",\"width\":0.5},\"pattern\":{\"fillmode\":\"overlay\",\"size\":10,\"solidity\":0.2}},\"type\":\"barpolar\"}],\"pie\":[{\"automargin\":true,\"type\":\"pie\"}]},\"layout\":{\"autotypenumbers\":\"strict\",\"colorway\":[\"#636efa\",\"#EF553B\",\"#00cc96\",\"#ab63fa\",\"#FFA15A\",\"#19d3f3\",\"#FF6692\",\"#B6E880\",\"#FF97FF\",\"#FECB52\"],\"font\":{\"color\":\"#2a3f5f\"},\"hovermode\":\"closest\",\"hoverlabel\":{\"align\":\"left\"},\"paper_bgcolor\":\"white\",\"plot_bgcolor\":\"#E5ECF6\",\"polar\":{\"bgcolor\":\"#E5ECF6\",\"angularaxis\":{\"gridcolor\":\"white\",\"linecolor\":\"white\",\"ticks\":\"\"},\"radialaxis\":{\"gridcolor\":\"white\",\"linecolor\":\"white\",\"ticks\":\"\"}},\"ternary\":{\"bgcolor\":\"#E5ECF6\",\"aaxis\":{\"gridcolor\":\"white\",\"linecolor\":\"white\",\"ticks\":\"\"},\"baxis\":{\"gridcolor\":\"white\",\"linecolor\":\"white\",\"ticks\":\"\"},\"caxis\":{\"gridcolor\":\"white\",\"linecolor\":\"white\",\"ticks\":\"\"}},\"coloraxis\":{\"colorbar\":{\"outlinewidth\":0,\"ticks\":\"\"}},\"colorscale\":{\"sequential\":[[0.0,\"#0d0887\"],[0.1111111111111111,\"#46039f\"],[0.2222222222222222,\"#7201a8\"],[0.3333333333333333,\"#9c179e\"],[0.4444444444444444,\"#bd3786\"],[0.5555555555555556,\"#d8576b\"],[0.6666666666666666,\"#ed7953\"],[0.7777777777777778,\"#fb9f3a\"],[0.8888888888888888,\"#fdca26\"],[1.0,\"#f0f921\"]],\"sequentialminus\":[[0.0,\"#0d0887\"],[0.1111111111111111,\"#46039f\"],[0.2222222222222222,\"#7201a8\"],[0.3333333333333333,\"#9c179e\"],[0.4444444444444444,\"#bd3786\"],[0.5555555555555556,\"#d8576b\"],[0.6666666666666666,\"#ed7953\"],[0.7777777777777778,\"#fb9f3a\"],[0.8888888888888888,\"#fdca26\"],[1.0,\"#f0f921\"]],\"diverging\":[[0,\"#8e0152\"],[0.1,\"#c51b7d\"],[0.2,\"#de77ae\"],[0.3,\"#f1b6da\"],[0.4,\"#fde0ef\"],[0.5,\"#f7f7f7\"],[0.6,\"#e6f5d0\"],[0.7,\"#b8e186\"],[0.8,\"#7fbc41\"],[0.9,\"#4d9221\"],[1,\"#276419\"]]},\"xaxis\":{\"gridcolor\":\"white\",\"linecolor\":\"white\",\"ticks\":\"\",\"title\":{\"standoff\":15},\"zerolinecolor\":\"white\",\"automargin\":true,\"zerolinewidth\":2},\"yaxis\":{\"gridcolor\":\"white\",\"linecolor\":\"white\",\"ticks\":\"\",\"title\":{\"standoff\":15},\"zerolinecolor\":\"white\",\"automargin\":true,\"zerolinewidth\":2},\"scene\":{\"xaxis\":{\"backgroundcolor\":\"#E5ECF6\",\"gridcolor\":\"white\",\"linecolor\":\"white\",\"showbackground\":true,\"ticks\":\"\",\"zerolinecolor\":\"white\",\"gridwidth\":2},\"yaxis\":{\"backgroundcolor\":\"#E5ECF6\",\"gridcolor\":\"white\",\"linecolor\":\"white\",\"showbackground\":true,\"ticks\":\"\",\"zerolinecolor\":\"white\",\"gridwidth\":2},\"zaxis\":{\"backgroundcolor\":\"#E5ECF6\",\"gridcolor\":\"white\",\"linecolor\":\"white\",\"showbackground\":true,\"ticks\":\"\",\"zerolinecolor\":\"white\",\"gridwidth\":2}},\"shapedefaults\":{\"line\":{\"color\":\"#2a3f5f\"}},\"annotationdefaults\":{\"arrowcolor\":\"#2a3f5f\",\"arrowhead\":0,\"arrowwidth\":1},\"geo\":{\"bgcolor\":\"white\",\"landcolor\":\"#E5ECF6\",\"subunitcolor\":\"white\",\"showland\":true,\"showlakes\":true,\"lakecolor\":\"white\"},\"title\":{\"x\":0.05},\"mapbox\":{\"style\":\"light\"}}},\"xaxis\":{\"anchor\":\"y\",\"domain\":[0.0,1.0],\"title\":{\"text\":\"G\\u00eanero\"},\"categoryorder\":\"array\",\"categoryarray\":[\"kids\",\"minimal-techno\",\"trip-hop\"]},\"yaxis\":{\"anchor\":\"x\",\"domain\":[0.0,1.0],\"title\":{\"text\":\"Quantidade\"}},\"legend\":{\"title\":{\"text\":\"G\\u00eanero\"},\"tracegroupgap\":0},\"title\":{\"text\":\"G\\u00eaneros com mais m\\u00fasicas dan\\u00e7\\u00e1veis\"},\"barmode\":\"relative\"},                        {\"responsive\": true}                    ).then(function(){\n",
       "                            \n",
       "var gd = document.getElementById('9d78947d-9387-4122-a577-180228293899');\n",
       "var x = new MutationObserver(function (mutations, observer) {{\n",
       "        var display = window.getComputedStyle(gd).display;\n",
       "        if (!display || display === 'none') {{\n",
       "            console.log([gd, 'removed!']);\n",
       "            Plotly.purge(gd);\n",
       "            observer.disconnect();\n",
       "        }}\n",
       "}});\n",
       "\n",
       "// Listen for the removal of the full notebook cells\n",
       "var notebookContainer = gd.closest('#notebook-container');\n",
       "if (notebookContainer) {{\n",
       "    x.observe(notebookContainer, {childList: true});\n",
       "}}\n",
       "\n",
       "// Listen for the clearing of the current output cell\n",
       "var outputEl = gd.closest('.output');\n",
       "if (outputEl) {{\n",
       "    x.observe(outputEl, {childList: true});\n",
       "}}\n",
       "\n",
       "                        })                };                });            </script>        </div>"
      ]
     },
     "metadata": {},
     "output_type": "display_data"
    }
   ],
   "source": [
    "#Relações de algumas colunas com popularidade\n",
    "#Relação \"dançabilidade\" das músicas\n",
    "#Filtrar apenas as músicas com dançabilidade maior ou igual a 0.8\n",
    "\n",
    "# Lista dos gêneros desejados\n",
    "generos_dancaveis = ['trip-hop', 'kids', 'minimal-techno']\n",
    "\n",
    "# Filtrar e agrupar os dados\n",
    "musica = df1[df1['track_genre'].isin(generos_dancaveis) & (df1['danceability'] >= 0.8)]\n",
    "musica_grouped = musica.groupby('track_genre').size().reset_index(name='danceability')\n",
    "\n",
    "# Ordenar os gêneros pela quantidade de músicas dançáveis\n",
    "musica_sorted = musica_grouped.sort_values(by='danceability', ascending=False)\n",
    "\n",
    "fig = px.bar(\n",
    "    musica_sorted,\n",
    "    x='track_genre',\n",
    "    y='danceability',\n",
    "    color='track_genre',\n",
    "    color_discrete_sequence=['#A020F0', '#8A2BE2', '#4B0082', '#EE82EE', '#9932CC'],\n",
    "    title='Gêneros com mais músicas dançáveis',\n",
    "    labels={'track_genre': 'Gênero', 'danceability': 'Quantidade'},\n",
    "    text='danceability'\n",
    "   \n",
    ")\n",
    "\n",
    "fig.update_traces(texttemplate='%{text:.2s}', textposition='inside') \n",
    "fig.show()\n",
    "\n"
   ]
  },
  {
   "cell_type": "markdown",
   "metadata": {},
   "source": [
    "#### Popularidade e \"dançabilidade\": Observamos que as músicas mais populares nem sempre são as mais \"dançáveis\". A maioria das músicas populares apresenta uma pontuação de \"dançabilidade\" entre 0.5 e 0.7.\n",
    "\n"
   ]
  },
  {
   "cell_type": "code",
   "execution_count": 250,
   "metadata": {
    "colab": {
     "base_uri": "https://localhost:8080/",
     "height": 542
    },
    "id": "19hyeQUIozXY",
    "outputId": "75de61a7-822a-41b5-e223-f062c341d4c0"
   },
   "outputs": [
    {
     "data": {
      "application/vnd.plotly.v1+json": {
       "config": {
        "plotlyServerURL": "https://plot.ly"
       },
       "data": [
        {
         "alignmentgroup": "True",
         "hovertemplate": "Gênero=%{x}<br>felizes=%{text}<extra></extra>",
         "legendgroup": "forro",
         "marker": {
          "color": "#A020F0",
          "pattern": {
           "shape": ""
          }
         },
         "name": "forro",
         "offsetgroup": "forro",
         "orientation": "v",
         "showlegend": true,
         "text": [
          654
         ],
         "textposition": "inside",
         "texttemplate": "%{text:.2s}",
         "type": "bar",
         "x": [
          "forro"
         ],
         "xaxis": "x",
         "y": [
          654
         ],
         "yaxis": "y"
        },
        {
         "alignmentgroup": "True",
         "hovertemplate": "Gênero=%{x}<br>felizes=%{text}<extra></extra>",
         "legendgroup": "salsa",
         "marker": {
          "color": "#8A2BE2",
          "pattern": {
           "shape": ""
          }
         },
         "name": "salsa",
         "offsetgroup": "salsa",
         "orientation": "v",
         "showlegend": true,
         "text": [
          641
         ],
         "textposition": "inside",
         "texttemplate": "%{text:.2s}",
         "type": "bar",
         "x": [
          "salsa"
         ],
         "xaxis": "x",
         "y": [
          641
         ],
         "yaxis": "y"
        },
        {
         "alignmentgroup": "True",
         "hovertemplate": "Gênero=%{x}<br>felizes=%{text}<extra></extra>",
         "legendgroup": "afrobeat",
         "marker": {
          "color": "#4B0082",
          "pattern": {
           "shape": ""
          }
         },
         "name": "afrobeat",
         "offsetgroup": "afrobeat",
         "orientation": "v",
         "showlegend": true,
         "text": [
          613
         ],
         "textposition": "inside",
         "texttemplate": "%{text:.2s}",
         "type": "bar",
         "x": [
          "afrobeat"
         ],
         "xaxis": "x",
         "y": [
          613
         ],
         "yaxis": "y"
        }
       ],
       "layout": {
        "autosize": true,
        "barmode": "relative",
        "legend": {
         "title": {
          "text": "Gênero"
         },
         "tracegroupgap": 0
        },
        "margin": {
         "t": 60
        },
        "template": {
         "data": {
          "bar": [
           {
            "error_x": {
             "color": "#2a3f5f"
            },
            "error_y": {
             "color": "#2a3f5f"
            },
            "marker": {
             "line": {
              "color": "#E5ECF6",
              "width": 0.5
             },
             "pattern": {
              "fillmode": "overlay",
              "size": 10,
              "solidity": 0.2
             }
            },
            "type": "bar"
           }
          ],
          "barpolar": [
           {
            "marker": {
             "line": {
              "color": "#E5ECF6",
              "width": 0.5
             },
             "pattern": {
              "fillmode": "overlay",
              "size": 10,
              "solidity": 0.2
             }
            },
            "type": "barpolar"
           }
          ],
          "carpet": [
           {
            "aaxis": {
             "endlinecolor": "#2a3f5f",
             "gridcolor": "white",
             "linecolor": "white",
             "minorgridcolor": "white",
             "startlinecolor": "#2a3f5f"
            },
            "baxis": {
             "endlinecolor": "#2a3f5f",
             "gridcolor": "white",
             "linecolor": "white",
             "minorgridcolor": "white",
             "startlinecolor": "#2a3f5f"
            },
            "type": "carpet"
           }
          ],
          "choropleth": [
           {
            "colorbar": {
             "outlinewidth": 0,
             "ticks": ""
            },
            "type": "choropleth"
           }
          ],
          "contour": [
           {
            "colorbar": {
             "outlinewidth": 0,
             "ticks": ""
            },
            "colorscale": [
             [
              0,
              "#0d0887"
             ],
             [
              0.1111111111111111,
              "#46039f"
             ],
             [
              0.2222222222222222,
              "#7201a8"
             ],
             [
              0.3333333333333333,
              "#9c179e"
             ],
             [
              0.4444444444444444,
              "#bd3786"
             ],
             [
              0.5555555555555556,
              "#d8576b"
             ],
             [
              0.6666666666666666,
              "#ed7953"
             ],
             [
              0.7777777777777778,
              "#fb9f3a"
             ],
             [
              0.8888888888888888,
              "#fdca26"
             ],
             [
              1,
              "#f0f921"
             ]
            ],
            "type": "contour"
           }
          ],
          "contourcarpet": [
           {
            "colorbar": {
             "outlinewidth": 0,
             "ticks": ""
            },
            "type": "contourcarpet"
           }
          ],
          "heatmap": [
           {
            "colorbar": {
             "outlinewidth": 0,
             "ticks": ""
            },
            "colorscale": [
             [
              0,
              "#0d0887"
             ],
             [
              0.1111111111111111,
              "#46039f"
             ],
             [
              0.2222222222222222,
              "#7201a8"
             ],
             [
              0.3333333333333333,
              "#9c179e"
             ],
             [
              0.4444444444444444,
              "#bd3786"
             ],
             [
              0.5555555555555556,
              "#d8576b"
             ],
             [
              0.6666666666666666,
              "#ed7953"
             ],
             [
              0.7777777777777778,
              "#fb9f3a"
             ],
             [
              0.8888888888888888,
              "#fdca26"
             ],
             [
              1,
              "#f0f921"
             ]
            ],
            "type": "heatmap"
           }
          ],
          "heatmapgl": [
           {
            "colorbar": {
             "outlinewidth": 0,
             "ticks": ""
            },
            "colorscale": [
             [
              0,
              "#0d0887"
             ],
             [
              0.1111111111111111,
              "#46039f"
             ],
             [
              0.2222222222222222,
              "#7201a8"
             ],
             [
              0.3333333333333333,
              "#9c179e"
             ],
             [
              0.4444444444444444,
              "#bd3786"
             ],
             [
              0.5555555555555556,
              "#d8576b"
             ],
             [
              0.6666666666666666,
              "#ed7953"
             ],
             [
              0.7777777777777778,
              "#fb9f3a"
             ],
             [
              0.8888888888888888,
              "#fdca26"
             ],
             [
              1,
              "#f0f921"
             ]
            ],
            "type": "heatmapgl"
           }
          ],
          "histogram": [
           {
            "marker": {
             "pattern": {
              "fillmode": "overlay",
              "size": 10,
              "solidity": 0.2
             }
            },
            "type": "histogram"
           }
          ],
          "histogram2d": [
           {
            "colorbar": {
             "outlinewidth": 0,
             "ticks": ""
            },
            "colorscale": [
             [
              0,
              "#0d0887"
             ],
             [
              0.1111111111111111,
              "#46039f"
             ],
             [
              0.2222222222222222,
              "#7201a8"
             ],
             [
              0.3333333333333333,
              "#9c179e"
             ],
             [
              0.4444444444444444,
              "#bd3786"
             ],
             [
              0.5555555555555556,
              "#d8576b"
             ],
             [
              0.6666666666666666,
              "#ed7953"
             ],
             [
              0.7777777777777778,
              "#fb9f3a"
             ],
             [
              0.8888888888888888,
              "#fdca26"
             ],
             [
              1,
              "#f0f921"
             ]
            ],
            "type": "histogram2d"
           }
          ],
          "histogram2dcontour": [
           {
            "colorbar": {
             "outlinewidth": 0,
             "ticks": ""
            },
            "colorscale": [
             [
              0,
              "#0d0887"
             ],
             [
              0.1111111111111111,
              "#46039f"
             ],
             [
              0.2222222222222222,
              "#7201a8"
             ],
             [
              0.3333333333333333,
              "#9c179e"
             ],
             [
              0.4444444444444444,
              "#bd3786"
             ],
             [
              0.5555555555555556,
              "#d8576b"
             ],
             [
              0.6666666666666666,
              "#ed7953"
             ],
             [
              0.7777777777777778,
              "#fb9f3a"
             ],
             [
              0.8888888888888888,
              "#fdca26"
             ],
             [
              1,
              "#f0f921"
             ]
            ],
            "type": "histogram2dcontour"
           }
          ],
          "mesh3d": [
           {
            "colorbar": {
             "outlinewidth": 0,
             "ticks": ""
            },
            "type": "mesh3d"
           }
          ],
          "parcoords": [
           {
            "line": {
             "colorbar": {
              "outlinewidth": 0,
              "ticks": ""
             }
            },
            "type": "parcoords"
           }
          ],
          "pie": [
           {
            "automargin": true,
            "type": "pie"
           }
          ],
          "scatter": [
           {
            "fillpattern": {
             "fillmode": "overlay",
             "size": 10,
             "solidity": 0.2
            },
            "type": "scatter"
           }
          ],
          "scatter3d": [
           {
            "line": {
             "colorbar": {
              "outlinewidth": 0,
              "ticks": ""
             }
            },
            "marker": {
             "colorbar": {
              "outlinewidth": 0,
              "ticks": ""
             }
            },
            "type": "scatter3d"
           }
          ],
          "scattercarpet": [
           {
            "marker": {
             "colorbar": {
              "outlinewidth": 0,
              "ticks": ""
             }
            },
            "type": "scattercarpet"
           }
          ],
          "scattergeo": [
           {
            "marker": {
             "colorbar": {
              "outlinewidth": 0,
              "ticks": ""
             }
            },
            "type": "scattergeo"
           }
          ],
          "scattergl": [
           {
            "marker": {
             "colorbar": {
              "outlinewidth": 0,
              "ticks": ""
             }
            },
            "type": "scattergl"
           }
          ],
          "scattermapbox": [
           {
            "marker": {
             "colorbar": {
              "outlinewidth": 0,
              "ticks": ""
             }
            },
            "type": "scattermapbox"
           }
          ],
          "scatterpolar": [
           {
            "marker": {
             "colorbar": {
              "outlinewidth": 0,
              "ticks": ""
             }
            },
            "type": "scatterpolar"
           }
          ],
          "scatterpolargl": [
           {
            "marker": {
             "colorbar": {
              "outlinewidth": 0,
              "ticks": ""
             }
            },
            "type": "scatterpolargl"
           }
          ],
          "scatterternary": [
           {
            "marker": {
             "colorbar": {
              "outlinewidth": 0,
              "ticks": ""
             }
            },
            "type": "scatterternary"
           }
          ],
          "surface": [
           {
            "colorbar": {
             "outlinewidth": 0,
             "ticks": ""
            },
            "colorscale": [
             [
              0,
              "#0d0887"
             ],
             [
              0.1111111111111111,
              "#46039f"
             ],
             [
              0.2222222222222222,
              "#7201a8"
             ],
             [
              0.3333333333333333,
              "#9c179e"
             ],
             [
              0.4444444444444444,
              "#bd3786"
             ],
             [
              0.5555555555555556,
              "#d8576b"
             ],
             [
              0.6666666666666666,
              "#ed7953"
             ],
             [
              0.7777777777777778,
              "#fb9f3a"
             ],
             [
              0.8888888888888888,
              "#fdca26"
             ],
             [
              1,
              "#f0f921"
             ]
            ],
            "type": "surface"
           }
          ],
          "table": [
           {
            "cells": {
             "fill": {
              "color": "#EBF0F8"
             },
             "line": {
              "color": "white"
             }
            },
            "header": {
             "fill": {
              "color": "#C8D4E3"
             },
             "line": {
              "color": "white"
             }
            },
            "type": "table"
           }
          ]
         },
         "layout": {
          "annotationdefaults": {
           "arrowcolor": "#2a3f5f",
           "arrowhead": 0,
           "arrowwidth": 1
          },
          "autotypenumbers": "strict",
          "coloraxis": {
           "colorbar": {
            "outlinewidth": 0,
            "ticks": ""
           }
          },
          "colorscale": {
           "diverging": [
            [
             0,
             "#8e0152"
            ],
            [
             0.1,
             "#c51b7d"
            ],
            [
             0.2,
             "#de77ae"
            ],
            [
             0.3,
             "#f1b6da"
            ],
            [
             0.4,
             "#fde0ef"
            ],
            [
             0.5,
             "#f7f7f7"
            ],
            [
             0.6,
             "#e6f5d0"
            ],
            [
             0.7,
             "#b8e186"
            ],
            [
             0.8,
             "#7fbc41"
            ],
            [
             0.9,
             "#4d9221"
            ],
            [
             1,
             "#276419"
            ]
           ],
           "sequential": [
            [
             0,
             "#0d0887"
            ],
            [
             0.1111111111111111,
             "#46039f"
            ],
            [
             0.2222222222222222,
             "#7201a8"
            ],
            [
             0.3333333333333333,
             "#9c179e"
            ],
            [
             0.4444444444444444,
             "#bd3786"
            ],
            [
             0.5555555555555556,
             "#d8576b"
            ],
            [
             0.6666666666666666,
             "#ed7953"
            ],
            [
             0.7777777777777778,
             "#fb9f3a"
            ],
            [
             0.8888888888888888,
             "#fdca26"
            ],
            [
             1,
             "#f0f921"
            ]
           ],
           "sequentialminus": [
            [
             0,
             "#0d0887"
            ],
            [
             0.1111111111111111,
             "#46039f"
            ],
            [
             0.2222222222222222,
             "#7201a8"
            ],
            [
             0.3333333333333333,
             "#9c179e"
            ],
            [
             0.4444444444444444,
             "#bd3786"
            ],
            [
             0.5555555555555556,
             "#d8576b"
            ],
            [
             0.6666666666666666,
             "#ed7953"
            ],
            [
             0.7777777777777778,
             "#fb9f3a"
            ],
            [
             0.8888888888888888,
             "#fdca26"
            ],
            [
             1,
             "#f0f921"
            ]
           ]
          },
          "colorway": [
           "#636efa",
           "#EF553B",
           "#00cc96",
           "#ab63fa",
           "#FFA15A",
           "#19d3f3",
           "#FF6692",
           "#B6E880",
           "#FF97FF",
           "#FECB52"
          ],
          "font": {
           "color": "#2a3f5f"
          },
          "geo": {
           "bgcolor": "white",
           "lakecolor": "white",
           "landcolor": "#E5ECF6",
           "showlakes": true,
           "showland": true,
           "subunitcolor": "white"
          },
          "hoverlabel": {
           "align": "left"
          },
          "hovermode": "closest",
          "mapbox": {
           "style": "light"
          },
          "paper_bgcolor": "white",
          "plot_bgcolor": "#E5ECF6",
          "polar": {
           "angularaxis": {
            "gridcolor": "white",
            "linecolor": "white",
            "ticks": ""
           },
           "bgcolor": "#E5ECF6",
           "radialaxis": {
            "gridcolor": "white",
            "linecolor": "white",
            "ticks": ""
           }
          },
          "scene": {
           "xaxis": {
            "backgroundcolor": "#E5ECF6",
            "gridcolor": "white",
            "gridwidth": 2,
            "linecolor": "white",
            "showbackground": true,
            "ticks": "",
            "zerolinecolor": "white"
           },
           "yaxis": {
            "backgroundcolor": "#E5ECF6",
            "gridcolor": "white",
            "gridwidth": 2,
            "linecolor": "white",
            "showbackground": true,
            "ticks": "",
            "zerolinecolor": "white"
           },
           "zaxis": {
            "backgroundcolor": "#E5ECF6",
            "gridcolor": "white",
            "gridwidth": 2,
            "linecolor": "white",
            "showbackground": true,
            "ticks": "",
            "zerolinecolor": "white"
           }
          },
          "shapedefaults": {
           "line": {
            "color": "#2a3f5f"
           }
          },
          "ternary": {
           "aaxis": {
            "gridcolor": "white",
            "linecolor": "white",
            "ticks": ""
           },
           "baxis": {
            "gridcolor": "white",
            "linecolor": "white",
            "ticks": ""
           },
           "bgcolor": "#E5ECF6",
           "caxis": {
            "gridcolor": "white",
            "linecolor": "white",
            "ticks": ""
           }
          },
          "title": {
           "x": 0.05
          },
          "xaxis": {
           "automargin": true,
           "gridcolor": "white",
           "linecolor": "white",
           "ticks": "",
           "title": {
            "standoff": 15
           },
           "zerolinecolor": "white",
           "zerolinewidth": 2
          },
          "yaxis": {
           "automargin": true,
           "gridcolor": "white",
           "linecolor": "white",
           "ticks": "",
           "title": {
            "standoff": 15
           },
           "zerolinecolor": "white",
           "zerolinewidth": 2
          }
         }
        },
        "xaxis": {
         "anchor": "y",
         "autorange": true,
         "categoryarray": [
          "forro",
          "salsa",
          "afrobeat"
         ],
         "categoryorder": "array",
         "domain": [
          0,
          1
         ],
         "range": [
          -0.5,
          2.5
         ],
         "title": {
          "text": "Gênero"
         },
         "type": "category"
        },
        "yaxis": {
         "anchor": "x",
         "autorange": true,
         "domain": [
          0,
          1
         ],
         "range": [
          0,
          688.421052631579
         ],
         "title": {
          "text": "felizes"
         },
         "type": "linear"
        }
       }
      },
      "text/html": [
       "<div>                            <div id=\"16812297-cbb5-49cc-96e9-407dcb5a88a0\" class=\"plotly-graph-div\" style=\"height:525px; width:100%;\"></div>            <script type=\"text/javascript\">                require([\"plotly\"], function(Plotly) {                    window.PLOTLYENV=window.PLOTLYENV || {};                                    if (document.getElementById(\"16812297-cbb5-49cc-96e9-407dcb5a88a0\")) {                    Plotly.newPlot(                        \"16812297-cbb5-49cc-96e9-407dcb5a88a0\",                        [{\"alignmentgroup\":\"True\",\"hovertemplate\":\"G\\u00eanero=%{x}\\u003cbr\\u003efelizes=%{text}\\u003cextra\\u003e\\u003c\\u002fextra\\u003e\",\"legendgroup\":\"forro\",\"marker\":{\"color\":\"#A020F0\",\"pattern\":{\"shape\":\"\"}},\"name\":\"forro\",\"offsetgroup\":\"forro\",\"orientation\":\"v\",\"showlegend\":true,\"text\":[654.0],\"textposition\":\"inside\",\"x\":[\"forro\"],\"xaxis\":\"x\",\"y\":[654],\"yaxis\":\"y\",\"type\":\"bar\",\"texttemplate\":\"%{text:.2s}\"},{\"alignmentgroup\":\"True\",\"hovertemplate\":\"G\\u00eanero=%{x}\\u003cbr\\u003efelizes=%{text}\\u003cextra\\u003e\\u003c\\u002fextra\\u003e\",\"legendgroup\":\"salsa\",\"marker\":{\"color\":\"#8A2BE2\",\"pattern\":{\"shape\":\"\"}},\"name\":\"salsa\",\"offsetgroup\":\"salsa\",\"orientation\":\"v\",\"showlegend\":true,\"text\":[641.0],\"textposition\":\"inside\",\"x\":[\"salsa\"],\"xaxis\":\"x\",\"y\":[641],\"yaxis\":\"y\",\"type\":\"bar\",\"texttemplate\":\"%{text:.2s}\"},{\"alignmentgroup\":\"True\",\"hovertemplate\":\"G\\u00eanero=%{x}\\u003cbr\\u003efelizes=%{text}\\u003cextra\\u003e\\u003c\\u002fextra\\u003e\",\"legendgroup\":\"afrobeat\",\"marker\":{\"color\":\"#4B0082\",\"pattern\":{\"shape\":\"\"}},\"name\":\"afrobeat\",\"offsetgroup\":\"afrobeat\",\"orientation\":\"v\",\"showlegend\":true,\"text\":[613.0],\"textposition\":\"inside\",\"x\":[\"afrobeat\"],\"xaxis\":\"x\",\"y\":[613],\"yaxis\":\"y\",\"type\":\"bar\",\"texttemplate\":\"%{text:.2s}\"}],                        {\"template\":{\"data\":{\"histogram2dcontour\":[{\"type\":\"histogram2dcontour\",\"colorbar\":{\"outlinewidth\":0,\"ticks\":\"\"},\"colorscale\":[[0.0,\"#0d0887\"],[0.1111111111111111,\"#46039f\"],[0.2222222222222222,\"#7201a8\"],[0.3333333333333333,\"#9c179e\"],[0.4444444444444444,\"#bd3786\"],[0.5555555555555556,\"#d8576b\"],[0.6666666666666666,\"#ed7953\"],[0.7777777777777778,\"#fb9f3a\"],[0.8888888888888888,\"#fdca26\"],[1.0,\"#f0f921\"]]}],\"choropleth\":[{\"type\":\"choropleth\",\"colorbar\":{\"outlinewidth\":0,\"ticks\":\"\"}}],\"histogram2d\":[{\"type\":\"histogram2d\",\"colorbar\":{\"outlinewidth\":0,\"ticks\":\"\"},\"colorscale\":[[0.0,\"#0d0887\"],[0.1111111111111111,\"#46039f\"],[0.2222222222222222,\"#7201a8\"],[0.3333333333333333,\"#9c179e\"],[0.4444444444444444,\"#bd3786\"],[0.5555555555555556,\"#d8576b\"],[0.6666666666666666,\"#ed7953\"],[0.7777777777777778,\"#fb9f3a\"],[0.8888888888888888,\"#fdca26\"],[1.0,\"#f0f921\"]]}],\"heatmap\":[{\"type\":\"heatmap\",\"colorbar\":{\"outlinewidth\":0,\"ticks\":\"\"},\"colorscale\":[[0.0,\"#0d0887\"],[0.1111111111111111,\"#46039f\"],[0.2222222222222222,\"#7201a8\"],[0.3333333333333333,\"#9c179e\"],[0.4444444444444444,\"#bd3786\"],[0.5555555555555556,\"#d8576b\"],[0.6666666666666666,\"#ed7953\"],[0.7777777777777778,\"#fb9f3a\"],[0.8888888888888888,\"#fdca26\"],[1.0,\"#f0f921\"]]}],\"heatmapgl\":[{\"type\":\"heatmapgl\",\"colorbar\":{\"outlinewidth\":0,\"ticks\":\"\"},\"colorscale\":[[0.0,\"#0d0887\"],[0.1111111111111111,\"#46039f\"],[0.2222222222222222,\"#7201a8\"],[0.3333333333333333,\"#9c179e\"],[0.4444444444444444,\"#bd3786\"],[0.5555555555555556,\"#d8576b\"],[0.6666666666666666,\"#ed7953\"],[0.7777777777777778,\"#fb9f3a\"],[0.8888888888888888,\"#fdca26\"],[1.0,\"#f0f921\"]]}],\"contourcarpet\":[{\"type\":\"contourcarpet\",\"colorbar\":{\"outlinewidth\":0,\"ticks\":\"\"}}],\"contour\":[{\"type\":\"contour\",\"colorbar\":{\"outlinewidth\":0,\"ticks\":\"\"},\"colorscale\":[[0.0,\"#0d0887\"],[0.1111111111111111,\"#46039f\"],[0.2222222222222222,\"#7201a8\"],[0.3333333333333333,\"#9c179e\"],[0.4444444444444444,\"#bd3786\"],[0.5555555555555556,\"#d8576b\"],[0.6666666666666666,\"#ed7953\"],[0.7777777777777778,\"#fb9f3a\"],[0.8888888888888888,\"#fdca26\"],[1.0,\"#f0f921\"]]}],\"surface\":[{\"type\":\"surface\",\"colorbar\":{\"outlinewidth\":0,\"ticks\":\"\"},\"colorscale\":[[0.0,\"#0d0887\"],[0.1111111111111111,\"#46039f\"],[0.2222222222222222,\"#7201a8\"],[0.3333333333333333,\"#9c179e\"],[0.4444444444444444,\"#bd3786\"],[0.5555555555555556,\"#d8576b\"],[0.6666666666666666,\"#ed7953\"],[0.7777777777777778,\"#fb9f3a\"],[0.8888888888888888,\"#fdca26\"],[1.0,\"#f0f921\"]]}],\"mesh3d\":[{\"type\":\"mesh3d\",\"colorbar\":{\"outlinewidth\":0,\"ticks\":\"\"}}],\"scatter\":[{\"fillpattern\":{\"fillmode\":\"overlay\",\"size\":10,\"solidity\":0.2},\"type\":\"scatter\"}],\"parcoords\":[{\"type\":\"parcoords\",\"line\":{\"colorbar\":{\"outlinewidth\":0,\"ticks\":\"\"}}}],\"scatterpolargl\":[{\"type\":\"scatterpolargl\",\"marker\":{\"colorbar\":{\"outlinewidth\":0,\"ticks\":\"\"}}}],\"bar\":[{\"error_x\":{\"color\":\"#2a3f5f\"},\"error_y\":{\"color\":\"#2a3f5f\"},\"marker\":{\"line\":{\"color\":\"#E5ECF6\",\"width\":0.5},\"pattern\":{\"fillmode\":\"overlay\",\"size\":10,\"solidity\":0.2}},\"type\":\"bar\"}],\"scattergeo\":[{\"type\":\"scattergeo\",\"marker\":{\"colorbar\":{\"outlinewidth\":0,\"ticks\":\"\"}}}],\"scatterpolar\":[{\"type\":\"scatterpolar\",\"marker\":{\"colorbar\":{\"outlinewidth\":0,\"ticks\":\"\"}}}],\"histogram\":[{\"marker\":{\"pattern\":{\"fillmode\":\"overlay\",\"size\":10,\"solidity\":0.2}},\"type\":\"histogram\"}],\"scattergl\":[{\"type\":\"scattergl\",\"marker\":{\"colorbar\":{\"outlinewidth\":0,\"ticks\":\"\"}}}],\"scatter3d\":[{\"type\":\"scatter3d\",\"line\":{\"colorbar\":{\"outlinewidth\":0,\"ticks\":\"\"}},\"marker\":{\"colorbar\":{\"outlinewidth\":0,\"ticks\":\"\"}}}],\"scattermapbox\":[{\"type\":\"scattermapbox\",\"marker\":{\"colorbar\":{\"outlinewidth\":0,\"ticks\":\"\"}}}],\"scatterternary\":[{\"type\":\"scatterternary\",\"marker\":{\"colorbar\":{\"outlinewidth\":0,\"ticks\":\"\"}}}],\"scattercarpet\":[{\"type\":\"scattercarpet\",\"marker\":{\"colorbar\":{\"outlinewidth\":0,\"ticks\":\"\"}}}],\"carpet\":[{\"aaxis\":{\"endlinecolor\":\"#2a3f5f\",\"gridcolor\":\"white\",\"linecolor\":\"white\",\"minorgridcolor\":\"white\",\"startlinecolor\":\"#2a3f5f\"},\"baxis\":{\"endlinecolor\":\"#2a3f5f\",\"gridcolor\":\"white\",\"linecolor\":\"white\",\"minorgridcolor\":\"white\",\"startlinecolor\":\"#2a3f5f\"},\"type\":\"carpet\"}],\"table\":[{\"cells\":{\"fill\":{\"color\":\"#EBF0F8\"},\"line\":{\"color\":\"white\"}},\"header\":{\"fill\":{\"color\":\"#C8D4E3\"},\"line\":{\"color\":\"white\"}},\"type\":\"table\"}],\"barpolar\":[{\"marker\":{\"line\":{\"color\":\"#E5ECF6\",\"width\":0.5},\"pattern\":{\"fillmode\":\"overlay\",\"size\":10,\"solidity\":0.2}},\"type\":\"barpolar\"}],\"pie\":[{\"automargin\":true,\"type\":\"pie\"}]},\"layout\":{\"autotypenumbers\":\"strict\",\"colorway\":[\"#636efa\",\"#EF553B\",\"#00cc96\",\"#ab63fa\",\"#FFA15A\",\"#19d3f3\",\"#FF6692\",\"#B6E880\",\"#FF97FF\",\"#FECB52\"],\"font\":{\"color\":\"#2a3f5f\"},\"hovermode\":\"closest\",\"hoverlabel\":{\"align\":\"left\"},\"paper_bgcolor\":\"white\",\"plot_bgcolor\":\"#E5ECF6\",\"polar\":{\"bgcolor\":\"#E5ECF6\",\"angularaxis\":{\"gridcolor\":\"white\",\"linecolor\":\"white\",\"ticks\":\"\"},\"radialaxis\":{\"gridcolor\":\"white\",\"linecolor\":\"white\",\"ticks\":\"\"}},\"ternary\":{\"bgcolor\":\"#E5ECF6\",\"aaxis\":{\"gridcolor\":\"white\",\"linecolor\":\"white\",\"ticks\":\"\"},\"baxis\":{\"gridcolor\":\"white\",\"linecolor\":\"white\",\"ticks\":\"\"},\"caxis\":{\"gridcolor\":\"white\",\"linecolor\":\"white\",\"ticks\":\"\"}},\"coloraxis\":{\"colorbar\":{\"outlinewidth\":0,\"ticks\":\"\"}},\"colorscale\":{\"sequential\":[[0.0,\"#0d0887\"],[0.1111111111111111,\"#46039f\"],[0.2222222222222222,\"#7201a8\"],[0.3333333333333333,\"#9c179e\"],[0.4444444444444444,\"#bd3786\"],[0.5555555555555556,\"#d8576b\"],[0.6666666666666666,\"#ed7953\"],[0.7777777777777778,\"#fb9f3a\"],[0.8888888888888888,\"#fdca26\"],[1.0,\"#f0f921\"]],\"sequentialminus\":[[0.0,\"#0d0887\"],[0.1111111111111111,\"#46039f\"],[0.2222222222222222,\"#7201a8\"],[0.3333333333333333,\"#9c179e\"],[0.4444444444444444,\"#bd3786\"],[0.5555555555555556,\"#d8576b\"],[0.6666666666666666,\"#ed7953\"],[0.7777777777777778,\"#fb9f3a\"],[0.8888888888888888,\"#fdca26\"],[1.0,\"#f0f921\"]],\"diverging\":[[0,\"#8e0152\"],[0.1,\"#c51b7d\"],[0.2,\"#de77ae\"],[0.3,\"#f1b6da\"],[0.4,\"#fde0ef\"],[0.5,\"#f7f7f7\"],[0.6,\"#e6f5d0\"],[0.7,\"#b8e186\"],[0.8,\"#7fbc41\"],[0.9,\"#4d9221\"],[1,\"#276419\"]]},\"xaxis\":{\"gridcolor\":\"white\",\"linecolor\":\"white\",\"ticks\":\"\",\"title\":{\"standoff\":15},\"zerolinecolor\":\"white\",\"automargin\":true,\"zerolinewidth\":2},\"yaxis\":{\"gridcolor\":\"white\",\"linecolor\":\"white\",\"ticks\":\"\",\"title\":{\"standoff\":15},\"zerolinecolor\":\"white\",\"automargin\":true,\"zerolinewidth\":2},\"scene\":{\"xaxis\":{\"backgroundcolor\":\"#E5ECF6\",\"gridcolor\":\"white\",\"linecolor\":\"white\",\"showbackground\":true,\"ticks\":\"\",\"zerolinecolor\":\"white\",\"gridwidth\":2},\"yaxis\":{\"backgroundcolor\":\"#E5ECF6\",\"gridcolor\":\"white\",\"linecolor\":\"white\",\"showbackground\":true,\"ticks\":\"\",\"zerolinecolor\":\"white\",\"gridwidth\":2},\"zaxis\":{\"backgroundcolor\":\"#E5ECF6\",\"gridcolor\":\"white\",\"linecolor\":\"white\",\"showbackground\":true,\"ticks\":\"\",\"zerolinecolor\":\"white\",\"gridwidth\":2}},\"shapedefaults\":{\"line\":{\"color\":\"#2a3f5f\"}},\"annotationdefaults\":{\"arrowcolor\":\"#2a3f5f\",\"arrowhead\":0,\"arrowwidth\":1},\"geo\":{\"bgcolor\":\"white\",\"landcolor\":\"#E5ECF6\",\"subunitcolor\":\"white\",\"showland\":true,\"showlakes\":true,\"lakecolor\":\"white\"},\"title\":{\"x\":0.05},\"mapbox\":{\"style\":\"light\"}}},\"xaxis\":{\"anchor\":\"y\",\"domain\":[0.0,1.0],\"title\":{\"text\":\"G\\u00eanero\"},\"categoryorder\":\"array\",\"categoryarray\":[\"forro\",\"salsa\",\"afrobeat\"]},\"yaxis\":{\"anchor\":\"x\",\"domain\":[0.0,1.0],\"title\":{\"text\":\"felizes\"}},\"legend\":{\"title\":{\"text\":\"G\\u00eanero\"},\"tracegroupgap\":0},\"margin\":{\"t\":60},\"barmode\":\"relative\"},                        {\"responsive\": true}                    ).then(function(){\n",
       "                            \n",
       "var gd = document.getElementById('16812297-cbb5-49cc-96e9-407dcb5a88a0');\n",
       "var x = new MutationObserver(function (mutations, observer) {{\n",
       "        var display = window.getComputedStyle(gd).display;\n",
       "        if (!display || display === 'none') {{\n",
       "            console.log([gd, 'removed!']);\n",
       "            Plotly.purge(gd);\n",
       "            observer.disconnect();\n",
       "        }}\n",
       "}});\n",
       "\n",
       "// Listen for the removal of the full notebook cells\n",
       "var notebookContainer = gd.closest('#notebook-container');\n",
       "if (notebookContainer) {{\n",
       "    x.observe(notebookContainer, {childList: true});\n",
       "}}\n",
       "\n",
       "// Listen for the clearing of the current output cell\n",
       "var outputEl = gd.closest('.output');\n",
       "if (outputEl) {{\n",
       "    x.observe(outputEl, {childList: true});\n",
       "}}\n",
       "\n",
       "                        })                };                });            </script>        </div>"
      ]
     },
     "metadata": {},
     "output_type": "display_data"
    },
    {
     "data": {
      "application/vnd.plotly.v1+json": {
       "config": {
        "plotlyServerURL": "https://plot.ly"
       },
       "data": [
        {
         "alignmentgroup": "True",
         "hovertemplate": "Gênero=%{x}<br>tristes=%{text}<extra></extra>",
         "legendgroup": "black-metal",
         "marker": {
          "color": "#A020F0",
          "pattern": {
           "shape": ""
          }
         },
         "name": "black-metal",
         "offsetgroup": "black-metal",
         "orientation": "v",
         "showlegend": true,
         "text": [
          729
         ],
         "textposition": "inside",
         "texttemplate": "%{text:.2s}",
         "type": "bar",
         "x": [
          "black-metal"
         ],
         "xaxis": "x",
         "y": [
          729
         ],
         "yaxis": "y"
        },
        {
         "alignmentgroup": "True",
         "hovertemplate": "Gênero=%{x}<br>tristes=%{text}<extra></extra>",
         "legendgroup": "ambient",
         "marker": {
          "color": "#8A2BE2",
          "pattern": {
           "shape": ""
          }
         },
         "name": "ambient",
         "offsetgroup": "ambient",
         "orientation": "v",
         "showlegend": true,
         "text": [
          657
         ],
         "textposition": "inside",
         "texttemplate": "%{text:.2s}",
         "type": "bar",
         "x": [
          "ambient"
         ],
         "xaxis": "x",
         "y": [
          657
         ],
         "yaxis": "y"
        },
        {
         "alignmentgroup": "True",
         "hovertemplate": "Gênero=%{x}<br>tristes=%{text}<extra></extra>",
         "legendgroup": "grindcore",
         "marker": {
          "color": "#4B0082",
          "pattern": {
           "shape": ""
          }
         },
         "name": "grindcore",
         "offsetgroup": "grindcore",
         "orientation": "v",
         "showlegend": true,
         "text": [
          616
         ],
         "textposition": "inside",
         "texttemplate": "%{text:.2s}",
         "type": "bar",
         "x": [
          "grindcore"
         ],
         "xaxis": "x",
         "y": [
          616
         ],
         "yaxis": "y"
        }
       ],
       "layout": {
        "autosize": true,
        "barmode": "relative",
        "legend": {
         "title": {
          "text": "Gênero"
         },
         "tracegroupgap": 0
        },
        "margin": {
         "t": 60
        },
        "template": {
         "data": {
          "bar": [
           {
            "error_x": {
             "color": "#2a3f5f"
            },
            "error_y": {
             "color": "#2a3f5f"
            },
            "marker": {
             "line": {
              "color": "#E5ECF6",
              "width": 0.5
             },
             "pattern": {
              "fillmode": "overlay",
              "size": 10,
              "solidity": 0.2
             }
            },
            "type": "bar"
           }
          ],
          "barpolar": [
           {
            "marker": {
             "line": {
              "color": "#E5ECF6",
              "width": 0.5
             },
             "pattern": {
              "fillmode": "overlay",
              "size": 10,
              "solidity": 0.2
             }
            },
            "type": "barpolar"
           }
          ],
          "carpet": [
           {
            "aaxis": {
             "endlinecolor": "#2a3f5f",
             "gridcolor": "white",
             "linecolor": "white",
             "minorgridcolor": "white",
             "startlinecolor": "#2a3f5f"
            },
            "baxis": {
             "endlinecolor": "#2a3f5f",
             "gridcolor": "white",
             "linecolor": "white",
             "minorgridcolor": "white",
             "startlinecolor": "#2a3f5f"
            },
            "type": "carpet"
           }
          ],
          "choropleth": [
           {
            "colorbar": {
             "outlinewidth": 0,
             "ticks": ""
            },
            "type": "choropleth"
           }
          ],
          "contour": [
           {
            "colorbar": {
             "outlinewidth": 0,
             "ticks": ""
            },
            "colorscale": [
             [
              0,
              "#0d0887"
             ],
             [
              0.1111111111111111,
              "#46039f"
             ],
             [
              0.2222222222222222,
              "#7201a8"
             ],
             [
              0.3333333333333333,
              "#9c179e"
             ],
             [
              0.4444444444444444,
              "#bd3786"
             ],
             [
              0.5555555555555556,
              "#d8576b"
             ],
             [
              0.6666666666666666,
              "#ed7953"
             ],
             [
              0.7777777777777778,
              "#fb9f3a"
             ],
             [
              0.8888888888888888,
              "#fdca26"
             ],
             [
              1,
              "#f0f921"
             ]
            ],
            "type": "contour"
           }
          ],
          "contourcarpet": [
           {
            "colorbar": {
             "outlinewidth": 0,
             "ticks": ""
            },
            "type": "contourcarpet"
           }
          ],
          "heatmap": [
           {
            "colorbar": {
             "outlinewidth": 0,
             "ticks": ""
            },
            "colorscale": [
             [
              0,
              "#0d0887"
             ],
             [
              0.1111111111111111,
              "#46039f"
             ],
             [
              0.2222222222222222,
              "#7201a8"
             ],
             [
              0.3333333333333333,
              "#9c179e"
             ],
             [
              0.4444444444444444,
              "#bd3786"
             ],
             [
              0.5555555555555556,
              "#d8576b"
             ],
             [
              0.6666666666666666,
              "#ed7953"
             ],
             [
              0.7777777777777778,
              "#fb9f3a"
             ],
             [
              0.8888888888888888,
              "#fdca26"
             ],
             [
              1,
              "#f0f921"
             ]
            ],
            "type": "heatmap"
           }
          ],
          "heatmapgl": [
           {
            "colorbar": {
             "outlinewidth": 0,
             "ticks": ""
            },
            "colorscale": [
             [
              0,
              "#0d0887"
             ],
             [
              0.1111111111111111,
              "#46039f"
             ],
             [
              0.2222222222222222,
              "#7201a8"
             ],
             [
              0.3333333333333333,
              "#9c179e"
             ],
             [
              0.4444444444444444,
              "#bd3786"
             ],
             [
              0.5555555555555556,
              "#d8576b"
             ],
             [
              0.6666666666666666,
              "#ed7953"
             ],
             [
              0.7777777777777778,
              "#fb9f3a"
             ],
             [
              0.8888888888888888,
              "#fdca26"
             ],
             [
              1,
              "#f0f921"
             ]
            ],
            "type": "heatmapgl"
           }
          ],
          "histogram": [
           {
            "marker": {
             "pattern": {
              "fillmode": "overlay",
              "size": 10,
              "solidity": 0.2
             }
            },
            "type": "histogram"
           }
          ],
          "histogram2d": [
           {
            "colorbar": {
             "outlinewidth": 0,
             "ticks": ""
            },
            "colorscale": [
             [
              0,
              "#0d0887"
             ],
             [
              0.1111111111111111,
              "#46039f"
             ],
             [
              0.2222222222222222,
              "#7201a8"
             ],
             [
              0.3333333333333333,
              "#9c179e"
             ],
             [
              0.4444444444444444,
              "#bd3786"
             ],
             [
              0.5555555555555556,
              "#d8576b"
             ],
             [
              0.6666666666666666,
              "#ed7953"
             ],
             [
              0.7777777777777778,
              "#fb9f3a"
             ],
             [
              0.8888888888888888,
              "#fdca26"
             ],
             [
              1,
              "#f0f921"
             ]
            ],
            "type": "histogram2d"
           }
          ],
          "histogram2dcontour": [
           {
            "colorbar": {
             "outlinewidth": 0,
             "ticks": ""
            },
            "colorscale": [
             [
              0,
              "#0d0887"
             ],
             [
              0.1111111111111111,
              "#46039f"
             ],
             [
              0.2222222222222222,
              "#7201a8"
             ],
             [
              0.3333333333333333,
              "#9c179e"
             ],
             [
              0.4444444444444444,
              "#bd3786"
             ],
             [
              0.5555555555555556,
              "#d8576b"
             ],
             [
              0.6666666666666666,
              "#ed7953"
             ],
             [
              0.7777777777777778,
              "#fb9f3a"
             ],
             [
              0.8888888888888888,
              "#fdca26"
             ],
             [
              1,
              "#f0f921"
             ]
            ],
            "type": "histogram2dcontour"
           }
          ],
          "mesh3d": [
           {
            "colorbar": {
             "outlinewidth": 0,
             "ticks": ""
            },
            "type": "mesh3d"
           }
          ],
          "parcoords": [
           {
            "line": {
             "colorbar": {
              "outlinewidth": 0,
              "ticks": ""
             }
            },
            "type": "parcoords"
           }
          ],
          "pie": [
           {
            "automargin": true,
            "type": "pie"
           }
          ],
          "scatter": [
           {
            "fillpattern": {
             "fillmode": "overlay",
             "size": 10,
             "solidity": 0.2
            },
            "type": "scatter"
           }
          ],
          "scatter3d": [
           {
            "line": {
             "colorbar": {
              "outlinewidth": 0,
              "ticks": ""
             }
            },
            "marker": {
             "colorbar": {
              "outlinewidth": 0,
              "ticks": ""
             }
            },
            "type": "scatter3d"
           }
          ],
          "scattercarpet": [
           {
            "marker": {
             "colorbar": {
              "outlinewidth": 0,
              "ticks": ""
             }
            },
            "type": "scattercarpet"
           }
          ],
          "scattergeo": [
           {
            "marker": {
             "colorbar": {
              "outlinewidth": 0,
              "ticks": ""
             }
            },
            "type": "scattergeo"
           }
          ],
          "scattergl": [
           {
            "marker": {
             "colorbar": {
              "outlinewidth": 0,
              "ticks": ""
             }
            },
            "type": "scattergl"
           }
          ],
          "scattermapbox": [
           {
            "marker": {
             "colorbar": {
              "outlinewidth": 0,
              "ticks": ""
             }
            },
            "type": "scattermapbox"
           }
          ],
          "scatterpolar": [
           {
            "marker": {
             "colorbar": {
              "outlinewidth": 0,
              "ticks": ""
             }
            },
            "type": "scatterpolar"
           }
          ],
          "scatterpolargl": [
           {
            "marker": {
             "colorbar": {
              "outlinewidth": 0,
              "ticks": ""
             }
            },
            "type": "scatterpolargl"
           }
          ],
          "scatterternary": [
           {
            "marker": {
             "colorbar": {
              "outlinewidth": 0,
              "ticks": ""
             }
            },
            "type": "scatterternary"
           }
          ],
          "surface": [
           {
            "colorbar": {
             "outlinewidth": 0,
             "ticks": ""
            },
            "colorscale": [
             [
              0,
              "#0d0887"
             ],
             [
              0.1111111111111111,
              "#46039f"
             ],
             [
              0.2222222222222222,
              "#7201a8"
             ],
             [
              0.3333333333333333,
              "#9c179e"
             ],
             [
              0.4444444444444444,
              "#bd3786"
             ],
             [
              0.5555555555555556,
              "#d8576b"
             ],
             [
              0.6666666666666666,
              "#ed7953"
             ],
             [
              0.7777777777777778,
              "#fb9f3a"
             ],
             [
              0.8888888888888888,
              "#fdca26"
             ],
             [
              1,
              "#f0f921"
             ]
            ],
            "type": "surface"
           }
          ],
          "table": [
           {
            "cells": {
             "fill": {
              "color": "#EBF0F8"
             },
             "line": {
              "color": "white"
             }
            },
            "header": {
             "fill": {
              "color": "#C8D4E3"
             },
             "line": {
              "color": "white"
             }
            },
            "type": "table"
           }
          ]
         },
         "layout": {
          "annotationdefaults": {
           "arrowcolor": "#2a3f5f",
           "arrowhead": 0,
           "arrowwidth": 1
          },
          "autotypenumbers": "strict",
          "coloraxis": {
           "colorbar": {
            "outlinewidth": 0,
            "ticks": ""
           }
          },
          "colorscale": {
           "diverging": [
            [
             0,
             "#8e0152"
            ],
            [
             0.1,
             "#c51b7d"
            ],
            [
             0.2,
             "#de77ae"
            ],
            [
             0.3,
             "#f1b6da"
            ],
            [
             0.4,
             "#fde0ef"
            ],
            [
             0.5,
             "#f7f7f7"
            ],
            [
             0.6,
             "#e6f5d0"
            ],
            [
             0.7,
             "#b8e186"
            ],
            [
             0.8,
             "#7fbc41"
            ],
            [
             0.9,
             "#4d9221"
            ],
            [
             1,
             "#276419"
            ]
           ],
           "sequential": [
            [
             0,
             "#0d0887"
            ],
            [
             0.1111111111111111,
             "#46039f"
            ],
            [
             0.2222222222222222,
             "#7201a8"
            ],
            [
             0.3333333333333333,
             "#9c179e"
            ],
            [
             0.4444444444444444,
             "#bd3786"
            ],
            [
             0.5555555555555556,
             "#d8576b"
            ],
            [
             0.6666666666666666,
             "#ed7953"
            ],
            [
             0.7777777777777778,
             "#fb9f3a"
            ],
            [
             0.8888888888888888,
             "#fdca26"
            ],
            [
             1,
             "#f0f921"
            ]
           ],
           "sequentialminus": [
            [
             0,
             "#0d0887"
            ],
            [
             0.1111111111111111,
             "#46039f"
            ],
            [
             0.2222222222222222,
             "#7201a8"
            ],
            [
             0.3333333333333333,
             "#9c179e"
            ],
            [
             0.4444444444444444,
             "#bd3786"
            ],
            [
             0.5555555555555556,
             "#d8576b"
            ],
            [
             0.6666666666666666,
             "#ed7953"
            ],
            [
             0.7777777777777778,
             "#fb9f3a"
            ],
            [
             0.8888888888888888,
             "#fdca26"
            ],
            [
             1,
             "#f0f921"
            ]
           ]
          },
          "colorway": [
           "#636efa",
           "#EF553B",
           "#00cc96",
           "#ab63fa",
           "#FFA15A",
           "#19d3f3",
           "#FF6692",
           "#B6E880",
           "#FF97FF",
           "#FECB52"
          ],
          "font": {
           "color": "#2a3f5f"
          },
          "geo": {
           "bgcolor": "white",
           "lakecolor": "white",
           "landcolor": "#E5ECF6",
           "showlakes": true,
           "showland": true,
           "subunitcolor": "white"
          },
          "hoverlabel": {
           "align": "left"
          },
          "hovermode": "closest",
          "mapbox": {
           "style": "light"
          },
          "paper_bgcolor": "white",
          "plot_bgcolor": "#E5ECF6",
          "polar": {
           "angularaxis": {
            "gridcolor": "white",
            "linecolor": "white",
            "ticks": ""
           },
           "bgcolor": "#E5ECF6",
           "radialaxis": {
            "gridcolor": "white",
            "linecolor": "white",
            "ticks": ""
           }
          },
          "scene": {
           "xaxis": {
            "backgroundcolor": "#E5ECF6",
            "gridcolor": "white",
            "gridwidth": 2,
            "linecolor": "white",
            "showbackground": true,
            "ticks": "",
            "zerolinecolor": "white"
           },
           "yaxis": {
            "backgroundcolor": "#E5ECF6",
            "gridcolor": "white",
            "gridwidth": 2,
            "linecolor": "white",
            "showbackground": true,
            "ticks": "",
            "zerolinecolor": "white"
           },
           "zaxis": {
            "backgroundcolor": "#E5ECF6",
            "gridcolor": "white",
            "gridwidth": 2,
            "linecolor": "white",
            "showbackground": true,
            "ticks": "",
            "zerolinecolor": "white"
           }
          },
          "shapedefaults": {
           "line": {
            "color": "#2a3f5f"
           }
          },
          "ternary": {
           "aaxis": {
            "gridcolor": "white",
            "linecolor": "white",
            "ticks": ""
           },
           "baxis": {
            "gridcolor": "white",
            "linecolor": "white",
            "ticks": ""
           },
           "bgcolor": "#E5ECF6",
           "caxis": {
            "gridcolor": "white",
            "linecolor": "white",
            "ticks": ""
           }
          },
          "title": {
           "x": 0.05
          },
          "xaxis": {
           "automargin": true,
           "gridcolor": "white",
           "linecolor": "white",
           "ticks": "",
           "title": {
            "standoff": 15
           },
           "zerolinecolor": "white",
           "zerolinewidth": 2
          },
          "yaxis": {
           "automargin": true,
           "gridcolor": "white",
           "linecolor": "white",
           "ticks": "",
           "title": {
            "standoff": 15
           },
           "zerolinecolor": "white",
           "zerolinewidth": 2
          }
         }
        },
        "xaxis": {
         "anchor": "y",
         "autorange": true,
         "categoryarray": [
          "black-metal",
          "ambient",
          "grindcore"
         ],
         "categoryorder": "array",
         "domain": [
          0,
          1
         ],
         "range": [
          -0.5,
          2.5
         ],
         "title": {
          "text": "Gênero"
         },
         "type": "category"
        },
        "yaxis": {
         "anchor": "x",
         "autorange": true,
         "domain": [
          0,
          1
         ],
         "range": [
          0,
          767.3684210526316
         ],
         "title": {
          "text": "tristes"
         },
         "type": "linear"
        }
       }
      },
      "text/html": [
       "<div>                            <div id=\"9badc5f9-83ce-4a30-9a83-ea03157da1b3\" class=\"plotly-graph-div\" style=\"height:525px; width:100%;\"></div>            <script type=\"text/javascript\">                require([\"plotly\"], function(Plotly) {                    window.PLOTLYENV=window.PLOTLYENV || {};                                    if (document.getElementById(\"9badc5f9-83ce-4a30-9a83-ea03157da1b3\")) {                    Plotly.newPlot(                        \"9badc5f9-83ce-4a30-9a83-ea03157da1b3\",                        [{\"alignmentgroup\":\"True\",\"hovertemplate\":\"G\\u00eanero=%{x}\\u003cbr\\u003etristes=%{text}\\u003cextra\\u003e\\u003c\\u002fextra\\u003e\",\"legendgroup\":\"black-metal\",\"marker\":{\"color\":\"#A020F0\",\"pattern\":{\"shape\":\"\"}},\"name\":\"black-metal\",\"offsetgroup\":\"black-metal\",\"orientation\":\"v\",\"showlegend\":true,\"text\":[729.0],\"textposition\":\"inside\",\"x\":[\"black-metal\"],\"xaxis\":\"x\",\"y\":[729],\"yaxis\":\"y\",\"type\":\"bar\",\"texttemplate\":\"%{text:.2s}\"},{\"alignmentgroup\":\"True\",\"hovertemplate\":\"G\\u00eanero=%{x}\\u003cbr\\u003etristes=%{text}\\u003cextra\\u003e\\u003c\\u002fextra\\u003e\",\"legendgroup\":\"ambient\",\"marker\":{\"color\":\"#8A2BE2\",\"pattern\":{\"shape\":\"\"}},\"name\":\"ambient\",\"offsetgroup\":\"ambient\",\"orientation\":\"v\",\"showlegend\":true,\"text\":[657.0],\"textposition\":\"inside\",\"x\":[\"ambient\"],\"xaxis\":\"x\",\"y\":[657],\"yaxis\":\"y\",\"type\":\"bar\",\"texttemplate\":\"%{text:.2s}\"},{\"alignmentgroup\":\"True\",\"hovertemplate\":\"G\\u00eanero=%{x}\\u003cbr\\u003etristes=%{text}\\u003cextra\\u003e\\u003c\\u002fextra\\u003e\",\"legendgroup\":\"grindcore\",\"marker\":{\"color\":\"#4B0082\",\"pattern\":{\"shape\":\"\"}},\"name\":\"grindcore\",\"offsetgroup\":\"grindcore\",\"orientation\":\"v\",\"showlegend\":true,\"text\":[616.0],\"textposition\":\"inside\",\"x\":[\"grindcore\"],\"xaxis\":\"x\",\"y\":[616],\"yaxis\":\"y\",\"type\":\"bar\",\"texttemplate\":\"%{text:.2s}\"}],                        {\"template\":{\"data\":{\"histogram2dcontour\":[{\"type\":\"histogram2dcontour\",\"colorbar\":{\"outlinewidth\":0,\"ticks\":\"\"},\"colorscale\":[[0.0,\"#0d0887\"],[0.1111111111111111,\"#46039f\"],[0.2222222222222222,\"#7201a8\"],[0.3333333333333333,\"#9c179e\"],[0.4444444444444444,\"#bd3786\"],[0.5555555555555556,\"#d8576b\"],[0.6666666666666666,\"#ed7953\"],[0.7777777777777778,\"#fb9f3a\"],[0.8888888888888888,\"#fdca26\"],[1.0,\"#f0f921\"]]}],\"choropleth\":[{\"type\":\"choropleth\",\"colorbar\":{\"outlinewidth\":0,\"ticks\":\"\"}}],\"histogram2d\":[{\"type\":\"histogram2d\",\"colorbar\":{\"outlinewidth\":0,\"ticks\":\"\"},\"colorscale\":[[0.0,\"#0d0887\"],[0.1111111111111111,\"#46039f\"],[0.2222222222222222,\"#7201a8\"],[0.3333333333333333,\"#9c179e\"],[0.4444444444444444,\"#bd3786\"],[0.5555555555555556,\"#d8576b\"],[0.6666666666666666,\"#ed7953\"],[0.7777777777777778,\"#fb9f3a\"],[0.8888888888888888,\"#fdca26\"],[1.0,\"#f0f921\"]]}],\"heatmap\":[{\"type\":\"heatmap\",\"colorbar\":{\"outlinewidth\":0,\"ticks\":\"\"},\"colorscale\":[[0.0,\"#0d0887\"],[0.1111111111111111,\"#46039f\"],[0.2222222222222222,\"#7201a8\"],[0.3333333333333333,\"#9c179e\"],[0.4444444444444444,\"#bd3786\"],[0.5555555555555556,\"#d8576b\"],[0.6666666666666666,\"#ed7953\"],[0.7777777777777778,\"#fb9f3a\"],[0.8888888888888888,\"#fdca26\"],[1.0,\"#f0f921\"]]}],\"heatmapgl\":[{\"type\":\"heatmapgl\",\"colorbar\":{\"outlinewidth\":0,\"ticks\":\"\"},\"colorscale\":[[0.0,\"#0d0887\"],[0.1111111111111111,\"#46039f\"],[0.2222222222222222,\"#7201a8\"],[0.3333333333333333,\"#9c179e\"],[0.4444444444444444,\"#bd3786\"],[0.5555555555555556,\"#d8576b\"],[0.6666666666666666,\"#ed7953\"],[0.7777777777777778,\"#fb9f3a\"],[0.8888888888888888,\"#fdca26\"],[1.0,\"#f0f921\"]]}],\"contourcarpet\":[{\"type\":\"contourcarpet\",\"colorbar\":{\"outlinewidth\":0,\"ticks\":\"\"}}],\"contour\":[{\"type\":\"contour\",\"colorbar\":{\"outlinewidth\":0,\"ticks\":\"\"},\"colorscale\":[[0.0,\"#0d0887\"],[0.1111111111111111,\"#46039f\"],[0.2222222222222222,\"#7201a8\"],[0.3333333333333333,\"#9c179e\"],[0.4444444444444444,\"#bd3786\"],[0.5555555555555556,\"#d8576b\"],[0.6666666666666666,\"#ed7953\"],[0.7777777777777778,\"#fb9f3a\"],[0.8888888888888888,\"#fdca26\"],[1.0,\"#f0f921\"]]}],\"surface\":[{\"type\":\"surface\",\"colorbar\":{\"outlinewidth\":0,\"ticks\":\"\"},\"colorscale\":[[0.0,\"#0d0887\"],[0.1111111111111111,\"#46039f\"],[0.2222222222222222,\"#7201a8\"],[0.3333333333333333,\"#9c179e\"],[0.4444444444444444,\"#bd3786\"],[0.5555555555555556,\"#d8576b\"],[0.6666666666666666,\"#ed7953\"],[0.7777777777777778,\"#fb9f3a\"],[0.8888888888888888,\"#fdca26\"],[1.0,\"#f0f921\"]]}],\"mesh3d\":[{\"type\":\"mesh3d\",\"colorbar\":{\"outlinewidth\":0,\"ticks\":\"\"}}],\"scatter\":[{\"fillpattern\":{\"fillmode\":\"overlay\",\"size\":10,\"solidity\":0.2},\"type\":\"scatter\"}],\"parcoords\":[{\"type\":\"parcoords\",\"line\":{\"colorbar\":{\"outlinewidth\":0,\"ticks\":\"\"}}}],\"scatterpolargl\":[{\"type\":\"scatterpolargl\",\"marker\":{\"colorbar\":{\"outlinewidth\":0,\"ticks\":\"\"}}}],\"bar\":[{\"error_x\":{\"color\":\"#2a3f5f\"},\"error_y\":{\"color\":\"#2a3f5f\"},\"marker\":{\"line\":{\"color\":\"#E5ECF6\",\"width\":0.5},\"pattern\":{\"fillmode\":\"overlay\",\"size\":10,\"solidity\":0.2}},\"type\":\"bar\"}],\"scattergeo\":[{\"type\":\"scattergeo\",\"marker\":{\"colorbar\":{\"outlinewidth\":0,\"ticks\":\"\"}}}],\"scatterpolar\":[{\"type\":\"scatterpolar\",\"marker\":{\"colorbar\":{\"outlinewidth\":0,\"ticks\":\"\"}}}],\"histogram\":[{\"marker\":{\"pattern\":{\"fillmode\":\"overlay\",\"size\":10,\"solidity\":0.2}},\"type\":\"histogram\"}],\"scattergl\":[{\"type\":\"scattergl\",\"marker\":{\"colorbar\":{\"outlinewidth\":0,\"ticks\":\"\"}}}],\"scatter3d\":[{\"type\":\"scatter3d\",\"line\":{\"colorbar\":{\"outlinewidth\":0,\"ticks\":\"\"}},\"marker\":{\"colorbar\":{\"outlinewidth\":0,\"ticks\":\"\"}}}],\"scattermapbox\":[{\"type\":\"scattermapbox\",\"marker\":{\"colorbar\":{\"outlinewidth\":0,\"ticks\":\"\"}}}],\"scatterternary\":[{\"type\":\"scatterternary\",\"marker\":{\"colorbar\":{\"outlinewidth\":0,\"ticks\":\"\"}}}],\"scattercarpet\":[{\"type\":\"scattercarpet\",\"marker\":{\"colorbar\":{\"outlinewidth\":0,\"ticks\":\"\"}}}],\"carpet\":[{\"aaxis\":{\"endlinecolor\":\"#2a3f5f\",\"gridcolor\":\"white\",\"linecolor\":\"white\",\"minorgridcolor\":\"white\",\"startlinecolor\":\"#2a3f5f\"},\"baxis\":{\"endlinecolor\":\"#2a3f5f\",\"gridcolor\":\"white\",\"linecolor\":\"white\",\"minorgridcolor\":\"white\",\"startlinecolor\":\"#2a3f5f\"},\"type\":\"carpet\"}],\"table\":[{\"cells\":{\"fill\":{\"color\":\"#EBF0F8\"},\"line\":{\"color\":\"white\"}},\"header\":{\"fill\":{\"color\":\"#C8D4E3\"},\"line\":{\"color\":\"white\"}},\"type\":\"table\"}],\"barpolar\":[{\"marker\":{\"line\":{\"color\":\"#E5ECF6\",\"width\":0.5},\"pattern\":{\"fillmode\":\"overlay\",\"size\":10,\"solidity\":0.2}},\"type\":\"barpolar\"}],\"pie\":[{\"automargin\":true,\"type\":\"pie\"}]},\"layout\":{\"autotypenumbers\":\"strict\",\"colorway\":[\"#636efa\",\"#EF553B\",\"#00cc96\",\"#ab63fa\",\"#FFA15A\",\"#19d3f3\",\"#FF6692\",\"#B6E880\",\"#FF97FF\",\"#FECB52\"],\"font\":{\"color\":\"#2a3f5f\"},\"hovermode\":\"closest\",\"hoverlabel\":{\"align\":\"left\"},\"paper_bgcolor\":\"white\",\"plot_bgcolor\":\"#E5ECF6\",\"polar\":{\"bgcolor\":\"#E5ECF6\",\"angularaxis\":{\"gridcolor\":\"white\",\"linecolor\":\"white\",\"ticks\":\"\"},\"radialaxis\":{\"gridcolor\":\"white\",\"linecolor\":\"white\",\"ticks\":\"\"}},\"ternary\":{\"bgcolor\":\"#E5ECF6\",\"aaxis\":{\"gridcolor\":\"white\",\"linecolor\":\"white\",\"ticks\":\"\"},\"baxis\":{\"gridcolor\":\"white\",\"linecolor\":\"white\",\"ticks\":\"\"},\"caxis\":{\"gridcolor\":\"white\",\"linecolor\":\"white\",\"ticks\":\"\"}},\"coloraxis\":{\"colorbar\":{\"outlinewidth\":0,\"ticks\":\"\"}},\"colorscale\":{\"sequential\":[[0.0,\"#0d0887\"],[0.1111111111111111,\"#46039f\"],[0.2222222222222222,\"#7201a8\"],[0.3333333333333333,\"#9c179e\"],[0.4444444444444444,\"#bd3786\"],[0.5555555555555556,\"#d8576b\"],[0.6666666666666666,\"#ed7953\"],[0.7777777777777778,\"#fb9f3a\"],[0.8888888888888888,\"#fdca26\"],[1.0,\"#f0f921\"]],\"sequentialminus\":[[0.0,\"#0d0887\"],[0.1111111111111111,\"#46039f\"],[0.2222222222222222,\"#7201a8\"],[0.3333333333333333,\"#9c179e\"],[0.4444444444444444,\"#bd3786\"],[0.5555555555555556,\"#d8576b\"],[0.6666666666666666,\"#ed7953\"],[0.7777777777777778,\"#fb9f3a\"],[0.8888888888888888,\"#fdca26\"],[1.0,\"#f0f921\"]],\"diverging\":[[0,\"#8e0152\"],[0.1,\"#c51b7d\"],[0.2,\"#de77ae\"],[0.3,\"#f1b6da\"],[0.4,\"#fde0ef\"],[0.5,\"#f7f7f7\"],[0.6,\"#e6f5d0\"],[0.7,\"#b8e186\"],[0.8,\"#7fbc41\"],[0.9,\"#4d9221\"],[1,\"#276419\"]]},\"xaxis\":{\"gridcolor\":\"white\",\"linecolor\":\"white\",\"ticks\":\"\",\"title\":{\"standoff\":15},\"zerolinecolor\":\"white\",\"automargin\":true,\"zerolinewidth\":2},\"yaxis\":{\"gridcolor\":\"white\",\"linecolor\":\"white\",\"ticks\":\"\",\"title\":{\"standoff\":15},\"zerolinecolor\":\"white\",\"automargin\":true,\"zerolinewidth\":2},\"scene\":{\"xaxis\":{\"backgroundcolor\":\"#E5ECF6\",\"gridcolor\":\"white\",\"linecolor\":\"white\",\"showbackground\":true,\"ticks\":\"\",\"zerolinecolor\":\"white\",\"gridwidth\":2},\"yaxis\":{\"backgroundcolor\":\"#E5ECF6\",\"gridcolor\":\"white\",\"linecolor\":\"white\",\"showbackground\":true,\"ticks\":\"\",\"zerolinecolor\":\"white\",\"gridwidth\":2},\"zaxis\":{\"backgroundcolor\":\"#E5ECF6\",\"gridcolor\":\"white\",\"linecolor\":\"white\",\"showbackground\":true,\"ticks\":\"\",\"zerolinecolor\":\"white\",\"gridwidth\":2}},\"shapedefaults\":{\"line\":{\"color\":\"#2a3f5f\"}},\"annotationdefaults\":{\"arrowcolor\":\"#2a3f5f\",\"arrowhead\":0,\"arrowwidth\":1},\"geo\":{\"bgcolor\":\"white\",\"landcolor\":\"#E5ECF6\",\"subunitcolor\":\"white\",\"showland\":true,\"showlakes\":true,\"lakecolor\":\"white\"},\"title\":{\"x\":0.05},\"mapbox\":{\"style\":\"light\"}}},\"xaxis\":{\"anchor\":\"y\",\"domain\":[0.0,1.0],\"title\":{\"text\":\"G\\u00eanero\"},\"categoryorder\":\"array\",\"categoryarray\":[\"black-metal\",\"ambient\",\"grindcore\"]},\"yaxis\":{\"anchor\":\"x\",\"domain\":[0.0,1.0],\"title\":{\"text\":\"tristes\"}},\"legend\":{\"title\":{\"text\":\"G\\u00eanero\"},\"tracegroupgap\":0},\"margin\":{\"t\":60},\"barmode\":\"relative\"},                        {\"responsive\": true}                    ).then(function(){\n",
       "                            \n",
       "var gd = document.getElementById('9badc5f9-83ce-4a30-9a83-ea03157da1b3');\n",
       "var x = new MutationObserver(function (mutations, observer) {{\n",
       "        var display = window.getComputedStyle(gd).display;\n",
       "        if (!display || display === 'none') {{\n",
       "            console.log([gd, 'removed!']);\n",
       "            Plotly.purge(gd);\n",
       "            observer.disconnect();\n",
       "        }}\n",
       "}});\n",
       "\n",
       "// Listen for the removal of the full notebook cells\n",
       "var notebookContainer = gd.closest('#notebook-container');\n",
       "if (notebookContainer) {{\n",
       "    x.observe(notebookContainer, {childList: true});\n",
       "}}\n",
       "\n",
       "// Listen for the clearing of the current output cell\n",
       "var outputEl = gd.closest('.output');\n",
       "if (outputEl) {{\n",
       "    x.observe(outputEl, {childList: true});\n",
       "}}\n",
       "\n",
       "                        })                };                });            </script>        </div>"
      ]
     },
     "metadata": {},
     "output_type": "display_data"
    }
   ],
   "source": [
    "#Relação de valencia \n",
    "def contar_tristes_e_felizes(df1):\n",
    "    # Filtro para músicas tristes (variance entre 0 e 0.5)\n",
    "    df_tristes = df1[(df1['valence'] >= 0) & (df1['valence'] <= 0.5)]\n",
    "    # Filtro para músicas felizes (variance entre 0.6 e 1)\n",
    "    df_felizes = df1[(df1['valence'] > 0.5) & (df1['valence'] <= 1)]\n",
    "    \n",
    "    # Contabilizando o número de músicas tristes e felizes por gênero\n",
    "    tristes_por_genero = df_tristes.groupby('track_genre').size().reset_index(name='tristes')\n",
    "    felizes_por_genero = df_felizes.groupby('track_genre').size().reset_index(name='felizes')\n",
    "    \n",
    "    # Mescla os dois DataFrames para obter os dois contadores juntos por gênero\n",
    "    result = pd.merge(tristes_por_genero, felizes_por_genero, on='track_genre', how='outer').fillna(0)\n",
    "    result_sorted_tristes = result.sort_values(by='tristes', ascending=False).reset_index(drop=True)\n",
    "    result_sorted_felizes = result_sorted_tristes.sort_values(by='felizes', ascending=False).reset_index(drop=True)\n",
    "    \n",
    "    return  result_sorted_felizes\n",
    "    #return  result_sorted_tristes\n",
    "# Chamada da função\n",
    "result = contar_tristes_e_felizes(df1)\n",
    "\n",
    "# Exibe o resultado\n",
    "#Mais felizes\n",
    "genero_feliz = ['forro', 'salsa', 'afrobeat']\n",
    "valores_em_ordem = result.sort_values(by='felizes',ascending=False)\n",
    "mais_felizes = valores_em_ordem[valores_em_ordem['track_genre'].isin(genero_feliz)]\n",
    "fig1 = px.bar(\n",
    "    mais_felizes,\n",
    "    x='track_genre',\n",
    "    y='felizes',\n",
    "    color='track_genre',\n",
    "    labels = {'track_genre':'Gênero'},\n",
    "    text='felizes',\n",
    "    color_discrete_sequence=['#A020F0', '#8A2BE2', '#4B0082', '#EE82EE', '#9932CC']\n",
    ")\n",
    "\n",
    "fig1.update_traces(texttemplate='%{text:.2s}', textposition='inside')  # Configurações de exibição\n",
    "fig1.show()\n",
    "\n",
    "genero_triste = ['black-metal', 'ambient', 'grindcore']\n",
    "valores_em_ordem_T = result.sort_values(by='tristes',ascending=False)\n",
    "mais_tristes = valores_em_ordem_T[valores_em_ordem_T['track_genre'].isin(genero_triste)]\n",
    "fig2 = px.bar(\n",
    "    mais_tristes,\n",
    "    x='track_genre',\n",
    "    y='tristes',\n",
    "    color ='track_genre',\n",
    "    labels = {'track_genre':'Gênero'},\n",
    "    text='tristes',\n",
    "    color_discrete_sequence=['#A020F0', '#8A2BE2', '#4B0082', '#EE82EE', '#9932CC']\n",
    ")\n",
    "\n",
    "fig2.update_traces(texttemplate='%{text:.2s}', textposition='inside')  # Configurações de exibição\n",
    "fig2.show()"
   ]
  },
  {
   "cell_type": "markdown",
   "metadata": {},
   "source": [
    "#### Tristeza e felicidade por gênero: Analisando os gêneros musicais, percebemos que as músicas mais tristes pertencem ao black-metal, ambient e grindcore. Por outro lado, os gêneros mais alegres são forró, salsa e afrobeat. Isso reflete uma tendência: músicas melancólicas, como as ambientais ou com letras pesadas, realmente transmitem maior tristeza, enquanto gêneros como forró e salsa são naturalmente mais dançantes e felizes."
   ]
  },
  {
   "cell_type": "code",
   "execution_count": 251,
   "metadata": {
    "colab": {
     "base_uri": "https://localhost:8080/",
     "height": 542
    },
    "id": "gY4e9lQvo82p",
    "outputId": "c0684fb2-071f-4d72-a7f1-9812d058f83f"
   },
   "outputs": [
    {
     "name": "stdout",
     "output_type": "stream",
     "text": [
      "       track_genre    duration_ms\n",
      "68  minimal-techno  349906.084320\n",
      "23  detroit-techno  331466.994602\n",
      "12   chicago-house  330231.582017\n"
     ]
    },
    {
     "data": {
      "application/vnd.plotly.v1+json": {
       "config": {
        "plotlyServerURL": "https://plot.ly"
       },
       "data": [
        {
         "alignmentgroup": "True",
         "hovertemplate": "Gênero=%{x}<br>Duração Média (ms)=%{y}<extra></extra>",
         "legendgroup": "minimal-techno",
         "marker": {
          "color": "#800080",
          "pattern": {
           "shape": ""
          }
         },
         "name": "minimal-techno",
         "offsetgroup": "minimal-techno",
         "orientation": "v",
         "showlegend": true,
         "textposition": "auto",
         "type": "bar",
         "x": [
          "minimal-techno"
         ],
         "xaxis": "x",
         "y": [
          349906.0843195266
         ],
         "yaxis": "y"
        },
        {
         "alignmentgroup": "True",
         "hovertemplate": "Gênero=%{x}<br>Duração Média (ms)=%{y}<extra></extra>",
         "legendgroup": "detroit-techno",
         "marker": {
          "color": "#8A2BE2",
          "pattern": {
           "shape": ""
          }
         },
         "name": "detroit-techno",
         "offsetgroup": "detroit-techno",
         "orientation": "v",
         "showlegend": true,
         "textposition": "auto",
         "type": "bar",
         "x": [
          "detroit-techno"
         ],
         "xaxis": "x",
         "y": [
          331466.99460188934
         ],
         "yaxis": "y"
        },
        {
         "alignmentgroup": "True",
         "hovertemplate": "Gênero=%{x}<br>Duração Média (ms)=%{y}<extra></extra>",
         "legendgroup": "chicago-house",
         "marker": {
          "color": "#9370DB",
          "pattern": {
           "shape": ""
          }
         },
         "name": "chicago-house",
         "offsetgroup": "chicago-house",
         "orientation": "v",
         "showlegend": true,
         "textposition": "auto",
         "type": "bar",
         "x": [
          "chicago-house"
         ],
         "xaxis": "x",
         "y": [
          330231.58201701095
         ],
         "yaxis": "y"
        }
       ],
       "layout": {
        "autosize": true,
        "barmode": "relative",
        "legend": {
         "title": {
          "text": "Gênero"
         },
         "tracegroupgap": 0
        },
        "template": {
         "data": {
          "bar": [
           {
            "error_x": {
             "color": "#2a3f5f"
            },
            "error_y": {
             "color": "#2a3f5f"
            },
            "marker": {
             "line": {
              "color": "#E5ECF6",
              "width": 0.5
             },
             "pattern": {
              "fillmode": "overlay",
              "size": 10,
              "solidity": 0.2
             }
            },
            "type": "bar"
           }
          ],
          "barpolar": [
           {
            "marker": {
             "line": {
              "color": "#E5ECF6",
              "width": 0.5
             },
             "pattern": {
              "fillmode": "overlay",
              "size": 10,
              "solidity": 0.2
             }
            },
            "type": "barpolar"
           }
          ],
          "carpet": [
           {
            "aaxis": {
             "endlinecolor": "#2a3f5f",
             "gridcolor": "white",
             "linecolor": "white",
             "minorgridcolor": "white",
             "startlinecolor": "#2a3f5f"
            },
            "baxis": {
             "endlinecolor": "#2a3f5f",
             "gridcolor": "white",
             "linecolor": "white",
             "minorgridcolor": "white",
             "startlinecolor": "#2a3f5f"
            },
            "type": "carpet"
           }
          ],
          "choropleth": [
           {
            "colorbar": {
             "outlinewidth": 0,
             "ticks": ""
            },
            "type": "choropleth"
           }
          ],
          "contour": [
           {
            "colorbar": {
             "outlinewidth": 0,
             "ticks": ""
            },
            "colorscale": [
             [
              0,
              "#0d0887"
             ],
             [
              0.1111111111111111,
              "#46039f"
             ],
             [
              0.2222222222222222,
              "#7201a8"
             ],
             [
              0.3333333333333333,
              "#9c179e"
             ],
             [
              0.4444444444444444,
              "#bd3786"
             ],
             [
              0.5555555555555556,
              "#d8576b"
             ],
             [
              0.6666666666666666,
              "#ed7953"
             ],
             [
              0.7777777777777778,
              "#fb9f3a"
             ],
             [
              0.8888888888888888,
              "#fdca26"
             ],
             [
              1,
              "#f0f921"
             ]
            ],
            "type": "contour"
           }
          ],
          "contourcarpet": [
           {
            "colorbar": {
             "outlinewidth": 0,
             "ticks": ""
            },
            "type": "contourcarpet"
           }
          ],
          "heatmap": [
           {
            "colorbar": {
             "outlinewidth": 0,
             "ticks": ""
            },
            "colorscale": [
             [
              0,
              "#0d0887"
             ],
             [
              0.1111111111111111,
              "#46039f"
             ],
             [
              0.2222222222222222,
              "#7201a8"
             ],
             [
              0.3333333333333333,
              "#9c179e"
             ],
             [
              0.4444444444444444,
              "#bd3786"
             ],
             [
              0.5555555555555556,
              "#d8576b"
             ],
             [
              0.6666666666666666,
              "#ed7953"
             ],
             [
              0.7777777777777778,
              "#fb9f3a"
             ],
             [
              0.8888888888888888,
              "#fdca26"
             ],
             [
              1,
              "#f0f921"
             ]
            ],
            "type": "heatmap"
           }
          ],
          "heatmapgl": [
           {
            "colorbar": {
             "outlinewidth": 0,
             "ticks": ""
            },
            "colorscale": [
             [
              0,
              "#0d0887"
             ],
             [
              0.1111111111111111,
              "#46039f"
             ],
             [
              0.2222222222222222,
              "#7201a8"
             ],
             [
              0.3333333333333333,
              "#9c179e"
             ],
             [
              0.4444444444444444,
              "#bd3786"
             ],
             [
              0.5555555555555556,
              "#d8576b"
             ],
             [
              0.6666666666666666,
              "#ed7953"
             ],
             [
              0.7777777777777778,
              "#fb9f3a"
             ],
             [
              0.8888888888888888,
              "#fdca26"
             ],
             [
              1,
              "#f0f921"
             ]
            ],
            "type": "heatmapgl"
           }
          ],
          "histogram": [
           {
            "marker": {
             "pattern": {
              "fillmode": "overlay",
              "size": 10,
              "solidity": 0.2
             }
            },
            "type": "histogram"
           }
          ],
          "histogram2d": [
           {
            "colorbar": {
             "outlinewidth": 0,
             "ticks": ""
            },
            "colorscale": [
             [
              0,
              "#0d0887"
             ],
             [
              0.1111111111111111,
              "#46039f"
             ],
             [
              0.2222222222222222,
              "#7201a8"
             ],
             [
              0.3333333333333333,
              "#9c179e"
             ],
             [
              0.4444444444444444,
              "#bd3786"
             ],
             [
              0.5555555555555556,
              "#d8576b"
             ],
             [
              0.6666666666666666,
              "#ed7953"
             ],
             [
              0.7777777777777778,
              "#fb9f3a"
             ],
             [
              0.8888888888888888,
              "#fdca26"
             ],
             [
              1,
              "#f0f921"
             ]
            ],
            "type": "histogram2d"
           }
          ],
          "histogram2dcontour": [
           {
            "colorbar": {
             "outlinewidth": 0,
             "ticks": ""
            },
            "colorscale": [
             [
              0,
              "#0d0887"
             ],
             [
              0.1111111111111111,
              "#46039f"
             ],
             [
              0.2222222222222222,
              "#7201a8"
             ],
             [
              0.3333333333333333,
              "#9c179e"
             ],
             [
              0.4444444444444444,
              "#bd3786"
             ],
             [
              0.5555555555555556,
              "#d8576b"
             ],
             [
              0.6666666666666666,
              "#ed7953"
             ],
             [
              0.7777777777777778,
              "#fb9f3a"
             ],
             [
              0.8888888888888888,
              "#fdca26"
             ],
             [
              1,
              "#f0f921"
             ]
            ],
            "type": "histogram2dcontour"
           }
          ],
          "mesh3d": [
           {
            "colorbar": {
             "outlinewidth": 0,
             "ticks": ""
            },
            "type": "mesh3d"
           }
          ],
          "parcoords": [
           {
            "line": {
             "colorbar": {
              "outlinewidth": 0,
              "ticks": ""
             }
            },
            "type": "parcoords"
           }
          ],
          "pie": [
           {
            "automargin": true,
            "type": "pie"
           }
          ],
          "scatter": [
           {
            "fillpattern": {
             "fillmode": "overlay",
             "size": 10,
             "solidity": 0.2
            },
            "type": "scatter"
           }
          ],
          "scatter3d": [
           {
            "line": {
             "colorbar": {
              "outlinewidth": 0,
              "ticks": ""
             }
            },
            "marker": {
             "colorbar": {
              "outlinewidth": 0,
              "ticks": ""
             }
            },
            "type": "scatter3d"
           }
          ],
          "scattercarpet": [
           {
            "marker": {
             "colorbar": {
              "outlinewidth": 0,
              "ticks": ""
             }
            },
            "type": "scattercarpet"
           }
          ],
          "scattergeo": [
           {
            "marker": {
             "colorbar": {
              "outlinewidth": 0,
              "ticks": ""
             }
            },
            "type": "scattergeo"
           }
          ],
          "scattergl": [
           {
            "marker": {
             "colorbar": {
              "outlinewidth": 0,
              "ticks": ""
             }
            },
            "type": "scattergl"
           }
          ],
          "scattermapbox": [
           {
            "marker": {
             "colorbar": {
              "outlinewidth": 0,
              "ticks": ""
             }
            },
            "type": "scattermapbox"
           }
          ],
          "scatterpolar": [
           {
            "marker": {
             "colorbar": {
              "outlinewidth": 0,
              "ticks": ""
             }
            },
            "type": "scatterpolar"
           }
          ],
          "scatterpolargl": [
           {
            "marker": {
             "colorbar": {
              "outlinewidth": 0,
              "ticks": ""
             }
            },
            "type": "scatterpolargl"
           }
          ],
          "scatterternary": [
           {
            "marker": {
             "colorbar": {
              "outlinewidth": 0,
              "ticks": ""
             }
            },
            "type": "scatterternary"
           }
          ],
          "surface": [
           {
            "colorbar": {
             "outlinewidth": 0,
             "ticks": ""
            },
            "colorscale": [
             [
              0,
              "#0d0887"
             ],
             [
              0.1111111111111111,
              "#46039f"
             ],
             [
              0.2222222222222222,
              "#7201a8"
             ],
             [
              0.3333333333333333,
              "#9c179e"
             ],
             [
              0.4444444444444444,
              "#bd3786"
             ],
             [
              0.5555555555555556,
              "#d8576b"
             ],
             [
              0.6666666666666666,
              "#ed7953"
             ],
             [
              0.7777777777777778,
              "#fb9f3a"
             ],
             [
              0.8888888888888888,
              "#fdca26"
             ],
             [
              1,
              "#f0f921"
             ]
            ],
            "type": "surface"
           }
          ],
          "table": [
           {
            "cells": {
             "fill": {
              "color": "#EBF0F8"
             },
             "line": {
              "color": "white"
             }
            },
            "header": {
             "fill": {
              "color": "#C8D4E3"
             },
             "line": {
              "color": "white"
             }
            },
            "type": "table"
           }
          ]
         },
         "layout": {
          "annotationdefaults": {
           "arrowcolor": "#2a3f5f",
           "arrowhead": 0,
           "arrowwidth": 1
          },
          "autotypenumbers": "strict",
          "coloraxis": {
           "colorbar": {
            "outlinewidth": 0,
            "ticks": ""
           }
          },
          "colorscale": {
           "diverging": [
            [
             0,
             "#8e0152"
            ],
            [
             0.1,
             "#c51b7d"
            ],
            [
             0.2,
             "#de77ae"
            ],
            [
             0.3,
             "#f1b6da"
            ],
            [
             0.4,
             "#fde0ef"
            ],
            [
             0.5,
             "#f7f7f7"
            ],
            [
             0.6,
             "#e6f5d0"
            ],
            [
             0.7,
             "#b8e186"
            ],
            [
             0.8,
             "#7fbc41"
            ],
            [
             0.9,
             "#4d9221"
            ],
            [
             1,
             "#276419"
            ]
           ],
           "sequential": [
            [
             0,
             "#0d0887"
            ],
            [
             0.1111111111111111,
             "#46039f"
            ],
            [
             0.2222222222222222,
             "#7201a8"
            ],
            [
             0.3333333333333333,
             "#9c179e"
            ],
            [
             0.4444444444444444,
             "#bd3786"
            ],
            [
             0.5555555555555556,
             "#d8576b"
            ],
            [
             0.6666666666666666,
             "#ed7953"
            ],
            [
             0.7777777777777778,
             "#fb9f3a"
            ],
            [
             0.8888888888888888,
             "#fdca26"
            ],
            [
             1,
             "#f0f921"
            ]
           ],
           "sequentialminus": [
            [
             0,
             "#0d0887"
            ],
            [
             0.1111111111111111,
             "#46039f"
            ],
            [
             0.2222222222222222,
             "#7201a8"
            ],
            [
             0.3333333333333333,
             "#9c179e"
            ],
            [
             0.4444444444444444,
             "#bd3786"
            ],
            [
             0.5555555555555556,
             "#d8576b"
            ],
            [
             0.6666666666666666,
             "#ed7953"
            ],
            [
             0.7777777777777778,
             "#fb9f3a"
            ],
            [
             0.8888888888888888,
             "#fdca26"
            ],
            [
             1,
             "#f0f921"
            ]
           ]
          },
          "colorway": [
           "#636efa",
           "#EF553B",
           "#00cc96",
           "#ab63fa",
           "#FFA15A",
           "#19d3f3",
           "#FF6692",
           "#B6E880",
           "#FF97FF",
           "#FECB52"
          ],
          "font": {
           "color": "#2a3f5f"
          },
          "geo": {
           "bgcolor": "white",
           "lakecolor": "white",
           "landcolor": "#E5ECF6",
           "showlakes": true,
           "showland": true,
           "subunitcolor": "white"
          },
          "hoverlabel": {
           "align": "left"
          },
          "hovermode": "closest",
          "mapbox": {
           "style": "light"
          },
          "paper_bgcolor": "white",
          "plot_bgcolor": "#E5ECF6",
          "polar": {
           "angularaxis": {
            "gridcolor": "white",
            "linecolor": "white",
            "ticks": ""
           },
           "bgcolor": "#E5ECF6",
           "radialaxis": {
            "gridcolor": "white",
            "linecolor": "white",
            "ticks": ""
           }
          },
          "scene": {
           "xaxis": {
            "backgroundcolor": "#E5ECF6",
            "gridcolor": "white",
            "gridwidth": 2,
            "linecolor": "white",
            "showbackground": true,
            "ticks": "",
            "zerolinecolor": "white"
           },
           "yaxis": {
            "backgroundcolor": "#E5ECF6",
            "gridcolor": "white",
            "gridwidth": 2,
            "linecolor": "white",
            "showbackground": true,
            "ticks": "",
            "zerolinecolor": "white"
           },
           "zaxis": {
            "backgroundcolor": "#E5ECF6",
            "gridcolor": "white",
            "gridwidth": 2,
            "linecolor": "white",
            "showbackground": true,
            "ticks": "",
            "zerolinecolor": "white"
           }
          },
          "shapedefaults": {
           "line": {
            "color": "#2a3f5f"
           }
          },
          "ternary": {
           "aaxis": {
            "gridcolor": "white",
            "linecolor": "white",
            "ticks": ""
           },
           "baxis": {
            "gridcolor": "white",
            "linecolor": "white",
            "ticks": ""
           },
           "bgcolor": "#E5ECF6",
           "caxis": {
            "gridcolor": "white",
            "linecolor": "white",
            "ticks": ""
           }
          },
          "title": {
           "x": 0.05
          },
          "xaxis": {
           "automargin": true,
           "gridcolor": "white",
           "linecolor": "white",
           "ticks": "",
           "title": {
            "standoff": 15
           },
           "zerolinecolor": "white",
           "zerolinewidth": 2
          },
          "yaxis": {
           "automargin": true,
           "gridcolor": "white",
           "linecolor": "white",
           "ticks": "",
           "title": {
            "standoff": 15
           },
           "zerolinecolor": "white",
           "zerolinewidth": 2
          }
         }
        },
        "title": {
         "text": "Top 3 Gêneros com as Músicas de Maior Duração Média"
        },
        "xaxis": {
         "anchor": "y",
         "autorange": true,
         "categoryarray": [
          "minimal-techno",
          "detroit-techno",
          "chicago-house"
         ],
         "categoryorder": "array",
         "domain": [
          0,
          1
         ],
         "range": [
          -0.5,
          2.5
         ],
         "title": {
          "text": "Gênero"
         },
         "type": "category"
        },
        "yaxis": {
         "anchor": "x",
         "autorange": true,
         "domain": [
          0,
          1
         ],
         "range": [
          0,
          368322.19402055437
         ],
         "title": {
          "text": "Duração Média (ms)"
         },
         "type": "linear"
        }
       }
      },
      "text/html": [
       "<div>                            <div id=\"5c7fbe49-61e7-4d46-820f-8017c4d3549f\" class=\"plotly-graph-div\" style=\"height:525px; width:100%;\"></div>            <script type=\"text/javascript\">                require([\"plotly\"], function(Plotly) {                    window.PLOTLYENV=window.PLOTLYENV || {};                                    if (document.getElementById(\"5c7fbe49-61e7-4d46-820f-8017c4d3549f\")) {                    Plotly.newPlot(                        \"5c7fbe49-61e7-4d46-820f-8017c4d3549f\",                        [{\"alignmentgroup\":\"True\",\"hovertemplate\":\"G\\u00eanero=%{x}\\u003cbr\\u003eDura\\u00e7\\u00e3o M\\u00e9dia (ms)=%{y}\\u003cextra\\u003e\\u003c\\u002fextra\\u003e\",\"legendgroup\":\"minimal-techno\",\"marker\":{\"color\":\"#800080\",\"pattern\":{\"shape\":\"\"}},\"name\":\"minimal-techno\",\"offsetgroup\":\"minimal-techno\",\"orientation\":\"v\",\"showlegend\":true,\"textposition\":\"auto\",\"x\":[\"minimal-techno\"],\"xaxis\":\"x\",\"y\":[349906.0843195266],\"yaxis\":\"y\",\"type\":\"bar\"},{\"alignmentgroup\":\"True\",\"hovertemplate\":\"G\\u00eanero=%{x}\\u003cbr\\u003eDura\\u00e7\\u00e3o M\\u00e9dia (ms)=%{y}\\u003cextra\\u003e\\u003c\\u002fextra\\u003e\",\"legendgroup\":\"detroit-techno\",\"marker\":{\"color\":\"#8A2BE2\",\"pattern\":{\"shape\":\"\"}},\"name\":\"detroit-techno\",\"offsetgroup\":\"detroit-techno\",\"orientation\":\"v\",\"showlegend\":true,\"textposition\":\"auto\",\"x\":[\"detroit-techno\"],\"xaxis\":\"x\",\"y\":[331466.99460188934],\"yaxis\":\"y\",\"type\":\"bar\"},{\"alignmentgroup\":\"True\",\"hovertemplate\":\"G\\u00eanero=%{x}\\u003cbr\\u003eDura\\u00e7\\u00e3o M\\u00e9dia (ms)=%{y}\\u003cextra\\u003e\\u003c\\u002fextra\\u003e\",\"legendgroup\":\"chicago-house\",\"marker\":{\"color\":\"#9370DB\",\"pattern\":{\"shape\":\"\"}},\"name\":\"chicago-house\",\"offsetgroup\":\"chicago-house\",\"orientation\":\"v\",\"showlegend\":true,\"textposition\":\"auto\",\"x\":[\"chicago-house\"],\"xaxis\":\"x\",\"y\":[330231.58201701095],\"yaxis\":\"y\",\"type\":\"bar\"}],                        {\"template\":{\"data\":{\"histogram2dcontour\":[{\"type\":\"histogram2dcontour\",\"colorbar\":{\"outlinewidth\":0,\"ticks\":\"\"},\"colorscale\":[[0.0,\"#0d0887\"],[0.1111111111111111,\"#46039f\"],[0.2222222222222222,\"#7201a8\"],[0.3333333333333333,\"#9c179e\"],[0.4444444444444444,\"#bd3786\"],[0.5555555555555556,\"#d8576b\"],[0.6666666666666666,\"#ed7953\"],[0.7777777777777778,\"#fb9f3a\"],[0.8888888888888888,\"#fdca26\"],[1.0,\"#f0f921\"]]}],\"choropleth\":[{\"type\":\"choropleth\",\"colorbar\":{\"outlinewidth\":0,\"ticks\":\"\"}}],\"histogram2d\":[{\"type\":\"histogram2d\",\"colorbar\":{\"outlinewidth\":0,\"ticks\":\"\"},\"colorscale\":[[0.0,\"#0d0887\"],[0.1111111111111111,\"#46039f\"],[0.2222222222222222,\"#7201a8\"],[0.3333333333333333,\"#9c179e\"],[0.4444444444444444,\"#bd3786\"],[0.5555555555555556,\"#d8576b\"],[0.6666666666666666,\"#ed7953\"],[0.7777777777777778,\"#fb9f3a\"],[0.8888888888888888,\"#fdca26\"],[1.0,\"#f0f921\"]]}],\"heatmap\":[{\"type\":\"heatmap\",\"colorbar\":{\"outlinewidth\":0,\"ticks\":\"\"},\"colorscale\":[[0.0,\"#0d0887\"],[0.1111111111111111,\"#46039f\"],[0.2222222222222222,\"#7201a8\"],[0.3333333333333333,\"#9c179e\"],[0.4444444444444444,\"#bd3786\"],[0.5555555555555556,\"#d8576b\"],[0.6666666666666666,\"#ed7953\"],[0.7777777777777778,\"#fb9f3a\"],[0.8888888888888888,\"#fdca26\"],[1.0,\"#f0f921\"]]}],\"heatmapgl\":[{\"type\":\"heatmapgl\",\"colorbar\":{\"outlinewidth\":0,\"ticks\":\"\"},\"colorscale\":[[0.0,\"#0d0887\"],[0.1111111111111111,\"#46039f\"],[0.2222222222222222,\"#7201a8\"],[0.3333333333333333,\"#9c179e\"],[0.4444444444444444,\"#bd3786\"],[0.5555555555555556,\"#d8576b\"],[0.6666666666666666,\"#ed7953\"],[0.7777777777777778,\"#fb9f3a\"],[0.8888888888888888,\"#fdca26\"],[1.0,\"#f0f921\"]]}],\"contourcarpet\":[{\"type\":\"contourcarpet\",\"colorbar\":{\"outlinewidth\":0,\"ticks\":\"\"}}],\"contour\":[{\"type\":\"contour\",\"colorbar\":{\"outlinewidth\":0,\"ticks\":\"\"},\"colorscale\":[[0.0,\"#0d0887\"],[0.1111111111111111,\"#46039f\"],[0.2222222222222222,\"#7201a8\"],[0.3333333333333333,\"#9c179e\"],[0.4444444444444444,\"#bd3786\"],[0.5555555555555556,\"#d8576b\"],[0.6666666666666666,\"#ed7953\"],[0.7777777777777778,\"#fb9f3a\"],[0.8888888888888888,\"#fdca26\"],[1.0,\"#f0f921\"]]}],\"surface\":[{\"type\":\"surface\",\"colorbar\":{\"outlinewidth\":0,\"ticks\":\"\"},\"colorscale\":[[0.0,\"#0d0887\"],[0.1111111111111111,\"#46039f\"],[0.2222222222222222,\"#7201a8\"],[0.3333333333333333,\"#9c179e\"],[0.4444444444444444,\"#bd3786\"],[0.5555555555555556,\"#d8576b\"],[0.6666666666666666,\"#ed7953\"],[0.7777777777777778,\"#fb9f3a\"],[0.8888888888888888,\"#fdca26\"],[1.0,\"#f0f921\"]]}],\"mesh3d\":[{\"type\":\"mesh3d\",\"colorbar\":{\"outlinewidth\":0,\"ticks\":\"\"}}],\"scatter\":[{\"fillpattern\":{\"fillmode\":\"overlay\",\"size\":10,\"solidity\":0.2},\"type\":\"scatter\"}],\"parcoords\":[{\"type\":\"parcoords\",\"line\":{\"colorbar\":{\"outlinewidth\":0,\"ticks\":\"\"}}}],\"scatterpolargl\":[{\"type\":\"scatterpolargl\",\"marker\":{\"colorbar\":{\"outlinewidth\":0,\"ticks\":\"\"}}}],\"bar\":[{\"error_x\":{\"color\":\"#2a3f5f\"},\"error_y\":{\"color\":\"#2a3f5f\"},\"marker\":{\"line\":{\"color\":\"#E5ECF6\",\"width\":0.5},\"pattern\":{\"fillmode\":\"overlay\",\"size\":10,\"solidity\":0.2}},\"type\":\"bar\"}],\"scattergeo\":[{\"type\":\"scattergeo\",\"marker\":{\"colorbar\":{\"outlinewidth\":0,\"ticks\":\"\"}}}],\"scatterpolar\":[{\"type\":\"scatterpolar\",\"marker\":{\"colorbar\":{\"outlinewidth\":0,\"ticks\":\"\"}}}],\"histogram\":[{\"marker\":{\"pattern\":{\"fillmode\":\"overlay\",\"size\":10,\"solidity\":0.2}},\"type\":\"histogram\"}],\"scattergl\":[{\"type\":\"scattergl\",\"marker\":{\"colorbar\":{\"outlinewidth\":0,\"ticks\":\"\"}}}],\"scatter3d\":[{\"type\":\"scatter3d\",\"line\":{\"colorbar\":{\"outlinewidth\":0,\"ticks\":\"\"}},\"marker\":{\"colorbar\":{\"outlinewidth\":0,\"ticks\":\"\"}}}],\"scattermapbox\":[{\"type\":\"scattermapbox\",\"marker\":{\"colorbar\":{\"outlinewidth\":0,\"ticks\":\"\"}}}],\"scatterternary\":[{\"type\":\"scatterternary\",\"marker\":{\"colorbar\":{\"outlinewidth\":0,\"ticks\":\"\"}}}],\"scattercarpet\":[{\"type\":\"scattercarpet\",\"marker\":{\"colorbar\":{\"outlinewidth\":0,\"ticks\":\"\"}}}],\"carpet\":[{\"aaxis\":{\"endlinecolor\":\"#2a3f5f\",\"gridcolor\":\"white\",\"linecolor\":\"white\",\"minorgridcolor\":\"white\",\"startlinecolor\":\"#2a3f5f\"},\"baxis\":{\"endlinecolor\":\"#2a3f5f\",\"gridcolor\":\"white\",\"linecolor\":\"white\",\"minorgridcolor\":\"white\",\"startlinecolor\":\"#2a3f5f\"},\"type\":\"carpet\"}],\"table\":[{\"cells\":{\"fill\":{\"color\":\"#EBF0F8\"},\"line\":{\"color\":\"white\"}},\"header\":{\"fill\":{\"color\":\"#C8D4E3\"},\"line\":{\"color\":\"white\"}},\"type\":\"table\"}],\"barpolar\":[{\"marker\":{\"line\":{\"color\":\"#E5ECF6\",\"width\":0.5},\"pattern\":{\"fillmode\":\"overlay\",\"size\":10,\"solidity\":0.2}},\"type\":\"barpolar\"}],\"pie\":[{\"automargin\":true,\"type\":\"pie\"}]},\"layout\":{\"autotypenumbers\":\"strict\",\"colorway\":[\"#636efa\",\"#EF553B\",\"#00cc96\",\"#ab63fa\",\"#FFA15A\",\"#19d3f3\",\"#FF6692\",\"#B6E880\",\"#FF97FF\",\"#FECB52\"],\"font\":{\"color\":\"#2a3f5f\"},\"hovermode\":\"closest\",\"hoverlabel\":{\"align\":\"left\"},\"paper_bgcolor\":\"white\",\"plot_bgcolor\":\"#E5ECF6\",\"polar\":{\"bgcolor\":\"#E5ECF6\",\"angularaxis\":{\"gridcolor\":\"white\",\"linecolor\":\"white\",\"ticks\":\"\"},\"radialaxis\":{\"gridcolor\":\"white\",\"linecolor\":\"white\",\"ticks\":\"\"}},\"ternary\":{\"bgcolor\":\"#E5ECF6\",\"aaxis\":{\"gridcolor\":\"white\",\"linecolor\":\"white\",\"ticks\":\"\"},\"baxis\":{\"gridcolor\":\"white\",\"linecolor\":\"white\",\"ticks\":\"\"},\"caxis\":{\"gridcolor\":\"white\",\"linecolor\":\"white\",\"ticks\":\"\"}},\"coloraxis\":{\"colorbar\":{\"outlinewidth\":0,\"ticks\":\"\"}},\"colorscale\":{\"sequential\":[[0.0,\"#0d0887\"],[0.1111111111111111,\"#46039f\"],[0.2222222222222222,\"#7201a8\"],[0.3333333333333333,\"#9c179e\"],[0.4444444444444444,\"#bd3786\"],[0.5555555555555556,\"#d8576b\"],[0.6666666666666666,\"#ed7953\"],[0.7777777777777778,\"#fb9f3a\"],[0.8888888888888888,\"#fdca26\"],[1.0,\"#f0f921\"]],\"sequentialminus\":[[0.0,\"#0d0887\"],[0.1111111111111111,\"#46039f\"],[0.2222222222222222,\"#7201a8\"],[0.3333333333333333,\"#9c179e\"],[0.4444444444444444,\"#bd3786\"],[0.5555555555555556,\"#d8576b\"],[0.6666666666666666,\"#ed7953\"],[0.7777777777777778,\"#fb9f3a\"],[0.8888888888888888,\"#fdca26\"],[1.0,\"#f0f921\"]],\"diverging\":[[0,\"#8e0152\"],[0.1,\"#c51b7d\"],[0.2,\"#de77ae\"],[0.3,\"#f1b6da\"],[0.4,\"#fde0ef\"],[0.5,\"#f7f7f7\"],[0.6,\"#e6f5d0\"],[0.7,\"#b8e186\"],[0.8,\"#7fbc41\"],[0.9,\"#4d9221\"],[1,\"#276419\"]]},\"xaxis\":{\"gridcolor\":\"white\",\"linecolor\":\"white\",\"ticks\":\"\",\"title\":{\"standoff\":15},\"zerolinecolor\":\"white\",\"automargin\":true,\"zerolinewidth\":2},\"yaxis\":{\"gridcolor\":\"white\",\"linecolor\":\"white\",\"ticks\":\"\",\"title\":{\"standoff\":15},\"zerolinecolor\":\"white\",\"automargin\":true,\"zerolinewidth\":2},\"scene\":{\"xaxis\":{\"backgroundcolor\":\"#E5ECF6\",\"gridcolor\":\"white\",\"linecolor\":\"white\",\"showbackground\":true,\"ticks\":\"\",\"zerolinecolor\":\"white\",\"gridwidth\":2},\"yaxis\":{\"backgroundcolor\":\"#E5ECF6\",\"gridcolor\":\"white\",\"linecolor\":\"white\",\"showbackground\":true,\"ticks\":\"\",\"zerolinecolor\":\"white\",\"gridwidth\":2},\"zaxis\":{\"backgroundcolor\":\"#E5ECF6\",\"gridcolor\":\"white\",\"linecolor\":\"white\",\"showbackground\":true,\"ticks\":\"\",\"zerolinecolor\":\"white\",\"gridwidth\":2}},\"shapedefaults\":{\"line\":{\"color\":\"#2a3f5f\"}},\"annotationdefaults\":{\"arrowcolor\":\"#2a3f5f\",\"arrowhead\":0,\"arrowwidth\":1},\"geo\":{\"bgcolor\":\"white\",\"landcolor\":\"#E5ECF6\",\"subunitcolor\":\"white\",\"showland\":true,\"showlakes\":true,\"lakecolor\":\"white\"},\"title\":{\"x\":0.05},\"mapbox\":{\"style\":\"light\"}}},\"xaxis\":{\"anchor\":\"y\",\"domain\":[0.0,1.0],\"title\":{\"text\":\"G\\u00eanero\"},\"categoryorder\":\"array\",\"categoryarray\":[\"minimal-techno\",\"detroit-techno\",\"chicago-house\"]},\"yaxis\":{\"anchor\":\"x\",\"domain\":[0.0,1.0],\"title\":{\"text\":\"Dura\\u00e7\\u00e3o M\\u00e9dia (ms)\"}},\"legend\":{\"title\":{\"text\":\"G\\u00eanero\"},\"tracegroupgap\":0},\"title\":{\"text\":\"Top 3 G\\u00eaneros com as M\\u00fasicas de Maior Dura\\u00e7\\u00e3o M\\u00e9dia\"},\"barmode\":\"relative\"},                        {\"responsive\": true}                    ).then(function(){\n",
       "                            \n",
       "var gd = document.getElementById('5c7fbe49-61e7-4d46-820f-8017c4d3549f');\n",
       "var x = new MutationObserver(function (mutations, observer) {{\n",
       "        var display = window.getComputedStyle(gd).display;\n",
       "        if (!display || display === 'none') {{\n",
       "            console.log([gd, 'removed!']);\n",
       "            Plotly.purge(gd);\n",
       "            observer.disconnect();\n",
       "        }}\n",
       "}});\n",
       "\n",
       "// Listen for the removal of the full notebook cells\n",
       "var notebookContainer = gd.closest('#notebook-container');\n",
       "if (notebookContainer) {{\n",
       "    x.observe(notebookContainer, {childList: true});\n",
       "}}\n",
       "\n",
       "// Listen for the clearing of the current output cell\n",
       "var outputEl = gd.closest('.output');\n",
       "if (outputEl) {{\n",
       "    x.observe(outputEl, {childList: true});\n",
       "}}\n",
       "\n",
       "                        })                };                });            </script>        </div>"
      ]
     },
     "metadata": {},
     "output_type": "display_data"
    }
   ],
   "source": [
    "# Agrupar os dados por 'track_genre' e calcular a média da duração das músicas\n",
    "grupo_por_genero = df1.groupby('track_genre')['duration_ms'].mean().reset_index()\n",
    "\n",
    "# Ordenar por duração média em ordem decrescente e pegar os 3 gêneros com maior duração\n",
    "top_3_generos = grupo_por_genero.sort_values(by='duration_ms', ascending=False).head(3)\n",
    "\n",
    "# Verificar as 3 primeiras entradas (os gêneros com maior duração média)\n",
    "print(top_3_generos)\n",
    "\n",
    "# Criar o gráfico de barras com Plotly, apenas com os 3 gêneros\n",
    "fig = px.bar(top_3_generos, \n",
    "             x='track_genre', \n",
    "             y='duration_ms', \n",
    "             title='Top 3 Gêneros com as Músicas de Maior Duração Média',\n",
    "             labels={'track_genre': 'Gênero', 'duration_ms': 'Duração Média (ms)'},\n",
    "             color='track_genre',  # Colorir barras com base no gênero\n",
    "             color_discrete_sequence=['#800080', '#8A2BE2', '#9370DB'])\n",
    "\n",
    "# Exibir o gráfico\n",
    "fig.show()\n"
   ]
  },
  {
   "cell_type": "markdown",
   "metadata": {},
   "source": [
    "#### Preferência por músicas curtas: Observa-se que o público prefere músicas mais curtas, especialmente em gêneros como hip-hop, latino, dance, e outros voltados ao pop e música eletrônica. Esses estilos, geralmente mais curtos e dinâmicos, são amplamente preferidos."
   ]
  },
  {
   "cell_type": "code",
   "execution_count": 252,
   "metadata": {
    "colab": {
     "base_uri": "https://localhost:8080/",
     "height": 809
    },
    "id": "T2IDZv6KpBxw",
    "outputId": "7b9a9646-5a06-41f8-c5c5-4aca2c1317bd"
   },
   "outputs": [
    {
     "data": {
      "image/png": "[encoded data removed]",
      "text/plain": [
       "<Figure size 1000x800 with 2 Axes>"
      ]
     },
     "metadata": {},
     "output_type": "display_data"
    }
   ],
   "source": [
    "#Gráfico de correlação\n",
    "# pego apenas colunas numéricas\n",
    "numeric_columns = df1.select_dtypes(include=['number'])\n",
    "\n",
    "# Calcula a matriz de correlação\n",
    "correlation_matrix = numeric_columns.corr()\n",
    "\n",
    "\n",
    "# Cria o mapa de calor\n",
    "\n",
    "plt.figure(figsize=(10, 8))  # Tamanho do gráfico\n",
    "sns.heatmap(\n",
    "    correlation_matrix, \n",
    "    annot=True, \n",
    "    cmap='Purples',  # Altere o colormap aqui\n",
    "    fmt='.2f', \n",
    "    linewidths=0.5\n",
    ")\n",
    "plt.title('Correlações', fontsize=16)\n",
    "plt.show()\n"
   ]
  },
  {
   "cell_type": "markdown",
   "metadata": {},
   "source": [
    "#### Energia e Loudness: Músicas com alta energia tendem a ter um volume mais alto.\n",
    "#### Danceability e Valence: Músicas com alta danceability geralmente são mais positivas e alegres.\n",
    "#### Acousticness e Energy: Músicas acústicas tendem a ter menor energia.\n",
    "#### Acousticness e Loudness: Músicas acústicas geralmente são menos altas.\n",
    "\n"
   ]
  },
  {
   "cell_type": "code",
   "execution_count": 253,
   "metadata": {},
   "outputs": [
    {
     "data": {
      "application/vnd.plotly.v1+json": {
       "config": {
        "plotlyServerURL": "https://plot.ly"
       },
       "data": [
        {
         "alignmentgroup": "True",
         "bingroup": "x",
         "histfunc": "sum",
         "hovertemplate": "Gênero=%{x}<br>sum of Popularidade=%{y}<extra></extra>",
         "legendgroup": "anime",
         "marker": {
          "color": "#A020F0",
          "pattern": {
           "shape": ""
          }
         },
         "name": "anime",
         "offsetgroup": "anime",
         "orientation": "v",
         "showlegend": true,
         "type": "histogram",
         "x": [
          "anime",
          "anime",
          "anime",
          "anime",
          "anime",
          "anime",
          "anime",
          "anime",
          "anime",
          "anime",
          "anime",
          "anime",
          "anime",
          "anime",
          "anime",
          "anime",
          "anime",
          "anime",
          "anime",
          "anime",
          "anime",
          "anime",
          "anime",
          "anime",
          "anime",
          "anime",
          "anime",
          "anime",
          "anime",
          "anime",
          "anime",
          "anime",
          "anime",
          "anime",
          "anime",
          "anime",
          "anime",
          "anime",
          "anime",
          "anime",
          "anime",
          "anime",
          "anime",
          "anime",
          "anime",
          "anime",
          "anime",
          "anime",
          "anime",
          "anime",
          "anime",
          "anime",
          "anime",
          "anime",
          "anime",
          "anime",
          "anime",
          "anime",
          "anime",
          "anime",
          "anime",
          "anime",
          "anime",
          "anime",
          "anime",
          "anime",
          "anime",
          "anime",
          "anime",
          "anime",
          "anime",
          "anime",
          "anime",
          "anime",
          "anime",
          "anime",
          "anime",
          "anime",
          "anime",
          "anime",
          "anime",
          "anime",
          "anime",
          "anime",
          "anime",
          "anime",
          "anime",
          "anime",
          "anime",
          "anime",
          "anime",
          "anime",
          "anime",
          "anime",
          "anime",
          "anime",
          "anime",
          "anime",
          "anime",
          "anime",
          "anime",
          "anime",
          "anime",
          "anime",
          "anime",
          "anime",
          "anime",
          "anime",
          "anime",
          "anime",
          "anime",
          "anime",
          "anime",
          "anime",
          "anime",
          "anime",
          "anime",
          "anime",
          "anime",
          "anime",
          "anime",
          "anime",
          "anime",
          "anime",
          "anime",
          "anime",
          "anime",
          "anime",
          "anime",
          "anime",
          "anime",
          "anime",
          "anime",
          "anime",
          "anime",
          "anime",
          "anime",
          "anime",
          "anime",
          "anime",
          "anime",
          "anime",
          "anime",
          "anime",
          "anime",
          "anime",
          "anime",
          "anime",
          "anime",
          "anime",
          "anime",
          "anime",
          "anime",
          "anime",
          "anime",
          "anime",
          "anime",
          "anime",
          "anime",
          "anime",
          "anime",
          "anime",
          "anime",
          "anime",
          "anime",
          "anime",
          "anime",
          "anime",
          "anime",
          "anime",
          "anime",
          "anime",
          "anime",
          "anime",
          "anime",
          "anime",
          "anime",
          "anime",
          "anime",
          "anime",
          "anime",
          "anime",
          "anime",
          "anime",
          "anime",
          "anime",
          "anime",
          "anime",
          "anime",
          "anime",
          "anime",
          "anime",
          "anime",
          "anime",
          "anime",
          "anime",
          "anime",
          "anime",
          "anime",
          "anime",
          "anime",
          "anime",
          "anime",
          "anime",
          "anime",
          "anime",
          "anime",
          "anime",
          "anime",
          "anime",
          "anime",
          "anime",
          "anime",
          "anime",
          "anime",
          "anime",
          "anime",
          "anime",
          "anime",
          "anime",
          "anime",
          "anime",
          "anime",
          "anime",
          "anime",
          "anime",
          "anime",
          "anime",
          "anime",
          "anime",
          "anime",
          "anime",
          "anime",
          "anime",
          "anime",
          "anime",
          "anime",
          "anime",
          "anime",
          "anime",
          "anime",
          "anime",
          "anime",
          "anime",
          "anime",
          "anime",
          "anime",
          "anime",
          "anime",
          "anime",
          "anime",
          "anime",
          "anime",
          "anime",
          "anime",
          "anime",
          "anime",
          "anime",
          "anime",
          "anime",
          "anime",
          "anime",
          "anime",
          "anime",
          "anime",
          "anime",
          "anime",
          "anime",
          "anime",
          "anime",
          "anime",
          "anime",
          "anime",
          "anime",
          "anime",
          "anime",
          "anime",
          "anime",
          "anime",
          "anime",
          "anime",
          "anime",
          "anime",
          "anime",
          "anime",
          "anime",
          "anime",
          "anime",
          "anime",
          "anime",
          "anime",
          "anime",
          "anime",
          "anime",
          "anime",
          "anime",
          "anime",
          "anime",
          "anime",
          "anime",
          "anime",
          "anime",
          "anime",
          "anime",
          "anime",
          "anime",
          "anime",
          "anime",
          "anime",
          "anime",
          "anime",
          "anime",
          "anime",
          "anime",
          "anime",
          "anime",
          "anime",
          "anime",
          "anime",
          "anime",
          "anime",
          "anime",
          "anime",
          "anime",
          "anime",
          "anime",
          "anime",
          "anime",
          "anime",
          "anime",
          "anime",
          "anime",
          "anime",
          "anime",
          "anime",
          "anime",
          "anime",
          "anime",
          "anime",
          "anime",
          "anime",
          "anime",
          "anime",
          "anime",
          "anime",
          "anime",
          "anime",
          "anime",
          "anime",
          "anime",
          "anime",
          "anime",
          "anime",
          "anime",
          "anime",
          "anime",
          "anime",
          "anime",
          "anime",
          "anime",
          "anime",
          "anime",
          "anime",
          "anime",
          "anime",
          "anime",
          "anime",
          "anime",
          "anime",
          "anime",
          "anime",
          "anime",
          "anime",
          "anime",
          "anime",
          "anime",
          "anime",
          "anime",
          "anime",
          "anime",
          "anime",
          "anime",
          "anime",
          "anime",
          "anime",
          "anime",
          "anime",
          "anime",
          "anime",
          "anime",
          "anime",
          "anime",
          "anime",
          "anime",
          "anime",
          "anime",
          "anime",
          "anime",
          "anime",
          "anime",
          "anime",
          "anime",
          "anime",
          "anime",
          "anime",
          "anime",
          "anime",
          "anime",
          "anime",
          "anime",
          "anime",
          "anime",
          "anime",
          "anime",
          "anime",
          "anime",
          "anime",
          "anime",
          "anime",
          "anime",
          "anime",
          "anime",
          "anime",
          "anime",
          "anime",
          "anime",
          "anime",
          "anime",
          "anime",
          "anime",
          "anime",
          "anime",
          "anime",
          "anime",
          "anime",
          "anime",
          "anime",
          "anime",
          "anime",
          "anime",
          "anime",
          "anime",
          "anime",
          "anime",
          "anime",
          "anime",
          "anime",
          "anime",
          "anime",
          "anime",
          "anime",
          "anime",
          "anime",
          "anime",
          "anime",
          "anime",
          "anime",
          "anime",
          "anime",
          "anime",
          "anime",
          "anime",
          "anime",
          "anime",
          "anime",
          "anime",
          "anime",
          "anime",
          "anime",
          "anime",
          "anime",
          "anime",
          "anime",
          "anime",
          "anime",
          "anime",
          "anime",
          "anime",
          "anime",
          "anime",
          "anime",
          "anime",
          "anime",
          "anime",
          "anime",
          "anime",
          "anime",
          "anime",
          "anime",
          "anime",
          "anime",
          "anime",
          "anime",
          "anime",
          "anime",
          "anime",
          "anime",
          "anime",
          "anime",
          "anime",
          "anime",
          "anime",
          "anime",
          "anime",
          "anime",
          "anime",
          "anime",
          "anime",
          "anime",
          "anime",
          "anime",
          "anime",
          "anime",
          "anime",
          "anime",
          "anime",
          "anime",
          "anime",
          "anime",
          "anime",
          "anime",
          "anime",
          "anime",
          "anime",
          "anime",
          "anime",
          "anime",
          "anime",
          "anime",
          "anime",
          "anime",
          "anime",
          "anime",
          "anime",
          "anime",
          "anime",
          "anime",
          "anime",
          "anime",
          "anime",
          "anime",
          "anime",
          "anime",
          "anime",
          "anime",
          "anime",
          "anime",
          "anime",
          "anime",
          "anime",
          "anime",
          "anime",
          "anime",
          "anime",
          "anime",
          "anime",
          "anime",
          "anime",
          "anime",
          "anime",
          "anime",
          "anime",
          "anime",
          "anime",
          "anime",
          "anime",
          "anime",
          "anime",
          "anime",
          "anime",
          "anime",
          "anime",
          "anime",
          "anime",
          "anime",
          "anime",
          "anime",
          "anime",
          "anime",
          "anime",
          "anime",
          "anime",
          "anime",
          "anime",
          "anime",
          "anime",
          "anime",
          "anime",
          "anime",
          "anime",
          "anime",
          "anime",
          "anime",
          "anime",
          "anime",
          "anime",
          "anime",
          "anime",
          "anime",
          "anime",
          "anime",
          "anime",
          "anime",
          "anime",
          "anime",
          "anime",
          "anime",
          "anime",
          "anime",
          "anime",
          "anime",
          "anime",
          "anime",
          "anime",
          "anime",
          "anime",
          "anime",
          "anime",
          "anime",
          "anime",
          "anime",
          "anime",
          "anime",
          "anime",
          "anime",
          "anime",
          "anime",
          "anime",
          "anime",
          "anime",
          "anime",
          "anime",
          "anime",
          "anime",
          "anime",
          "anime",
          "anime",
          "anime",
          "anime",
          "anime",
          "anime",
          "anime",
          "anime",
          "anime"
         ],
         "xaxis": "x",
         "y": [
          73,
          83,
          73,
          75,
          71,
          77,
          55,
          70,
          66,
          68,
          74,
          66,
          67,
          77,
          78,
          66,
          51,
          75,
          61,
          69,
          71,
          65,
          70,
          66,
          64,
          62,
          77,
          72,
          72,
          71,
          69,
          1,
          0,
          2,
          57,
          69,
          60,
          63,
          63,
          53,
          52,
          62,
          53,
          60,
          62,
          54,
          62,
          59,
          67,
          63,
          64,
          53,
          67,
          53,
          56,
          61,
          45,
          49,
          66,
          58,
          65,
          61,
          50,
          66,
          67,
          68,
          63,
          53,
          59,
          65,
          61,
          59,
          59,
          51,
          60,
          55,
          52,
          64,
          62,
          65,
          64,
          53,
          61,
          49,
          58,
          60,
          63,
          58,
          57,
          63,
          43,
          62,
          63,
          50,
          46,
          53,
          60,
          59,
          43,
          60,
          63,
          7,
          62,
          64,
          21,
          62,
          17,
          62,
          51,
          50,
          56,
          42,
          54,
          60,
          50,
          53,
          45,
          63,
          53,
          61,
          53,
          47,
          59,
          49,
          62,
          45,
          45,
          49,
          50,
          61,
          63,
          59,
          49,
          59,
          59,
          60,
          58,
          59,
          58,
          45,
          50,
          48,
          61,
          44,
          56,
          48,
          42,
          45,
          53,
          61,
          49,
          58,
          46,
          59,
          53,
          51,
          48,
          63,
          42,
          49,
          50,
          24,
          59,
          24,
          58,
          23,
          23,
          59,
          58,
          29,
          58,
          26,
          59,
          61,
          47,
          52,
          60,
          49,
          42,
          49,
          40,
          55,
          59,
          50,
          57,
          56,
          50,
          45,
          48,
          49,
          59,
          49,
          54,
          58,
          49,
          52,
          58,
          58,
          57,
          58,
          57,
          58,
          57,
          40,
          57,
          57,
          58,
          58,
          50,
          48,
          60,
          56,
          51,
          51,
          44,
          50,
          43,
          45,
          58,
          48,
          57,
          45,
          49,
          60,
          52,
          58,
          42,
          54,
          60,
          47,
          49,
          41,
          52,
          64,
          59,
          49,
          44,
          54,
          42,
          56,
          51,
          58,
          41,
          56,
          50,
          50,
          35,
          49,
          53,
          42,
          57,
          49,
          59,
          48,
          47,
          51,
          50,
          56,
          44,
          61,
          51,
          45,
          47,
          63,
          51,
          46,
          49,
          56,
          58,
          61,
          46,
          44,
          60,
          55,
          46,
          59,
          39,
          40,
          38,
          44,
          40,
          36,
          41,
          54,
          49,
          56,
          60,
          54,
          62,
          55,
          62,
          46,
          49,
          46,
          57,
          44,
          55,
          43,
          61,
          62,
          49,
          54,
          60,
          49,
          49,
          60,
          60,
          60,
          60,
          49,
          56,
          63,
          51,
          38,
          45,
          46,
          50,
          57,
          48,
          57,
          47,
          43,
          41,
          44,
          55,
          47,
          33,
          53,
          45,
          52,
          36,
          54,
          50,
          44,
          47,
          38,
          3,
          48,
          38,
          54,
          37,
          38,
          41,
          52,
          53,
          55,
          50,
          46,
          57,
          50,
          52,
          59,
          58,
          58,
          46,
          55,
          22,
          24,
          22,
          23,
          36,
          37,
          52,
          45,
          46,
          49,
          51,
          58,
          41,
          47,
          51,
          44,
          44,
          43,
          54,
          35,
          45,
          51,
          59,
          54,
          50,
          42,
          39,
          47,
          48,
          46,
          47,
          59,
          56,
          57,
          53,
          36,
          36,
          37,
          36,
          44,
          43,
          44,
          44,
          47,
          39,
          51,
          50,
          42,
          44,
          54,
          46,
          43,
          47,
          45,
          51,
          47,
          57,
          57,
          56,
          48,
          45,
          52,
          49,
          36,
          35,
          35,
          35,
          36,
          36,
          57,
          46,
          33,
          55,
          46,
          48,
          44,
          47,
          52,
          56,
          51,
          43,
          49,
          43,
          48,
          44,
          36,
          49,
          53,
          47,
          45,
          37,
          37,
          53,
          48,
          58,
          35,
          35,
          41,
          48,
          53,
          44,
          41,
          49,
          50,
          38,
          46,
          50,
          51,
          51,
          42,
          44,
          42,
          39,
          47,
          50,
          55,
          36,
          44,
          52,
          52,
          52,
          47,
          36,
          34,
          51,
          57,
          35,
          2,
          44,
          43,
          42,
          53,
          49,
          56,
          44,
          42,
          58,
          46,
          52,
          43,
          54,
          37,
          37,
          51,
          42,
          45,
          53,
          38,
          52,
          54,
          53,
          55,
          45,
          48,
          44,
          35,
          61,
          45,
          34,
          34,
          0,
          34,
          34,
          34,
          34,
          42,
          48,
          47,
          54,
          46,
          42,
          55,
          48,
          49,
          45,
          53,
          44,
          55,
          55,
          65,
          50,
          42,
          45,
          51,
          43,
          45,
          51,
          51,
          40,
          33,
          34,
          50,
          34,
          33,
          33,
          43,
          44,
          52,
          39,
          41,
          34,
          54,
          57,
          55,
          60,
          41,
          55,
          53,
          51,
          45,
          60,
          52,
          44,
          43,
          55,
          49,
          44,
          35,
          36,
          52,
          33,
          34,
          34,
          34,
          41,
          38,
          44,
          49,
          46,
          36,
          38,
          42,
          43,
          32,
          40,
          52,
          56,
          42,
          36,
          50,
          36,
          46,
          33,
          42,
          45,
          52,
          42,
          45,
          33,
          51,
          32,
          32,
          32,
          32,
          33,
          33,
          33,
          34,
          35,
          53,
          42,
          47,
          44,
          44,
          44,
          52,
          55,
          53,
          52,
          43,
          42,
          45,
          33,
          54,
          49,
          44,
          57,
          33,
          34,
          40,
          32,
          50,
          33,
          32,
          33,
          32,
          33,
          32
         ],
         "yaxis": "y"
        },
        {
         "alignmentgroup": "True",
         "bingroup": "x",
         "histfunc": "sum",
         "hovertemplate": "Gênero=%{x}<br>sum of Popularidade=%{y}<extra></extra>",
         "legendgroup": "brazil",
         "marker": {
          "color": "#8A2BE2",
          "pattern": {
           "shape": ""
          }
         },
         "name": "brazil",
         "offsetgroup": "brazil",
         "orientation": "v",
         "showlegend": true,
         "type": "histogram",
         "x": [
          "brazil",
          "brazil",
          "brazil",
          "brazil",
          "brazil",
          "brazil",
          "brazil",
          "brazil",
          "brazil",
          "brazil",
          "brazil",
          "brazil",
          "brazil",
          "brazil",
          "brazil",
          "brazil",
          "brazil",
          "brazil",
          "brazil",
          "brazil",
          "brazil",
          "brazil",
          "brazil",
          "brazil",
          "brazil",
          "brazil",
          "brazil",
          "brazil",
          "brazil",
          "brazil",
          "brazil",
          "brazil",
          "brazil",
          "brazil",
          "brazil",
          "brazil",
          "brazil",
          "brazil",
          "brazil",
          "brazil",
          "brazil",
          "brazil",
          "brazil",
          "brazil",
          "brazil",
          "brazil",
          "brazil",
          "brazil",
          "brazil",
          "brazil",
          "brazil",
          "brazil",
          "brazil",
          "brazil",
          "brazil",
          "brazil",
          "brazil",
          "brazil",
          "brazil",
          "brazil",
          "brazil",
          "brazil",
          "brazil",
          "brazil",
          "brazil",
          "brazil",
          "brazil",
          "brazil",
          "brazil",
          "brazil",
          "brazil",
          "brazil",
          "brazil",
          "brazil",
          "brazil",
          "brazil",
          "brazil",
          "brazil",
          "brazil",
          "brazil",
          "brazil",
          "brazil",
          "brazil",
          "brazil",
          "brazil",
          "brazil",
          "brazil",
          "brazil",
          "brazil",
          "brazil",
          "brazil",
          "brazil",
          "brazil",
          "brazil",
          "brazil",
          "brazil",
          "brazil",
          "brazil",
          "brazil",
          "brazil",
          "brazil",
          "brazil",
          "brazil",
          "brazil",
          "brazil",
          "brazil",
          "brazil",
          "brazil",
          "brazil",
          "brazil",
          "brazil",
          "brazil",
          "brazil",
          "brazil",
          "brazil",
          "brazil",
          "brazil",
          "brazil",
          "brazil",
          "brazil",
          "brazil",
          "brazil",
          "brazil",
          "brazil",
          "brazil",
          "brazil",
          "brazil",
          "brazil",
          "brazil",
          "brazil",
          "brazil",
          "brazil",
          "brazil",
          "brazil",
          "brazil",
          "brazil",
          "brazil",
          "brazil",
          "brazil",
          "brazil",
          "brazil",
          "brazil",
          "brazil",
          "brazil",
          "brazil",
          "brazil",
          "brazil",
          "brazil",
          "brazil",
          "brazil",
          "brazil",
          "brazil",
          "brazil",
          "brazil",
          "brazil",
          "brazil",
          "brazil",
          "brazil",
          "brazil",
          "brazil",
          "brazil",
          "brazil",
          "brazil",
          "brazil",
          "brazil",
          "brazil",
          "brazil",
          "brazil",
          "brazil",
          "brazil",
          "brazil",
          "brazil",
          "brazil",
          "brazil",
          "brazil",
          "brazil",
          "brazil",
          "brazil",
          "brazil",
          "brazil",
          "brazil",
          "brazil",
          "brazil",
          "brazil",
          "brazil",
          "brazil",
          "brazil",
          "brazil",
          "brazil",
          "brazil",
          "brazil",
          "brazil",
          "brazil",
          "brazil",
          "brazil",
          "brazil",
          "brazil",
          "brazil",
          "brazil",
          "brazil",
          "brazil",
          "brazil",
          "brazil",
          "brazil",
          "brazil",
          "brazil",
          "brazil",
          "brazil",
          "brazil",
          "brazil",
          "brazil",
          "brazil",
          "brazil",
          "brazil",
          "brazil",
          "brazil",
          "brazil",
          "brazil",
          "brazil",
          "brazil",
          "brazil",
          "brazil",
          "brazil",
          "brazil",
          "brazil",
          "brazil",
          "brazil",
          "brazil",
          "brazil",
          "brazil",
          "brazil",
          "brazil",
          "brazil",
          "brazil",
          "brazil",
          "brazil",
          "brazil",
          "brazil",
          "brazil",
          "brazil",
          "brazil",
          "brazil",
          "brazil",
          "brazil",
          "brazil",
          "brazil",
          "brazil",
          "brazil",
          "brazil",
          "brazil",
          "brazil",
          "brazil",
          "brazil",
          "brazil",
          "brazil",
          "brazil",
          "brazil",
          "brazil",
          "brazil",
          "brazil",
          "brazil",
          "brazil",
          "brazil",
          "brazil",
          "brazil",
          "brazil",
          "brazil",
          "brazil",
          "brazil",
          "brazil",
          "brazil",
          "brazil",
          "brazil",
          "brazil",
          "brazil",
          "brazil",
          "brazil",
          "brazil",
          "brazil",
          "brazil",
          "brazil",
          "brazil",
          "brazil",
          "brazil",
          "brazil",
          "brazil",
          "brazil",
          "brazil",
          "brazil",
          "brazil",
          "brazil",
          "brazil",
          "brazil",
          "brazil",
          "brazil",
          "brazil",
          "brazil",
          "brazil",
          "brazil",
          "brazil",
          "brazil",
          "brazil",
          "brazil",
          "brazil",
          "brazil",
          "brazil",
          "brazil",
          "brazil",
          "brazil",
          "brazil",
          "brazil",
          "brazil",
          "brazil",
          "brazil",
          "brazil",
          "brazil",
          "brazil",
          "brazil",
          "brazil",
          "brazil",
          "brazil",
          "brazil",
          "brazil",
          "brazil",
          "brazil",
          "brazil",
          "brazil",
          "brazil",
          "brazil",
          "brazil",
          "brazil",
          "brazil",
          "brazil",
          "brazil",
          "brazil",
          "brazil",
          "brazil",
          "brazil",
          "brazil",
          "brazil",
          "brazil",
          "brazil",
          "brazil",
          "brazil",
          "brazil",
          "brazil",
          "brazil",
          "brazil",
          "brazil",
          "brazil",
          "brazil",
          "brazil",
          "brazil",
          "brazil",
          "brazil",
          "brazil",
          "brazil",
          "brazil",
          "brazil",
          "brazil",
          "brazil",
          "brazil",
          "brazil",
          "brazil",
          "brazil",
          "brazil",
          "brazil",
          "brazil",
          "brazil",
          "brazil",
          "brazil",
          "brazil",
          "brazil",
          "brazil",
          "brazil",
          "brazil",
          "brazil",
          "brazil",
          "brazil",
          "brazil",
          "brazil",
          "brazil",
          "brazil",
          "brazil",
          "brazil",
          "brazil",
          "brazil",
          "brazil",
          "brazil",
          "brazil",
          "brazil",
          "brazil",
          "brazil",
          "brazil",
          "brazil",
          "brazil",
          "brazil",
          "brazil",
          "brazil",
          "brazil",
          "brazil",
          "brazil",
          "brazil",
          "brazil",
          "brazil",
          "brazil",
          "brazil",
          "brazil",
          "brazil",
          "brazil",
          "brazil",
          "brazil",
          "brazil",
          "brazil",
          "brazil",
          "brazil",
          "brazil",
          "brazil",
          "brazil",
          "brazil",
          "brazil",
          "brazil",
          "brazil",
          "brazil",
          "brazil",
          "brazil",
          "brazil",
          "brazil",
          "brazil",
          "brazil",
          "brazil",
          "brazil",
          "brazil",
          "brazil",
          "brazil",
          "brazil",
          "brazil",
          "brazil",
          "brazil",
          "brazil",
          "brazil",
          "brazil",
          "brazil",
          "brazil",
          "brazil",
          "brazil",
          "brazil",
          "brazil",
          "brazil",
          "brazil",
          "brazil",
          "brazil",
          "brazil",
          "brazil",
          "brazil",
          "brazil",
          "brazil",
          "brazil",
          "brazil",
          "brazil",
          "brazil",
          "brazil",
          "brazil",
          "brazil",
          "brazil",
          "brazil",
          "brazil",
          "brazil",
          "brazil",
          "brazil",
          "brazil",
          "brazil",
          "brazil",
          "brazil",
          "brazil",
          "brazil",
          "brazil",
          "brazil",
          "brazil",
          "brazil",
          "brazil",
          "brazil",
          "brazil",
          "brazil",
          "brazil",
          "brazil",
          "brazil",
          "brazil",
          "brazil",
          "brazil",
          "brazil",
          "brazil",
          "brazil",
          "brazil",
          "brazil",
          "brazil",
          "brazil",
          "brazil",
          "brazil",
          "brazil",
          "brazil",
          "brazil",
          "brazil",
          "brazil",
          "brazil",
          "brazil",
          "brazil",
          "brazil",
          "brazil",
          "brazil",
          "brazil",
          "brazil",
          "brazil",
          "brazil",
          "brazil",
          "brazil",
          "brazil",
          "brazil",
          "brazil",
          "brazil",
          "brazil",
          "brazil",
          "brazil",
          "brazil",
          "brazil",
          "brazil",
          "brazil",
          "brazil",
          "brazil",
          "brazil",
          "brazil",
          "brazil",
          "brazil",
          "brazil",
          "brazil",
          "brazil",
          "brazil",
          "brazil",
          "brazil",
          "brazil",
          "brazil",
          "brazil",
          "brazil",
          "brazil",
          "brazil",
          "brazil",
          "brazil",
          "brazil",
          "brazil",
          "brazil",
          "brazil",
          "brazil",
          "brazil",
          "brazil",
          "brazil",
          "brazil",
          "brazil",
          "brazil",
          "brazil",
          "brazil",
          "brazil",
          "brazil",
          "brazil",
          "brazil",
          "brazil",
          "brazil",
          "brazil",
          "brazil",
          "brazil",
          "brazil",
          "brazil",
          "brazil",
          "brazil",
          "brazil",
          "brazil",
          "brazil",
          "brazil",
          "brazil",
          "brazil",
          "brazil",
          "brazil",
          "brazil",
          "brazil",
          "brazil",
          "brazil",
          "brazil",
          "brazil",
          "brazil",
          "brazil",
          "brazil",
          "brazil",
          "brazil",
          "brazil",
          "brazil",
          "brazil",
          "brazil",
          "brazil",
          "brazil",
          "brazil",
          "brazil",
          "brazil",
          "brazil",
          "brazil",
          "brazil",
          "brazil",
          "brazil",
          "brazil",
          "brazil",
          "brazil",
          "brazil",
          "brazil",
          "brazil",
          "brazil",
          "brazil",
          "brazil",
          "brazil",
          "brazil",
          "brazil",
          "brazil",
          "brazil",
          "brazil",
          "brazil",
          "brazil",
          "brazil",
          "brazil",
          "brazil",
          "brazil",
          "brazil",
          "brazil",
          "brazil",
          "brazil",
          "brazil",
          "brazil",
          "brazil",
          "brazil",
          "brazil",
          "brazil",
          "brazil",
          "brazil",
          "brazil",
          "brazil",
          "brazil",
          "brazil",
          "brazil",
          "brazil",
          "brazil",
          "brazil",
          "brazil",
          "brazil",
          "brazil",
          "brazil",
          "brazil",
          "brazil",
          "brazil",
          "brazil",
          "brazil",
          "brazil",
          "brazil",
          "brazil",
          "brazil",
          "brazil",
          "brazil",
          "brazil",
          "brazil",
          "brazil",
          "brazil",
          "brazil",
          "brazil",
          "brazil",
          "brazil",
          "brazil",
          "brazil",
          "brazil",
          "brazil",
          "brazil",
          "brazil",
          "brazil",
          "brazil",
          "brazil",
          "brazil",
          "brazil",
          "brazil",
          "brazil",
          "brazil",
          "brazil",
          "brazil",
          "brazil",
          "brazil",
          "brazil",
          "brazil",
          "brazil",
          "brazil",
          "brazil",
          "brazil",
          "brazil",
          "brazil",
          "brazil",
          "brazil",
          "brazil",
          "brazil",
          "brazil",
          "brazil",
          "brazil",
          "brazil",
          "brazil",
          "brazil",
          "brazil",
          "brazil",
          "brazil",
          "brazil",
          "brazil",
          "brazil",
          "brazil",
          "brazil",
          "brazil",
          "brazil",
          "brazil",
          "brazil",
          "brazil",
          "brazil",
          "brazil"
         ],
         "xaxis": "x",
         "y": [
          82,
          56,
          54,
          57,
          54,
          52,
          52,
          53,
          53,
          58,
          0,
          53,
          54,
          57,
          52,
          0,
          1,
          53,
          54,
          54,
          0,
          54,
          0,
          55,
          0,
          54,
          53,
          0,
          53,
          0,
          56,
          52,
          50,
          52,
          52,
          51,
          52,
          51,
          50,
          51,
          51,
          50,
          51,
          0,
          50,
          0,
          52,
          50,
          52,
          51,
          50,
          52,
          51,
          0,
          51,
          51,
          52,
          50,
          0,
          51,
          0,
          0,
          50,
          58,
          69,
          49,
          51,
          50,
          50,
          49,
          49,
          1,
          49,
          51,
          49,
          49,
          51,
          50,
          50,
          49,
          49,
          49,
          49,
          50,
          49,
          49,
          50,
          50,
          49,
          50,
          49,
          49,
          48,
          51,
          49,
          65,
          69,
          49,
          49,
          48,
          48,
          49,
          48,
          49,
          47,
          50,
          49,
          48,
          49,
          48,
          49,
          49,
          50,
          47,
          48,
          50,
          49,
          50,
          47,
          49,
          49,
          49,
          48,
          49,
          48,
          48,
          48,
          50,
          49,
          49,
          48,
          48,
          48,
          48,
          48,
          48,
          48,
          47,
          48,
          48,
          49,
          48,
          48,
          48,
          48,
          48,
          47,
          48,
          49,
          49,
          47,
          47,
          47,
          47,
          48,
          49,
          48,
          49,
          47,
          48,
          48,
          47,
          47,
          47,
          0,
          0,
          0,
          0,
          0,
          48,
          48,
          47,
          48,
          48,
          47,
          48,
          48,
          47,
          48,
          47,
          47,
          47,
          0,
          46,
          47,
          47,
          48,
          47,
          46,
          47,
          48,
          48,
          48,
          47,
          47,
          47,
          48,
          47,
          47,
          47,
          48,
          0,
          0,
          46,
          47,
          48,
          0,
          55,
          46,
          47,
          47,
          47,
          47,
          45,
          47,
          47,
          47,
          47,
          47,
          47,
          47,
          47,
          47,
          47,
          48,
          47,
          47,
          46,
          47,
          47,
          47,
          0,
          47,
          0,
          48,
          0,
          47,
          46,
          47,
          47,
          47,
          46,
          47,
          45,
          46,
          46,
          46,
          47,
          47,
          46,
          47,
          46,
          45,
          45,
          46,
          46,
          47,
          46,
          46,
          47,
          47,
          46,
          47,
          47,
          46,
          46,
          48,
          46,
          46,
          0,
          46,
          46,
          46,
          46,
          46,
          46,
          46,
          45,
          45,
          46,
          45,
          46,
          47,
          46,
          46,
          45,
          45,
          45,
          45,
          45,
          46,
          46,
          46,
          46,
          46,
          45,
          47,
          47,
          45,
          46,
          45,
          47,
          64,
          45,
          46,
          46,
          46,
          46,
          46,
          46,
          46,
          46,
          46,
          46,
          45,
          44,
          46,
          44,
          44,
          47,
          44,
          46,
          46,
          46,
          45,
          45,
          45,
          45,
          45,
          46,
          45,
          46,
          45,
          45,
          69,
          65,
          47,
          45,
          46,
          46,
          46,
          45,
          45,
          45,
          46,
          46,
          47,
          46,
          45,
          45,
          45,
          45,
          45,
          44,
          45,
          44,
          45,
          45,
          45,
          45,
          45,
          45,
          45,
          46,
          44,
          45,
          46,
          47,
          44,
          45,
          46,
          45,
          45,
          46,
          45,
          46,
          45,
          46,
          44,
          44,
          45,
          44,
          45,
          45,
          45,
          45,
          44,
          46,
          45,
          44,
          47,
          45,
          45,
          45,
          45,
          45,
          45,
          45,
          45,
          44,
          46,
          45,
          44,
          46,
          44,
          45,
          44,
          44,
          45,
          45,
          45,
          46,
          45,
          46,
          53,
          44,
          45,
          45,
          45,
          44,
          46,
          45,
          46,
          45,
          44,
          46,
          44,
          44,
          44,
          44,
          45,
          44,
          44,
          45,
          46,
          46,
          44,
          45,
          46,
          44,
          46,
          44,
          43,
          45,
          44,
          45,
          45,
          46,
          44,
          44,
          45,
          46,
          44,
          47,
          52,
          44,
          45,
          45,
          44,
          45,
          45,
          45,
          45,
          46,
          45,
          45,
          44,
          44,
          45,
          44,
          44,
          44,
          45,
          44,
          45,
          46,
          44,
          44,
          44,
          44,
          44,
          44,
          44,
          46,
          44,
          44,
          44,
          45,
          44,
          44,
          45,
          45,
          45,
          45,
          44,
          45,
          44,
          44,
          44,
          45,
          44,
          44,
          44,
          44,
          44,
          44,
          45,
          45,
          43,
          45,
          43,
          44,
          43,
          45,
          43,
          43,
          44,
          43,
          44,
          44,
          44,
          44,
          44,
          43,
          45,
          44,
          44,
          44,
          62,
          44,
          44,
          44,
          43,
          43,
          45,
          43,
          45,
          43,
          43,
          43,
          44,
          43,
          44,
          43,
          45,
          44,
          44,
          45,
          44,
          45,
          44,
          44,
          44,
          44,
          43,
          43,
          43,
          44,
          43,
          44,
          44,
          43,
          44,
          43,
          44,
          43,
          44,
          55,
          43,
          45,
          44,
          45,
          43,
          45,
          43,
          44,
          43,
          44,
          44,
          43,
          44,
          44,
          44,
          45,
          44,
          44,
          44,
          44,
          44,
          44,
          43,
          44,
          43,
          43,
          44,
          43,
          43,
          43,
          44,
          43,
          43,
          44,
          44,
          43,
          43,
          43,
          43,
          43,
          0,
          43,
          44,
          43,
          43,
          42,
          43,
          44,
          43,
          0,
          44,
          43,
          43,
          43,
          43,
          44,
          43,
          44,
          43,
          43,
          42,
          43,
          43,
          43,
          43,
          43,
          43,
          44,
          43,
          45,
          43,
          43,
          43,
          43,
          44,
          43,
          43,
          43,
          44,
          43,
          44,
          43,
          44,
          44,
          42,
          43,
          43,
          43,
          44,
          43,
          43,
          43,
          44,
          43,
          43,
          43,
          43,
          43,
          42,
          43,
          44,
          44,
          43,
          44,
          43,
          43,
          45,
          43,
          42,
          43,
          43,
          42,
          54,
          44,
          43,
          43,
          43,
          44,
          43,
          43,
          44,
          44,
          44,
          43,
          43,
          44,
          43,
          43,
          43,
          42,
          43,
          42,
          43,
          43,
          42,
          43,
          42,
          42,
          43,
          44,
          44,
          44,
          42,
          42,
          43,
          43,
          44,
          42,
          42,
          43,
          42,
          42,
          44
         ],
         "yaxis": "y"
        },
        {
         "alignmentgroup": "True",
         "bingroup": "x",
         "histfunc": "sum",
         "hovertemplate": "Gênero=%{x}<br>sum of Popularidade=%{y}<extra></extra>",
         "legendgroup": "chill",
         "marker": {
          "color": "#4B0082",
          "pattern": {
           "shape": ""
          }
         },
         "name": "chill",
         "offsetgroup": "chill",
         "orientation": "v",
         "showlegend": true,
         "type": "histogram",
         "x": [
          "chill",
          "chill",
          "chill",
          "chill",
          "chill",
          "chill",
          "chill",
          "chill",
          "chill",
          "chill",
          "chill",
          "chill",
          "chill",
          "chill",
          "chill",
          "chill",
          "chill",
          "chill",
          "chill",
          "chill",
          "chill",
          "chill",
          "chill",
          "chill",
          "chill",
          "chill",
          "chill",
          "chill",
          "chill",
          "chill",
          "chill",
          "chill",
          "chill",
          "chill",
          "chill",
          "chill",
          "chill",
          "chill",
          "chill",
          "chill",
          "chill",
          "chill",
          "chill",
          "chill",
          "chill",
          "chill",
          "chill",
          "chill",
          "chill",
          "chill",
          "chill",
          "chill",
          "chill",
          "chill",
          "chill",
          "chill",
          "chill",
          "chill",
          "chill",
          "chill",
          "chill",
          "chill",
          "chill",
          "chill",
          "chill",
          "chill",
          "chill",
          "chill",
          "chill",
          "chill",
          "chill",
          "chill",
          "chill",
          "chill",
          "chill",
          "chill",
          "chill",
          "chill",
          "chill",
          "chill",
          "chill",
          "chill",
          "chill",
          "chill",
          "chill",
          "chill",
          "chill",
          "chill",
          "chill",
          "chill",
          "chill",
          "chill",
          "chill",
          "chill",
          "chill",
          "chill",
          "chill",
          "chill",
          "chill",
          "chill",
          "chill",
          "chill",
          "chill",
          "chill",
          "chill",
          "chill",
          "chill",
          "chill",
          "chill",
          "chill",
          "chill",
          "chill",
          "chill",
          "chill",
          "chill",
          "chill",
          "chill",
          "chill",
          "chill",
          "chill",
          "chill",
          "chill",
          "chill",
          "chill",
          "chill",
          "chill",
          "chill",
          "chill",
          "chill",
          "chill",
          "chill",
          "chill",
          "chill",
          "chill",
          "chill",
          "chill",
          "chill",
          "chill",
          "chill",
          "chill",
          "chill",
          "chill",
          "chill",
          "chill",
          "chill",
          "chill",
          "chill",
          "chill",
          "chill",
          "chill",
          "chill",
          "chill",
          "chill",
          "chill",
          "chill",
          "chill",
          "chill",
          "chill",
          "chill",
          "chill",
          "chill",
          "chill",
          "chill",
          "chill",
          "chill",
          "chill",
          "chill",
          "chill",
          "chill",
          "chill",
          "chill",
          "chill",
          "chill",
          "chill",
          "chill",
          "chill",
          "chill",
          "chill",
          "chill",
          "chill",
          "chill",
          "chill",
          "chill",
          "chill",
          "chill",
          "chill",
          "chill",
          "chill",
          "chill",
          "chill",
          "chill",
          "chill",
          "chill",
          "chill",
          "chill",
          "chill",
          "chill",
          "chill",
          "chill",
          "chill",
          "chill",
          "chill",
          "chill",
          "chill",
          "chill",
          "chill",
          "chill",
          "chill",
          "chill",
          "chill",
          "chill",
          "chill",
          "chill",
          "chill",
          "chill",
          "chill",
          "chill",
          "chill",
          "chill",
          "chill",
          "chill",
          "chill",
          "chill",
          "chill",
          "chill",
          "chill",
          "chill",
          "chill",
          "chill",
          "chill",
          "chill",
          "chill",
          "chill",
          "chill",
          "chill",
          "chill",
          "chill",
          "chill",
          "chill",
          "chill",
          "chill",
          "chill",
          "chill",
          "chill",
          "chill",
          "chill",
          "chill",
          "chill",
          "chill",
          "chill",
          "chill",
          "chill",
          "chill",
          "chill",
          "chill",
          "chill",
          "chill",
          "chill",
          "chill",
          "chill",
          "chill",
          "chill",
          "chill",
          "chill",
          "chill",
          "chill",
          "chill",
          "chill",
          "chill",
          "chill",
          "chill",
          "chill",
          "chill",
          "chill",
          "chill",
          "chill",
          "chill",
          "chill",
          "chill",
          "chill",
          "chill",
          "chill",
          "chill",
          "chill",
          "chill",
          "chill",
          "chill",
          "chill",
          "chill",
          "chill",
          "chill",
          "chill",
          "chill",
          "chill",
          "chill",
          "chill",
          "chill",
          "chill",
          "chill",
          "chill",
          "chill",
          "chill",
          "chill",
          "chill",
          "chill",
          "chill",
          "chill",
          "chill",
          "chill",
          "chill",
          "chill",
          "chill",
          "chill",
          "chill",
          "chill",
          "chill",
          "chill",
          "chill",
          "chill",
          "chill",
          "chill",
          "chill",
          "chill",
          "chill",
          "chill",
          "chill",
          "chill",
          "chill",
          "chill",
          "chill",
          "chill",
          "chill",
          "chill",
          "chill",
          "chill",
          "chill",
          "chill",
          "chill",
          "chill",
          "chill",
          "chill",
          "chill",
          "chill",
          "chill",
          "chill",
          "chill",
          "chill",
          "chill",
          "chill",
          "chill",
          "chill",
          "chill",
          "chill",
          "chill",
          "chill",
          "chill",
          "chill",
          "chill",
          "chill",
          "chill",
          "chill",
          "chill",
          "chill",
          "chill",
          "chill",
          "chill",
          "chill",
          "chill",
          "chill",
          "chill",
          "chill",
          "chill",
          "chill",
          "chill",
          "chill",
          "chill",
          "chill",
          "chill",
          "chill",
          "chill",
          "chill",
          "chill",
          "chill",
          "chill",
          "chill",
          "chill",
          "chill",
          "chill",
          "chill",
          "chill",
          "chill",
          "chill",
          "chill",
          "chill",
          "chill",
          "chill",
          "chill",
          "chill",
          "chill",
          "chill",
          "chill",
          "chill",
          "chill",
          "chill",
          "chill",
          "chill",
          "chill",
          "chill",
          "chill",
          "chill",
          "chill",
          "chill",
          "chill",
          "chill",
          "chill",
          "chill",
          "chill",
          "chill",
          "chill",
          "chill",
          "chill",
          "chill",
          "chill",
          "chill",
          "chill",
          "chill",
          "chill",
          "chill",
          "chill",
          "chill",
          "chill",
          "chill",
          "chill",
          "chill",
          "chill",
          "chill",
          "chill",
          "chill",
          "chill",
          "chill",
          "chill",
          "chill",
          "chill",
          "chill",
          "chill",
          "chill",
          "chill",
          "chill",
          "chill",
          "chill",
          "chill",
          "chill",
          "chill",
          "chill",
          "chill",
          "chill",
          "chill",
          "chill",
          "chill",
          "chill",
          "chill",
          "chill",
          "chill",
          "chill",
          "chill",
          "chill",
          "chill",
          "chill",
          "chill",
          "chill",
          "chill",
          "chill",
          "chill",
          "chill",
          "chill",
          "chill",
          "chill",
          "chill",
          "chill",
          "chill",
          "chill",
          "chill",
          "chill",
          "chill",
          "chill",
          "chill",
          "chill",
          "chill",
          "chill",
          "chill",
          "chill",
          "chill",
          "chill",
          "chill",
          "chill",
          "chill",
          "chill",
          "chill",
          "chill",
          "chill",
          "chill",
          "chill",
          "chill",
          "chill",
          "chill",
          "chill",
          "chill",
          "chill",
          "chill",
          "chill",
          "chill",
          "chill",
          "chill",
          "chill",
          "chill",
          "chill",
          "chill",
          "chill",
          "chill",
          "chill",
          "chill",
          "chill",
          "chill",
          "chill",
          "chill",
          "chill",
          "chill",
          "chill",
          "chill",
          "chill",
          "chill",
          "chill",
          "chill",
          "chill",
          "chill",
          "chill",
          "chill",
          "chill",
          "chill",
          "chill",
          "chill",
          "chill",
          "chill",
          "chill",
          "chill",
          "chill",
          "chill",
          "chill",
          "chill",
          "chill",
          "chill",
          "chill",
          "chill",
          "chill",
          "chill",
          "chill",
          "chill",
          "chill",
          "chill",
          "chill",
          "chill",
          "chill",
          "chill",
          "chill",
          "chill",
          "chill",
          "chill",
          "chill",
          "chill",
          "chill",
          "chill",
          "chill",
          "chill",
          "chill",
          "chill",
          "chill",
          "chill",
          "chill",
          "chill",
          "chill",
          "chill",
          "chill",
          "chill",
          "chill",
          "chill",
          "chill",
          "chill",
          "chill",
          "chill",
          "chill",
          "chill",
          "chill",
          "chill"
         ],
         "xaxis": "x",
         "y": [
          75,
          60,
          71,
          69,
          71,
          67,
          69,
          76,
          57,
          60,
          0,
          67,
          67,
          67,
          74,
          0,
          3,
          0,
          0,
          76,
          63,
          70,
          79,
          63,
          73,
          79,
          74,
          71,
          66,
          61,
          70,
          70,
          62,
          68,
          63,
          56,
          67,
          65,
          54,
          56,
          65,
          67,
          66,
          54,
          69,
          58,
          72,
          67,
          69,
          65,
          68,
          68,
          64,
          63,
          49,
          67,
          51,
          67,
          69,
          77,
          64,
          36,
          75,
          49,
          58,
          60,
          68,
          70,
          60,
          17,
          75,
          55,
          66,
          64,
          58,
          61,
          42,
          58,
          70,
          64,
          71,
          61,
          66,
          63,
          60,
          63,
          50,
          63,
          69,
          62,
          56,
          71,
          53,
          63,
          61,
          66,
          59,
          66,
          56,
          60,
          56,
          65,
          57,
          58,
          44,
          62,
          61,
          64,
          67,
          53,
          57,
          64,
          61,
          67,
          58,
          67,
          23,
          49,
          61,
          45,
          68,
          26,
          63,
          62,
          55,
          53,
          62,
          60,
          63,
          68,
          68,
          57,
          56,
          60,
          66,
          58,
          60,
          47,
          62,
          65,
          59,
          61,
          64,
          64,
          66,
          52,
          65,
          58,
          62,
          61,
          64,
          57,
          57,
          57,
          53,
          51,
          63,
          62,
          64,
          57,
          9,
          46,
          57,
          55,
          47,
          58,
          69,
          67,
          58,
          57,
          56,
          68,
          57,
          62,
          58,
          58,
          56,
          57,
          55,
          36,
          62,
          46,
          61,
          64,
          55,
          56,
          71,
          66,
          52,
          57,
          69,
          58,
          61,
          60,
          56,
          47,
          53,
          64,
          62,
          56,
          61,
          65,
          0,
          0,
          65,
          69,
          58,
          61,
          59,
          62,
          68,
          62,
          64,
          58,
          64,
          49,
          60,
          48,
          56,
          71,
          55,
          58,
          64,
          60,
          67,
          70,
          63,
          56,
          54,
          60,
          61,
          59,
          65,
          58,
          62,
          59,
          54,
          58,
          55,
          62,
          59,
          57,
          51,
          59,
          57,
          63,
          53,
          58,
          66,
          60,
          47,
          42,
          57,
          48,
          52,
          53,
          61,
          53,
          51,
          56,
          51,
          45,
          54,
          61,
          57,
          57,
          53,
          58,
          60,
          65,
          59,
          62,
          64,
          61,
          55,
          64,
          40,
          59,
          62,
          56,
          59,
          59,
          51,
          59,
          50,
          49,
          58,
          64,
          56,
          56,
          47,
          51,
          59,
          58,
          60,
          55,
          65,
          53,
          58,
          57,
          58,
          60,
          58,
          53,
          49,
          58,
          56,
          51,
          67,
          59,
          57,
          57,
          58,
          59,
          59,
          64,
          45,
          57,
          63,
          53,
          44,
          45,
          51,
          58,
          63,
          58,
          58,
          56,
          49,
          59,
          58,
          57,
          58,
          58,
          51,
          51,
          57,
          50,
          58,
          58,
          58,
          57,
          66,
          55,
          56,
          65,
          60,
          62,
          48,
          58,
          61,
          63,
          54,
          53,
          53,
          59,
          56,
          56,
          47,
          52,
          60,
          60,
          59,
          60,
          58,
          54,
          54,
          54,
          61,
          52,
          48,
          53,
          44,
          55,
          52,
          53,
          59,
          59,
          51,
          66,
          61,
          56,
          33,
          45,
          63,
          52,
          33,
          52,
          52,
          38,
          32,
          60,
          61,
          56,
          59,
          59,
          57,
          55,
          58,
          62,
          54,
          56,
          55,
          54,
          63,
          65,
          47,
          56,
          55,
          56,
          45,
          43,
          55,
          55,
          49,
          55,
          43,
          57,
          55,
          54,
          45,
          61,
          48,
          58,
          58,
          58,
          42,
          48,
          55,
          58,
          59,
          57,
          46,
          55,
          57,
          56,
          47,
          56,
          65,
          49,
          55,
          62,
          50,
          41,
          58,
          37,
          56,
          62,
          48,
          56,
          52,
          47,
          56,
          48,
          57,
          62,
          44,
          43,
          50,
          62,
          41,
          58,
          58,
          52,
          52,
          48,
          57,
          57,
          44,
          55,
          53,
          47,
          59,
          55,
          53,
          48,
          58,
          57,
          51,
          49,
          53,
          50,
          52,
          56,
          66,
          47,
          51,
          52,
          53,
          48,
          49,
          50,
          54,
          51,
          55,
          49,
          57,
          52,
          58,
          52,
          48,
          57,
          45,
          57,
          58,
          53,
          63,
          0,
          50,
          56,
          59,
          48,
          50,
          55,
          50,
          42,
          46,
          64,
          48,
          45,
          47,
          65,
          59,
          53,
          59,
          56,
          51,
          54,
          46,
          42,
          51,
          52,
          55,
          47,
          59,
          50,
          54,
          52,
          41,
          60,
          57,
          59,
          43,
          58,
          39,
          33,
          55,
          64,
          65,
          61,
          50,
          44,
          51,
          42,
          54,
          64,
          52,
          53,
          47,
          54,
          54,
          55,
          41,
          56,
          50,
          55,
          64,
          56,
          57,
          53,
          60,
          54,
          53,
          48,
          58,
          55,
          54,
          54,
          46,
          51,
          51,
          57,
          53,
          56,
          54,
          58,
          47,
          42,
          44,
          55,
          50,
          63,
          35
         ],
         "yaxis": "y"
        },
        {
         "alignmentgroup": "True",
         "bingroup": "x",
         "histfunc": "sum",
         "hovertemplate": "Gênero=%{x}<br>sum of Popularidade=%{y}<extra></extra>",
         "legendgroup": "k-pop",
         "marker": {
          "color": "#EE82EE",
          "pattern": {
           "shape": ""
          }
         },
         "name": "k-pop",
         "offsetgroup": "k-pop",
         "orientation": "v",
         "showlegend": true,
         "type": "histogram",
         "x": [
          "k-pop",
          "k-pop",
          "k-pop",
          "k-pop",
          "k-pop",
          "k-pop",
          "k-pop",
          "k-pop",
          "k-pop",
          "k-pop",
          "k-pop",
          "k-pop",
          "k-pop",
          "k-pop",
          "k-pop",
          "k-pop",
          "k-pop",
          "k-pop",
          "k-pop",
          "k-pop",
          "k-pop",
          "k-pop",
          "k-pop",
          "k-pop",
          "k-pop",
          "k-pop",
          "k-pop",
          "k-pop",
          "k-pop",
          "k-pop",
          "k-pop",
          "k-pop",
          "k-pop",
          "k-pop",
          "k-pop",
          "k-pop",
          "k-pop",
          "k-pop",
          "k-pop",
          "k-pop",
          "k-pop",
          "k-pop",
          "k-pop",
          "k-pop",
          "k-pop",
          "k-pop",
          "k-pop",
          "k-pop",
          "k-pop",
          "k-pop",
          "k-pop",
          "k-pop",
          "k-pop",
          "k-pop",
          "k-pop",
          "k-pop",
          "k-pop",
          "k-pop",
          "k-pop",
          "k-pop",
          "k-pop",
          "k-pop",
          "k-pop",
          "k-pop",
          "k-pop",
          "k-pop",
          "k-pop",
          "k-pop",
          "k-pop",
          "k-pop",
          "k-pop",
          "k-pop",
          "k-pop",
          "k-pop",
          "k-pop",
          "k-pop",
          "k-pop",
          "k-pop",
          "k-pop",
          "k-pop",
          "k-pop",
          "k-pop",
          "k-pop",
          "k-pop",
          "k-pop",
          "k-pop",
          "k-pop",
          "k-pop",
          "k-pop",
          "k-pop",
          "k-pop",
          "k-pop",
          "k-pop",
          "k-pop",
          "k-pop",
          "k-pop",
          "k-pop",
          "k-pop",
          "k-pop",
          "k-pop",
          "k-pop",
          "k-pop",
          "k-pop",
          "k-pop",
          "k-pop",
          "k-pop",
          "k-pop",
          "k-pop",
          "k-pop",
          "k-pop",
          "k-pop",
          "k-pop",
          "k-pop",
          "k-pop",
          "k-pop",
          "k-pop",
          "k-pop",
          "k-pop",
          "k-pop",
          "k-pop",
          "k-pop",
          "k-pop",
          "k-pop",
          "k-pop",
          "k-pop",
          "k-pop",
          "k-pop",
          "k-pop",
          "k-pop",
          "k-pop",
          "k-pop",
          "k-pop",
          "k-pop",
          "k-pop",
          "k-pop",
          "k-pop",
          "k-pop",
          "k-pop",
          "k-pop",
          "k-pop",
          "k-pop",
          "k-pop",
          "k-pop",
          "k-pop",
          "k-pop",
          "k-pop",
          "k-pop",
          "k-pop",
          "k-pop",
          "k-pop",
          "k-pop",
          "k-pop",
          "k-pop",
          "k-pop",
          "k-pop",
          "k-pop",
          "k-pop",
          "k-pop",
          "k-pop",
          "k-pop",
          "k-pop",
          "k-pop",
          "k-pop",
          "k-pop",
          "k-pop",
          "k-pop",
          "k-pop",
          "k-pop",
          "k-pop",
          "k-pop",
          "k-pop",
          "k-pop",
          "k-pop",
          "k-pop",
          "k-pop",
          "k-pop",
          "k-pop",
          "k-pop",
          "k-pop",
          "k-pop",
          "k-pop",
          "k-pop",
          "k-pop",
          "k-pop",
          "k-pop",
          "k-pop",
          "k-pop",
          "k-pop",
          "k-pop",
          "k-pop",
          "k-pop",
          "k-pop",
          "k-pop",
          "k-pop",
          "k-pop",
          "k-pop",
          "k-pop",
          "k-pop",
          "k-pop",
          "k-pop",
          "k-pop",
          "k-pop",
          "k-pop",
          "k-pop",
          "k-pop",
          "k-pop",
          "k-pop",
          "k-pop",
          "k-pop",
          "k-pop",
          "k-pop",
          "k-pop",
          "k-pop",
          "k-pop",
          "k-pop",
          "k-pop",
          "k-pop",
          "k-pop",
          "k-pop",
          "k-pop",
          "k-pop",
          "k-pop",
          "k-pop",
          "k-pop",
          "k-pop",
          "k-pop",
          "k-pop",
          "k-pop",
          "k-pop",
          "k-pop",
          "k-pop",
          "k-pop",
          "k-pop",
          "k-pop",
          "k-pop",
          "k-pop",
          "k-pop",
          "k-pop",
          "k-pop",
          "k-pop",
          "k-pop",
          "k-pop",
          "k-pop",
          "k-pop",
          "k-pop",
          "k-pop",
          "k-pop",
          "k-pop",
          "k-pop",
          "k-pop",
          "k-pop",
          "k-pop",
          "k-pop",
          "k-pop",
          "k-pop",
          "k-pop",
          "k-pop",
          "k-pop",
          "k-pop",
          "k-pop",
          "k-pop",
          "k-pop",
          "k-pop",
          "k-pop",
          "k-pop",
          "k-pop",
          "k-pop",
          "k-pop",
          "k-pop",
          "k-pop",
          "k-pop",
          "k-pop",
          "k-pop",
          "k-pop",
          "k-pop",
          "k-pop",
          "k-pop",
          "k-pop",
          "k-pop",
          "k-pop",
          "k-pop",
          "k-pop",
          "k-pop",
          "k-pop",
          "k-pop",
          "k-pop",
          "k-pop",
          "k-pop",
          "k-pop",
          "k-pop",
          "k-pop",
          "k-pop",
          "k-pop",
          "k-pop",
          "k-pop",
          "k-pop",
          "k-pop",
          "k-pop",
          "k-pop",
          "k-pop",
          "k-pop",
          "k-pop",
          "k-pop",
          "k-pop",
          "k-pop",
          "k-pop",
          "k-pop",
          "k-pop",
          "k-pop",
          "k-pop",
          "k-pop",
          "k-pop",
          "k-pop",
          "k-pop",
          "k-pop",
          "k-pop",
          "k-pop",
          "k-pop",
          "k-pop",
          "k-pop",
          "k-pop",
          "k-pop",
          "k-pop",
          "k-pop",
          "k-pop",
          "k-pop",
          "k-pop",
          "k-pop",
          "k-pop",
          "k-pop",
          "k-pop",
          "k-pop",
          "k-pop",
          "k-pop",
          "k-pop",
          "k-pop",
          "k-pop",
          "k-pop",
          "k-pop",
          "k-pop",
          "k-pop",
          "k-pop",
          "k-pop",
          "k-pop",
          "k-pop",
          "k-pop",
          "k-pop",
          "k-pop",
          "k-pop",
          "k-pop",
          "k-pop",
          "k-pop",
          "k-pop",
          "k-pop",
          "k-pop",
          "k-pop",
          "k-pop",
          "k-pop",
          "k-pop",
          "k-pop",
          "k-pop",
          "k-pop",
          "k-pop",
          "k-pop",
          "k-pop",
          "k-pop",
          "k-pop",
          "k-pop",
          "k-pop",
          "k-pop",
          "k-pop",
          "k-pop",
          "k-pop",
          "k-pop",
          "k-pop",
          "k-pop",
          "k-pop",
          "k-pop",
          "k-pop",
          "k-pop",
          "k-pop",
          "k-pop",
          "k-pop",
          "k-pop",
          "k-pop",
          "k-pop",
          "k-pop",
          "k-pop",
          "k-pop",
          "k-pop",
          "k-pop",
          "k-pop",
          "k-pop",
          "k-pop",
          "k-pop",
          "k-pop",
          "k-pop",
          "k-pop",
          "k-pop",
          "k-pop",
          "k-pop",
          "k-pop",
          "k-pop",
          "k-pop",
          "k-pop",
          "k-pop",
          "k-pop",
          "k-pop",
          "k-pop",
          "k-pop",
          "k-pop",
          "k-pop",
          "k-pop",
          "k-pop",
          "k-pop",
          "k-pop",
          "k-pop",
          "k-pop",
          "k-pop",
          "k-pop",
          "k-pop",
          "k-pop",
          "k-pop",
          "k-pop",
          "k-pop",
          "k-pop",
          "k-pop",
          "k-pop",
          "k-pop",
          "k-pop",
          "k-pop",
          "k-pop",
          "k-pop",
          "k-pop",
          "k-pop",
          "k-pop",
          "k-pop",
          "k-pop",
          "k-pop",
          "k-pop",
          "k-pop",
          "k-pop",
          "k-pop",
          "k-pop",
          "k-pop",
          "k-pop",
          "k-pop",
          "k-pop",
          "k-pop",
          "k-pop",
          "k-pop",
          "k-pop",
          "k-pop",
          "k-pop",
          "k-pop",
          "k-pop",
          "k-pop",
          "k-pop",
          "k-pop",
          "k-pop",
          "k-pop",
          "k-pop",
          "k-pop",
          "k-pop",
          "k-pop",
          "k-pop",
          "k-pop",
          "k-pop",
          "k-pop",
          "k-pop",
          "k-pop",
          "k-pop",
          "k-pop",
          "k-pop",
          "k-pop",
          "k-pop",
          "k-pop",
          "k-pop",
          "k-pop",
          "k-pop",
          "k-pop",
          "k-pop",
          "k-pop",
          "k-pop",
          "k-pop",
          "k-pop",
          "k-pop",
          "k-pop",
          "k-pop",
          "k-pop",
          "k-pop",
          "k-pop",
          "k-pop",
          "k-pop",
          "k-pop",
          "k-pop",
          "k-pop",
          "k-pop",
          "k-pop",
          "k-pop",
          "k-pop",
          "k-pop",
          "k-pop",
          "k-pop",
          "k-pop",
          "k-pop",
          "k-pop",
          "k-pop",
          "k-pop",
          "k-pop",
          "k-pop",
          "k-pop",
          "k-pop",
          "k-pop",
          "k-pop",
          "k-pop",
          "k-pop",
          "k-pop",
          "k-pop",
          "k-pop",
          "k-pop",
          "k-pop",
          "k-pop",
          "k-pop",
          "k-pop",
          "k-pop",
          "k-pop",
          "k-pop",
          "k-pop",
          "k-pop",
          "k-pop",
          "k-pop",
          "k-pop",
          "k-pop",
          "k-pop",
          "k-pop",
          "k-pop",
          "k-pop",
          "k-pop",
          "k-pop",
          "k-pop",
          "k-pop",
          "k-pop",
          "k-pop",
          "k-pop",
          "k-pop",
          "k-pop",
          "k-pop",
          "k-pop",
          "k-pop",
          "k-pop",
          "k-pop",
          "k-pop",
          "k-pop",
          "k-pop",
          "k-pop",
          "k-pop",
          "k-pop",
          "k-pop",
          "k-pop",
          "k-pop",
          "k-pop",
          "k-pop",
          "k-pop",
          "k-pop",
          "k-pop",
          "k-pop",
          "k-pop",
          "k-pop",
          "k-pop",
          "k-pop",
          "k-pop",
          "k-pop",
          "k-pop",
          "k-pop",
          "k-pop",
          "k-pop",
          "k-pop",
          "k-pop",
          "k-pop",
          "k-pop",
          "k-pop",
          "k-pop",
          "k-pop",
          "k-pop",
          "k-pop",
          "k-pop",
          "k-pop",
          "k-pop",
          "k-pop",
          "k-pop",
          "k-pop",
          "k-pop",
          "k-pop",
          "k-pop",
          "k-pop",
          "k-pop",
          "k-pop",
          "k-pop",
          "k-pop",
          "k-pop",
          "k-pop",
          "k-pop",
          "k-pop",
          "k-pop",
          "k-pop",
          "k-pop",
          "k-pop",
          "k-pop",
          "k-pop",
          "k-pop",
          "k-pop",
          "k-pop",
          "k-pop",
          "k-pop",
          "k-pop",
          "k-pop",
          "k-pop",
          "k-pop",
          "k-pop",
          "k-pop",
          "k-pop",
          "k-pop",
          "k-pop",
          "k-pop",
          "k-pop",
          "k-pop",
          "k-pop",
          "k-pop",
          "k-pop",
          "k-pop",
          "k-pop",
          "k-pop",
          "k-pop",
          "k-pop",
          "k-pop",
          "k-pop",
          "k-pop",
          "k-pop",
          "k-pop",
          "k-pop",
          "k-pop",
          "k-pop",
          "k-pop",
          "k-pop",
          "k-pop",
          "k-pop",
          "k-pop",
          "k-pop",
          "k-pop",
          "k-pop",
          "k-pop",
          "k-pop",
          "k-pop",
          "k-pop",
          "k-pop",
          "k-pop",
          "k-pop",
          "k-pop",
          "k-pop",
          "k-pop",
          "k-pop",
          "k-pop",
          "k-pop",
          "k-pop",
          "k-pop",
          "k-pop",
          "k-pop",
          "k-pop",
          "k-pop",
          "k-pop",
          "k-pop",
          "k-pop",
          "k-pop",
          "k-pop",
          "k-pop",
          "k-pop",
          "k-pop",
          "k-pop",
          "k-pop",
          "k-pop",
          "k-pop",
          "k-pop",
          "k-pop",
          "k-pop",
          "k-pop",
          "k-pop",
          "k-pop",
          "k-pop",
          "k-pop",
          "k-pop",
          "k-pop",
          "k-pop",
          "k-pop",
          "k-pop",
          "k-pop",
          "k-pop",
          "k-pop",
          "k-pop",
          "k-pop",
          "k-pop",
          "k-pop",
          "k-pop",
          "k-pop",
          "k-pop",
          "k-pop",
          "k-pop",
          "k-pop",
          "k-pop"
         ],
         "xaxis": "x",
         "y": [
          73,
          78,
          83,
          73,
          80,
          32,
          73,
          77,
          31,
          72,
          85,
          36,
          82,
          80,
          75,
          76,
          76,
          80,
          36,
          34,
          71,
          30,
          84,
          85,
          65,
          47,
          47,
          80,
          68,
          65,
          43,
          46,
          72,
          83,
          65,
          21,
          66,
          66,
          74,
          67,
          64,
          62,
          88,
          61,
          64,
          86,
          74,
          83,
          78,
          71,
          70,
          75,
          62,
          73,
          78,
          62,
          62,
          76,
          71,
          76,
          62,
          60,
          63,
          80,
          62,
          77,
          75,
          77,
          77,
          62,
          78,
          62,
          61,
          63,
          63,
          63,
          63,
          64,
          60,
          62,
          75,
          74,
          85,
          72,
          60,
          78,
          73,
          74,
          74,
          75,
          74,
          60,
          72,
          59,
          80,
          59,
          59,
          59,
          60,
          59,
          60,
          59,
          60,
          60,
          69,
          77,
          59,
          59,
          57,
          82,
          76,
          57,
          78,
          78,
          58,
          76,
          73,
          57,
          72,
          76,
          67,
          58,
          57,
          71,
          75,
          72,
          58,
          58,
          58,
          57,
          58,
          74,
          58,
          56,
          70,
          75,
          76,
          72,
          73,
          58,
          80,
          58,
          70,
          56,
          55,
          76,
          72,
          71,
          57,
          56,
          58,
          72,
          70,
          70,
          71,
          57,
          71,
          78,
          75,
          57,
          72,
          56,
          56,
          57,
          56,
          57,
          57,
          56,
          55,
          57,
          71,
          55,
          71,
          73,
          74,
          12,
          55,
          56,
          77,
          79,
          74,
          70,
          66,
          71,
          70,
          55,
          56,
          75,
          55,
          55,
          66,
          55,
          78,
          54,
          55,
          75,
          69,
          55,
          55,
          56,
          55,
          56,
          54,
          55,
          56,
          55,
          69,
          77,
          78,
          73,
          54,
          71,
          54,
          82,
          56,
          74,
          75,
          54,
          71,
          76,
          55,
          66,
          54,
          74,
          73,
          54,
          63,
          70,
          54,
          73,
          71,
          54,
          71,
          70,
          53,
          52,
          71,
          53,
          54,
          54,
          54,
          78,
          69,
          72,
          53,
          73,
          71,
          53,
          53,
          75,
          53,
          66,
          71,
          68,
          63,
          55,
          52,
          74,
          52,
          69,
          51,
          73,
          70,
          67,
          53,
          74,
          72,
          73,
          53,
          53,
          74,
          53,
          53,
          0,
          52,
          69,
          52,
          52,
          53,
          52,
          53,
          52,
          52,
          64,
          52,
          50,
          69,
          51,
          74,
          52,
          52,
          67,
          52,
          67,
          67,
          70,
          52,
          64,
          70,
          51,
          52,
          51,
          51,
          51,
          51,
          68,
          52,
          73,
          66,
          67,
          52,
          52,
          51,
          51,
          51,
          79,
          51,
          77,
          69,
          51,
          67,
          74,
          51,
          68,
          73,
          65,
          70,
          51,
          71,
          72,
          70,
          67,
          50,
          59,
          68,
          50,
          51,
          69,
          67,
          51,
          50,
          68,
          51,
          66,
          50,
          50,
          50,
          71,
          50,
          49,
          52,
          51,
          51,
          51,
          59,
          50,
          69,
          70,
          50,
          50,
          72,
          50,
          68,
          74,
          50,
          50,
          75,
          63,
          50,
          50,
          69,
          50,
          68,
          71,
          67,
          49,
          49,
          63,
          49,
          52,
          50,
          50,
          68,
          64,
          66,
          66,
          66,
          49,
          49,
          49,
          49,
          76,
          49,
          47,
          49,
          69,
          62,
          47,
          49,
          48,
          70,
          71,
          68,
          50,
          48,
          47,
          70,
          71,
          68,
          48,
          67,
          48,
          50,
          48,
          49,
          49,
          48,
          73,
          65,
          65,
          48,
          49,
          5,
          49,
          48,
          48,
          48,
          50,
          72,
          69,
          72,
          70,
          46,
          61,
          47,
          72,
          68,
          49,
          66,
          71,
          63,
          68,
          47,
          64,
          69,
          48,
          47,
          64,
          65,
          69,
          49,
          74,
          58,
          64,
          48,
          47,
          47,
          47,
          48,
          48,
          47,
          48,
          67,
          75,
          47,
          66,
          67,
          63,
          48,
          66,
          48,
          66,
          66,
          46,
          48,
          69,
          46,
          49,
          48,
          49,
          68,
          63,
          46,
          47,
          48,
          63,
          67,
          66,
          47,
          48,
          47,
          47,
          68,
          47,
          69,
          73,
          47,
          60,
          62,
          69,
          68,
          65,
          67,
          62,
          66,
          58,
          46,
          68,
          46,
          66,
          45,
          45,
          74,
          65,
          68,
          65,
          47,
          70,
          46,
          62,
          65,
          46,
          46,
          46,
          46,
          45,
          46,
          46,
          46,
          67,
          62,
          71,
          63,
          62,
          46,
          44,
          46,
          69,
          46,
          65,
          44,
          45,
          66,
          46,
          45,
          46,
          45,
          46,
          64,
          70,
          47,
          47,
          45,
          45,
          45,
          64,
          46,
          45,
          63,
          45,
          45,
          45,
          65,
          50,
          77,
          68,
          46,
          65,
          71,
          68,
          68,
          73,
          44,
          46,
          74,
          66,
          71,
          70,
          73,
          45,
          66,
          46,
          70,
          62,
          64,
          47,
          68,
          45,
          46,
          46,
          44,
          62,
          45,
          66,
          45,
          62,
          62,
          59,
          44,
          45,
          45,
          62,
          64,
          45,
          45,
          68,
          65,
          66,
          67,
          45,
          65,
          58,
          73,
          61,
          45,
          44,
          45,
          44,
          44,
          44,
          62,
          66,
          44,
          63,
          67,
          57,
          64,
          68,
          69,
          67,
          44,
          45,
          45,
          44,
          44,
          44,
          65,
          74,
          66,
          73,
          69,
          66,
          45,
          43,
          44,
          42,
          44,
          46,
          44,
          44,
          43,
          44,
          45,
          43,
          66,
          43,
          66,
          69,
          44,
          43,
          44,
          43,
          61,
          43,
          43,
          43,
          45,
          45,
          64,
          67,
          67,
          77,
          43,
          43,
          70,
          43,
          66,
          45,
          42,
          67,
          58,
          66,
          56,
          60,
          69,
          43,
          43,
          43,
          42,
          43,
          43,
          43,
          64,
          43,
          63,
          42,
          59,
          43,
          44,
          43,
          55,
          66,
          63,
          43,
          44,
          42,
          61,
          43,
          43
         ],
         "yaxis": "y"
        },
        {
         "alignmentgroup": "True",
         "bingroup": "x",
         "histfunc": "sum",
         "hovertemplate": "Gênero=%{x}<br>sum of Popularidade=%{y}<extra></extra>",
         "legendgroup": "pop-film",
         "marker": {
          "color": "#9932CC",
          "pattern": {
           "shape": ""
          }
         },
         "name": "pop-film",
         "offsetgroup": "pop-film",
         "orientation": "v",
         "showlegend": true,
         "type": "histogram",
         "x": [
          "pop-film",
          "pop-film",
          "pop-film",
          "pop-film",
          "pop-film",
          "pop-film",
          "pop-film",
          "pop-film",
          "pop-film",
          "pop-film",
          "pop-film",
          "pop-film",
          "pop-film",
          "pop-film",
          "pop-film",
          "pop-film",
          "pop-film",
          "pop-film",
          "pop-film",
          "pop-film",
          "pop-film",
          "pop-film",
          "pop-film",
          "pop-film",
          "pop-film",
          "pop-film",
          "pop-film",
          "pop-film",
          "pop-film",
          "pop-film",
          "pop-film",
          "pop-film",
          "pop-film",
          "pop-film",
          "pop-film",
          "pop-film",
          "pop-film",
          "pop-film",
          "pop-film",
          "pop-film",
          "pop-film",
          "pop-film",
          "pop-film",
          "pop-film",
          "pop-film",
          "pop-film",
          "pop-film",
          "pop-film",
          "pop-film",
          "pop-film",
          "pop-film",
          "pop-film",
          "pop-film",
          "pop-film",
          "pop-film",
          "pop-film",
          "pop-film",
          "pop-film",
          "pop-film",
          "pop-film",
          "pop-film",
          "pop-film",
          "pop-film",
          "pop-film",
          "pop-film",
          "pop-film",
          "pop-film",
          "pop-film",
          "pop-film",
          "pop-film",
          "pop-film",
          "pop-film",
          "pop-film",
          "pop-film",
          "pop-film",
          "pop-film",
          "pop-film",
          "pop-film",
          "pop-film",
          "pop-film",
          "pop-film",
          "pop-film",
          "pop-film",
          "pop-film",
          "pop-film",
          "pop-film",
          "pop-film",
          "pop-film",
          "pop-film",
          "pop-film",
          "pop-film",
          "pop-film",
          "pop-film",
          "pop-film",
          "pop-film",
          "pop-film",
          "pop-film",
          "pop-film",
          "pop-film",
          "pop-film",
          "pop-film",
          "pop-film",
          "pop-film",
          "pop-film",
          "pop-film",
          "pop-film",
          "pop-film",
          "pop-film",
          "pop-film",
          "pop-film",
          "pop-film",
          "pop-film",
          "pop-film",
          "pop-film",
          "pop-film",
          "pop-film",
          "pop-film",
          "pop-film",
          "pop-film",
          "pop-film",
          "pop-film",
          "pop-film",
          "pop-film",
          "pop-film",
          "pop-film",
          "pop-film",
          "pop-film",
          "pop-film",
          "pop-film",
          "pop-film",
          "pop-film",
          "pop-film",
          "pop-film",
          "pop-film",
          "pop-film",
          "pop-film",
          "pop-film",
          "pop-film",
          "pop-film",
          "pop-film",
          "pop-film",
          "pop-film",
          "pop-film",
          "pop-film",
          "pop-film",
          "pop-film",
          "pop-film",
          "pop-film",
          "pop-film",
          "pop-film",
          "pop-film",
          "pop-film",
          "pop-film",
          "pop-film",
          "pop-film",
          "pop-film",
          "pop-film",
          "pop-film",
          "pop-film",
          "pop-film",
          "pop-film",
          "pop-film",
          "pop-film",
          "pop-film",
          "pop-film",
          "pop-film",
          "pop-film",
          "pop-film",
          "pop-film",
          "pop-film",
          "pop-film",
          "pop-film",
          "pop-film",
          "pop-film",
          "pop-film",
          "pop-film",
          "pop-film",
          "pop-film",
          "pop-film",
          "pop-film",
          "pop-film",
          "pop-film",
          "pop-film",
          "pop-film",
          "pop-film",
          "pop-film",
          "pop-film",
          "pop-film",
          "pop-film",
          "pop-film",
          "pop-film",
          "pop-film",
          "pop-film",
          "pop-film",
          "pop-film",
          "pop-film",
          "pop-film",
          "pop-film",
          "pop-film",
          "pop-film",
          "pop-film",
          "pop-film",
          "pop-film",
          "pop-film",
          "pop-film",
          "pop-film",
          "pop-film",
          "pop-film",
          "pop-film",
          "pop-film",
          "pop-film",
          "pop-film",
          "pop-film",
          "pop-film",
          "pop-film",
          "pop-film",
          "pop-film",
          "pop-film",
          "pop-film",
          "pop-film",
          "pop-film",
          "pop-film",
          "pop-film",
          "pop-film",
          "pop-film",
          "pop-film",
          "pop-film",
          "pop-film",
          "pop-film",
          "pop-film",
          "pop-film",
          "pop-film",
          "pop-film",
          "pop-film",
          "pop-film",
          "pop-film",
          "pop-film",
          "pop-film",
          "pop-film",
          "pop-film",
          "pop-film",
          "pop-film",
          "pop-film",
          "pop-film",
          "pop-film",
          "pop-film",
          "pop-film",
          "pop-film",
          "pop-film",
          "pop-film",
          "pop-film",
          "pop-film",
          "pop-film",
          "pop-film",
          "pop-film",
          "pop-film",
          "pop-film",
          "pop-film",
          "pop-film",
          "pop-film",
          "pop-film",
          "pop-film",
          "pop-film",
          "pop-film",
          "pop-film",
          "pop-film",
          "pop-film",
          "pop-film",
          "pop-film",
          "pop-film",
          "pop-film",
          "pop-film",
          "pop-film",
          "pop-film",
          "pop-film",
          "pop-film",
          "pop-film",
          "pop-film",
          "pop-film",
          "pop-film",
          "pop-film",
          "pop-film",
          "pop-film",
          "pop-film",
          "pop-film",
          "pop-film",
          "pop-film",
          "pop-film",
          "pop-film",
          "pop-film",
          "pop-film",
          "pop-film",
          "pop-film",
          "pop-film",
          "pop-film",
          "pop-film",
          "pop-film",
          "pop-film",
          "pop-film",
          "pop-film",
          "pop-film",
          "pop-film",
          "pop-film",
          "pop-film",
          "pop-film",
          "pop-film",
          "pop-film",
          "pop-film",
          "pop-film",
          "pop-film",
          "pop-film",
          "pop-film",
          "pop-film",
          "pop-film",
          "pop-film",
          "pop-film",
          "pop-film",
          "pop-film",
          "pop-film",
          "pop-film",
          "pop-film",
          "pop-film",
          "pop-film",
          "pop-film",
          "pop-film",
          "pop-film",
          "pop-film",
          "pop-film",
          "pop-film",
          "pop-film",
          "pop-film",
          "pop-film",
          "pop-film",
          "pop-film",
          "pop-film",
          "pop-film",
          "pop-film",
          "pop-film",
          "pop-film",
          "pop-film",
          "pop-film",
          "pop-film",
          "pop-film",
          "pop-film",
          "pop-film",
          "pop-film",
          "pop-film",
          "pop-film",
          "pop-film",
          "pop-film",
          "pop-film",
          "pop-film",
          "pop-film",
          "pop-film",
          "pop-film",
          "pop-film",
          "pop-film",
          "pop-film",
          "pop-film",
          "pop-film",
          "pop-film",
          "pop-film",
          "pop-film",
          "pop-film",
          "pop-film",
          "pop-film",
          "pop-film",
          "pop-film",
          "pop-film",
          "pop-film",
          "pop-film",
          "pop-film",
          "pop-film",
          "pop-film",
          "pop-film",
          "pop-film",
          "pop-film",
          "pop-film",
          "pop-film",
          "pop-film",
          "pop-film",
          "pop-film",
          "pop-film",
          "pop-film",
          "pop-film",
          "pop-film",
          "pop-film",
          "pop-film",
          "pop-film",
          "pop-film",
          "pop-film",
          "pop-film",
          "pop-film",
          "pop-film",
          "pop-film",
          "pop-film",
          "pop-film",
          "pop-film",
          "pop-film",
          "pop-film",
          "pop-film",
          "pop-film",
          "pop-film",
          "pop-film",
          "pop-film",
          "pop-film",
          "pop-film",
          "pop-film",
          "pop-film",
          "pop-film",
          "pop-film",
          "pop-film",
          "pop-film",
          "pop-film",
          "pop-film",
          "pop-film",
          "pop-film",
          "pop-film",
          "pop-film",
          "pop-film",
          "pop-film",
          "pop-film",
          "pop-film",
          "pop-film",
          "pop-film",
          "pop-film",
          "pop-film",
          "pop-film",
          "pop-film",
          "pop-film",
          "pop-film",
          "pop-film",
          "pop-film",
          "pop-film",
          "pop-film",
          "pop-film",
          "pop-film",
          "pop-film",
          "pop-film",
          "pop-film",
          "pop-film",
          "pop-film",
          "pop-film",
          "pop-film",
          "pop-film",
          "pop-film",
          "pop-film",
          "pop-film",
          "pop-film",
          "pop-film",
          "pop-film",
          "pop-film",
          "pop-film",
          "pop-film",
          "pop-film",
          "pop-film",
          "pop-film",
          "pop-film",
          "pop-film",
          "pop-film",
          "pop-film",
          "pop-film",
          "pop-film",
          "pop-film",
          "pop-film",
          "pop-film",
          "pop-film",
          "pop-film",
          "pop-film",
          "pop-film",
          "pop-film",
          "pop-film",
          "pop-film",
          "pop-film",
          "pop-film",
          "pop-film",
          "pop-film",
          "pop-film",
          "pop-film",
          "pop-film",
          "pop-film",
          "pop-film",
          "pop-film",
          "pop-film",
          "pop-film",
          "pop-film",
          "pop-film",
          "pop-film",
          "pop-film",
          "pop-film",
          "pop-film",
          "pop-film",
          "pop-film",
          "pop-film",
          "pop-film",
          "pop-film",
          "pop-film",
          "pop-film",
          "pop-film",
          "pop-film",
          "pop-film",
          "pop-film",
          "pop-film",
          "pop-film",
          "pop-film",
          "pop-film",
          "pop-film",
          "pop-film",
          "pop-film",
          "pop-film",
          "pop-film",
          "pop-film",
          "pop-film",
          "pop-film",
          "pop-film",
          "pop-film",
          "pop-film",
          "pop-film",
          "pop-film",
          "pop-film",
          "pop-film",
          "pop-film",
          "pop-film",
          "pop-film",
          "pop-film",
          "pop-film",
          "pop-film",
          "pop-film",
          "pop-film",
          "pop-film",
          "pop-film",
          "pop-film",
          "pop-film",
          "pop-film",
          "pop-film",
          "pop-film",
          "pop-film",
          "pop-film",
          "pop-film",
          "pop-film",
          "pop-film",
          "pop-film",
          "pop-film",
          "pop-film",
          "pop-film",
          "pop-film",
          "pop-film",
          "pop-film",
          "pop-film",
          "pop-film",
          "pop-film",
          "pop-film",
          "pop-film",
          "pop-film",
          "pop-film",
          "pop-film",
          "pop-film",
          "pop-film",
          "pop-film",
          "pop-film",
          "pop-film"
         ],
         "xaxis": "x",
         "y": [
          74,
          71,
          73,
          71,
          71,
          76,
          72,
          72,
          72,
          79,
          74,
          73,
          72,
          74,
          71,
          71,
          71,
          72,
          71,
          70,
          73,
          74,
          70,
          72,
          77,
          70,
          77,
          77,
          72,
          73,
          79,
          72,
          69,
          69,
          71,
          68,
          71,
          68,
          70,
          70,
          69,
          71,
          68,
          69,
          69,
          71,
          68,
          29,
          69,
          70,
          36,
          69,
          68,
          69,
          71,
          69,
          70,
          42,
          70,
          68,
          69,
          68,
          69,
          71,
          68,
          67,
          67,
          67,
          69,
          67,
          67,
          68,
          66,
          66,
          67,
          67,
          67,
          67,
          66,
          67,
          66,
          67,
          67,
          68,
          67,
          68,
          66,
          67,
          67,
          67,
          66,
          66,
          68,
          68,
          67,
          68,
          67,
          66,
          66,
          66,
          66,
          66,
          65,
          65,
          65,
          65,
          65,
          66,
          65,
          66,
          66,
          65,
          65,
          66,
          66,
          65,
          65,
          66,
          64,
          66,
          65,
          66,
          65,
          64,
          66,
          66,
          65,
          64,
          64,
          64,
          64,
          39,
          64,
          65,
          65,
          66,
          64,
          65,
          63,
          65,
          64,
          64,
          65,
          65,
          66,
          65,
          65,
          31,
          66,
          64,
          64,
          64,
          64,
          64,
          0,
          64,
          64,
          64,
          66,
          64,
          63,
          64,
          64,
          64,
          65,
          63,
          64,
          63,
          67,
          47,
          64,
          64,
          64,
          63,
          63,
          63,
          64,
          63,
          63,
          63,
          63,
          64,
          63,
          64,
          63,
          64,
          65,
          63,
          63,
          64,
          63,
          62,
          64,
          62,
          64,
          63,
          64,
          63,
          63,
          62,
          63,
          63,
          63,
          64,
          62,
          62,
          63,
          61,
          62,
          62,
          62,
          45,
          62,
          21,
          63,
          7,
          5,
          63,
          62,
          7,
          62,
          62,
          62,
          61,
          63,
          63,
          63,
          62,
          62,
          52,
          63,
          63,
          63,
          62,
          62,
          40,
          62,
          39,
          61,
          62,
          62,
          61,
          62,
          61,
          62,
          41,
          63,
          62,
          62,
          62,
          63,
          61,
          62,
          61,
          33,
          55,
          61,
          64,
          43,
          61,
          63,
          61,
          61,
          62,
          61,
          61,
          60,
          61,
          61,
          61,
          61,
          61,
          61,
          61,
          61,
          60,
          61,
          61,
          61,
          60,
          61,
          60,
          61,
          63,
          62,
          60,
          61,
          61,
          62,
          62,
          59,
          61,
          61,
          60,
          61,
          62,
          60,
          61,
          60,
          60,
          60,
          59,
          60,
          61,
          59,
          61,
          61,
          48,
          60,
          60,
          60,
          60,
          60,
          60,
          59,
          60,
          60,
          59,
          60,
          60,
          60,
          60,
          33,
          60,
          59,
          60,
          0,
          60,
          59,
          59,
          60,
          59,
          60,
          59,
          59,
          59,
          59,
          60,
          59,
          59,
          61,
          60,
          59,
          59,
          60,
          60,
          59,
          58,
          58,
          58,
          60,
          59,
          60,
          59,
          59,
          58,
          59,
          58,
          60,
          58,
          59,
          60,
          58,
          60,
          58,
          59,
          59,
          59,
          59,
          59,
          58,
          58,
          59,
          57,
          59,
          59,
          45,
          58,
          59,
          58,
          58,
          59,
          59,
          58,
          58,
          58,
          25,
          58,
          59,
          58,
          58,
          57,
          58,
          58,
          57,
          58,
          58,
          57,
          30,
          25,
          57,
          57,
          57,
          58,
          59,
          57,
          58,
          57,
          58,
          57,
          57,
          57,
          57,
          58,
          58,
          57,
          57,
          58,
          57,
          57,
          58,
          58,
          40,
          59,
          24,
          57,
          28,
          57,
          20,
          57,
          58,
          58,
          57,
          57,
          57,
          57,
          4,
          57,
          4,
          3,
          57,
          57,
          58,
          3,
          2,
          3,
          57,
          57,
          57,
          58,
          56,
          57,
          58,
          56,
          58,
          57,
          57,
          57,
          57,
          58,
          58,
          57,
          57,
          58,
          56,
          57,
          58,
          58,
          57,
          57,
          57,
          57,
          57,
          57,
          57,
          56,
          56,
          57,
          56,
          56,
          57,
          31,
          58,
          57,
          56,
          59,
          56,
          56,
          57,
          56,
          57,
          56,
          57,
          56,
          57,
          56,
          56,
          56,
          57,
          56,
          56,
          57,
          56,
          56,
          57,
          56,
          57,
          56,
          56,
          56,
          57,
          57,
          58,
          57,
          57,
          55,
          57,
          56,
          56,
          58,
          56,
          57,
          56,
          56,
          56,
          55,
          56,
          57,
          55,
          55,
          56,
          56,
          56,
          56,
          56,
          56,
          57,
          57,
          56,
          56,
          55,
          55,
          55,
          56,
          56,
          56,
          56,
          56,
          56,
          54,
          55,
          55,
          55,
          56,
          56,
          56,
          55,
          56,
          55,
          55,
          55
         ],
         "yaxis": "y"
        }
       ],
       "layout": {
        "autosize": true,
        "barmode": "relative",
        "legend": {
         "title": {
          "text": "Gênero"
         },
         "tracegroupgap": 0
        },
        "template": {
         "data": {
          "bar": [
           {
            "error_x": {
             "color": "#2a3f5f"
            },
            "error_y": {
             "color": "#2a3f5f"
            },
            "marker": {
             "line": {
              "color": "#E5ECF6",
              "width": 0.5
             },
             "pattern": {
              "fillmode": "overlay",
              "size": 10,
              "solidity": 0.2
             }
            },
            "type": "bar"
           }
          ],
          "barpolar": [
           {
            "marker": {
             "line": {
              "color": "#E5ECF6",
              "width": 0.5
             },
             "pattern": {
              "fillmode": "overlay",
              "size": 10,
              "solidity": 0.2
             }
            },
            "type": "barpolar"
           }
          ],
          "carpet": [
           {
            "aaxis": {
             "endlinecolor": "#2a3f5f",
             "gridcolor": "white",
             "linecolor": "white",
             "minorgridcolor": "white",
             "startlinecolor": "#2a3f5f"
            },
            "baxis": {
             "endlinecolor": "#2a3f5f",
             "gridcolor": "white",
             "linecolor": "white",
             "minorgridcolor": "white",
             "startlinecolor": "#2a3f5f"
            },
            "type": "carpet"
           }
          ],
          "choropleth": [
           {
            "colorbar": {
             "outlinewidth": 0,
             "ticks": ""
            },
            "type": "choropleth"
           }
          ],
          "contour": [
           {
            "colorbar": {
             "outlinewidth": 0,
             "ticks": ""
            },
            "colorscale": [
             [
              0,
              "#0d0887"
             ],
             [
              0.1111111111111111,
              "#46039f"
             ],
             [
              0.2222222222222222,
              "#7201a8"
             ],
             [
              0.3333333333333333,
              "#9c179e"
             ],
             [
              0.4444444444444444,
              "#bd3786"
             ],
             [
              0.5555555555555556,
              "#d8576b"
             ],
             [
              0.6666666666666666,
              "#ed7953"
             ],
             [
              0.7777777777777778,
              "#fb9f3a"
             ],
             [
              0.8888888888888888,
              "#fdca26"
             ],
             [
              1,
              "#f0f921"
             ]
            ],
            "type": "contour"
           }
          ],
          "contourcarpet": [
           {
            "colorbar": {
             "outlinewidth": 0,
             "ticks": ""
            },
            "type": "contourcarpet"
           }
          ],
          "heatmap": [
           {
            "colorbar": {
             "outlinewidth": 0,
             "ticks": ""
            },
            "colorscale": [
             [
              0,
              "#0d0887"
             ],
             [
              0.1111111111111111,
              "#46039f"
             ],
             [
              0.2222222222222222,
              "#7201a8"
             ],
             [
              0.3333333333333333,
              "#9c179e"
             ],
             [
              0.4444444444444444,
              "#bd3786"
             ],
             [
              0.5555555555555556,
              "#d8576b"
             ],
             [
              0.6666666666666666,
              "#ed7953"
             ],
             [
              0.7777777777777778,
              "#fb9f3a"
             ],
             [
              0.8888888888888888,
              "#fdca26"
             ],
             [
              1,
              "#f0f921"
             ]
            ],
            "type": "heatmap"
           }
          ],
          "heatmapgl": [
           {
            "colorbar": {
             "outlinewidth": 0,
             "ticks": ""
            },
            "colorscale": [
             [
              0,
              "#0d0887"
             ],
             [
              0.1111111111111111,
              "#46039f"
             ],
             [
              0.2222222222222222,
              "#7201a8"
             ],
             [
              0.3333333333333333,
              "#9c179e"
             ],
             [
              0.4444444444444444,
              "#bd3786"
             ],
             [
              0.5555555555555556,
              "#d8576b"
             ],
             [
              0.6666666666666666,
              "#ed7953"
             ],
             [
              0.7777777777777778,
              "#fb9f3a"
             ],
             [
              0.8888888888888888,
              "#fdca26"
             ],
             [
              1,
              "#f0f921"
             ]
            ],
            "type": "heatmapgl"
           }
          ],
          "histogram": [
           {
            "marker": {
             "pattern": {
              "fillmode": "overlay",
              "size": 10,
              "solidity": 0.2
             }
            },
            "type": "histogram"
           }
          ],
          "histogram2d": [
           {
            "colorbar": {
             "outlinewidth": 0,
             "ticks": ""
            },
            "colorscale": [
             [
              0,
              "#0d0887"
             ],
             [
              0.1111111111111111,
              "#46039f"
             ],
             [
              0.2222222222222222,
              "#7201a8"
             ],
             [
              0.3333333333333333,
              "#9c179e"
             ],
             [
              0.4444444444444444,
              "#bd3786"
             ],
             [
              0.5555555555555556,
              "#d8576b"
             ],
             [
              0.6666666666666666,
              "#ed7953"
             ],
             [
              0.7777777777777778,
              "#fb9f3a"
             ],
             [
              0.8888888888888888,
              "#fdca26"
             ],
             [
              1,
              "#f0f921"
             ]
            ],
            "type": "histogram2d"
           }
          ],
          "histogram2dcontour": [
           {
            "colorbar": {
             "outlinewidth": 0,
             "ticks": ""
            },
            "colorscale": [
             [
              0,
              "#0d0887"
             ],
             [
              0.1111111111111111,
              "#46039f"
             ],
             [
              0.2222222222222222,
              "#7201a8"
             ],
             [
              0.3333333333333333,
              "#9c179e"
             ],
             [
              0.4444444444444444,
              "#bd3786"
             ],
             [
              0.5555555555555556,
              "#d8576b"
             ],
             [
              0.6666666666666666,
              "#ed7953"
             ],
             [
              0.7777777777777778,
              "#fb9f3a"
             ],
             [
              0.8888888888888888,
              "#fdca26"
             ],
             [
              1,
              "#f0f921"
             ]
            ],
            "type": "histogram2dcontour"
           }
          ],
          "mesh3d": [
           {
            "colorbar": {
             "outlinewidth": 0,
             "ticks": ""
            },
            "type": "mesh3d"
           }
          ],
          "parcoords": [
           {
            "line": {
             "colorbar": {
              "outlinewidth": 0,
              "ticks": ""
             }
            },
            "type": "parcoords"
           }
          ],
          "pie": [
           {
            "automargin": true,
            "type": "pie"
           }
          ],
          "scatter": [
           {
            "fillpattern": {
             "fillmode": "overlay",
             "size": 10,
             "solidity": 0.2
            },
            "type": "scatter"
           }
          ],
          "scatter3d": [
           {
            "line": {
             "colorbar": {
              "outlinewidth": 0,
              "ticks": ""
             }
            },
            "marker": {
             "colorbar": {
              "outlinewidth": 0,
              "ticks": ""
             }
            },
            "type": "scatter3d"
           }
          ],
          "scattercarpet": [
           {
            "marker": {
             "colorbar": {
              "outlinewidth": 0,
              "ticks": ""
             }
            },
            "type": "scattercarpet"
           }
          ],
          "scattergeo": [
           {
            "marker": {
             "colorbar": {
              "outlinewidth": 0,
              "ticks": ""
             }
            },
            "type": "scattergeo"
           }
          ],
          "scattergl": [
           {
            "marker": {
             "colorbar": {
              "outlinewidth": 0,
              "ticks": ""
             }
            },
            "type": "scattergl"
           }
          ],
          "scattermapbox": [
           {
            "marker": {
             "colorbar": {
              "outlinewidth": 0,
              "ticks": ""
             }
            },
            "type": "scattermapbox"
           }
          ],
          "scatterpolar": [
           {
            "marker": {
             "colorbar": {
              "outlinewidth": 0,
              "ticks": ""
             }
            },
            "type": "scatterpolar"
           }
          ],
          "scatterpolargl": [
           {
            "marker": {
             "colorbar": {
              "outlinewidth": 0,
              "ticks": ""
             }
            },
            "type": "scatterpolargl"
           }
          ],
          "scatterternary": [
           {
            "marker": {
             "colorbar": {
              "outlinewidth": 0,
              "ticks": ""
             }
            },
            "type": "scatterternary"
           }
          ],
          "surface": [
           {
            "colorbar": {
             "outlinewidth": 0,
             "ticks": ""
            },
            "colorscale": [
             [
              0,
              "#0d0887"
             ],
             [
              0.1111111111111111,
              "#46039f"
             ],
             [
              0.2222222222222222,
              "#7201a8"
             ],
             [
              0.3333333333333333,
              "#9c179e"
             ],
             [
              0.4444444444444444,
              "#bd3786"
             ],
             [
              0.5555555555555556,
              "#d8576b"
             ],
             [
              0.6666666666666666,
              "#ed7953"
             ],
             [
              0.7777777777777778,
              "#fb9f3a"
             ],
             [
              0.8888888888888888,
              "#fdca26"
             ],
             [
              1,
              "#f0f921"
             ]
            ],
            "type": "surface"
           }
          ],
          "table": [
           {
            "cells": {
             "fill": {
              "color": "#EBF0F8"
             },
             "line": {
              "color": "white"
             }
            },
            "header": {
             "fill": {
              "color": "#C8D4E3"
             },
             "line": {
              "color": "white"
             }
            },
            "type": "table"
           }
          ]
         },
         "layout": {
          "annotationdefaults": {
           "arrowcolor": "#2a3f5f",
           "arrowhead": 0,
           "arrowwidth": 1
          },
          "autotypenumbers": "strict",
          "coloraxis": {
           "colorbar": {
            "outlinewidth": 0,
            "ticks": ""
           }
          },
          "colorscale": {
           "diverging": [
            [
             0,
             "#8e0152"
            ],
            [
             0.1,
             "#c51b7d"
            ],
            [
             0.2,
             "#de77ae"
            ],
            [
             0.3,
             "#f1b6da"
            ],
            [
             0.4,
             "#fde0ef"
            ],
            [
             0.5,
             "#f7f7f7"
            ],
            [
             0.6,
             "#e6f5d0"
            ],
            [
             0.7,
             "#b8e186"
            ],
            [
             0.8,
             "#7fbc41"
            ],
            [
             0.9,
             "#4d9221"
            ],
            [
             1,
             "#276419"
            ]
           ],
           "sequential": [
            [
             0,
             "#0d0887"
            ],
            [
             0.1111111111111111,
             "#46039f"
            ],
            [
             0.2222222222222222,
             "#7201a8"
            ],
            [
             0.3333333333333333,
             "#9c179e"
            ],
            [
             0.4444444444444444,
             "#bd3786"
            ],
            [
             0.5555555555555556,
             "#d8576b"
            ],
            [
             0.6666666666666666,
             "#ed7953"
            ],
            [
             0.7777777777777778,
             "#fb9f3a"
            ],
            [
             0.8888888888888888,
             "#fdca26"
            ],
            [
             1,
             "#f0f921"
            ]
           ],
           "sequentialminus": [
            [
             0,
             "#0d0887"
            ],
            [
             0.1111111111111111,
             "#46039f"
            ],
            [
             0.2222222222222222,
             "#7201a8"
            ],
            [
             0.3333333333333333,
             "#9c179e"
            ],
            [
             0.4444444444444444,
             "#bd3786"
            ],
            [
             0.5555555555555556,
             "#d8576b"
            ],
            [
             0.6666666666666666,
             "#ed7953"
            ],
            [
             0.7777777777777778,
             "#fb9f3a"
            ],
            [
             0.8888888888888888,
             "#fdca26"
            ],
            [
             1,
             "#f0f921"
            ]
           ]
          },
          "colorway": [
           "#636efa",
           "#EF553B",
           "#00cc96",
           "#ab63fa",
           "#FFA15A",
           "#19d3f3",
           "#FF6692",
           "#B6E880",
           "#FF97FF",
           "#FECB52"
          ],
          "font": {
           "color": "#2a3f5f"
          },
          "geo": {
           "bgcolor": "white",
           "lakecolor": "white",
           "landcolor": "#E5ECF6",
           "showlakes": true,
           "showland": true,
           "subunitcolor": "white"
          },
          "hoverlabel": {
           "align": "left"
          },
          "hovermode": "closest",
          "mapbox": {
           "style": "light"
          },
          "paper_bgcolor": "white",
          "plot_bgcolor": "#E5ECF6",
          "polar": {
           "angularaxis": {
            "gridcolor": "white",
            "linecolor": "white",
            "ticks": ""
           },
           "bgcolor": "#E5ECF6",
           "radialaxis": {
            "gridcolor": "white",
            "linecolor": "white",
            "ticks": ""
           }
          },
          "scene": {
           "xaxis": {
            "backgroundcolor": "#E5ECF6",
            "gridcolor": "white",
            "gridwidth": 2,
            "linecolor": "white",
            "showbackground": true,
            "ticks": "",
            "zerolinecolor": "white"
           },
           "yaxis": {
            "backgroundcolor": "#E5ECF6",
            "gridcolor": "white",
            "gridwidth": 2,
            "linecolor": "white",
            "showbackground": true,
            "ticks": "",
            "zerolinecolor": "white"
           },
           "zaxis": {
            "backgroundcolor": "#E5ECF6",
            "gridcolor": "white",
            "gridwidth": 2,
            "linecolor": "white",
            "showbackground": true,
            "ticks": "",
            "zerolinecolor": "white"
           }
          },
          "shapedefaults": {
           "line": {
            "color": "#2a3f5f"
           }
          },
          "ternary": {
           "aaxis": {
            "gridcolor": "white",
            "linecolor": "white",
            "ticks": ""
           },
           "baxis": {
            "gridcolor": "white",
            "linecolor": "white",
            "ticks": ""
           },
           "bgcolor": "#E5ECF6",
           "caxis": {
            "gridcolor": "white",
            "linecolor": "white",
            "ticks": ""
           }
          },
          "title": {
           "x": 0.05
          },
          "xaxis": {
           "automargin": true,
           "gridcolor": "white",
           "linecolor": "white",
           "ticks": "",
           "title": {
            "standoff": 15
           },
           "zerolinecolor": "white",
           "zerolinewidth": 2
          },
          "yaxis": {
           "automargin": true,
           "gridcolor": "white",
           "linecolor": "white",
           "ticks": "",
           "title": {
            "standoff": 15
           },
           "zerolinecolor": "white",
           "zerolinewidth": 2
          }
         }
        },
        "title": {
         "text": "5 Gêneros mais populares"
        },
        "xaxis": {
         "anchor": "y",
         "autorange": true,
         "categoryarray": [
          "anime",
          "brazil",
          "chill",
          "k-pop",
          "pop-film"
         ],
         "categoryorder": "array",
         "domain": [
          0,
          1
         ],
         "range": [
          -0.5,
          4.5
         ],
         "title": {
          "text": "Gênero"
         },
         "type": "category"
        },
        "yaxis": {
         "anchor": "x",
         "autorange": true,
         "domain": [
          0,
          1
         ],
         "range": [
          0,
          44470.52631578947
         ],
         "title": {
          "text": "sum of Popularidade"
         },
         "type": "linear"
        }
       }
      },
      "text/html": [
       "<div>                            <div id=\"64bfd4c5-6eec-493f-bd66-6206c252b73b\" class=\"plotly-graph-div\" style=\"height:525px; width:100%;\"></div>            <script type=\"text/javascript\">                require([\"plotly\"], function(Plotly) {                    window.PLOTLYENV=window.PLOTLYENV || {};                                    if (document.getElementById(\"64bfd4c5-6eec-493f-bd66-6206c252b73b\")) {                    Plotly.newPlot(                        \"64bfd4c5-6eec-493f-bd66-6206c252b73b\",                        [{\"alignmentgroup\":\"True\",\"bingroup\":\"x\",\"histfunc\":\"sum\",\"hovertemplate\":\"G\\u00eanero=%{x}\\u003cbr\\u003esum of Popularidade=%{y}\\u003cextra\\u003e\\u003c\\u002fextra\\u003e\",\"legendgroup\":\"anime\",\"marker\":{\"color\":\"#A020F0\",\"pattern\":{\"shape\":\"\"}},\"name\":\"anime\",\"offsetgroup\":\"anime\",\"orientation\":\"v\",\"showlegend\":true,\"x\":[\"anime\",\"anime\",\"anime\",\"anime\",\"anime\",\"anime\",\"anime\",\"anime\",\"anime\",\"anime\",\"anime\",\"anime\",\"anime\",\"anime\",\"anime\",\"anime\",\"anime\",\"anime\",\"anime\",\"anime\",\"anime\",\"anime\",\"anime\",\"anime\",\"anime\",\"anime\",\"anime\",\"anime\",\"anime\",\"anime\",\"anime\",\"anime\",\"anime\",\"anime\",\"anime\",\"anime\",\"anime\",\"anime\",\"anime\",\"anime\",\"anime\",\"anime\",\"anime\",\"anime\",\"anime\",\"anime\",\"anime\",\"anime\",\"anime\",\"anime\",\"anime\",\"anime\",\"anime\",\"anime\",\"anime\",\"anime\",\"anime\",\"anime\",\"anime\",\"anime\",\"anime\",\"anime\",\"anime\",\"anime\",\"anime\",\"anime\",\"anime\",\"anime\",\"anime\",\"anime\",\"anime\",\"anime\",\"anime\",\"anime\",\"anime\",\"anime\",\"anime\",\"anime\",\"anime\",\"anime\",\"anime\",\"anime\",\"anime\",\"anime\",\"anime\",\"anime\",\"anime\",\"anime\",\"anime\",\"anime\",\"anime\",\"anime\",\"anime\",\"anime\",\"anime\",\"anime\",\"anime\",\"anime\",\"anime\",\"anime\",\"anime\",\"anime\",\"anime\",\"anime\",\"anime\",\"anime\",\"anime\",\"anime\",\"anime\",\"anime\",\"anime\",\"anime\",\"anime\",\"anime\",\"anime\",\"anime\",\"anime\",\"anime\",\"anime\",\"anime\",\"anime\",\"anime\",\"anime\",\"anime\",\"anime\",\"anime\",\"anime\",\"anime\",\"anime\",\"anime\",\"anime\",\"anime\",\"anime\",\"anime\",\"anime\",\"anime\",\"anime\",\"anime\",\"anime\",\"anime\",\"anime\",\"anime\",\"anime\",\"anime\",\"anime\",\"anime\",\"anime\",\"anime\",\"anime\",\"anime\",\"anime\",\"anime\",\"anime\",\"anime\",\"anime\",\"anime\",\"anime\",\"anime\",\"anime\",\"anime\",\"anime\",\"anime\",\"anime\",\"anime\",\"anime\",\"anime\",\"anime\",\"anime\",\"anime\",\"anime\",\"anime\",\"anime\",\"anime\",\"anime\",\"anime\",\"anime\",\"anime\",\"anime\",\"anime\",\"anime\",\"anime\",\"anime\",\"anime\",\"anime\",\"anime\",\"anime\",\"anime\",\"anime\",\"anime\",\"anime\",\"anime\",\"anime\",\"anime\",\"anime\",\"anime\",\"anime\",\"anime\",\"anime\",\"anime\",\"anime\",\"anime\",\"anime\",\"anime\",\"anime\",\"anime\",\"anime\",\"anime\",\"anime\",\"anime\",\"anime\",\"anime\",\"anime\",\"anime\",\"anime\",\"anime\",\"anime\",\"anime\",\"anime\",\"anime\",\"anime\",\"anime\",\"anime\",\"anime\",\"anime\",\"anime\",\"anime\",\"anime\",\"anime\",\"anime\",\"anime\",\"anime\",\"anime\",\"anime\",\"anime\",\"anime\",\"anime\",\"anime\",\"anime\",\"anime\",\"anime\",\"anime\",\"anime\",\"anime\",\"anime\",\"anime\",\"anime\",\"anime\",\"anime\",\"anime\",\"anime\",\"anime\",\"anime\",\"anime\",\"anime\",\"anime\",\"anime\",\"anime\",\"anime\",\"anime\",\"anime\",\"anime\",\"anime\",\"anime\",\"anime\",\"anime\",\"anime\",\"anime\",\"anime\",\"anime\",\"anime\",\"anime\",\"anime\",\"anime\",\"anime\",\"anime\",\"anime\",\"anime\",\"anime\",\"anime\",\"anime\",\"anime\",\"anime\",\"anime\",\"anime\",\"anime\",\"anime\",\"anime\",\"anime\",\"anime\",\"anime\",\"anime\",\"anime\",\"anime\",\"anime\",\"anime\",\"anime\",\"anime\",\"anime\",\"anime\",\"anime\",\"anime\",\"anime\",\"anime\",\"anime\",\"anime\",\"anime\",\"anime\",\"anime\",\"anime\",\"anime\",\"anime\",\"anime\",\"anime\",\"anime\",\"anime\",\"anime\",\"anime\",\"anime\",\"anime\",\"anime\",\"anime\",\"anime\",\"anime\",\"anime\",\"anime\",\"anime\",\"anime\",\"anime\",\"anime\",\"anime\",\"anime\",\"anime\",\"anime\",\"anime\",\"anime\",\"anime\",\"anime\",\"anime\",\"anime\",\"anime\",\"anime\",\"anime\",\"anime\",\"anime\",\"anime\",\"anime\",\"anime\",\"anime\",\"anime\",\"anime\",\"anime\",\"anime\",\"anime\",\"anime\",\"anime\",\"anime\",\"anime\",\"anime\",\"anime\",\"anime\",\"anime\",\"anime\",\"anime\",\"anime\",\"anime\",\"anime\",\"anime\",\"anime\",\"anime\",\"anime\",\"anime\",\"anime\",\"anime\",\"anime\",\"anime\",\"anime\",\"anime\",\"anime\",\"anime\",\"anime\",\"anime\",\"anime\",\"anime\",\"anime\",\"anime\",\"anime\",\"anime\",\"anime\",\"anime\",\"anime\",\"anime\",\"anime\",\"anime\",\"anime\",\"anime\",\"anime\",\"anime\",\"anime\",\"anime\",\"anime\",\"anime\",\"anime\",\"anime\",\"anime\",\"anime\",\"anime\",\"anime\",\"anime\",\"anime\",\"anime\",\"anime\",\"anime\",\"anime\",\"anime\",\"anime\",\"anime\",\"anime\",\"anime\",\"anime\",\"anime\",\"anime\",\"anime\",\"anime\",\"anime\",\"anime\",\"anime\",\"anime\",\"anime\",\"anime\",\"anime\",\"anime\",\"anime\",\"anime\",\"anime\",\"anime\",\"anime\",\"anime\",\"anime\",\"anime\",\"anime\",\"anime\",\"anime\",\"anime\",\"anime\",\"anime\",\"anime\",\"anime\",\"anime\",\"anime\",\"anime\",\"anime\",\"anime\",\"anime\",\"anime\",\"anime\",\"anime\",\"anime\",\"anime\",\"anime\",\"anime\",\"anime\",\"anime\",\"anime\",\"anime\",\"anime\",\"anime\",\"anime\",\"anime\",\"anime\",\"anime\",\"anime\",\"anime\",\"anime\",\"anime\",\"anime\",\"anime\",\"anime\",\"anime\",\"anime\",\"anime\",\"anime\",\"anime\",\"anime\",\"anime\",\"anime\",\"anime\",\"anime\",\"anime\",\"anime\",\"anime\",\"anime\",\"anime\",\"anime\",\"anime\",\"anime\",\"anime\",\"anime\",\"anime\",\"anime\",\"anime\",\"anime\",\"anime\",\"anime\",\"anime\",\"anime\",\"anime\",\"anime\",\"anime\",\"anime\",\"anime\",\"anime\",\"anime\",\"anime\",\"anime\",\"anime\",\"anime\",\"anime\",\"anime\",\"anime\",\"anime\",\"anime\",\"anime\",\"anime\",\"anime\",\"anime\",\"anime\",\"anime\",\"anime\",\"anime\",\"anime\",\"anime\",\"anime\",\"anime\",\"anime\",\"anime\",\"anime\",\"anime\",\"anime\",\"anime\",\"anime\",\"anime\",\"anime\",\"anime\",\"anime\",\"anime\",\"anime\",\"anime\",\"anime\",\"anime\",\"anime\",\"anime\",\"anime\",\"anime\",\"anime\",\"anime\",\"anime\",\"anime\",\"anime\",\"anime\",\"anime\",\"anime\",\"anime\",\"anime\",\"anime\",\"anime\",\"anime\",\"anime\",\"anime\",\"anime\",\"anime\",\"anime\",\"anime\",\"anime\",\"anime\",\"anime\",\"anime\",\"anime\",\"anime\",\"anime\",\"anime\",\"anime\",\"anime\",\"anime\",\"anime\",\"anime\",\"anime\",\"anime\",\"anime\",\"anime\",\"anime\",\"anime\",\"anime\",\"anime\",\"anime\",\"anime\",\"anime\",\"anime\",\"anime\",\"anime\",\"anime\",\"anime\",\"anime\",\"anime\",\"anime\",\"anime\",\"anime\",\"anime\",\"anime\",\"anime\",\"anime\",\"anime\",\"anime\",\"anime\",\"anime\",\"anime\",\"anime\",\"anime\",\"anime\",\"anime\",\"anime\",\"anime\",\"anime\",\"anime\",\"anime\",\"anime\",\"anime\",\"anime\",\"anime\",\"anime\",\"anime\",\"anime\",\"anime\",\"anime\",\"anime\",\"anime\",\"anime\",\"anime\",\"anime\",\"anime\",\"anime\",\"anime\",\"anime\",\"anime\",\"anime\"],\"xaxis\":\"x\",\"y\":[73.0,83.0,73.0,75.0,71.0,77.0,55.0,70.0,66.0,68.0,74.0,66.0,67.0,77.0,78.0,66.0,51.0,75.0,61.0,69.0,71.0,65.0,70.0,66.0,64.0,62.0,77.0,72.0,72.0,71.0,69.0,1.0,0.0,2.0,57.0,69.0,60.0,63.0,63.0,53.0,52.0,62.0,53.0,60.0,62.0,54.0,62.0,59.0,67.0,63.0,64.0,53.0,67.0,53.0,56.0,61.0,45.0,49.0,66.0,58.0,65.0,61.0,50.0,66.0,67.0,68.0,63.0,53.0,59.0,65.0,61.0,59.0,59.0,51.0,60.0,55.0,52.0,64.0,62.0,65.0,64.0,53.0,61.0,49.0,58.0,60.0,63.0,58.0,57.0,63.0,43.0,62.0,63.0,50.0,46.0,53.0,60.0,59.0,43.0,60.0,63.0,7.0,62.0,64.0,21.0,62.0,17.0,62.0,51.0,50.0,56.0,42.0,54.0,60.0,50.0,53.0,45.0,63.0,53.0,61.0,53.0,47.0,59.0,49.0,62.0,45.0,45.0,49.0,50.0,61.0,63.0,59.0,49.0,59.0,59.0,60.0,58.0,59.0,58.0,45.0,50.0,48.0,61.0,44.0,56.0,48.0,42.0,45.0,53.0,61.0,49.0,58.0,46.0,59.0,53.0,51.0,48.0,63.0,42.0,49.0,50.0,24.0,59.0,24.0,58.0,23.0,23.0,59.0,58.0,29.0,58.0,26.0,59.0,61.0,47.0,52.0,60.0,49.0,42.0,49.0,40.0,55.0,59.0,50.0,57.0,56.0,50.0,45.0,48.0,49.0,59.0,49.0,54.0,58.0,49.0,52.0,58.0,58.0,57.0,58.0,57.0,58.0,57.0,40.0,57.0,57.0,58.0,58.0,50.0,48.0,60.0,56.0,51.0,51.0,44.0,50.0,43.0,45.0,58.0,48.0,57.0,45.0,49.0,60.0,52.0,58.0,42.0,54.0,60.0,47.0,49.0,41.0,52.0,64.0,59.0,49.0,44.0,54.0,42.0,56.0,51.0,58.0,41.0,56.0,50.0,50.0,35.0,49.0,53.0,42.0,57.0,49.0,59.0,48.0,47.0,51.0,50.0,56.0,44.0,61.0,51.0,45.0,47.0,63.0,51.0,46.0,49.0,56.0,58.0,61.0,46.0,44.0,60.0,55.0,46.0,59.0,39.0,40.0,38.0,44.0,40.0,36.0,41.0,54.0,49.0,56.0,60.0,54.0,62.0,55.0,62.0,46.0,49.0,46.0,57.0,44.0,55.0,43.0,61.0,62.0,49.0,54.0,60.0,49.0,49.0,60.0,60.0,60.0,60.0,49.0,56.0,63.0,51.0,38.0,45.0,46.0,50.0,57.0,48.0,57.0,47.0,43.0,41.0,44.0,55.0,47.0,33.0,53.0,45.0,52.0,36.0,54.0,50.0,44.0,47.0,38.0,3.0,48.0,38.0,54.0,37.0,38.0,41.0,52.0,53.0,55.0,50.0,46.0,57.0,50.0,52.0,59.0,58.0,58.0,46.0,55.0,22.0,24.0,22.0,23.0,36.0,37.0,52.0,45.0,46.0,49.0,51.0,58.0,41.0,47.0,51.0,44.0,44.0,43.0,54.0,35.0,45.0,51.0,59.0,54.0,50.0,42.0,39.0,47.0,48.0,46.0,47.0,59.0,56.0,57.0,53.0,36.0,36.0,37.0,36.0,44.0,43.0,44.0,44.0,47.0,39.0,51.0,50.0,42.0,44.0,54.0,46.0,43.0,47.0,45.0,51.0,47.0,57.0,57.0,56.0,48.0,45.0,52.0,49.0,36.0,35.0,35.0,35.0,36.0,36.0,57.0,46.0,33.0,55.0,46.0,48.0,44.0,47.0,52.0,56.0,51.0,43.0,49.0,43.0,48.0,44.0,36.0,49.0,53.0,47.0,45.0,37.0,37.0,53.0,48.0,58.0,35.0,35.0,41.0,48.0,53.0,44.0,41.0,49.0,50.0,38.0,46.0,50.0,51.0,51.0,42.0,44.0,42.0,39.0,47.0,50.0,55.0,36.0,44.0,52.0,52.0,52.0,47.0,36.0,34.0,51.0,57.0,35.0,2.0,44.0,43.0,42.0,53.0,49.0,56.0,44.0,42.0,58.0,46.0,52.0,43.0,54.0,37.0,37.0,51.0,42.0,45.0,53.0,38.0,52.0,54.0,53.0,55.0,45.0,48.0,44.0,35.0,61.0,45.0,34.0,34.0,0.0,34.0,34.0,34.0,34.0,42.0,48.0,47.0,54.0,46.0,42.0,55.0,48.0,49.0,45.0,53.0,44.0,55.0,55.0,65.0,50.0,42.0,45.0,51.0,43.0,45.0,51.0,51.0,40.0,33.0,34.0,50.0,34.0,33.0,33.0,43.0,44.0,52.0,39.0,41.0,34.0,54.0,57.0,55.0,60.0,41.0,55.0,53.0,51.0,45.0,60.0,52.0,44.0,43.0,55.0,49.0,44.0,35.0,36.0,52.0,33.0,34.0,34.0,34.0,41.0,38.0,44.0,49.0,46.0,36.0,38.0,42.0,43.0,32.0,40.0,52.0,56.0,42.0,36.0,50.0,36.0,46.0,33.0,42.0,45.0,52.0,42.0,45.0,33.0,51.0,32.0,32.0,32.0,32.0,33.0,33.0,33.0,34.0,35.0,53.0,42.0,47.0,44.0,44.0,44.0,52.0,55.0,53.0,52.0,43.0,42.0,45.0,33.0,54.0,49.0,44.0,57.0,33.0,34.0,40.0,32.0,50.0,33.0,32.0,33.0,32.0,33.0,32.0],\"yaxis\":\"y\",\"type\":\"histogram\"},{\"alignmentgroup\":\"True\",\"bingroup\":\"x\",\"histfunc\":\"sum\",\"hovertemplate\":\"G\\u00eanero=%{x}\\u003cbr\\u003esum of Popularidade=%{y}\\u003cextra\\u003e\\u003c\\u002fextra\\u003e\",\"legendgroup\":\"brazil\",\"marker\":{\"color\":\"#8A2BE2\",\"pattern\":{\"shape\":\"\"}},\"name\":\"brazil\",\"offsetgroup\":\"brazil\",\"orientation\":\"v\",\"showlegend\":true,\"x\":[\"brazil\",\"brazil\",\"brazil\",\"brazil\",\"brazil\",\"brazil\",\"brazil\",\"brazil\",\"brazil\",\"brazil\",\"brazil\",\"brazil\",\"brazil\",\"brazil\",\"brazil\",\"brazil\",\"brazil\",\"brazil\",\"brazil\",\"brazil\",\"brazil\",\"brazil\",\"brazil\",\"brazil\",\"brazil\",\"brazil\",\"brazil\",\"brazil\",\"brazil\",\"brazil\",\"brazil\",\"brazil\",\"brazil\",\"brazil\",\"brazil\",\"brazil\",\"brazil\",\"brazil\",\"brazil\",\"brazil\",\"brazil\",\"brazil\",\"brazil\",\"brazil\",\"brazil\",\"brazil\",\"brazil\",\"brazil\",\"brazil\",\"brazil\",\"brazil\",\"brazil\",\"brazil\",\"brazil\",\"brazil\",\"brazil\",\"brazil\",\"brazil\",\"brazil\",\"brazil\",\"brazil\",\"brazil\",\"brazil\",\"brazil\",\"brazil\",\"brazil\",\"brazil\",\"brazil\",\"brazil\",\"brazil\",\"brazil\",\"brazil\",\"brazil\",\"brazil\",\"brazil\",\"brazil\",\"brazil\",\"brazil\",\"brazil\",\"brazil\",\"brazil\",\"brazil\",\"brazil\",\"brazil\",\"brazil\",\"brazil\",\"brazil\",\"brazil\",\"brazil\",\"brazil\",\"brazil\",\"brazil\",\"brazil\",\"brazil\",\"brazil\",\"brazil\",\"brazil\",\"brazil\",\"brazil\",\"brazil\",\"brazil\",\"brazil\",\"brazil\",\"brazil\",\"brazil\",\"brazil\",\"brazil\",\"brazil\",\"brazil\",\"brazil\",\"brazil\",\"brazil\",\"brazil\",\"brazil\",\"brazil\",\"brazil\",\"brazil\",\"brazil\",\"brazil\",\"brazil\",\"brazil\",\"brazil\",\"brazil\",\"brazil\",\"brazil\",\"brazil\",\"brazil\",\"brazil\",\"brazil\",\"brazil\",\"brazil\",\"brazil\",\"brazil\",\"brazil\",\"brazil\",\"brazil\",\"brazil\",\"brazil\",\"brazil\",\"brazil\",\"brazil\",\"brazil\",\"brazil\",\"brazil\",\"brazil\",\"brazil\",\"brazil\",\"brazil\",\"brazil\",\"brazil\",\"brazil\",\"brazil\",\"brazil\",\"brazil\",\"brazil\",\"brazil\",\"brazil\",\"brazil\",\"brazil\",\"brazil\",\"brazil\",\"brazil\",\"brazil\",\"brazil\",\"brazil\",\"brazil\",\"brazil\",\"brazil\",\"brazil\",\"brazil\",\"brazil\",\"brazil\",\"brazil\",\"brazil\",\"brazil\",\"brazil\",\"brazil\",\"brazil\",\"brazil\",\"brazil\",\"brazil\",\"brazil\",\"brazil\",\"brazil\",\"brazil\",\"brazil\",\"brazil\",\"brazil\",\"brazil\",\"brazil\",\"brazil\",\"brazil\",\"brazil\",\"brazil\",\"brazil\",\"brazil\",\"brazil\",\"brazil\",\"brazil\",\"brazil\",\"brazil\",\"brazil\",\"brazil\",\"brazil\",\"brazil\",\"brazil\",\"brazil\",\"brazil\",\"brazil\",\"brazil\",\"brazil\",\"brazil\",\"brazil\",\"brazil\",\"brazil\",\"brazil\",\"brazil\",\"brazil\",\"brazil\",\"brazil\",\"brazil\",\"brazil\",\"brazil\",\"brazil\",\"brazil\",\"brazil\",\"brazil\",\"brazil\",\"brazil\",\"brazil\",\"brazil\",\"brazil\",\"brazil\",\"brazil\",\"brazil\",\"brazil\",\"brazil\",\"brazil\",\"brazil\",\"brazil\",\"brazil\",\"brazil\",\"brazil\",\"brazil\",\"brazil\",\"brazil\",\"brazil\",\"brazil\",\"brazil\",\"brazil\",\"brazil\",\"brazil\",\"brazil\",\"brazil\",\"brazil\",\"brazil\",\"brazil\",\"brazil\",\"brazil\",\"brazil\",\"brazil\",\"brazil\",\"brazil\",\"brazil\",\"brazil\",\"brazil\",\"brazil\",\"brazil\",\"brazil\",\"brazil\",\"brazil\",\"brazil\",\"brazil\",\"brazil\",\"brazil\",\"brazil\",\"brazil\",\"brazil\",\"brazil\",\"brazil\",\"brazil\",\"brazil\",\"brazil\",\"brazil\",\"brazil\",\"brazil\",\"brazil\",\"brazil\",\"brazil\",\"brazil\",\"brazil\",\"brazil\",\"brazil\",\"brazil\",\"brazil\",\"brazil\",\"brazil\",\"brazil\",\"brazil\",\"brazil\",\"brazil\",\"brazil\",\"brazil\",\"brazil\",\"brazil\",\"brazil\",\"brazil\",\"brazil\",\"brazil\",\"brazil\",\"brazil\",\"brazil\",\"brazil\",\"brazil\",\"brazil\",\"brazil\",\"brazil\",\"brazil\",\"brazil\",\"brazil\",\"brazil\",\"brazil\",\"brazil\",\"brazil\",\"brazil\",\"brazil\",\"brazil\",\"brazil\",\"brazil\",\"brazil\",\"brazil\",\"brazil\",\"brazil\",\"brazil\",\"brazil\",\"brazil\",\"brazil\",\"brazil\",\"brazil\",\"brazil\",\"brazil\",\"brazil\",\"brazil\",\"brazil\",\"brazil\",\"brazil\",\"brazil\",\"brazil\",\"brazil\",\"brazil\",\"brazil\",\"brazil\",\"brazil\",\"brazil\",\"brazil\",\"brazil\",\"brazil\",\"brazil\",\"brazil\",\"brazil\",\"brazil\",\"brazil\",\"brazil\",\"brazil\",\"brazil\",\"brazil\",\"brazil\",\"brazil\",\"brazil\",\"brazil\",\"brazil\",\"brazil\",\"brazil\",\"brazil\",\"brazil\",\"brazil\",\"brazil\",\"brazil\",\"brazil\",\"brazil\",\"brazil\",\"brazil\",\"brazil\",\"brazil\",\"brazil\",\"brazil\",\"brazil\",\"brazil\",\"brazil\",\"brazil\",\"brazil\",\"brazil\",\"brazil\",\"brazil\",\"brazil\",\"brazil\",\"brazil\",\"brazil\",\"brazil\",\"brazil\",\"brazil\",\"brazil\",\"brazil\",\"brazil\",\"brazil\",\"brazil\",\"brazil\",\"brazil\",\"brazil\",\"brazil\",\"brazil\",\"brazil\",\"brazil\",\"brazil\",\"brazil\",\"brazil\",\"brazil\",\"brazil\",\"brazil\",\"brazil\",\"brazil\",\"brazil\",\"brazil\",\"brazil\",\"brazil\",\"brazil\",\"brazil\",\"brazil\",\"brazil\",\"brazil\",\"brazil\",\"brazil\",\"brazil\",\"brazil\",\"brazil\",\"brazil\",\"brazil\",\"brazil\",\"brazil\",\"brazil\",\"brazil\",\"brazil\",\"brazil\",\"brazil\",\"brazil\",\"brazil\",\"brazil\",\"brazil\",\"brazil\",\"brazil\",\"brazil\",\"brazil\",\"brazil\",\"brazil\",\"brazil\",\"brazil\",\"brazil\",\"brazil\",\"brazil\",\"brazil\",\"brazil\",\"brazil\",\"brazil\",\"brazil\",\"brazil\",\"brazil\",\"brazil\",\"brazil\",\"brazil\",\"brazil\",\"brazil\",\"brazil\",\"brazil\",\"brazil\",\"brazil\",\"brazil\",\"brazil\",\"brazil\",\"brazil\",\"brazil\",\"brazil\",\"brazil\",\"brazil\",\"brazil\",\"brazil\",\"brazil\",\"brazil\",\"brazil\",\"brazil\",\"brazil\",\"brazil\",\"brazil\",\"brazil\",\"brazil\",\"brazil\",\"brazil\",\"brazil\",\"brazil\",\"brazil\",\"brazil\",\"brazil\",\"brazil\",\"brazil\",\"brazil\",\"brazil\",\"brazil\",\"brazil\",\"brazil\",\"brazil\",\"brazil\",\"brazil\",\"brazil\",\"brazil\",\"brazil\",\"brazil\",\"brazil\",\"brazil\",\"brazil\",\"brazil\",\"brazil\",\"brazil\",\"brazil\",\"brazil\",\"brazil\",\"brazil\",\"brazil\",\"brazil\",\"brazil\",\"brazil\",\"brazil\",\"brazil\",\"brazil\",\"brazil\",\"brazil\",\"brazil\",\"brazil\",\"brazil\",\"brazil\",\"brazil\",\"brazil\",\"brazil\",\"brazil\",\"brazil\",\"brazil\",\"brazil\",\"brazil\",\"brazil\",\"brazil\",\"brazil\",\"brazil\",\"brazil\",\"brazil\",\"brazil\",\"brazil\",\"brazil\",\"brazil\",\"brazil\",\"brazil\",\"brazil\",\"brazil\",\"brazil\",\"brazil\",\"brazil\",\"brazil\",\"brazil\",\"brazil\",\"brazil\",\"brazil\",\"brazil\",\"brazil\",\"brazil\",\"brazil\",\"brazil\",\"brazil\",\"brazil\",\"brazil\",\"brazil\",\"brazil\",\"brazil\",\"brazil\",\"brazil\",\"brazil\",\"brazil\",\"brazil\",\"brazil\",\"brazil\",\"brazil\",\"brazil\",\"brazil\",\"brazil\",\"brazil\",\"brazil\",\"brazil\",\"brazil\",\"brazil\",\"brazil\",\"brazil\",\"brazil\",\"brazil\",\"brazil\",\"brazil\",\"brazil\",\"brazil\",\"brazil\",\"brazil\",\"brazil\",\"brazil\",\"brazil\",\"brazil\",\"brazil\",\"brazil\",\"brazil\",\"brazil\",\"brazil\",\"brazil\",\"brazil\",\"brazil\",\"brazil\",\"brazil\",\"brazil\",\"brazil\",\"brazil\",\"brazil\",\"brazil\",\"brazil\",\"brazil\",\"brazil\",\"brazil\",\"brazil\",\"brazil\",\"brazil\",\"brazil\",\"brazil\",\"brazil\",\"brazil\",\"brazil\",\"brazil\",\"brazil\",\"brazil\",\"brazil\",\"brazil\",\"brazil\",\"brazil\",\"brazil\",\"brazil\",\"brazil\",\"brazil\",\"brazil\",\"brazil\",\"brazil\",\"brazil\",\"brazil\",\"brazil\",\"brazil\",\"brazil\",\"brazil\",\"brazil\",\"brazil\",\"brazil\",\"brazil\",\"brazil\",\"brazil\",\"brazil\",\"brazil\",\"brazil\",\"brazil\",\"brazil\",\"brazil\",\"brazil\",\"brazil\",\"brazil\",\"brazil\",\"brazil\",\"brazil\",\"brazil\",\"brazil\",\"brazil\",\"brazil\",\"brazil\",\"brazil\",\"brazil\",\"brazil\",\"brazil\",\"brazil\",\"brazil\",\"brazil\",\"brazil\",\"brazil\",\"brazil\",\"brazil\",\"brazil\",\"brazil\",\"brazil\",\"brazil\",\"brazil\",\"brazil\",\"brazil\",\"brazil\",\"brazil\",\"brazil\",\"brazil\",\"brazil\",\"brazil\",\"brazil\",\"brazil\",\"brazil\",\"brazil\",\"brazil\",\"brazil\",\"brazil\",\"brazil\",\"brazil\",\"brazil\",\"brazil\",\"brazil\",\"brazil\",\"brazil\",\"brazil\",\"brazil\",\"brazil\",\"brazil\"],\"xaxis\":\"x\",\"y\":[82.0,56.0,54.0,57.0,54.0,52.0,52.0,53.0,53.0,58.0,0.0,53.0,54.0,57.0,52.0,0.0,1.0,53.0,54.0,54.0,0.0,54.0,0.0,55.0,0.0,54.0,53.0,0.0,53.0,0.0,56.0,52.0,50.0,52.0,52.0,51.0,52.0,51.0,50.0,51.0,51.0,50.0,51.0,0.0,50.0,0.0,52.0,50.0,52.0,51.0,50.0,52.0,51.0,0.0,51.0,51.0,52.0,50.0,0.0,51.0,0.0,0.0,50.0,58.0,69.0,49.0,51.0,50.0,50.0,49.0,49.0,1.0,49.0,51.0,49.0,49.0,51.0,50.0,50.0,49.0,49.0,49.0,49.0,50.0,49.0,49.0,50.0,50.0,49.0,50.0,49.0,49.0,48.0,51.0,49.0,65.0,69.0,49.0,49.0,48.0,48.0,49.0,48.0,49.0,47.0,50.0,49.0,48.0,49.0,48.0,49.0,49.0,50.0,47.0,48.0,50.0,49.0,50.0,47.0,49.0,49.0,49.0,48.0,49.0,48.0,48.0,48.0,50.0,49.0,49.0,48.0,48.0,48.0,48.0,48.0,48.0,48.0,47.0,48.0,48.0,49.0,48.0,48.0,48.0,48.0,48.0,47.0,48.0,49.0,49.0,47.0,47.0,47.0,47.0,48.0,49.0,48.0,49.0,47.0,48.0,48.0,47.0,47.0,47.0,0.0,0.0,0.0,0.0,0.0,48.0,48.0,47.0,48.0,48.0,47.0,48.0,48.0,47.0,48.0,47.0,47.0,47.0,0.0,46.0,47.0,47.0,48.0,47.0,46.0,47.0,48.0,48.0,48.0,47.0,47.0,47.0,48.0,47.0,47.0,47.0,48.0,0.0,0.0,46.0,47.0,48.0,0.0,55.0,46.0,47.0,47.0,47.0,47.0,45.0,47.0,47.0,47.0,47.0,47.0,47.0,47.0,47.0,47.0,47.0,48.0,47.0,47.0,46.0,47.0,47.0,47.0,0.0,47.0,0.0,48.0,0.0,47.0,46.0,47.0,47.0,47.0,46.0,47.0,45.0,46.0,46.0,46.0,47.0,47.0,46.0,47.0,46.0,45.0,45.0,46.0,46.0,47.0,46.0,46.0,47.0,47.0,46.0,47.0,47.0,46.0,46.0,48.0,46.0,46.0,0.0,46.0,46.0,46.0,46.0,46.0,46.0,46.0,45.0,45.0,46.0,45.0,46.0,47.0,46.0,46.0,45.0,45.0,45.0,45.0,45.0,46.0,46.0,46.0,46.0,46.0,45.0,47.0,47.0,45.0,46.0,45.0,47.0,64.0,45.0,46.0,46.0,46.0,46.0,46.0,46.0,46.0,46.0,46.0,46.0,45.0,44.0,46.0,44.0,44.0,47.0,44.0,46.0,46.0,46.0,45.0,45.0,45.0,45.0,45.0,46.0,45.0,46.0,45.0,45.0,69.0,65.0,47.0,45.0,46.0,46.0,46.0,45.0,45.0,45.0,46.0,46.0,47.0,46.0,45.0,45.0,45.0,45.0,45.0,44.0,45.0,44.0,45.0,45.0,45.0,45.0,45.0,45.0,45.0,46.0,44.0,45.0,46.0,47.0,44.0,45.0,46.0,45.0,45.0,46.0,45.0,46.0,45.0,46.0,44.0,44.0,45.0,44.0,45.0,45.0,45.0,45.0,44.0,46.0,45.0,44.0,47.0,45.0,45.0,45.0,45.0,45.0,45.0,45.0,45.0,44.0,46.0,45.0,44.0,46.0,44.0,45.0,44.0,44.0,45.0,45.0,45.0,46.0,45.0,46.0,53.0,44.0,45.0,45.0,45.0,44.0,46.0,45.0,46.0,45.0,44.0,46.0,44.0,44.0,44.0,44.0,45.0,44.0,44.0,45.0,46.0,46.0,44.0,45.0,46.0,44.0,46.0,44.0,43.0,45.0,44.0,45.0,45.0,46.0,44.0,44.0,45.0,46.0,44.0,47.0,52.0,44.0,45.0,45.0,44.0,45.0,45.0,45.0,45.0,46.0,45.0,45.0,44.0,44.0,45.0,44.0,44.0,44.0,45.0,44.0,45.0,46.0,44.0,44.0,44.0,44.0,44.0,44.0,44.0,46.0,44.0,44.0,44.0,45.0,44.0,44.0,45.0,45.0,45.0,45.0,44.0,45.0,44.0,44.0,44.0,45.0,44.0,44.0,44.0,44.0,44.0,44.0,45.0,45.0,43.0,45.0,43.0,44.0,43.0,45.0,43.0,43.0,44.0,43.0,44.0,44.0,44.0,44.0,44.0,43.0,45.0,44.0,44.0,44.0,62.0,44.0,44.0,44.0,43.0,43.0,45.0,43.0,45.0,43.0,43.0,43.0,44.0,43.0,44.0,43.0,45.0,44.0,44.0,45.0,44.0,45.0,44.0,44.0,44.0,44.0,43.0,43.0,43.0,44.0,43.0,44.0,44.0,43.0,44.0,43.0,44.0,43.0,44.0,55.0,43.0,45.0,44.0,45.0,43.0,45.0,43.0,44.0,43.0,44.0,44.0,43.0,44.0,44.0,44.0,45.0,44.0,44.0,44.0,44.0,44.0,44.0,43.0,44.0,43.0,43.0,44.0,43.0,43.0,43.0,44.0,43.0,43.0,44.0,44.0,43.0,43.0,43.0,43.0,43.0,0.0,43.0,44.0,43.0,43.0,42.0,43.0,44.0,43.0,0.0,44.0,43.0,43.0,43.0,43.0,44.0,43.0,44.0,43.0,43.0,42.0,43.0,43.0,43.0,43.0,43.0,43.0,44.0,43.0,45.0,43.0,43.0,43.0,43.0,44.0,43.0,43.0,43.0,44.0,43.0,44.0,43.0,44.0,44.0,42.0,43.0,43.0,43.0,44.0,43.0,43.0,43.0,44.0,43.0,43.0,43.0,43.0,43.0,42.0,43.0,44.0,44.0,43.0,44.0,43.0,43.0,45.0,43.0,42.0,43.0,43.0,42.0,54.0,44.0,43.0,43.0,43.0,44.0,43.0,43.0,44.0,44.0,44.0,43.0,43.0,44.0,43.0,43.0,43.0,42.0,43.0,42.0,43.0,43.0,42.0,43.0,42.0,42.0,43.0,44.0,44.0,44.0,42.0,42.0,43.0,43.0,44.0,42.0,42.0,43.0,42.0,42.0,44.0],\"yaxis\":\"y\",\"type\":\"histogram\"},{\"alignmentgroup\":\"True\",\"bingroup\":\"x\",\"histfunc\":\"sum\",\"hovertemplate\":\"G\\u00eanero=%{x}\\u003cbr\\u003esum of Popularidade=%{y}\\u003cextra\\u003e\\u003c\\u002fextra\\u003e\",\"legendgroup\":\"chill\",\"marker\":{\"color\":\"#4B0082\",\"pattern\":{\"shape\":\"\"}},\"name\":\"chill\",\"offsetgroup\":\"chill\",\"orientation\":\"v\",\"showlegend\":true,\"x\":[\"chill\",\"chill\",\"chill\",\"chill\",\"chill\",\"chill\",\"chill\",\"chill\",\"chill\",\"chill\",\"chill\",\"chill\",\"chill\",\"chill\",\"chill\",\"chill\",\"chill\",\"chill\",\"chill\",\"chill\",\"chill\",\"chill\",\"chill\",\"chill\",\"chill\",\"chill\",\"chill\",\"chill\",\"chill\",\"chill\",\"chill\",\"chill\",\"chill\",\"chill\",\"chill\",\"chill\",\"chill\",\"chill\",\"chill\",\"chill\",\"chill\",\"chill\",\"chill\",\"chill\",\"chill\",\"chill\",\"chill\",\"chill\",\"chill\",\"chill\",\"chill\",\"chill\",\"chill\",\"chill\",\"chill\",\"chill\",\"chill\",\"chill\",\"chill\",\"chill\",\"chill\",\"chill\",\"chill\",\"chill\",\"chill\",\"chill\",\"chill\",\"chill\",\"chill\",\"chill\",\"chill\",\"chill\",\"chill\",\"chill\",\"chill\",\"chill\",\"chill\",\"chill\",\"chill\",\"chill\",\"chill\",\"chill\",\"chill\",\"chill\",\"chill\",\"chill\",\"chill\",\"chill\",\"chill\",\"chill\",\"chill\",\"chill\",\"chill\",\"chill\",\"chill\",\"chill\",\"chill\",\"chill\",\"chill\",\"chill\",\"chill\",\"chill\",\"chill\",\"chill\",\"chill\",\"chill\",\"chill\",\"chill\",\"chill\",\"chill\",\"chill\",\"chill\",\"chill\",\"chill\",\"chill\",\"chill\",\"chill\",\"chill\",\"chill\",\"chill\",\"chill\",\"chill\",\"chill\",\"chill\",\"chill\",\"chill\",\"chill\",\"chill\",\"chill\",\"chill\",\"chill\",\"chill\",\"chill\",\"chill\",\"chill\",\"chill\",\"chill\",\"chill\",\"chill\",\"chill\",\"chill\",\"chill\",\"chill\",\"chill\",\"chill\",\"chill\",\"chill\",\"chill\",\"chill\",\"chill\",\"chill\",\"chill\",\"chill\",\"chill\",\"chill\",\"chill\",\"chill\",\"chill\",\"chill\",\"chill\",\"chill\",\"chill\",\"chill\",\"chill\",\"chill\",\"chill\",\"chill\",\"chill\",\"chill\",\"chill\",\"chill\",\"chill\",\"chill\",\"chill\",\"chill\",\"chill\",\"chill\",\"chill\",\"chill\",\"chill\",\"chill\",\"chill\",\"chill\",\"chill\",\"chill\",\"chill\",\"chill\",\"chill\",\"chill\",\"chill\",\"chill\",\"chill\",\"chill\",\"chill\",\"chill\",\"chill\",\"chill\",\"chill\",\"chill\",\"chill\",\"chill\",\"chill\",\"chill\",\"chill\",\"chill\",\"chill\",\"chill\",\"chill\",\"chill\",\"chill\",\"chill\",\"chill\",\"chill\",\"chill\",\"chill\",\"chill\",\"chill\",\"chill\",\"chill\",\"chill\",\"chill\",\"chill\",\"chill\",\"chill\",\"chill\",\"chill\",\"chill\",\"chill\",\"chill\",\"chill\",\"chill\",\"chill\",\"chill\",\"chill\",\"chill\",\"chill\",\"chill\",\"chill\",\"chill\",\"chill\",\"chill\",\"chill\",\"chill\",\"chill\",\"chill\",\"chill\",\"chill\",\"chill\",\"chill\",\"chill\",\"chill\",\"chill\",\"chill\",\"chill\",\"chill\",\"chill\",\"chill\",\"chill\",\"chill\",\"chill\",\"chill\",\"chill\",\"chill\",\"chill\",\"chill\",\"chill\",\"chill\",\"chill\",\"chill\",\"chill\",\"chill\",\"chill\",\"chill\",\"chill\",\"chill\",\"chill\",\"chill\",\"chill\",\"chill\",\"chill\",\"chill\",\"chill\",\"chill\",\"chill\",\"chill\",\"chill\",\"chill\",\"chill\",\"chill\",\"chill\",\"chill\",\"chill\",\"chill\",\"chill\",\"chill\",\"chill\",\"chill\",\"chill\",\"chill\",\"chill\",\"chill\",\"chill\",\"chill\",\"chill\",\"chill\",\"chill\",\"chill\",\"chill\",\"chill\",\"chill\",\"chill\",\"chill\",\"chill\",\"chill\",\"chill\",\"chill\",\"chill\",\"chill\",\"chill\",\"chill\",\"chill\",\"chill\",\"chill\",\"chill\",\"chill\",\"chill\",\"chill\",\"chill\",\"chill\",\"chill\",\"chill\",\"chill\",\"chill\",\"chill\",\"chill\",\"chill\",\"chill\",\"chill\",\"chill\",\"chill\",\"chill\",\"chill\",\"chill\",\"chill\",\"chill\",\"chill\",\"chill\",\"chill\",\"chill\",\"chill\",\"chill\",\"chill\",\"chill\",\"chill\",\"chill\",\"chill\",\"chill\",\"chill\",\"chill\",\"chill\",\"chill\",\"chill\",\"chill\",\"chill\",\"chill\",\"chill\",\"chill\",\"chill\",\"chill\",\"chill\",\"chill\",\"chill\",\"chill\",\"chill\",\"chill\",\"chill\",\"chill\",\"chill\",\"chill\",\"chill\",\"chill\",\"chill\",\"chill\",\"chill\",\"chill\",\"chill\",\"chill\",\"chill\",\"chill\",\"chill\",\"chill\",\"chill\",\"chill\",\"chill\",\"chill\",\"chill\",\"chill\",\"chill\",\"chill\",\"chill\",\"chill\",\"chill\",\"chill\",\"chill\",\"chill\",\"chill\",\"chill\",\"chill\",\"chill\",\"chill\",\"chill\",\"chill\",\"chill\",\"chill\",\"chill\",\"chill\",\"chill\",\"chill\",\"chill\",\"chill\",\"chill\",\"chill\",\"chill\",\"chill\",\"chill\",\"chill\",\"chill\",\"chill\",\"chill\",\"chill\",\"chill\",\"chill\",\"chill\",\"chill\",\"chill\",\"chill\",\"chill\",\"chill\",\"chill\",\"chill\",\"chill\",\"chill\",\"chill\",\"chill\",\"chill\",\"chill\",\"chill\",\"chill\",\"chill\",\"chill\",\"chill\",\"chill\",\"chill\",\"chill\",\"chill\",\"chill\",\"chill\",\"chill\",\"chill\",\"chill\",\"chill\",\"chill\",\"chill\",\"chill\",\"chill\",\"chill\",\"chill\",\"chill\",\"chill\",\"chill\",\"chill\",\"chill\",\"chill\",\"chill\",\"chill\",\"chill\",\"chill\",\"chill\",\"chill\",\"chill\",\"chill\",\"chill\",\"chill\",\"chill\",\"chill\",\"chill\",\"chill\",\"chill\",\"chill\",\"chill\",\"chill\",\"chill\",\"chill\",\"chill\",\"chill\",\"chill\",\"chill\",\"chill\",\"chill\",\"chill\",\"chill\",\"chill\",\"chill\",\"chill\",\"chill\",\"chill\",\"chill\",\"chill\",\"chill\",\"chill\",\"chill\",\"chill\",\"chill\",\"chill\",\"chill\",\"chill\",\"chill\",\"chill\",\"chill\",\"chill\",\"chill\",\"chill\",\"chill\",\"chill\",\"chill\",\"chill\",\"chill\",\"chill\",\"chill\",\"chill\",\"chill\",\"chill\",\"chill\",\"chill\",\"chill\",\"chill\",\"chill\",\"chill\",\"chill\",\"chill\",\"chill\",\"chill\",\"chill\",\"chill\",\"chill\",\"chill\",\"chill\",\"chill\",\"chill\",\"chill\",\"chill\",\"chill\",\"chill\",\"chill\",\"chill\",\"chill\",\"chill\",\"chill\",\"chill\",\"chill\",\"chill\",\"chill\",\"chill\",\"chill\",\"chill\",\"chill\",\"chill\",\"chill\",\"chill\",\"chill\",\"chill\",\"chill\",\"chill\",\"chill\",\"chill\",\"chill\",\"chill\",\"chill\",\"chill\",\"chill\",\"chill\",\"chill\",\"chill\",\"chill\",\"chill\",\"chill\",\"chill\",\"chill\",\"chill\",\"chill\",\"chill\",\"chill\",\"chill\"],\"xaxis\":\"x\",\"y\":[75.0,60.0,71.0,69.0,71.0,67.0,69.0,76.0,57.0,60.0,0.0,67.0,67.0,67.0,74.0,0.0,3.0,0.0,0.0,76.0,63.0,70.0,79.0,63.0,73.0,79.0,74.0,71.0,66.0,61.0,70.0,70.0,62.0,68.0,63.0,56.0,67.0,65.0,54.0,56.0,65.0,67.0,66.0,54.0,69.0,58.0,72.0,67.0,69.0,65.0,68.0,68.0,64.0,63.0,49.0,67.0,51.0,67.0,69.0,77.0,64.0,36.0,75.0,49.0,58.0,60.0,68.0,70.0,60.0,17.0,75.0,55.0,66.0,64.0,58.0,61.0,42.0,58.0,70.0,64.0,71.0,61.0,66.0,63.0,60.0,63.0,50.0,63.0,69.0,62.0,56.0,71.0,53.0,63.0,61.0,66.0,59.0,66.0,56.0,60.0,56.0,65.0,57.0,58.0,44.0,62.0,61.0,64.0,67.0,53.0,57.0,64.0,61.0,67.0,58.0,67.0,23.0,49.0,61.0,45.0,68.0,26.0,63.0,62.0,55.0,53.0,62.0,60.0,63.0,68.0,68.0,57.0,56.0,60.0,66.0,58.0,60.0,47.0,62.0,65.0,59.0,61.0,64.0,64.0,66.0,52.0,65.0,58.0,62.0,61.0,64.0,57.0,57.0,57.0,53.0,51.0,63.0,62.0,64.0,57.0,9.0,46.0,57.0,55.0,47.0,58.0,69.0,67.0,58.0,57.0,56.0,68.0,57.0,62.0,58.0,58.0,56.0,57.0,55.0,36.0,62.0,46.0,61.0,64.0,55.0,56.0,71.0,66.0,52.0,57.0,69.0,58.0,61.0,60.0,56.0,47.0,53.0,64.0,62.0,56.0,61.0,65.0,0.0,0.0,65.0,69.0,58.0,61.0,59.0,62.0,68.0,62.0,64.0,58.0,64.0,49.0,60.0,48.0,56.0,71.0,55.0,58.0,64.0,60.0,67.0,70.0,63.0,56.0,54.0,60.0,61.0,59.0,65.0,58.0,62.0,59.0,54.0,58.0,55.0,62.0,59.0,57.0,51.0,59.0,57.0,63.0,53.0,58.0,66.0,60.0,47.0,42.0,57.0,48.0,52.0,53.0,61.0,53.0,51.0,56.0,51.0,45.0,54.0,61.0,57.0,57.0,53.0,58.0,60.0,65.0,59.0,62.0,64.0,61.0,55.0,64.0,40.0,59.0,62.0,56.0,59.0,59.0,51.0,59.0,50.0,49.0,58.0,64.0,56.0,56.0,47.0,51.0,59.0,58.0,60.0,55.0,65.0,53.0,58.0,57.0,58.0,60.0,58.0,53.0,49.0,58.0,56.0,51.0,67.0,59.0,57.0,57.0,58.0,59.0,59.0,64.0,45.0,57.0,63.0,53.0,44.0,45.0,51.0,58.0,63.0,58.0,58.0,56.0,49.0,59.0,58.0,57.0,58.0,58.0,51.0,51.0,57.0,50.0,58.0,58.0,58.0,57.0,66.0,55.0,56.0,65.0,60.0,62.0,48.0,58.0,61.0,63.0,54.0,53.0,53.0,59.0,56.0,56.0,47.0,52.0,60.0,60.0,59.0,60.0,58.0,54.0,54.0,54.0,61.0,52.0,48.0,53.0,44.0,55.0,52.0,53.0,59.0,59.0,51.0,66.0,61.0,56.0,33.0,45.0,63.0,52.0,33.0,52.0,52.0,38.0,32.0,60.0,61.0,56.0,59.0,59.0,57.0,55.0,58.0,62.0,54.0,56.0,55.0,54.0,63.0,65.0,47.0,56.0,55.0,56.0,45.0,43.0,55.0,55.0,49.0,55.0,43.0,57.0,55.0,54.0,45.0,61.0,48.0,58.0,58.0,58.0,42.0,48.0,55.0,58.0,59.0,57.0,46.0,55.0,57.0,56.0,47.0,56.0,65.0,49.0,55.0,62.0,50.0,41.0,58.0,37.0,56.0,62.0,48.0,56.0,52.0,47.0,56.0,48.0,57.0,62.0,44.0,43.0,50.0,62.0,41.0,58.0,58.0,52.0,52.0,48.0,57.0,57.0,44.0,55.0,53.0,47.0,59.0,55.0,53.0,48.0,58.0,57.0,51.0,49.0,53.0,50.0,52.0,56.0,66.0,47.0,51.0,52.0,53.0,48.0,49.0,50.0,54.0,51.0,55.0,49.0,57.0,52.0,58.0,52.0,48.0,57.0,45.0,57.0,58.0,53.0,63.0,0.0,50.0,56.0,59.0,48.0,50.0,55.0,50.0,42.0,46.0,64.0,48.0,45.0,47.0,65.0,59.0,53.0,59.0,56.0,51.0,54.0,46.0,42.0,51.0,52.0,55.0,47.0,59.0,50.0,54.0,52.0,41.0,60.0,57.0,59.0,43.0,58.0,39.0,33.0,55.0,64.0,65.0,61.0,50.0,44.0,51.0,42.0,54.0,64.0,52.0,53.0,47.0,54.0,54.0,55.0,41.0,56.0,50.0,55.0,64.0,56.0,57.0,53.0,60.0,54.0,53.0,48.0,58.0,55.0,54.0,54.0,46.0,51.0,51.0,57.0,53.0,56.0,54.0,58.0,47.0,42.0,44.0,55.0,50.0,63.0,35.0],\"yaxis\":\"y\",\"type\":\"histogram\"},{\"alignmentgroup\":\"True\",\"bingroup\":\"x\",\"histfunc\":\"sum\",\"hovertemplate\":\"G\\u00eanero=%{x}\\u003cbr\\u003esum of Popularidade=%{y}\\u003cextra\\u003e\\u003c\\u002fextra\\u003e\",\"legendgroup\":\"k-pop\",\"marker\":{\"color\":\"#EE82EE\",\"pattern\":{\"shape\":\"\"}},\"name\":\"k-pop\",\"offsetgroup\":\"k-pop\",\"orientation\":\"v\",\"showlegend\":true,\"x\":[\"k-pop\",\"k-pop\",\"k-pop\",\"k-pop\",\"k-pop\",\"k-pop\",\"k-pop\",\"k-pop\",\"k-pop\",\"k-pop\",\"k-pop\",\"k-pop\",\"k-pop\",\"k-pop\",\"k-pop\",\"k-pop\",\"k-pop\",\"k-pop\",\"k-pop\",\"k-pop\",\"k-pop\",\"k-pop\",\"k-pop\",\"k-pop\",\"k-pop\",\"k-pop\",\"k-pop\",\"k-pop\",\"k-pop\",\"k-pop\",\"k-pop\",\"k-pop\",\"k-pop\",\"k-pop\",\"k-pop\",\"k-pop\",\"k-pop\",\"k-pop\",\"k-pop\",\"k-pop\",\"k-pop\",\"k-pop\",\"k-pop\",\"k-pop\",\"k-pop\",\"k-pop\",\"k-pop\",\"k-pop\",\"k-pop\",\"k-pop\",\"k-pop\",\"k-pop\",\"k-pop\",\"k-pop\",\"k-pop\",\"k-pop\",\"k-pop\",\"k-pop\",\"k-pop\",\"k-pop\",\"k-pop\",\"k-pop\",\"k-pop\",\"k-pop\",\"k-pop\",\"k-pop\",\"k-pop\",\"k-pop\",\"k-pop\",\"k-pop\",\"k-pop\",\"k-pop\",\"k-pop\",\"k-pop\",\"k-pop\",\"k-pop\",\"k-pop\",\"k-pop\",\"k-pop\",\"k-pop\",\"k-pop\",\"k-pop\",\"k-pop\",\"k-pop\",\"k-pop\",\"k-pop\",\"k-pop\",\"k-pop\",\"k-pop\",\"k-pop\",\"k-pop\",\"k-pop\",\"k-pop\",\"k-pop\",\"k-pop\",\"k-pop\",\"k-pop\",\"k-pop\",\"k-pop\",\"k-pop\",\"k-pop\",\"k-pop\",\"k-pop\",\"k-pop\",\"k-pop\",\"k-pop\",\"k-pop\",\"k-pop\",\"k-pop\",\"k-pop\",\"k-pop\",\"k-pop\",\"k-pop\",\"k-pop\",\"k-pop\",\"k-pop\",\"k-pop\",\"k-pop\",\"k-pop\",\"k-pop\",\"k-pop\",\"k-pop\",\"k-pop\",\"k-pop\",\"k-pop\",\"k-pop\",\"k-pop\",\"k-pop\",\"k-pop\",\"k-pop\",\"k-pop\",\"k-pop\",\"k-pop\",\"k-pop\",\"k-pop\",\"k-pop\",\"k-pop\",\"k-pop\",\"k-pop\",\"k-pop\",\"k-pop\",\"k-pop\",\"k-pop\",\"k-pop\",\"k-pop\",\"k-pop\",\"k-pop\",\"k-pop\",\"k-pop\",\"k-pop\",\"k-pop\",\"k-pop\",\"k-pop\",\"k-pop\",\"k-pop\",\"k-pop\",\"k-pop\",\"k-pop\",\"k-pop\",\"k-pop\",\"k-pop\",\"k-pop\",\"k-pop\",\"k-pop\",\"k-pop\",\"k-pop\",\"k-pop\",\"k-pop\",\"k-pop\",\"k-pop\",\"k-pop\",\"k-pop\",\"k-pop\",\"k-pop\",\"k-pop\",\"k-pop\",\"k-pop\",\"k-pop\",\"k-pop\",\"k-pop\",\"k-pop\",\"k-pop\",\"k-pop\",\"k-pop\",\"k-pop\",\"k-pop\",\"k-pop\",\"k-pop\",\"k-pop\",\"k-pop\",\"k-pop\",\"k-pop\",\"k-pop\",\"k-pop\",\"k-pop\",\"k-pop\",\"k-pop\",\"k-pop\",\"k-pop\",\"k-pop\",\"k-pop\",\"k-pop\",\"k-pop\",\"k-pop\",\"k-pop\",\"k-pop\",\"k-pop\",\"k-pop\",\"k-pop\",\"k-pop\",\"k-pop\",\"k-pop\",\"k-pop\",\"k-pop\",\"k-pop\",\"k-pop\",\"k-pop\",\"k-pop\",\"k-pop\",\"k-pop\",\"k-pop\",\"k-pop\",\"k-pop\",\"k-pop\",\"k-pop\",\"k-pop\",\"k-pop\",\"k-pop\",\"k-pop\",\"k-pop\",\"k-pop\",\"k-pop\",\"k-pop\",\"k-pop\",\"k-pop\",\"k-pop\",\"k-pop\",\"k-pop\",\"k-pop\",\"k-pop\",\"k-pop\",\"k-pop\",\"k-pop\",\"k-pop\",\"k-pop\",\"k-pop\",\"k-pop\",\"k-pop\",\"k-pop\",\"k-pop\",\"k-pop\",\"k-pop\",\"k-pop\",\"k-pop\",\"k-pop\",\"k-pop\",\"k-pop\",\"k-pop\",\"k-pop\",\"k-pop\",\"k-pop\",\"k-pop\",\"k-pop\",\"k-pop\",\"k-pop\",\"k-pop\",\"k-pop\",\"k-pop\",\"k-pop\",\"k-pop\",\"k-pop\",\"k-pop\",\"k-pop\",\"k-pop\",\"k-pop\",\"k-pop\",\"k-pop\",\"k-pop\",\"k-pop\",\"k-pop\",\"k-pop\",\"k-pop\",\"k-pop\",\"k-pop\",\"k-pop\",\"k-pop\",\"k-pop\",\"k-pop\",\"k-pop\",\"k-pop\",\"k-pop\",\"k-pop\",\"k-pop\",\"k-pop\",\"k-pop\",\"k-pop\",\"k-pop\",\"k-pop\",\"k-pop\",\"k-pop\",\"k-pop\",\"k-pop\",\"k-pop\",\"k-pop\",\"k-pop\",\"k-pop\",\"k-pop\",\"k-pop\",\"k-pop\",\"k-pop\",\"k-pop\",\"k-pop\",\"k-pop\",\"k-pop\",\"k-pop\",\"k-pop\",\"k-pop\",\"k-pop\",\"k-pop\",\"k-pop\",\"k-pop\",\"k-pop\",\"k-pop\",\"k-pop\",\"k-pop\",\"k-pop\",\"k-pop\",\"k-pop\",\"k-pop\",\"k-pop\",\"k-pop\",\"k-pop\",\"k-pop\",\"k-pop\",\"k-pop\",\"k-pop\",\"k-pop\",\"k-pop\",\"k-pop\",\"k-pop\",\"k-pop\",\"k-pop\",\"k-pop\",\"k-pop\",\"k-pop\",\"k-pop\",\"k-pop\",\"k-pop\",\"k-pop\",\"k-pop\",\"k-pop\",\"k-pop\",\"k-pop\",\"k-pop\",\"k-pop\",\"k-pop\",\"k-pop\",\"k-pop\",\"k-pop\",\"k-pop\",\"k-pop\",\"k-pop\",\"k-pop\",\"k-pop\",\"k-pop\",\"k-pop\",\"k-pop\",\"k-pop\",\"k-pop\",\"k-pop\",\"k-pop\",\"k-pop\",\"k-pop\",\"k-pop\",\"k-pop\",\"k-pop\",\"k-pop\",\"k-pop\",\"k-pop\",\"k-pop\",\"k-pop\",\"k-pop\",\"k-pop\",\"k-pop\",\"k-pop\",\"k-pop\",\"k-pop\",\"k-pop\",\"k-pop\",\"k-pop\",\"k-pop\",\"k-pop\",\"k-pop\",\"k-pop\",\"k-pop\",\"k-pop\",\"k-pop\",\"k-pop\",\"k-pop\",\"k-pop\",\"k-pop\",\"k-pop\",\"k-pop\",\"k-pop\",\"k-pop\",\"k-pop\",\"k-pop\",\"k-pop\",\"k-pop\",\"k-pop\",\"k-pop\",\"k-pop\",\"k-pop\",\"k-pop\",\"k-pop\",\"k-pop\",\"k-pop\",\"k-pop\",\"k-pop\",\"k-pop\",\"k-pop\",\"k-pop\",\"k-pop\",\"k-pop\",\"k-pop\",\"k-pop\",\"k-pop\",\"k-pop\",\"k-pop\",\"k-pop\",\"k-pop\",\"k-pop\",\"k-pop\",\"k-pop\",\"k-pop\",\"k-pop\",\"k-pop\",\"k-pop\",\"k-pop\",\"k-pop\",\"k-pop\",\"k-pop\",\"k-pop\",\"k-pop\",\"k-pop\",\"k-pop\",\"k-pop\",\"k-pop\",\"k-pop\",\"k-pop\",\"k-pop\",\"k-pop\",\"k-pop\",\"k-pop\",\"k-pop\",\"k-pop\",\"k-pop\",\"k-pop\",\"k-pop\",\"k-pop\",\"k-pop\",\"k-pop\",\"k-pop\",\"k-pop\",\"k-pop\",\"k-pop\",\"k-pop\",\"k-pop\",\"k-pop\",\"k-pop\",\"k-pop\",\"k-pop\",\"k-pop\",\"k-pop\",\"k-pop\",\"k-pop\",\"k-pop\",\"k-pop\",\"k-pop\",\"k-pop\",\"k-pop\",\"k-pop\",\"k-pop\",\"k-pop\",\"k-pop\",\"k-pop\",\"k-pop\",\"k-pop\",\"k-pop\",\"k-pop\",\"k-pop\",\"k-pop\",\"k-pop\",\"k-pop\",\"k-pop\",\"k-pop\",\"k-pop\",\"k-pop\",\"k-pop\",\"k-pop\",\"k-pop\",\"k-pop\",\"k-pop\",\"k-pop\",\"k-pop\",\"k-pop\",\"k-pop\",\"k-pop\",\"k-pop\",\"k-pop\",\"k-pop\",\"k-pop\",\"k-pop\",\"k-pop\",\"k-pop\",\"k-pop\",\"k-pop\",\"k-pop\",\"k-pop\",\"k-pop\",\"k-pop\",\"k-pop\",\"k-pop\",\"k-pop\",\"k-pop\",\"k-pop\",\"k-pop\",\"k-pop\",\"k-pop\",\"k-pop\",\"k-pop\",\"k-pop\",\"k-pop\",\"k-pop\",\"k-pop\",\"k-pop\",\"k-pop\",\"k-pop\",\"k-pop\",\"k-pop\",\"k-pop\",\"k-pop\",\"k-pop\",\"k-pop\",\"k-pop\",\"k-pop\",\"k-pop\",\"k-pop\",\"k-pop\",\"k-pop\",\"k-pop\",\"k-pop\",\"k-pop\",\"k-pop\",\"k-pop\",\"k-pop\",\"k-pop\",\"k-pop\",\"k-pop\",\"k-pop\",\"k-pop\",\"k-pop\",\"k-pop\",\"k-pop\",\"k-pop\",\"k-pop\",\"k-pop\",\"k-pop\",\"k-pop\",\"k-pop\",\"k-pop\",\"k-pop\",\"k-pop\",\"k-pop\",\"k-pop\",\"k-pop\",\"k-pop\",\"k-pop\",\"k-pop\",\"k-pop\",\"k-pop\",\"k-pop\",\"k-pop\",\"k-pop\",\"k-pop\",\"k-pop\",\"k-pop\",\"k-pop\",\"k-pop\",\"k-pop\",\"k-pop\",\"k-pop\",\"k-pop\",\"k-pop\",\"k-pop\",\"k-pop\",\"k-pop\",\"k-pop\",\"k-pop\",\"k-pop\",\"k-pop\",\"k-pop\",\"k-pop\",\"k-pop\",\"k-pop\",\"k-pop\",\"k-pop\",\"k-pop\",\"k-pop\",\"k-pop\",\"k-pop\",\"k-pop\",\"k-pop\",\"k-pop\",\"k-pop\",\"k-pop\",\"k-pop\",\"k-pop\",\"k-pop\",\"k-pop\",\"k-pop\",\"k-pop\",\"k-pop\",\"k-pop\",\"k-pop\",\"k-pop\",\"k-pop\",\"k-pop\",\"k-pop\",\"k-pop\",\"k-pop\",\"k-pop\",\"k-pop\",\"k-pop\",\"k-pop\",\"k-pop\",\"k-pop\",\"k-pop\",\"k-pop\",\"k-pop\",\"k-pop\",\"k-pop\",\"k-pop\",\"k-pop\",\"k-pop\",\"k-pop\",\"k-pop\",\"k-pop\",\"k-pop\",\"k-pop\",\"k-pop\",\"k-pop\",\"k-pop\",\"k-pop\",\"k-pop\",\"k-pop\",\"k-pop\",\"k-pop\",\"k-pop\",\"k-pop\",\"k-pop\",\"k-pop\",\"k-pop\",\"k-pop\",\"k-pop\",\"k-pop\",\"k-pop\",\"k-pop\",\"k-pop\",\"k-pop\",\"k-pop\",\"k-pop\",\"k-pop\",\"k-pop\",\"k-pop\",\"k-pop\",\"k-pop\",\"k-pop\",\"k-pop\",\"k-pop\",\"k-pop\",\"k-pop\",\"k-pop\",\"k-pop\",\"k-pop\",\"k-pop\",\"k-pop\",\"k-pop\",\"k-pop\",\"k-pop\",\"k-pop\",\"k-pop\",\"k-pop\",\"k-pop\",\"k-pop\",\"k-pop\",\"k-pop\",\"k-pop\",\"k-pop\",\"k-pop\",\"k-pop\",\"k-pop\",\"k-pop\",\"k-pop\",\"k-pop\",\"k-pop\",\"k-pop\",\"k-pop\",\"k-pop\"],\"xaxis\":\"x\",\"y\":[73.0,78.0,83.0,73.0,80.0,32.0,73.0,77.0,31.0,72.0,85.0,36.0,82.0,80.0,75.0,76.0,76.0,80.0,36.0,34.0,71.0,30.0,84.0,85.0,65.0,47.0,47.0,80.0,68.0,65.0,43.0,46.0,72.0,83.0,65.0,21.0,66.0,66.0,74.0,67.0,64.0,62.0,88.0,61.0,64.0,86.0,74.0,83.0,78.0,71.0,70.0,75.0,62.0,73.0,78.0,62.0,62.0,76.0,71.0,76.0,62.0,60.0,63.0,80.0,62.0,77.0,75.0,77.0,77.0,62.0,78.0,62.0,61.0,63.0,63.0,63.0,63.0,64.0,60.0,62.0,75.0,74.0,85.0,72.0,60.0,78.0,73.0,74.0,74.0,75.0,74.0,60.0,72.0,59.0,80.0,59.0,59.0,59.0,60.0,59.0,60.0,59.0,60.0,60.0,69.0,77.0,59.0,59.0,57.0,82.0,76.0,57.0,78.0,78.0,58.0,76.0,73.0,57.0,72.0,76.0,67.0,58.0,57.0,71.0,75.0,72.0,58.0,58.0,58.0,57.0,58.0,74.0,58.0,56.0,70.0,75.0,76.0,72.0,73.0,58.0,80.0,58.0,70.0,56.0,55.0,76.0,72.0,71.0,57.0,56.0,58.0,72.0,70.0,70.0,71.0,57.0,71.0,78.0,75.0,57.0,72.0,56.0,56.0,57.0,56.0,57.0,57.0,56.0,55.0,57.0,71.0,55.0,71.0,73.0,74.0,12.0,55.0,56.0,77.0,79.0,74.0,70.0,66.0,71.0,70.0,55.0,56.0,75.0,55.0,55.0,66.0,55.0,78.0,54.0,55.0,75.0,69.0,55.0,55.0,56.0,55.0,56.0,54.0,55.0,56.0,55.0,69.0,77.0,78.0,73.0,54.0,71.0,54.0,82.0,56.0,74.0,75.0,54.0,71.0,76.0,55.0,66.0,54.0,74.0,73.0,54.0,63.0,70.0,54.0,73.0,71.0,54.0,71.0,70.0,53.0,52.0,71.0,53.0,54.0,54.0,54.0,78.0,69.0,72.0,53.0,73.0,71.0,53.0,53.0,75.0,53.0,66.0,71.0,68.0,63.0,55.0,52.0,74.0,52.0,69.0,51.0,73.0,70.0,67.0,53.0,74.0,72.0,73.0,53.0,53.0,74.0,53.0,53.0,0.0,52.0,69.0,52.0,52.0,53.0,52.0,53.0,52.0,52.0,64.0,52.0,50.0,69.0,51.0,74.0,52.0,52.0,67.0,52.0,67.0,67.0,70.0,52.0,64.0,70.0,51.0,52.0,51.0,51.0,51.0,51.0,68.0,52.0,73.0,66.0,67.0,52.0,52.0,51.0,51.0,51.0,79.0,51.0,77.0,69.0,51.0,67.0,74.0,51.0,68.0,73.0,65.0,70.0,51.0,71.0,72.0,70.0,67.0,50.0,59.0,68.0,50.0,51.0,69.0,67.0,51.0,50.0,68.0,51.0,66.0,50.0,50.0,50.0,71.0,50.0,49.0,52.0,51.0,51.0,51.0,59.0,50.0,69.0,70.0,50.0,50.0,72.0,50.0,68.0,74.0,50.0,50.0,75.0,63.0,50.0,50.0,69.0,50.0,68.0,71.0,67.0,49.0,49.0,63.0,49.0,52.0,50.0,50.0,68.0,64.0,66.0,66.0,66.0,49.0,49.0,49.0,49.0,76.0,49.0,47.0,49.0,69.0,62.0,47.0,49.0,48.0,70.0,71.0,68.0,50.0,48.0,47.0,70.0,71.0,68.0,48.0,67.0,48.0,50.0,48.0,49.0,49.0,48.0,73.0,65.0,65.0,48.0,49.0,5.0,49.0,48.0,48.0,48.0,50.0,72.0,69.0,72.0,70.0,46.0,61.0,47.0,72.0,68.0,49.0,66.0,71.0,63.0,68.0,47.0,64.0,69.0,48.0,47.0,64.0,65.0,69.0,49.0,74.0,58.0,64.0,48.0,47.0,47.0,47.0,48.0,48.0,47.0,48.0,67.0,75.0,47.0,66.0,67.0,63.0,48.0,66.0,48.0,66.0,66.0,46.0,48.0,69.0,46.0,49.0,48.0,49.0,68.0,63.0,46.0,47.0,48.0,63.0,67.0,66.0,47.0,48.0,47.0,47.0,68.0,47.0,69.0,73.0,47.0,60.0,62.0,69.0,68.0,65.0,67.0,62.0,66.0,58.0,46.0,68.0,46.0,66.0,45.0,45.0,74.0,65.0,68.0,65.0,47.0,70.0,46.0,62.0,65.0,46.0,46.0,46.0,46.0,45.0,46.0,46.0,46.0,67.0,62.0,71.0,63.0,62.0,46.0,44.0,46.0,69.0,46.0,65.0,44.0,45.0,66.0,46.0,45.0,46.0,45.0,46.0,64.0,70.0,47.0,47.0,45.0,45.0,45.0,64.0,46.0,45.0,63.0,45.0,45.0,45.0,65.0,50.0,77.0,68.0,46.0,65.0,71.0,68.0,68.0,73.0,44.0,46.0,74.0,66.0,71.0,70.0,73.0,45.0,66.0,46.0,70.0,62.0,64.0,47.0,68.0,45.0,46.0,46.0,44.0,62.0,45.0,66.0,45.0,62.0,62.0,59.0,44.0,45.0,45.0,62.0,64.0,45.0,45.0,68.0,65.0,66.0,67.0,45.0,65.0,58.0,73.0,61.0,45.0,44.0,45.0,44.0,44.0,44.0,62.0,66.0,44.0,63.0,67.0,57.0,64.0,68.0,69.0,67.0,44.0,45.0,45.0,44.0,44.0,44.0,65.0,74.0,66.0,73.0,69.0,66.0,45.0,43.0,44.0,42.0,44.0,46.0,44.0,44.0,43.0,44.0,45.0,43.0,66.0,43.0,66.0,69.0,44.0,43.0,44.0,43.0,61.0,43.0,43.0,43.0,45.0,45.0,64.0,67.0,67.0,77.0,43.0,43.0,70.0,43.0,66.0,45.0,42.0,67.0,58.0,66.0,56.0,60.0,69.0,43.0,43.0,43.0,42.0,43.0,43.0,43.0,64.0,43.0,63.0,42.0,59.0,43.0,44.0,43.0,55.0,66.0,63.0,43.0,44.0,42.0,61.0,43.0,43.0],\"yaxis\":\"y\",\"type\":\"histogram\"},{\"alignmentgroup\":\"True\",\"bingroup\":\"x\",\"histfunc\":\"sum\",\"hovertemplate\":\"G\\u00eanero=%{x}\\u003cbr\\u003esum of Popularidade=%{y}\\u003cextra\\u003e\\u003c\\u002fextra\\u003e\",\"legendgroup\":\"pop-film\",\"marker\":{\"color\":\"#9932CC\",\"pattern\":{\"shape\":\"\"}},\"name\":\"pop-film\",\"offsetgroup\":\"pop-film\",\"orientation\":\"v\",\"showlegend\":true,\"x\":[\"pop-film\",\"pop-film\",\"pop-film\",\"pop-film\",\"pop-film\",\"pop-film\",\"pop-film\",\"pop-film\",\"pop-film\",\"pop-film\",\"pop-film\",\"pop-film\",\"pop-film\",\"pop-film\",\"pop-film\",\"pop-film\",\"pop-film\",\"pop-film\",\"pop-film\",\"pop-film\",\"pop-film\",\"pop-film\",\"pop-film\",\"pop-film\",\"pop-film\",\"pop-film\",\"pop-film\",\"pop-film\",\"pop-film\",\"pop-film\",\"pop-film\",\"pop-film\",\"pop-film\",\"pop-film\",\"pop-film\",\"pop-film\",\"pop-film\",\"pop-film\",\"pop-film\",\"pop-film\",\"pop-film\",\"pop-film\",\"pop-film\",\"pop-film\",\"pop-film\",\"pop-film\",\"pop-film\",\"pop-film\",\"pop-film\",\"pop-film\",\"pop-film\",\"pop-film\",\"pop-film\",\"pop-film\",\"pop-film\",\"pop-film\",\"pop-film\",\"pop-film\",\"pop-film\",\"pop-film\",\"pop-film\",\"pop-film\",\"pop-film\",\"pop-film\",\"pop-film\",\"pop-film\",\"pop-film\",\"pop-film\",\"pop-film\",\"pop-film\",\"pop-film\",\"pop-film\",\"pop-film\",\"pop-film\",\"pop-film\",\"pop-film\",\"pop-film\",\"pop-film\",\"pop-film\",\"pop-film\",\"pop-film\",\"pop-film\",\"pop-film\",\"pop-film\",\"pop-film\",\"pop-film\",\"pop-film\",\"pop-film\",\"pop-film\",\"pop-film\",\"pop-film\",\"pop-film\",\"pop-film\",\"pop-film\",\"pop-film\",\"pop-film\",\"pop-film\",\"pop-film\",\"pop-film\",\"pop-film\",\"pop-film\",\"pop-film\",\"pop-film\",\"pop-film\",\"pop-film\",\"pop-film\",\"pop-film\",\"pop-film\",\"pop-film\",\"pop-film\",\"pop-film\",\"pop-film\",\"pop-film\",\"pop-film\",\"pop-film\",\"pop-film\",\"pop-film\",\"pop-film\",\"pop-film\",\"pop-film\",\"pop-film\",\"pop-film\",\"pop-film\",\"pop-film\",\"pop-film\",\"pop-film\",\"pop-film\",\"pop-film\",\"pop-film\",\"pop-film\",\"pop-film\",\"pop-film\",\"pop-film\",\"pop-film\",\"pop-film\",\"pop-film\",\"pop-film\",\"pop-film\",\"pop-film\",\"pop-film\",\"pop-film\",\"pop-film\",\"pop-film\",\"pop-film\",\"pop-film\",\"pop-film\",\"pop-film\",\"pop-film\",\"pop-film\",\"pop-film\",\"pop-film\",\"pop-film\",\"pop-film\",\"pop-film\",\"pop-film\",\"pop-film\",\"pop-film\",\"pop-film\",\"pop-film\",\"pop-film\",\"pop-film\",\"pop-film\",\"pop-film\",\"pop-film\",\"pop-film\",\"pop-film\",\"pop-film\",\"pop-film\",\"pop-film\",\"pop-film\",\"pop-film\",\"pop-film\",\"pop-film\",\"pop-film\",\"pop-film\",\"pop-film\",\"pop-film\",\"pop-film\",\"pop-film\",\"pop-film\",\"pop-film\",\"pop-film\",\"pop-film\",\"pop-film\",\"pop-film\",\"pop-film\",\"pop-film\",\"pop-film\",\"pop-film\",\"pop-film\",\"pop-film\",\"pop-film\",\"pop-film\",\"pop-film\",\"pop-film\",\"pop-film\",\"pop-film\",\"pop-film\",\"pop-film\",\"pop-film\",\"pop-film\",\"pop-film\",\"pop-film\",\"pop-film\",\"pop-film\",\"pop-film\",\"pop-film\",\"pop-film\",\"pop-film\",\"pop-film\",\"pop-film\",\"pop-film\",\"pop-film\",\"pop-film\",\"pop-film\",\"pop-film\",\"pop-film\",\"pop-film\",\"pop-film\",\"pop-film\",\"pop-film\",\"pop-film\",\"pop-film\",\"pop-film\",\"pop-film\",\"pop-film\",\"pop-film\",\"pop-film\",\"pop-film\",\"pop-film\",\"pop-film\",\"pop-film\",\"pop-film\",\"pop-film\",\"pop-film\",\"pop-film\",\"pop-film\",\"pop-film\",\"pop-film\",\"pop-film\",\"pop-film\",\"pop-film\",\"pop-film\",\"pop-film\",\"pop-film\",\"pop-film\",\"pop-film\",\"pop-film\",\"pop-film\",\"pop-film\",\"pop-film\",\"pop-film\",\"pop-film\",\"pop-film\",\"pop-film\",\"pop-film\",\"pop-film\",\"pop-film\",\"pop-film\",\"pop-film\",\"pop-film\",\"pop-film\",\"pop-film\",\"pop-film\",\"pop-film\",\"pop-film\",\"pop-film\",\"pop-film\",\"pop-film\",\"pop-film\",\"pop-film\",\"pop-film\",\"pop-film\",\"pop-film\",\"pop-film\",\"pop-film\",\"pop-film\",\"pop-film\",\"pop-film\",\"pop-film\",\"pop-film\",\"pop-film\",\"pop-film\",\"pop-film\",\"pop-film\",\"pop-film\",\"pop-film\",\"pop-film\",\"pop-film\",\"pop-film\",\"pop-film\",\"pop-film\",\"pop-film\",\"pop-film\",\"pop-film\",\"pop-film\",\"pop-film\",\"pop-film\",\"pop-film\",\"pop-film\",\"pop-film\",\"pop-film\",\"pop-film\",\"pop-film\",\"pop-film\",\"pop-film\",\"pop-film\",\"pop-film\",\"pop-film\",\"pop-film\",\"pop-film\",\"pop-film\",\"pop-film\",\"pop-film\",\"pop-film\",\"pop-film\",\"pop-film\",\"pop-film\",\"pop-film\",\"pop-film\",\"pop-film\",\"pop-film\",\"pop-film\",\"pop-film\",\"pop-film\",\"pop-film\",\"pop-film\",\"pop-film\",\"pop-film\",\"pop-film\",\"pop-film\",\"pop-film\",\"pop-film\",\"pop-film\",\"pop-film\",\"pop-film\",\"pop-film\",\"pop-film\",\"pop-film\",\"pop-film\",\"pop-film\",\"pop-film\",\"pop-film\",\"pop-film\",\"pop-film\",\"pop-film\",\"pop-film\",\"pop-film\",\"pop-film\",\"pop-film\",\"pop-film\",\"pop-film\",\"pop-film\",\"pop-film\",\"pop-film\",\"pop-film\",\"pop-film\",\"pop-film\",\"pop-film\",\"pop-film\",\"pop-film\",\"pop-film\",\"pop-film\",\"pop-film\",\"pop-film\",\"pop-film\",\"pop-film\",\"pop-film\",\"pop-film\",\"pop-film\",\"pop-film\",\"pop-film\",\"pop-film\",\"pop-film\",\"pop-film\",\"pop-film\",\"pop-film\",\"pop-film\",\"pop-film\",\"pop-film\",\"pop-film\",\"pop-film\",\"pop-film\",\"pop-film\",\"pop-film\",\"pop-film\",\"pop-film\",\"pop-film\",\"pop-film\",\"pop-film\",\"pop-film\",\"pop-film\",\"pop-film\",\"pop-film\",\"pop-film\",\"pop-film\",\"pop-film\",\"pop-film\",\"pop-film\",\"pop-film\",\"pop-film\",\"pop-film\",\"pop-film\",\"pop-film\",\"pop-film\",\"pop-film\",\"pop-film\",\"pop-film\",\"pop-film\",\"pop-film\",\"pop-film\",\"pop-film\",\"pop-film\",\"pop-film\",\"pop-film\",\"pop-film\",\"pop-film\",\"pop-film\",\"pop-film\",\"pop-film\",\"pop-film\",\"pop-film\",\"pop-film\",\"pop-film\",\"pop-film\",\"pop-film\",\"pop-film\",\"pop-film\",\"pop-film\",\"pop-film\",\"pop-film\",\"pop-film\",\"pop-film\",\"pop-film\",\"pop-film\",\"pop-film\",\"pop-film\",\"pop-film\",\"pop-film\",\"pop-film\",\"pop-film\",\"pop-film\",\"pop-film\",\"pop-film\",\"pop-film\",\"pop-film\",\"pop-film\",\"pop-film\",\"pop-film\",\"pop-film\",\"pop-film\",\"pop-film\",\"pop-film\",\"pop-film\",\"pop-film\",\"pop-film\",\"pop-film\",\"pop-film\",\"pop-film\",\"pop-film\",\"pop-film\",\"pop-film\",\"pop-film\",\"pop-film\",\"pop-film\",\"pop-film\",\"pop-film\",\"pop-film\",\"pop-film\",\"pop-film\",\"pop-film\",\"pop-film\",\"pop-film\",\"pop-film\",\"pop-film\",\"pop-film\",\"pop-film\",\"pop-film\",\"pop-film\",\"pop-film\",\"pop-film\",\"pop-film\",\"pop-film\",\"pop-film\",\"pop-film\",\"pop-film\",\"pop-film\",\"pop-film\",\"pop-film\",\"pop-film\",\"pop-film\",\"pop-film\",\"pop-film\",\"pop-film\",\"pop-film\",\"pop-film\",\"pop-film\",\"pop-film\",\"pop-film\",\"pop-film\",\"pop-film\",\"pop-film\",\"pop-film\",\"pop-film\",\"pop-film\",\"pop-film\",\"pop-film\",\"pop-film\",\"pop-film\",\"pop-film\",\"pop-film\",\"pop-film\",\"pop-film\",\"pop-film\",\"pop-film\",\"pop-film\",\"pop-film\",\"pop-film\",\"pop-film\",\"pop-film\",\"pop-film\",\"pop-film\",\"pop-film\",\"pop-film\",\"pop-film\",\"pop-film\",\"pop-film\",\"pop-film\",\"pop-film\",\"pop-film\",\"pop-film\",\"pop-film\",\"pop-film\",\"pop-film\",\"pop-film\",\"pop-film\",\"pop-film\",\"pop-film\",\"pop-film\",\"pop-film\",\"pop-film\",\"pop-film\",\"pop-film\",\"pop-film\",\"pop-film\",\"pop-film\",\"pop-film\",\"pop-film\",\"pop-film\",\"pop-film\",\"pop-film\",\"pop-film\",\"pop-film\",\"pop-film\",\"pop-film\",\"pop-film\",\"pop-film\",\"pop-film\",\"pop-film\",\"pop-film\",\"pop-film\"],\"xaxis\":\"x\",\"y\":[74.0,71.0,73.0,71.0,71.0,76.0,72.0,72.0,72.0,79.0,74.0,73.0,72.0,74.0,71.0,71.0,71.0,72.0,71.0,70.0,73.0,74.0,70.0,72.0,77.0,70.0,77.0,77.0,72.0,73.0,79.0,72.0,69.0,69.0,71.0,68.0,71.0,68.0,70.0,70.0,69.0,71.0,68.0,69.0,69.0,71.0,68.0,29.0,69.0,70.0,36.0,69.0,68.0,69.0,71.0,69.0,70.0,42.0,70.0,68.0,69.0,68.0,69.0,71.0,68.0,67.0,67.0,67.0,69.0,67.0,67.0,68.0,66.0,66.0,67.0,67.0,67.0,67.0,66.0,67.0,66.0,67.0,67.0,68.0,67.0,68.0,66.0,67.0,67.0,67.0,66.0,66.0,68.0,68.0,67.0,68.0,67.0,66.0,66.0,66.0,66.0,66.0,65.0,65.0,65.0,65.0,65.0,66.0,65.0,66.0,66.0,65.0,65.0,66.0,66.0,65.0,65.0,66.0,64.0,66.0,65.0,66.0,65.0,64.0,66.0,66.0,65.0,64.0,64.0,64.0,64.0,39.0,64.0,65.0,65.0,66.0,64.0,65.0,63.0,65.0,64.0,64.0,65.0,65.0,66.0,65.0,65.0,31.0,66.0,64.0,64.0,64.0,64.0,64.0,0.0,64.0,64.0,64.0,66.0,64.0,63.0,64.0,64.0,64.0,65.0,63.0,64.0,63.0,67.0,47.0,64.0,64.0,64.0,63.0,63.0,63.0,64.0,63.0,63.0,63.0,63.0,64.0,63.0,64.0,63.0,64.0,65.0,63.0,63.0,64.0,63.0,62.0,64.0,62.0,64.0,63.0,64.0,63.0,63.0,62.0,63.0,63.0,63.0,64.0,62.0,62.0,63.0,61.0,62.0,62.0,62.0,45.0,62.0,21.0,63.0,7.0,5.0,63.0,62.0,7.0,62.0,62.0,62.0,61.0,63.0,63.0,63.0,62.0,62.0,52.0,63.0,63.0,63.0,62.0,62.0,40.0,62.0,39.0,61.0,62.0,62.0,61.0,62.0,61.0,62.0,41.0,63.0,62.0,62.0,62.0,63.0,61.0,62.0,61.0,33.0,55.0,61.0,64.0,43.0,61.0,63.0,61.0,61.0,62.0,61.0,61.0,60.0,61.0,61.0,61.0,61.0,61.0,61.0,61.0,61.0,60.0,61.0,61.0,61.0,60.0,61.0,60.0,61.0,63.0,62.0,60.0,61.0,61.0,62.0,62.0,59.0,61.0,61.0,60.0,61.0,62.0,60.0,61.0,60.0,60.0,60.0,59.0,60.0,61.0,59.0,61.0,61.0,48.0,60.0,60.0,60.0,60.0,60.0,60.0,59.0,60.0,60.0,59.0,60.0,60.0,60.0,60.0,33.0,60.0,59.0,60.0,0.0,60.0,59.0,59.0,60.0,59.0,60.0,59.0,59.0,59.0,59.0,60.0,59.0,59.0,61.0,60.0,59.0,59.0,60.0,60.0,59.0,58.0,58.0,58.0,60.0,59.0,60.0,59.0,59.0,58.0,59.0,58.0,60.0,58.0,59.0,60.0,58.0,60.0,58.0,59.0,59.0,59.0,59.0,59.0,58.0,58.0,59.0,57.0,59.0,59.0,45.0,58.0,59.0,58.0,58.0,59.0,59.0,58.0,58.0,58.0,25.0,58.0,59.0,58.0,58.0,57.0,58.0,58.0,57.0,58.0,58.0,57.0,30.0,25.0,57.0,57.0,57.0,58.0,59.0,57.0,58.0,57.0,58.0,57.0,57.0,57.0,57.0,58.0,58.0,57.0,57.0,58.0,57.0,57.0,58.0,58.0,40.0,59.0,24.0,57.0,28.0,57.0,20.0,57.0,58.0,58.0,57.0,57.0,57.0,57.0,4.0,57.0,4.0,3.0,57.0,57.0,58.0,3.0,2.0,3.0,57.0,57.0,57.0,58.0,56.0,57.0,58.0,56.0,58.0,57.0,57.0,57.0,57.0,58.0,58.0,57.0,57.0,58.0,56.0,57.0,58.0,58.0,57.0,57.0,57.0,57.0,57.0,57.0,57.0,56.0,56.0,57.0,56.0,56.0,57.0,31.0,58.0,57.0,56.0,59.0,56.0,56.0,57.0,56.0,57.0,56.0,57.0,56.0,57.0,56.0,56.0,56.0,57.0,56.0,56.0,57.0,56.0,56.0,57.0,56.0,57.0,56.0,56.0,56.0,57.0,57.0,58.0,57.0,57.0,55.0,57.0,56.0,56.0,58.0,56.0,57.0,56.0,56.0,56.0,55.0,56.0,57.0,55.0,55.0,56.0,56.0,56.0,56.0,56.0,56.0,57.0,57.0,56.0,56.0,55.0,55.0,55.0,56.0,56.0,56.0,56.0,56.0,56.0,54.0,55.0,55.0,55.0,56.0,56.0,56.0,55.0,56.0,55.0,55.0,55.0],\"yaxis\":\"y\",\"type\":\"histogram\"}],                        {\"template\":{\"data\":{\"histogram2dcontour\":[{\"type\":\"histogram2dcontour\",\"colorbar\":{\"outlinewidth\":0,\"ticks\":\"\"},\"colorscale\":[[0.0,\"#0d0887\"],[0.1111111111111111,\"#46039f\"],[0.2222222222222222,\"#7201a8\"],[0.3333333333333333,\"#9c179e\"],[0.4444444444444444,\"#bd3786\"],[0.5555555555555556,\"#d8576b\"],[0.6666666666666666,\"#ed7953\"],[0.7777777777777778,\"#fb9f3a\"],[0.8888888888888888,\"#fdca26\"],[1.0,\"#f0f921\"]]}],\"choropleth\":[{\"type\":\"choropleth\",\"colorbar\":{\"outlinewidth\":0,\"ticks\":\"\"}}],\"histogram2d\":[{\"type\":\"histogram2d\",\"colorbar\":{\"outlinewidth\":0,\"ticks\":\"\"},\"colorscale\":[[0.0,\"#0d0887\"],[0.1111111111111111,\"#46039f\"],[0.2222222222222222,\"#7201a8\"],[0.3333333333333333,\"#9c179e\"],[0.4444444444444444,\"#bd3786\"],[0.5555555555555556,\"#d8576b\"],[0.6666666666666666,\"#ed7953\"],[0.7777777777777778,\"#fb9f3a\"],[0.8888888888888888,\"#fdca26\"],[1.0,\"#f0f921\"]]}],\"heatmap\":[{\"type\":\"heatmap\",\"colorbar\":{\"outlinewidth\":0,\"ticks\":\"\"},\"colorscale\":[[0.0,\"#0d0887\"],[0.1111111111111111,\"#46039f\"],[0.2222222222222222,\"#7201a8\"],[0.3333333333333333,\"#9c179e\"],[0.4444444444444444,\"#bd3786\"],[0.5555555555555556,\"#d8576b\"],[0.6666666666666666,\"#ed7953\"],[0.7777777777777778,\"#fb9f3a\"],[0.8888888888888888,\"#fdca26\"],[1.0,\"#f0f921\"]]}],\"heatmapgl\":[{\"type\":\"heatmapgl\",\"colorbar\":{\"outlinewidth\":0,\"ticks\":\"\"},\"colorscale\":[[0.0,\"#0d0887\"],[0.1111111111111111,\"#46039f\"],[0.2222222222222222,\"#7201a8\"],[0.3333333333333333,\"#9c179e\"],[0.4444444444444444,\"#bd3786\"],[0.5555555555555556,\"#d8576b\"],[0.6666666666666666,\"#ed7953\"],[0.7777777777777778,\"#fb9f3a\"],[0.8888888888888888,\"#fdca26\"],[1.0,\"#f0f921\"]]}],\"contourcarpet\":[{\"type\":\"contourcarpet\",\"colorbar\":{\"outlinewidth\":0,\"ticks\":\"\"}}],\"contour\":[{\"type\":\"contour\",\"colorbar\":{\"outlinewidth\":0,\"ticks\":\"\"},\"colorscale\":[[0.0,\"#0d0887\"],[0.1111111111111111,\"#46039f\"],[0.2222222222222222,\"#7201a8\"],[0.3333333333333333,\"#9c179e\"],[0.4444444444444444,\"#bd3786\"],[0.5555555555555556,\"#d8576b\"],[0.6666666666666666,\"#ed7953\"],[0.7777777777777778,\"#fb9f3a\"],[0.8888888888888888,\"#fdca26\"],[1.0,\"#f0f921\"]]}],\"surface\":[{\"type\":\"surface\",\"colorbar\":{\"outlinewidth\":0,\"ticks\":\"\"},\"colorscale\":[[0.0,\"#0d0887\"],[0.1111111111111111,\"#46039f\"],[0.2222222222222222,\"#7201a8\"],[0.3333333333333333,\"#9c179e\"],[0.4444444444444444,\"#bd3786\"],[0.5555555555555556,\"#d8576b\"],[0.6666666666666666,\"#ed7953\"],[0.7777777777777778,\"#fb9f3a\"],[0.8888888888888888,\"#fdca26\"],[1.0,\"#f0f921\"]]}],\"mesh3d\":[{\"type\":\"mesh3d\",\"colorbar\":{\"outlinewidth\":0,\"ticks\":\"\"}}],\"scatter\":[{\"fillpattern\":{\"fillmode\":\"overlay\",\"size\":10,\"solidity\":0.2},\"type\":\"scatter\"}],\"parcoords\":[{\"type\":\"parcoords\",\"line\":{\"colorbar\":{\"outlinewidth\":0,\"ticks\":\"\"}}}],\"scatterpolargl\":[{\"type\":\"scatterpolargl\",\"marker\":{\"colorbar\":{\"outlinewidth\":0,\"ticks\":\"\"}}}],\"bar\":[{\"error_x\":{\"color\":\"#2a3f5f\"},\"error_y\":{\"color\":\"#2a3f5f\"},\"marker\":{\"line\":{\"color\":\"#E5ECF6\",\"width\":0.5},\"pattern\":{\"fillmode\":\"overlay\",\"size\":10,\"solidity\":0.2}},\"type\":\"bar\"}],\"scattergeo\":[{\"type\":\"scattergeo\",\"marker\":{\"colorbar\":{\"outlinewidth\":0,\"ticks\":\"\"}}}],\"scatterpolar\":[{\"type\":\"scatterpolar\",\"marker\":{\"colorbar\":{\"outlinewidth\":0,\"ticks\":\"\"}}}],\"histogram\":[{\"marker\":{\"pattern\":{\"fillmode\":\"overlay\",\"size\":10,\"solidity\":0.2}},\"type\":\"histogram\"}],\"scattergl\":[{\"type\":\"scattergl\",\"marker\":{\"colorbar\":{\"outlinewidth\":0,\"ticks\":\"\"}}}],\"scatter3d\":[{\"type\":\"scatter3d\",\"line\":{\"colorbar\":{\"outlinewidth\":0,\"ticks\":\"\"}},\"marker\":{\"colorbar\":{\"outlinewidth\":0,\"ticks\":\"\"}}}],\"scattermapbox\":[{\"type\":\"scattermapbox\",\"marker\":{\"colorbar\":{\"outlinewidth\":0,\"ticks\":\"\"}}}],\"scatterternary\":[{\"type\":\"scatterternary\",\"marker\":{\"colorbar\":{\"outlinewidth\":0,\"ticks\":\"\"}}}],\"scattercarpet\":[{\"type\":\"scattercarpet\",\"marker\":{\"colorbar\":{\"outlinewidth\":0,\"ticks\":\"\"}}}],\"carpet\":[{\"aaxis\":{\"endlinecolor\":\"#2a3f5f\",\"gridcolor\":\"white\",\"linecolor\":\"white\",\"minorgridcolor\":\"white\",\"startlinecolor\":\"#2a3f5f\"},\"baxis\":{\"endlinecolor\":\"#2a3f5f\",\"gridcolor\":\"white\",\"linecolor\":\"white\",\"minorgridcolor\":\"white\",\"startlinecolor\":\"#2a3f5f\"},\"type\":\"carpet\"}],\"table\":[{\"cells\":{\"fill\":{\"color\":\"#EBF0F8\"},\"line\":{\"color\":\"white\"}},\"header\":{\"fill\":{\"color\":\"#C8D4E3\"},\"line\":{\"color\":\"white\"}},\"type\":\"table\"}],\"barpolar\":[{\"marker\":{\"line\":{\"color\":\"#E5ECF6\",\"width\":0.5},\"pattern\":{\"fillmode\":\"overlay\",\"size\":10,\"solidity\":0.2}},\"type\":\"barpolar\"}],\"pie\":[{\"automargin\":true,\"type\":\"pie\"}]},\"layout\":{\"autotypenumbers\":\"strict\",\"colorway\":[\"#636efa\",\"#EF553B\",\"#00cc96\",\"#ab63fa\",\"#FFA15A\",\"#19d3f3\",\"#FF6692\",\"#B6E880\",\"#FF97FF\",\"#FECB52\"],\"font\":{\"color\":\"#2a3f5f\"},\"hovermode\":\"closest\",\"hoverlabel\":{\"align\":\"left\"},\"paper_bgcolor\":\"white\",\"plot_bgcolor\":\"#E5ECF6\",\"polar\":{\"bgcolor\":\"#E5ECF6\",\"angularaxis\":{\"gridcolor\":\"white\",\"linecolor\":\"white\",\"ticks\":\"\"},\"radialaxis\":{\"gridcolor\":\"white\",\"linecolor\":\"white\",\"ticks\":\"\"}},\"ternary\":{\"bgcolor\":\"#E5ECF6\",\"aaxis\":{\"gridcolor\":\"white\",\"linecolor\":\"white\",\"ticks\":\"\"},\"baxis\":{\"gridcolor\":\"white\",\"linecolor\":\"white\",\"ticks\":\"\"},\"caxis\":{\"gridcolor\":\"white\",\"linecolor\":\"white\",\"ticks\":\"\"}},\"coloraxis\":{\"colorbar\":{\"outlinewidth\":0,\"ticks\":\"\"}},\"colorscale\":{\"sequential\":[[0.0,\"#0d0887\"],[0.1111111111111111,\"#46039f\"],[0.2222222222222222,\"#7201a8\"],[0.3333333333333333,\"#9c179e\"],[0.4444444444444444,\"#bd3786\"],[0.5555555555555556,\"#d8576b\"],[0.6666666666666666,\"#ed7953\"],[0.7777777777777778,\"#fb9f3a\"],[0.8888888888888888,\"#fdca26\"],[1.0,\"#f0f921\"]],\"sequentialminus\":[[0.0,\"#0d0887\"],[0.1111111111111111,\"#46039f\"],[0.2222222222222222,\"#7201a8\"],[0.3333333333333333,\"#9c179e\"],[0.4444444444444444,\"#bd3786\"],[0.5555555555555556,\"#d8576b\"],[0.6666666666666666,\"#ed7953\"],[0.7777777777777778,\"#fb9f3a\"],[0.8888888888888888,\"#fdca26\"],[1.0,\"#f0f921\"]],\"diverging\":[[0,\"#8e0152\"],[0.1,\"#c51b7d\"],[0.2,\"#de77ae\"],[0.3,\"#f1b6da\"],[0.4,\"#fde0ef\"],[0.5,\"#f7f7f7\"],[0.6,\"#e6f5d0\"],[0.7,\"#b8e186\"],[0.8,\"#7fbc41\"],[0.9,\"#4d9221\"],[1,\"#276419\"]]},\"xaxis\":{\"gridcolor\":\"white\",\"linecolor\":\"white\",\"ticks\":\"\",\"title\":{\"standoff\":15},\"zerolinecolor\":\"white\",\"automargin\":true,\"zerolinewidth\":2},\"yaxis\":{\"gridcolor\":\"white\",\"linecolor\":\"white\",\"ticks\":\"\",\"title\":{\"standoff\":15},\"zerolinecolor\":\"white\",\"automargin\":true,\"zerolinewidth\":2},\"scene\":{\"xaxis\":{\"backgroundcolor\":\"#E5ECF6\",\"gridcolor\":\"white\",\"linecolor\":\"white\",\"showbackground\":true,\"ticks\":\"\",\"zerolinecolor\":\"white\",\"gridwidth\":2},\"yaxis\":{\"backgroundcolor\":\"#E5ECF6\",\"gridcolor\":\"white\",\"linecolor\":\"white\",\"showbackground\":true,\"ticks\":\"\",\"zerolinecolor\":\"white\",\"gridwidth\":2},\"zaxis\":{\"backgroundcolor\":\"#E5ECF6\",\"gridcolor\":\"white\",\"linecolor\":\"white\",\"showbackground\":true,\"ticks\":\"\",\"zerolinecolor\":\"white\",\"gridwidth\":2}},\"shapedefaults\":{\"line\":{\"color\":\"#2a3f5f\"}},\"annotationdefaults\":{\"arrowcolor\":\"#2a3f5f\",\"arrowhead\":0,\"arrowwidth\":1},\"geo\":{\"bgcolor\":\"white\",\"landcolor\":\"#E5ECF6\",\"subunitcolor\":\"white\",\"showland\":true,\"showlakes\":true,\"lakecolor\":\"white\"},\"title\":{\"x\":0.05},\"mapbox\":{\"style\":\"light\"}}},\"xaxis\":{\"anchor\":\"y\",\"domain\":[0.0,1.0],\"title\":{\"text\":\"G\\u00eanero\"},\"categoryorder\":\"array\",\"categoryarray\":[\"anime\",\"brazil\",\"chill\",\"k-pop\",\"pop-film\"]},\"yaxis\":{\"anchor\":\"x\",\"domain\":[0.0,1.0],\"title\":{\"text\":\"sum of Popularidade\"}},\"legend\":{\"title\":{\"text\":\"G\\u00eanero\"},\"tracegroupgap\":0},\"title\":{\"text\":\"5 G\\u00eaneros mais populares\"},\"barmode\":\"relative\"},                        {\"responsive\": true}                    ).then(function(){\n",
       "                            \n",
       "var gd = document.getElementById('64bfd4c5-6eec-493f-bd66-6206c252b73b');\n",
       "var x = new MutationObserver(function (mutations, observer) {{\n",
       "        var display = window.getComputedStyle(gd).display;\n",
       "        if (!display || display === 'none') {{\n",
       "            console.log([gd, 'removed!']);\n",
       "            Plotly.purge(gd);\n",
       "            observer.disconnect();\n",
       "        }}\n",
       "}});\n",
       "\n",
       "// Listen for the removal of the full notebook cells\n",
       "var notebookContainer = gd.closest('#notebook-container');\n",
       "if (notebookContainer) {{\n",
       "    x.observe(notebookContainer, {childList: true});\n",
       "}}\n",
       "\n",
       "// Listen for the clearing of the current output cell\n",
       "var outputEl = gd.closest('.output');\n",
       "if (outputEl) {{\n",
       "    x.observe(outputEl, {childList: true});\n",
       "}}\n",
       "\n",
       "                        })                };                });            </script>        </div>"
      ]
     },
     "metadata": {},
     "output_type": "display_data"
    },
    {
     "name": "stdout",
     "output_type": "stream",
     "text": [
      "                                 track_name  popularity  duration_ms explicit  \\\n",
      "2855                              KICK BACK        83.0     193495.0    False   \n",
      "5501                         Move Your Body        82.0     157444.0    False   \n",
      "9127                                   NVMD        79.0     181224.0     True   \n",
      "33517                            After LIKE        88.0     176973.0    False   \n",
      "40426  Thenmozhi (From \"Thiruchitrambalam\")        79.0     173225.0    False   \n",
      "\n",
      "       danceability  energy  loudness  mode  speechiness  acousticness  \\\n",
      "2855          0.577   0.941    -5.170   1.0       0.1050       0.00207   \n",
      "5501          0.848   0.821    -5.408   0.0       0.0527       0.01690   \n",
      "9127          0.758   0.674    -4.533   1.0       0.1080       0.09030   \n",
      "33517         0.680   0.922    -1.215   1.0       0.1210       0.10300   \n",
      "40426         0.764   0.532    -5.979   0.0       0.0491       0.59800   \n",
      "\n",
      "       instrumentalness  liveness  valence    tempo  time_signature  \\\n",
      "2855           0.000003    0.0891    0.292  101.921             4.0   \n",
      "5501           0.000403    0.0962    0.249  125.051             4.0   \n",
      "9127           0.000000    0.0902    0.424   97.977             4.0   \n",
      "33517          0.000000    0.0877    0.799  125.014             4.0   \n",
      "40426          0.000000    0.2600    0.859  123.950             4.0   \n",
      "\n",
      "      track_genre  duration_minutes  duration_seconds formatted_duration  \n",
      "2855        anime                 3                13               3:13  \n",
      "5501       brazil                 2                37               2:37  \n",
      "9127        chill                 3                 1               3:01  \n",
      "33517       k-pop                 2                56               2:56  \n",
      "40426    pop-film                 2                53               2:53  \n"
     ]
    }
   ],
   "source": [
    "#Gêneros mais populares\n",
    "most_pop_genrer = ['pop-film', 'chill', 'k-pop', 'anime', 'brazil']\n",
    "most_pop = df1[df1['track_genre'].isin(most_pop_genrer)]\n",
    "#pega  a música mais popular de cada gênero\n",
    "top_tracks = most_pop.loc[most_pop.groupby('track_genre')['popularity'].idxmax()]\n",
    "fig = px.histogram(\n",
    "    most_pop,\n",
    "    x='track_genre',\n",
    "    y='popularity',\n",
    "    color = 'track_genre',\n",
    "    title = '5 Gêneros mais populares',\n",
    "    labels={'track_genre':'Gênero', 'popularity':'Popularidade'},\n",
    "    color_discrete_sequence=['#A020F0', '#8A2BE2', '#4B0082', '#EE82EE', '#9932CC']\n",
    ")\n",
    "fig.show()\n",
    "print(top_tracks)"
   ]
  },
  {
   "cell_type": "code",
   "execution_count": 254,
   "metadata": {},
   "outputs": [],
   "source": [
    "# Dataframe tratado df1"
   ]
  },
  {
   "cell_type": "markdown",
   "metadata": {},
   "source": [
    "### Análise descritiva estatísticas dos dados: \n",
    "##### Tipos de análise: Média, Mediana, Moda, Desvio-padrão"
   ]
  },
  {
   "cell_type": "code",
   "execution_count": 255,
   "metadata": {},
   "outputs": [
    {
     "data": {
      "text/html": [
       "<div>\n",
       "<style scoped>\n",
       "    .dataframe tbody tr th:only-of-type {\n",
       "        vertical-align: middle;\n",
       "    }\n",
       "\n",
       "    .dataframe tbody tr th {\n",
       "        vertical-align: top;\n",
       "    }\n",
       "\n",
       "    .dataframe thead th {\n",
       "        text-align: right;\n",
       "    }\n",
       "</style>\n",
       "<table border=\"1\" class=\"dataframe\">\n",
       "  <thead>\n",
       "    <tr style=\"text-align: right;\">\n",
       "      <th></th>\n",
       "      <th>Moda</th>\n",
       "      <th>Desvio-padrão</th>\n",
       "    </tr>\n",
       "  </thead>\n",
       "  <tbody>\n",
       "    <tr>\n",
       "      <th>acousticness</th>\n",
       "      <td>0.995</td>\n",
       "      <td>0.340897</td>\n",
       "    </tr>\n",
       "    <tr>\n",
       "      <th>danceability</th>\n",
       "      <td>0.598</td>\n",
       "      <td>0.169512</td>\n",
       "    </tr>\n",
       "    <tr>\n",
       "      <th>duration_minutes</th>\n",
       "      <td>3.0</td>\n",
       "      <td>1.123727</td>\n",
       "    </tr>\n",
       "    <tr>\n",
       "      <th>duration_ms</th>\n",
       "      <td>192000.0</td>\n",
       "      <td>65200.216801</td>\n",
       "    </tr>\n",
       "    <tr>\n",
       "      <th>duration_seconds</th>\n",
       "      <td>0.0</td>\n",
       "      <td>17.281350</td>\n",
       "    </tr>\n",
       "    <tr>\n",
       "      <th>energy</th>\n",
       "      <td>0.977</td>\n",
       "      <td>0.257050</td>\n",
       "    </tr>\n",
       "    <tr>\n",
       "      <th>explicit</th>\n",
       "      <td>False</td>\n",
       "      <td>NaN</td>\n",
       "    </tr>\n",
       "    <tr>\n",
       "      <th>formatted_duration</th>\n",
       "      <td>3:32</td>\n",
       "      <td>NaN</td>\n",
       "    </tr>\n",
       "    <tr>\n",
       "      <th>instrumentalness</th>\n",
       "      <td>0.0</td>\n",
       "      <td>0.324817</td>\n",
       "    </tr>\n",
       "    <tr>\n",
       "      <th>liveness</th>\n",
       "      <td>0.109</td>\n",
       "      <td>0.194686</td>\n",
       "    </tr>\n",
       "    <tr>\n",
       "      <th>loudness</th>\n",
       "      <td>-6.162</td>\n",
       "      <td>4.975895</td>\n",
       "    </tr>\n",
       "    <tr>\n",
       "      <th>mode</th>\n",
       "      <td>1.0</td>\n",
       "      <td>0.481230</td>\n",
       "    </tr>\n",
       "    <tr>\n",
       "      <th>popularity</th>\n",
       "      <td>0.0</td>\n",
       "      <td>19.263638</td>\n",
       "    </tr>\n",
       "    <tr>\n",
       "      <th>speechiness</th>\n",
       "      <td>0.0322</td>\n",
       "      <td>0.121843</td>\n",
       "    </tr>\n",
       "    <tr>\n",
       "      <th>tempo</th>\n",
       "      <td>120.003</td>\n",
       "      <td>29.729699</td>\n",
       "    </tr>\n",
       "    <tr>\n",
       "      <th>time_signature</th>\n",
       "      <td>4.0</td>\n",
       "      <td>0.419818</td>\n",
       "    </tr>\n",
       "    <tr>\n",
       "      <th>track_genre</th>\n",
       "      <td>breakbeat</td>\n",
       "      <td>NaN</td>\n",
       "    </tr>\n",
       "    <tr>\n",
       "      <th>track_name</th>\n",
       "      <td>!I'll Be Back!</td>\n",
       "      <td>NaN</td>\n",
       "    </tr>\n",
       "    <tr>\n",
       "      <th>valence</th>\n",
       "      <td>0.961</td>\n",
       "      <td>0.260153</td>\n",
       "    </tr>\n",
       "  </tbody>\n",
       "</table>\n",
       "</div>"
      ],
      "text/plain": [
       "                              Moda  Desvio-padrão\n",
       "acousticness                 0.995       0.340897\n",
       "danceability                 0.598       0.169512\n",
       "duration_minutes               3.0       1.123727\n",
       "duration_ms               192000.0   65200.216801\n",
       "duration_seconds               0.0      17.281350\n",
       "energy                       0.977       0.257050\n",
       "explicit                     False            NaN\n",
       "formatted_duration            3:32            NaN\n",
       "instrumentalness               0.0       0.324817\n",
       "liveness                     0.109       0.194686\n",
       "loudness                    -6.162       4.975895\n",
       "mode                           1.0       0.481230\n",
       "popularity                     0.0      19.263638\n",
       "speechiness                 0.0322       0.121843\n",
       "tempo                      120.003      29.729699\n",
       "time_signature                 4.0       0.419818\n",
       "track_genre              breakbeat            NaN\n",
       "track_name          !I'll Be Back!            NaN\n",
       "valence                      0.961       0.260153"
      ]
     },
     "execution_count": 255,
     "metadata": {},
     "output_type": "execute_result"
    }
   ],
   "source": [
    "# Filtrando apenas as colunas numéricas\n",
    "df_numerico = df1.select_dtypes(include=['number'])#Isso seleciona apenas as colunas do DataFrame que contêm dados numéricos\n",
    "\n",
    "# Calculando as estatísticas para as colunas numéricas\n",
    "moda = df1.mode().iloc[0]  # Moda de cada coluna (pegamos a primeira moda)\n",
    "desvio_padrao = df_numerico.std()  # Desvio-padrão de cada coluna\n",
    "\n",
    "# Criando um DataFrame com as estatísticas calculadas\n",
    "estatisticas = pd.DataFrame({\n",
    "    'Moda': moda,\n",
    "    'Desvio-padrão': desvio_padrao\n",
    "})\n",
    "estatisticas"
   ]
  },
  {
   "cell_type": "markdown",
   "metadata": {},
   "source": [
    "### Features relevantes \n",
    "##### Tipos de features: energy, loudness, intensidade, tempo, velocidade"
   ]
  },
  {
   "cell_type": "code",
   "execution_count": 256,
   "metadata": {},
   "outputs": [],
   "source": [
    "df1['loudness'] = df1['loudness'].apply(lambda x: max(x, 1))  # Ajusta loudness para no mínimo 1\n",
    "\n",
    "def calcular_intensidade(energy, loudness):\n",
    "    # Garantindo que loudness seja positivo dentro da função (por segurança)\n",
    "    if loudness <= 0:\n",
    "        loudness = 1\n",
    "    \n",
    "    # Calculando a intensidade\n",
    "    intensidade = energy * np.log(loudness + 1)\n",
    "    \n",
    "    # Escalando e ajustando a faixa\n",
    "    intensidade *= 100\n",
    "    intensidade = np.clip(intensidade, 0, 200)\n",
    "    \n",
    "    return round(intensidade)\n",
    "\n",
    "# Aplicando a função calcular_intensidade ao DataFrame\n",
    "df1['intensidade'] = df1.apply(lambda row: calcular_intensidade(row['energy'], row['loudness']), axis=1)\n",
    "\n",
    "# Função para classificar a velocidade\n",
    "def classificar_velocidade(bpm):\n",
    "    if bpm <= 90:\n",
    "        return 'Lento'\n",
    "    elif bpm <= 150:\n",
    "        return 'Moderado'\n",
    "    elif bpm <= 200:\n",
    "        return 'Rápido'\n",
    "    else:\n",
    "        return 'Desconhecido'\n",
    "\n",
    "# Aplicando a classificação de velocidade\n",
    "df1.loc[:, 'velocidade'] = df1['tempo'].apply(classificar_velocidade)\n"
   ]
  },
  {
   "cell_type": "code",
   "execution_count": 257,
   "metadata": {},
   "outputs": [
    {
     "data": {
      "text/html": [
       "<div>\n",
       "<style scoped>\n",
       "    .dataframe tbody tr th:only-of-type {\n",
       "        vertical-align: middle;\n",
       "    }\n",
       "\n",
       "    .dataframe tbody tr th {\n",
       "        vertical-align: top;\n",
       "    }\n",
       "\n",
       "    .dataframe thead th {\n",
       "        text-align: right;\n",
       "    }\n",
       "</style>\n",
       "<table border=\"1\" class=\"dataframe\">\n",
       "  <thead>\n",
       "    <tr style=\"text-align: right;\">\n",
       "      <th></th>\n",
       "      <th>energy</th>\n",
       "      <th>loudness</th>\n",
       "      <th>intensidade</th>\n",
       "      <th>tempo</th>\n",
       "      <th>velocidade</th>\n",
       "    </tr>\n",
       "  </thead>\n",
       "  <tbody>\n",
       "    <tr>\n",
       "      <th>0</th>\n",
       "      <td>0.4610</td>\n",
       "      <td>1.0</td>\n",
       "      <td>32</td>\n",
       "      <td>87.917</td>\n",
       "      <td>Lento</td>\n",
       "    </tr>\n",
       "    <tr>\n",
       "      <th>1</th>\n",
       "      <td>0.1660</td>\n",
       "      <td>1.0</td>\n",
       "      <td>12</td>\n",
       "      <td>77.489</td>\n",
       "      <td>Lento</td>\n",
       "    </tr>\n",
       "    <tr>\n",
       "      <th>2</th>\n",
       "      <td>0.3590</td>\n",
       "      <td>1.0</td>\n",
       "      <td>25</td>\n",
       "      <td>76.332</td>\n",
       "      <td>Lento</td>\n",
       "    </tr>\n",
       "    <tr>\n",
       "      <th>3</th>\n",
       "      <td>0.0596</td>\n",
       "      <td>1.0</td>\n",
       "      <td>4</td>\n",
       "      <td>181.740</td>\n",
       "      <td>Rápido</td>\n",
       "    </tr>\n",
       "    <tr>\n",
       "      <th>4</th>\n",
       "      <td>0.4430</td>\n",
       "      <td>1.0</td>\n",
       "      <td>31</td>\n",
       "      <td>119.949</td>\n",
       "      <td>Moderado</td>\n",
       "    </tr>\n",
       "  </tbody>\n",
       "</table>\n",
       "</div>"
      ],
      "text/plain": [
       "   energy  loudness  intensidade    tempo velocidade\n",
       "0  0.4610       1.0           32   87.917      Lento\n",
       "1  0.1660       1.0           12   77.489      Lento\n",
       "2  0.3590       1.0           25   76.332      Lento\n",
       "3  0.0596       1.0            4  181.740     Rápido\n",
       "4  0.4430       1.0           31  119.949   Moderado"
      ]
     },
     "execution_count": 257,
     "metadata": {},
     "output_type": "execute_result"
    }
   ],
   "source": [
    "# Novas features\n",
    "(df1[['energy', 'loudness', 'intensidade', 'tempo', 'velocidade']].head())"
   ]
  },
  {
   "cell_type": "markdown",
   "metadata": {},
   "source": [
    "### Transformar variáveis categóricas em numéricas\n",
    "##### Tipo: Nominais"
   ]
  },
  {
   "cell_type": "code",
   "execution_count": 258,
   "metadata": {
    "tags": []
   },
   "outputs": [
    {
     "name": "stdout",
     "output_type": "stream",
     "text": [
      "<class 'pandas.core.frame.DataFrame'>\n",
      "RangeIndex: 52296 entries, 0 to 52295\n",
      "Data columns (total 21 columns):\n",
      " #   Column              Non-Null Count  Dtype  \n",
      "---  ------              --------------  -----  \n",
      " 0   track_name          52296 non-null  object \n",
      " 1   popularity          52296 non-null  float64\n",
      " 2   duration_ms         52296 non-null  float64\n",
      " 3   explicit            52296 non-null  object \n",
      " 4   danceability        52296 non-null  float64\n",
      " 5   energy              52296 non-null  float64\n",
      " 6   loudness            52296 non-null  float64\n",
      " 7   mode                52296 non-null  float64\n",
      " 8   speechiness         52296 non-null  float64\n",
      " 9   acousticness        52296 non-null  float64\n",
      " 10  instrumentalness    52296 non-null  float64\n",
      " 11  liveness            52296 non-null  float64\n",
      " 12  valence             52296 non-null  float64\n",
      " 13  tempo               52296 non-null  float64\n",
      " 14  time_signature      52296 non-null  float64\n",
      " 15  track_genre         52296 non-null  object \n",
      " 16  duration_minutes    52296 non-null  int64  \n",
      " 17  duration_seconds    52296 non-null  int64  \n",
      " 18  formatted_duration  52296 non-null  object \n",
      " 19  intensidade         52296 non-null  int64  \n",
      " 20  velocidade          52296 non-null  object \n",
      "dtypes: float64(13), int64(3), object(5)\n",
      "memory usage: 8.4+ MB\n"
     ]
    }
   ],
   "source": [
    "# Exibe informações sobre o DataFrame\n",
    "df1.info()"
   ]
  },
  {
   "cell_type": "code",
   "execution_count": 259,
   "metadata": {
    "tags": []
   },
   "outputs": [
    {
     "data": {
      "text/html": [
       "<div>\n",
       "<style scoped>\n",
       "    .dataframe tbody tr th:only-of-type {\n",
       "        vertical-align: middle;\n",
       "    }\n",
       "\n",
       "    .dataframe tbody tr th {\n",
       "        vertical-align: top;\n",
       "    }\n",
       "\n",
       "    .dataframe thead th {\n",
       "        text-align: right;\n",
       "    }\n",
       "</style>\n",
       "<table border=\"1\" class=\"dataframe\">\n",
       "  <thead>\n",
       "    <tr style=\"text-align: right;\">\n",
       "      <th></th>\n",
       "      <th>track_name</th>\n",
       "      <th>explicit</th>\n",
       "      <th>track_genre</th>\n",
       "      <th>formatted_duration</th>\n",
       "      <th>velocidade</th>\n",
       "    </tr>\n",
       "  </thead>\n",
       "  <tbody>\n",
       "    <tr>\n",
       "      <th>0</th>\n",
       "      <td>Comedy</td>\n",
       "      <td>False</td>\n",
       "      <td>acoustic</td>\n",
       "      <td>3:50</td>\n",
       "      <td>Lento</td>\n",
       "    </tr>\n",
       "    <tr>\n",
       "      <th>1</th>\n",
       "      <td>Ghost - Acoustic</td>\n",
       "      <td>False</td>\n",
       "      <td>acoustic</td>\n",
       "      <td>2:29</td>\n",
       "      <td>Lento</td>\n",
       "    </tr>\n",
       "    <tr>\n",
       "      <th>2</th>\n",
       "      <td>To Begin Again</td>\n",
       "      <td>False</td>\n",
       "      <td>acoustic</td>\n",
       "      <td>3:30</td>\n",
       "      <td>Lento</td>\n",
       "    </tr>\n",
       "    <tr>\n",
       "      <th>3</th>\n",
       "      <td>Can't Help Falling In Love</td>\n",
       "      <td>False</td>\n",
       "      <td>acoustic</td>\n",
       "      <td>3:21</td>\n",
       "      <td>Rápido</td>\n",
       "    </tr>\n",
       "    <tr>\n",
       "      <th>4</th>\n",
       "      <td>Hold On</td>\n",
       "      <td>False</td>\n",
       "      <td>acoustic</td>\n",
       "      <td>3:18</td>\n",
       "      <td>Moderado</td>\n",
       "    </tr>\n",
       "    <tr>\n",
       "      <th>...</th>\n",
       "      <td>...</td>\n",
       "      <td>...</td>\n",
       "      <td>...</td>\n",
       "      <td>...</td>\n",
       "      <td>...</td>\n",
       "    </tr>\n",
       "    <tr>\n",
       "      <th>52291</th>\n",
       "      <td>Trim Body</td>\n",
       "      <td>True</td>\n",
       "      <td>trip-hop</td>\n",
       "      <td>3:35</td>\n",
       "      <td>Moderado</td>\n",
       "    </tr>\n",
       "    <tr>\n",
       "      <th>52292</th>\n",
       "      <td>My Head Is My Only House Unless It Rains - 201...</td>\n",
       "      <td>False</td>\n",
       "      <td>trip-hop</td>\n",
       "      <td>2:58</td>\n",
       "      <td>Moderado</td>\n",
       "    </tr>\n",
       "    <tr>\n",
       "      <th>52293</th>\n",
       "      <td>From The Dark</td>\n",
       "      <td>False</td>\n",
       "      <td>trip-hop</td>\n",
       "      <td>3:22</td>\n",
       "      <td>Rápido</td>\n",
       "    </tr>\n",
       "    <tr>\n",
       "      <th>52294</th>\n",
       "      <td>Emerald Tuesday</td>\n",
       "      <td>False</td>\n",
       "      <td>trip-hop</td>\n",
       "      <td>3:19</td>\n",
       "      <td>Moderado</td>\n",
       "    </tr>\n",
       "    <tr>\n",
       "      <th>52295</th>\n",
       "      <td>Strangers on a Train - Instrumental</td>\n",
       "      <td>False</td>\n",
       "      <td>trip-hop</td>\n",
       "      <td>4:38</td>\n",
       "      <td>Lento</td>\n",
       "    </tr>\n",
       "  </tbody>\n",
       "</table>\n",
       "<p>52296 rows × 5 columns</p>\n",
       "</div>"
      ],
      "text/plain": [
       "                                              track_name explicit track_genre  \\\n",
       "0                                                 Comedy    False    acoustic   \n",
       "1                                       Ghost - Acoustic    False    acoustic   \n",
       "2                                         To Begin Again    False    acoustic   \n",
       "3                             Can't Help Falling In Love    False    acoustic   \n",
       "4                                                Hold On    False    acoustic   \n",
       "...                                                  ...      ...         ...   \n",
       "52291                                          Trim Body     True    trip-hop   \n",
       "52292  My Head Is My Only House Unless It Rains - 201...    False    trip-hop   \n",
       "52293                                      From The Dark    False    trip-hop   \n",
       "52294                                    Emerald Tuesday    False    trip-hop   \n",
       "52295                Strangers on a Train - Instrumental    False    trip-hop   \n",
       "\n",
       "      formatted_duration velocidade  \n",
       "0                   3:50      Lento  \n",
       "1                   2:29      Lento  \n",
       "2                   3:30      Lento  \n",
       "3                   3:21     Rápido  \n",
       "4                   3:18   Moderado  \n",
       "...                  ...        ...  \n",
       "52291               3:35   Moderado  \n",
       "52292               2:58   Moderado  \n",
       "52293               3:22     Rápido  \n",
       "52294               3:19   Moderado  \n",
       "52295               4:38      Lento  \n",
       "\n",
       "[52296 rows x 5 columns]"
      ]
     },
     "execution_count": 259,
     "metadata": {},
     "output_type": "execute_result"
    }
   ],
   "source": [
    "# Exibindo colunas que são do tipo String\n",
    "df1.select_dtypes(include='object')"
   ]
  },
  {
   "cell_type": "code",
   "execution_count": 260,
   "metadata": {
    "tags": []
   },
   "outputs": [
    {
     "data": {
      "text/html": [
       "<div>\n",
       "<style scoped>\n",
       "    .dataframe tbody tr th:only-of-type {\n",
       "        vertical-align: middle;\n",
       "    }\n",
       "\n",
       "    .dataframe tbody tr th {\n",
       "        vertical-align: top;\n",
       "    }\n",
       "\n",
       "    .dataframe thead th {\n",
       "        text-align: right;\n",
       "    }\n",
       "</style>\n",
       "<table border=\"1\" class=\"dataframe\">\n",
       "  <thead>\n",
       "    <tr style=\"text-align: right;\">\n",
       "      <th></th>\n",
       "      <th>track_name</th>\n",
       "      <th>popularity</th>\n",
       "      <th>duration_ms</th>\n",
       "      <th>explicit</th>\n",
       "      <th>danceability</th>\n",
       "      <th>energy</th>\n",
       "      <th>loudness</th>\n",
       "      <th>mode</th>\n",
       "      <th>speechiness</th>\n",
       "      <th>acousticness</th>\n",
       "      <th>...</th>\n",
       "      <th>track_genre_100</th>\n",
       "      <th>track_genre_101</th>\n",
       "      <th>track_genre_102</th>\n",
       "      <th>track_genre_103</th>\n",
       "      <th>track_genre_104</th>\n",
       "      <th>duration_minutes</th>\n",
       "      <th>duration_seconds</th>\n",
       "      <th>formatted_duration</th>\n",
       "      <th>intensidade</th>\n",
       "      <th>velocidade</th>\n",
       "    </tr>\n",
       "  </thead>\n",
       "  <tbody>\n",
       "    <tr>\n",
       "      <th>0</th>\n",
       "      <td>Comedy</td>\n",
       "      <td>73.0</td>\n",
       "      <td>230666.0</td>\n",
       "      <td>False</td>\n",
       "      <td>0.676</td>\n",
       "      <td>0.4610</td>\n",
       "      <td>1.0</td>\n",
       "      <td>0.0</td>\n",
       "      <td>0.1430</td>\n",
       "      <td>0.0322</td>\n",
       "      <td>...</td>\n",
       "      <td>0</td>\n",
       "      <td>0</td>\n",
       "      <td>0</td>\n",
       "      <td>0</td>\n",
       "      <td>0</td>\n",
       "      <td>3</td>\n",
       "      <td>50</td>\n",
       "      <td>3:50</td>\n",
       "      <td>32</td>\n",
       "      <td>Lento</td>\n",
       "    </tr>\n",
       "    <tr>\n",
       "      <th>1</th>\n",
       "      <td>Ghost - Acoustic</td>\n",
       "      <td>55.0</td>\n",
       "      <td>149610.0</td>\n",
       "      <td>False</td>\n",
       "      <td>0.420</td>\n",
       "      <td>0.1660</td>\n",
       "      <td>1.0</td>\n",
       "      <td>1.0</td>\n",
       "      <td>0.0763</td>\n",
       "      <td>0.9240</td>\n",
       "      <td>...</td>\n",
       "      <td>0</td>\n",
       "      <td>0</td>\n",
       "      <td>0</td>\n",
       "      <td>0</td>\n",
       "      <td>0</td>\n",
       "      <td>2</td>\n",
       "      <td>29</td>\n",
       "      <td>2:29</td>\n",
       "      <td>12</td>\n",
       "      <td>Lento</td>\n",
       "    </tr>\n",
       "    <tr>\n",
       "      <th>2</th>\n",
       "      <td>To Begin Again</td>\n",
       "      <td>57.0</td>\n",
       "      <td>210826.0</td>\n",
       "      <td>False</td>\n",
       "      <td>0.438</td>\n",
       "      <td>0.3590</td>\n",
       "      <td>1.0</td>\n",
       "      <td>1.0</td>\n",
       "      <td>0.0557</td>\n",
       "      <td>0.2100</td>\n",
       "      <td>...</td>\n",
       "      <td>0</td>\n",
       "      <td>0</td>\n",
       "      <td>0</td>\n",
       "      <td>0</td>\n",
       "      <td>0</td>\n",
       "      <td>3</td>\n",
       "      <td>30</td>\n",
       "      <td>3:30</td>\n",
       "      <td>25</td>\n",
       "      <td>Lento</td>\n",
       "    </tr>\n",
       "    <tr>\n",
       "      <th>3</th>\n",
       "      <td>Can't Help Falling In Love</td>\n",
       "      <td>71.0</td>\n",
       "      <td>201933.0</td>\n",
       "      <td>False</td>\n",
       "      <td>0.266</td>\n",
       "      <td>0.0596</td>\n",
       "      <td>1.0</td>\n",
       "      <td>1.0</td>\n",
       "      <td>0.0363</td>\n",
       "      <td>0.9050</td>\n",
       "      <td>...</td>\n",
       "      <td>0</td>\n",
       "      <td>0</td>\n",
       "      <td>0</td>\n",
       "      <td>0</td>\n",
       "      <td>0</td>\n",
       "      <td>3</td>\n",
       "      <td>21</td>\n",
       "      <td>3:21</td>\n",
       "      <td>4</td>\n",
       "      <td>Rápido</td>\n",
       "    </tr>\n",
       "    <tr>\n",
       "      <th>4</th>\n",
       "      <td>Hold On</td>\n",
       "      <td>82.0</td>\n",
       "      <td>198853.0</td>\n",
       "      <td>False</td>\n",
       "      <td>0.618</td>\n",
       "      <td>0.4430</td>\n",
       "      <td>1.0</td>\n",
       "      <td>1.0</td>\n",
       "      <td>0.0526</td>\n",
       "      <td>0.4690</td>\n",
       "      <td>...</td>\n",
       "      <td>0</td>\n",
       "      <td>0</td>\n",
       "      <td>0</td>\n",
       "      <td>0</td>\n",
       "      <td>0</td>\n",
       "      <td>3</td>\n",
       "      <td>18</td>\n",
       "      <td>3:18</td>\n",
       "      <td>31</td>\n",
       "      <td>Moderado</td>\n",
       "    </tr>\n",
       "  </tbody>\n",
       "</table>\n",
       "<p>5 rows × 124 columns</p>\n",
       "</div>"
      ],
      "text/plain": [
       "                   track_name  popularity  duration_ms explicit  danceability  \\\n",
       "0                      Comedy        73.0     230666.0    False         0.676   \n",
       "1            Ghost - Acoustic        55.0     149610.0    False         0.420   \n",
       "2              To Begin Again        57.0     210826.0    False         0.438   \n",
       "3  Can't Help Falling In Love        71.0     201933.0    False         0.266   \n",
       "4                     Hold On        82.0     198853.0    False         0.618   \n",
       "\n",
       "   energy  loudness  mode  speechiness  acousticness  ...  track_genre_100  \\\n",
       "0  0.4610       1.0   0.0       0.1430        0.0322  ...                0   \n",
       "1  0.1660       1.0   1.0       0.0763        0.9240  ...                0   \n",
       "2  0.3590       1.0   1.0       0.0557        0.2100  ...                0   \n",
       "3  0.0596       1.0   1.0       0.0363        0.9050  ...                0   \n",
       "4  0.4430       1.0   1.0       0.0526        0.4690  ...                0   \n",
       "\n",
       "   track_genre_101  track_genre_102  track_genre_103  track_genre_104  \\\n",
       "0                0                0                0                0   \n",
       "1                0                0                0                0   \n",
       "2                0                0                0                0   \n",
       "3                0                0                0                0   \n",
       "4                0                0                0                0   \n",
       "\n",
       "   duration_minutes  duration_seconds  formatted_duration  intensidade  \\\n",
       "0                 3                50                3:50           32   \n",
       "1                 2                29                2:29           12   \n",
       "2                 3                30                3:30           25   \n",
       "3                 3                21                3:21            4   \n",
       "4                 3                18                3:18           31   \n",
       "\n",
       "   velocidade  \n",
       "0       Lento  \n",
       "1       Lento  \n",
       "2       Lento  \n",
       "3      Rápido  \n",
       "4    Moderado  \n",
       "\n",
       "[5 rows x 124 columns]"
      ]
     },
     "execution_count": 260,
     "metadata": {},
     "output_type": "execute_result"
    }
   ],
   "source": [
    "# Transforma variaveis categoricas em numericas usando OneHotEnconder\n",
    "from category_encoders.one_hot import OneHotEncoder, OrdinalEncoder\n",
    "\n",
    "one_hot = OneHotEncoder(cols=['track_genre'])\n",
    "df1 = one_hot.fit_transform(df1)\n",
    "df1.head()"
   ]
  },
  {
   "cell_type": "code",
   "execution_count": 261,
   "metadata": {},
   "outputs": [
    {
     "data": {
      "text/html": [
       "<div>\n",
       "<style scoped>\n",
       "    .dataframe tbody tr th:only-of-type {\n",
       "        vertical-align: middle;\n",
       "    }\n",
       "\n",
       "    .dataframe tbody tr th {\n",
       "        vertical-align: top;\n",
       "    }\n",
       "\n",
       "    .dataframe thead th {\n",
       "        text-align: right;\n",
       "    }\n",
       "</style>\n",
       "<table border=\"1\" class=\"dataframe\">\n",
       "  <thead>\n",
       "    <tr style=\"text-align: right;\">\n",
       "      <th></th>\n",
       "      <th>track_name</th>\n",
       "      <th>popularity</th>\n",
       "      <th>duration_ms</th>\n",
       "      <th>explicit</th>\n",
       "      <th>danceability</th>\n",
       "      <th>energy</th>\n",
       "      <th>loudness</th>\n",
       "      <th>mode</th>\n",
       "      <th>speechiness</th>\n",
       "      <th>acousticness</th>\n",
       "      <th>...</th>\n",
       "      <th>track_genre_100</th>\n",
       "      <th>track_genre_101</th>\n",
       "      <th>track_genre_102</th>\n",
       "      <th>track_genre_103</th>\n",
       "      <th>track_genre_104</th>\n",
       "      <th>duration_minutes</th>\n",
       "      <th>duration_seconds</th>\n",
       "      <th>formatted_duration</th>\n",
       "      <th>intensidade</th>\n",
       "      <th>velocidade</th>\n",
       "    </tr>\n",
       "  </thead>\n",
       "  <tbody>\n",
       "    <tr>\n",
       "      <th>0</th>\n",
       "      <td>Comedy</td>\n",
       "      <td>73.0</td>\n",
       "      <td>230666.0</td>\n",
       "      <td>False</td>\n",
       "      <td>0.676</td>\n",
       "      <td>0.4610</td>\n",
       "      <td>1.0</td>\n",
       "      <td>0.0</td>\n",
       "      <td>0.1430</td>\n",
       "      <td>0.0322</td>\n",
       "      <td>...</td>\n",
       "      <td>0</td>\n",
       "      <td>0</td>\n",
       "      <td>0</td>\n",
       "      <td>0</td>\n",
       "      <td>0</td>\n",
       "      <td>3</td>\n",
       "      <td>50</td>\n",
       "      <td>3:50</td>\n",
       "      <td>32</td>\n",
       "      <td>1</td>\n",
       "    </tr>\n",
       "    <tr>\n",
       "      <th>1</th>\n",
       "      <td>Ghost - Acoustic</td>\n",
       "      <td>55.0</td>\n",
       "      <td>149610.0</td>\n",
       "      <td>False</td>\n",
       "      <td>0.420</td>\n",
       "      <td>0.1660</td>\n",
       "      <td>1.0</td>\n",
       "      <td>1.0</td>\n",
       "      <td>0.0763</td>\n",
       "      <td>0.9240</td>\n",
       "      <td>...</td>\n",
       "      <td>0</td>\n",
       "      <td>0</td>\n",
       "      <td>0</td>\n",
       "      <td>0</td>\n",
       "      <td>0</td>\n",
       "      <td>2</td>\n",
       "      <td>29</td>\n",
       "      <td>2:29</td>\n",
       "      <td>12</td>\n",
       "      <td>1</td>\n",
       "    </tr>\n",
       "    <tr>\n",
       "      <th>2</th>\n",
       "      <td>To Begin Again</td>\n",
       "      <td>57.0</td>\n",
       "      <td>210826.0</td>\n",
       "      <td>False</td>\n",
       "      <td>0.438</td>\n",
       "      <td>0.3590</td>\n",
       "      <td>1.0</td>\n",
       "      <td>1.0</td>\n",
       "      <td>0.0557</td>\n",
       "      <td>0.2100</td>\n",
       "      <td>...</td>\n",
       "      <td>0</td>\n",
       "      <td>0</td>\n",
       "      <td>0</td>\n",
       "      <td>0</td>\n",
       "      <td>0</td>\n",
       "      <td>3</td>\n",
       "      <td>30</td>\n",
       "      <td>3:30</td>\n",
       "      <td>25</td>\n",
       "      <td>1</td>\n",
       "    </tr>\n",
       "    <tr>\n",
       "      <th>3</th>\n",
       "      <td>Can't Help Falling In Love</td>\n",
       "      <td>71.0</td>\n",
       "      <td>201933.0</td>\n",
       "      <td>False</td>\n",
       "      <td>0.266</td>\n",
       "      <td>0.0596</td>\n",
       "      <td>1.0</td>\n",
       "      <td>1.0</td>\n",
       "      <td>0.0363</td>\n",
       "      <td>0.9050</td>\n",
       "      <td>...</td>\n",
       "      <td>0</td>\n",
       "      <td>0</td>\n",
       "      <td>0</td>\n",
       "      <td>0</td>\n",
       "      <td>0</td>\n",
       "      <td>3</td>\n",
       "      <td>21</td>\n",
       "      <td>3:21</td>\n",
       "      <td>4</td>\n",
       "      <td>2</td>\n",
       "    </tr>\n",
       "    <tr>\n",
       "      <th>4</th>\n",
       "      <td>Hold On</td>\n",
       "      <td>82.0</td>\n",
       "      <td>198853.0</td>\n",
       "      <td>False</td>\n",
       "      <td>0.618</td>\n",
       "      <td>0.4430</td>\n",
       "      <td>1.0</td>\n",
       "      <td>1.0</td>\n",
       "      <td>0.0526</td>\n",
       "      <td>0.4690</td>\n",
       "      <td>...</td>\n",
       "      <td>0</td>\n",
       "      <td>0</td>\n",
       "      <td>0</td>\n",
       "      <td>0</td>\n",
       "      <td>0</td>\n",
       "      <td>3</td>\n",
       "      <td>18</td>\n",
       "      <td>3:18</td>\n",
       "      <td>31</td>\n",
       "      <td>3</td>\n",
       "    </tr>\n",
       "  </tbody>\n",
       "</table>\n",
       "<p>5 rows × 124 columns</p>\n",
       "</div>"
      ],
      "text/plain": [
       "                   track_name  popularity  duration_ms explicit  danceability  \\\n",
       "0                      Comedy        73.0     230666.0    False         0.676   \n",
       "1            Ghost - Acoustic        55.0     149610.0    False         0.420   \n",
       "2              To Begin Again        57.0     210826.0    False         0.438   \n",
       "3  Can't Help Falling In Love        71.0     201933.0    False         0.266   \n",
       "4                     Hold On        82.0     198853.0    False         0.618   \n",
       "\n",
       "   energy  loudness  mode  speechiness  acousticness  ...  track_genre_100  \\\n",
       "0  0.4610       1.0   0.0       0.1430        0.0322  ...                0   \n",
       "1  0.1660       1.0   1.0       0.0763        0.9240  ...                0   \n",
       "2  0.3590       1.0   1.0       0.0557        0.2100  ...                0   \n",
       "3  0.0596       1.0   1.0       0.0363        0.9050  ...                0   \n",
       "4  0.4430       1.0   1.0       0.0526        0.4690  ...                0   \n",
       "\n",
       "   track_genre_101  track_genre_102  track_genre_103  track_genre_104  \\\n",
       "0                0                0                0                0   \n",
       "1                0                0                0                0   \n",
       "2                0                0                0                0   \n",
       "3                0                0                0                0   \n",
       "4                0                0                0                0   \n",
       "\n",
       "   duration_minutes  duration_seconds  formatted_duration  intensidade  \\\n",
       "0                 3                50                3:50           32   \n",
       "1                 2                29                2:29           12   \n",
       "2                 3                30                3:30           25   \n",
       "3                 3                21                3:21            4   \n",
       "4                 3                18                3:18           31   \n",
       "\n",
       "   velocidade  \n",
       "0           1  \n",
       "1           1  \n",
       "2           1  \n",
       "3           2  \n",
       "4           3  \n",
       "\n",
       "[5 rows x 124 columns]"
      ]
     },
     "execution_count": 261,
     "metadata": {},
     "output_type": "execute_result"
    }
   ],
   "source": [
    "# Tranforma variáveis categóricas em númericas com OrdinalEconder\n",
    "\n",
    "ord_enc = OrdinalEncoder(cols=['velocidade'])\n",
    "df1 = ord_enc.fit_transform(df1)\n",
    "df1.head()"
   ]
  },
  {
   "cell_type": "markdown",
   "metadata": {},
   "source": [
    "### Padronização dos dados"
   ]
  },
  {
   "cell_type": "code",
   "execution_count": 262,
   "metadata": {},
   "outputs": [
    {
     "data": {
      "text/html": [
       "<div>\n",
       "<style scoped>\n",
       "    .dataframe tbody tr th:only-of-type {\n",
       "        vertical-align: middle;\n",
       "    }\n",
       "\n",
       "    .dataframe tbody tr th {\n",
       "        vertical-align: top;\n",
       "    }\n",
       "\n",
       "    .dataframe thead th {\n",
       "        text-align: right;\n",
       "    }\n",
       "</style>\n",
       "<table border=\"1\" class=\"dataframe\">\n",
       "  <thead>\n",
       "    <tr style=\"text-align: right;\">\n",
       "      <th></th>\n",
       "      <th>track_name</th>\n",
       "      <th>popularity</th>\n",
       "      <th>duration_ms</th>\n",
       "      <th>explicit</th>\n",
       "      <th>danceability</th>\n",
       "      <th>energy</th>\n",
       "      <th>loudness</th>\n",
       "      <th>mode</th>\n",
       "      <th>speechiness</th>\n",
       "      <th>acousticness</th>\n",
       "      <th>...</th>\n",
       "      <th>track_genre_100</th>\n",
       "      <th>track_genre_101</th>\n",
       "      <th>track_genre_102</th>\n",
       "      <th>track_genre_103</th>\n",
       "      <th>track_genre_104</th>\n",
       "      <th>duration_minutes</th>\n",
       "      <th>duration_seconds</th>\n",
       "      <th>formatted_duration</th>\n",
       "      <th>intensidade</th>\n",
       "      <th>velocidade</th>\n",
       "    </tr>\n",
       "  </thead>\n",
       "  <tbody>\n",
       "    <tr>\n",
       "      <th>0</th>\n",
       "      <td>Comedy</td>\n",
       "      <td>1.996203</td>\n",
       "      <td>230666.0</td>\n",
       "      <td>False</td>\n",
       "      <td>0.593414</td>\n",
       "      <td>-0.726305</td>\n",
       "      <td>-0.007591</td>\n",
       "      <td>0.0</td>\n",
       "      <td>0.406603</td>\n",
       "      <td>-0.865756</td>\n",
       "      <td>...</td>\n",
       "      <td>0</td>\n",
       "      <td>0</td>\n",
       "      <td>0</td>\n",
       "      <td>0</td>\n",
       "      <td>0</td>\n",
       "      <td>3</td>\n",
       "      <td>50</td>\n",
       "      <td>3:50</td>\n",
       "      <td>-0.723353</td>\n",
       "      <td>1</td>\n",
       "    </tr>\n",
       "    <tr>\n",
       "      <th>1</th>\n",
       "      <td>Ghost - Acoustic</td>\n",
       "      <td>1.061791</td>\n",
       "      <td>149610.0</td>\n",
       "      <td>False</td>\n",
       "      <td>-0.916820</td>\n",
       "      <td>-1.873954</td>\n",
       "      <td>-0.007591</td>\n",
       "      <td>1.0</td>\n",
       "      <td>-0.140826</td>\n",
       "      <td>1.750312</td>\n",
       "      <td>...</td>\n",
       "      <td>0</td>\n",
       "      <td>0</td>\n",
       "      <td>0</td>\n",
       "      <td>0</td>\n",
       "      <td>0</td>\n",
       "      <td>2</td>\n",
       "      <td>29</td>\n",
       "      <td>2:29</td>\n",
       "      <td>-1.844516</td>\n",
       "      <td>1</td>\n",
       "    </tr>\n",
       "    <tr>\n",
       "      <th>2</th>\n",
       "      <td>To Begin Again</td>\n",
       "      <td>1.165615</td>\n",
       "      <td>210826.0</td>\n",
       "      <td>False</td>\n",
       "      <td>-0.810632</td>\n",
       "      <td>-1.123119</td>\n",
       "      <td>-0.007591</td>\n",
       "      <td>1.0</td>\n",
       "      <td>-0.309897</td>\n",
       "      <td>-0.344185</td>\n",
       "      <td>...</td>\n",
       "      <td>0</td>\n",
       "      <td>0</td>\n",
       "      <td>0</td>\n",
       "      <td>0</td>\n",
       "      <td>0</td>\n",
       "      <td>3</td>\n",
       "      <td>30</td>\n",
       "      <td>3:30</td>\n",
       "      <td>-1.115760</td>\n",
       "      <td>1</td>\n",
       "    </tr>\n",
       "    <tr>\n",
       "      <th>3</th>\n",
       "      <td>Can't Help Falling In Love</td>\n",
       "      <td>1.892379</td>\n",
       "      <td>201933.0</td>\n",
       "      <td>False</td>\n",
       "      <td>-1.825320</td>\n",
       "      <td>-2.287886</td>\n",
       "      <td>-0.007591</td>\n",
       "      <td>1.0</td>\n",
       "      <td>-0.469120</td>\n",
       "      <td>1.694576</td>\n",
       "      <td>...</td>\n",
       "      <td>0</td>\n",
       "      <td>0</td>\n",
       "      <td>0</td>\n",
       "      <td>0</td>\n",
       "      <td>0</td>\n",
       "      <td>3</td>\n",
       "      <td>21</td>\n",
       "      <td>3:21</td>\n",
       "      <td>-2.292982</td>\n",
       "      <td>2</td>\n",
       "    </tr>\n",
       "    <tr>\n",
       "      <th>4</th>\n",
       "      <td>Hold On</td>\n",
       "      <td>2.463409</td>\n",
       "      <td>198853.0</td>\n",
       "      <td>False</td>\n",
       "      <td>0.251251</td>\n",
       "      <td>-0.796331</td>\n",
       "      <td>-0.007591</td>\n",
       "      <td>1.0</td>\n",
       "      <td>-0.335340</td>\n",
       "      <td>0.415584</td>\n",
       "      <td>...</td>\n",
       "      <td>0</td>\n",
       "      <td>0</td>\n",
       "      <td>0</td>\n",
       "      <td>0</td>\n",
       "      <td>0</td>\n",
       "      <td>3</td>\n",
       "      <td>18</td>\n",
       "      <td>3:18</td>\n",
       "      <td>-0.779412</td>\n",
       "      <td>3</td>\n",
       "    </tr>\n",
       "  </tbody>\n",
       "</table>\n",
       "<p>5 rows × 124 columns</p>\n",
       "</div>"
      ],
      "text/plain": [
       "                   track_name  popularity  duration_ms explicit  danceability  \\\n",
       "0                      Comedy    1.996203     230666.0    False      0.593414   \n",
       "1            Ghost - Acoustic    1.061791     149610.0    False     -0.916820   \n",
       "2              To Begin Again    1.165615     210826.0    False     -0.810632   \n",
       "3  Can't Help Falling In Love    1.892379     201933.0    False     -1.825320   \n",
       "4                     Hold On    2.463409     198853.0    False      0.251251   \n",
       "\n",
       "     energy  loudness  mode  speechiness  acousticness  ...  track_genre_100  \\\n",
       "0 -0.726305 -0.007591   0.0     0.406603     -0.865756  ...                0   \n",
       "1 -1.873954 -0.007591   1.0    -0.140826      1.750312  ...                0   \n",
       "2 -1.123119 -0.007591   1.0    -0.309897     -0.344185  ...                0   \n",
       "3 -2.287886 -0.007591   1.0    -0.469120      1.694576  ...                0   \n",
       "4 -0.796331 -0.007591   1.0    -0.335340      0.415584  ...                0   \n",
       "\n",
       "   track_genre_101  track_genre_102  track_genre_103  track_genre_104  \\\n",
       "0                0                0                0                0   \n",
       "1                0                0                0                0   \n",
       "2                0                0                0                0   \n",
       "3                0                0                0                0   \n",
       "4                0                0                0                0   \n",
       "\n",
       "   duration_minutes  duration_seconds  formatted_duration  intensidade  \\\n",
       "0                 3                50                3:50    -0.723353   \n",
       "1                 2                29                2:29    -1.844516   \n",
       "2                 3                30                3:30    -1.115760   \n",
       "3                 3                21                3:21    -2.292982   \n",
       "4                 3                18                3:18    -0.779412   \n",
       "\n",
       "   velocidade  \n",
       "0           1  \n",
       "1           1  \n",
       "2           1  \n",
       "3           2  \n",
       "4           3  \n",
       "\n",
       "[5 rows x 124 columns]"
      ]
     },
     "execution_count": 262,
     "metadata": {},
     "output_type": "execute_result"
    }
   ],
   "source": [
    "from sklearn.preprocessing import StandardScaler\n",
    "\n",
    "# colunas selecionadas\n",
    "colunas_numericas = ['popularity', 'danceability', 'energy', 'loudness', \n",
    "                     'speechiness', 'acousticness', 'instrumentalness', \n",
    "                     'tempo', 'intensidade']\n",
    "\n",
    "# Verificando se existem\n",
    "colunas_existentes = [col for col in colunas_numericas if col in df1.columns]\n",
    "\n",
    "# Instanciando o StandardScaler\n",
    "scaler = StandardScaler()\n",
    "\n",
    "# Aplicando a padronização apenas às colunas numéricas existentes\n",
    "df1[colunas_existentes] = scaler.fit_transform(df1[colunas_existentes])\n",
    "\n",
    "# Primeiras linhas do DataFrame padronizado\n",
    "(df1.head())"
   ]
  },
  {
   "cell_type": "markdown",
   "metadata": {},
   "source": [
    "# Normalização dos dados"
   ]
  },
  {
   "cell_type": "code",
   "execution_count": 263,
   "metadata": {},
   "outputs": [
    {
     "data": {
      "text/html": [
       "<div>\n",
       "<style scoped>\n",
       "    .dataframe tbody tr th:only-of-type {\n",
       "        vertical-align: middle;\n",
       "    }\n",
       "\n",
       "    .dataframe tbody tr th {\n",
       "        vertical-align: top;\n",
       "    }\n",
       "\n",
       "    .dataframe thead th {\n",
       "        text-align: right;\n",
       "    }\n",
       "</style>\n",
       "<table border=\"1\" class=\"dataframe\">\n",
       "  <thead>\n",
       "    <tr style=\"text-align: right;\">\n",
       "      <th></th>\n",
       "      <th>track_name</th>\n",
       "      <th>popularity</th>\n",
       "      <th>duration_ms</th>\n",
       "      <th>explicit</th>\n",
       "      <th>danceability</th>\n",
       "      <th>energy</th>\n",
       "      <th>loudness</th>\n",
       "      <th>mode</th>\n",
       "      <th>speechiness</th>\n",
       "      <th>acousticness</th>\n",
       "      <th>...</th>\n",
       "      <th>track_genre_100</th>\n",
       "      <th>track_genre_101</th>\n",
       "      <th>track_genre_102</th>\n",
       "      <th>track_genre_103</th>\n",
       "      <th>track_genre_104</th>\n",
       "      <th>duration_minutes</th>\n",
       "      <th>duration_seconds</th>\n",
       "      <th>formatted_duration</th>\n",
       "      <th>intensidade</th>\n",
       "      <th>velocidade</th>\n",
       "    </tr>\n",
       "  </thead>\n",
       "  <tbody>\n",
       "    <tr>\n",
       "      <th>0</th>\n",
       "      <td>Comedy</td>\n",
       "      <td>0.73</td>\n",
       "      <td>230666.0</td>\n",
       "      <td>False</td>\n",
       "      <td>0.686294</td>\n",
       "      <td>0.460961</td>\n",
       "      <td>0.0</td>\n",
       "      <td>0.0</td>\n",
       "      <td>0.148187</td>\n",
       "      <td>0.032329</td>\n",
       "      <td>...</td>\n",
       "      <td>0</td>\n",
       "      <td>0</td>\n",
       "      <td>0</td>\n",
       "      <td>0</td>\n",
       "      <td>0</td>\n",
       "      <td>3</td>\n",
       "      <td>50</td>\n",
       "      <td>3:50</td>\n",
       "      <td>0.187135</td>\n",
       "      <td>1</td>\n",
       "    </tr>\n",
       "    <tr>\n",
       "      <th>1</th>\n",
       "      <td>Ghost - Acoustic</td>\n",
       "      <td>0.55</td>\n",
       "      <td>149610.0</td>\n",
       "      <td>False</td>\n",
       "      <td>0.426396</td>\n",
       "      <td>0.165939</td>\n",
       "      <td>0.0</td>\n",
       "      <td>1.0</td>\n",
       "      <td>0.079067</td>\n",
       "      <td>0.927711</td>\n",
       "      <td>...</td>\n",
       "      <td>0</td>\n",
       "      <td>0</td>\n",
       "      <td>0</td>\n",
       "      <td>0</td>\n",
       "      <td>0</td>\n",
       "      <td>2</td>\n",
       "      <td>29</td>\n",
       "      <td>2:29</td>\n",
       "      <td>0.070175</td>\n",
       "      <td>1</td>\n",
       "    </tr>\n",
       "    <tr>\n",
       "      <th>2</th>\n",
       "      <td>To Begin Again</td>\n",
       "      <td>0.57</td>\n",
       "      <td>210826.0</td>\n",
       "      <td>False</td>\n",
       "      <td>0.444670</td>\n",
       "      <td>0.358953</td>\n",
       "      <td>0.0</td>\n",
       "      <td>1.0</td>\n",
       "      <td>0.057720</td>\n",
       "      <td>0.210843</td>\n",
       "      <td>...</td>\n",
       "      <td>0</td>\n",
       "      <td>0</td>\n",
       "      <td>0</td>\n",
       "      <td>0</td>\n",
       "      <td>0</td>\n",
       "      <td>3</td>\n",
       "      <td>30</td>\n",
       "      <td>3:30</td>\n",
       "      <td>0.146199</td>\n",
       "      <td>1</td>\n",
       "    </tr>\n",
       "    <tr>\n",
       "      <th>3</th>\n",
       "      <td>Can't Help Falling In Love</td>\n",
       "      <td>0.71</td>\n",
       "      <td>201933.0</td>\n",
       "      <td>False</td>\n",
       "      <td>0.270051</td>\n",
       "      <td>0.059532</td>\n",
       "      <td>0.0</td>\n",
       "      <td>1.0</td>\n",
       "      <td>0.037617</td>\n",
       "      <td>0.908635</td>\n",
       "      <td>...</td>\n",
       "      <td>0</td>\n",
       "      <td>0</td>\n",
       "      <td>0</td>\n",
       "      <td>0</td>\n",
       "      <td>0</td>\n",
       "      <td>3</td>\n",
       "      <td>21</td>\n",
       "      <td>3:21</td>\n",
       "      <td>0.023392</td>\n",
       "      <td>2</td>\n",
       "    </tr>\n",
       "    <tr>\n",
       "      <th>4</th>\n",
       "      <td>Hold On</td>\n",
       "      <td>0.82</td>\n",
       "      <td>198853.0</td>\n",
       "      <td>False</td>\n",
       "      <td>0.627411</td>\n",
       "      <td>0.442960</td>\n",
       "      <td>0.0</td>\n",
       "      <td>1.0</td>\n",
       "      <td>0.054508</td>\n",
       "      <td>0.470884</td>\n",
       "      <td>...</td>\n",
       "      <td>0</td>\n",
       "      <td>0</td>\n",
       "      <td>0</td>\n",
       "      <td>0</td>\n",
       "      <td>0</td>\n",
       "      <td>3</td>\n",
       "      <td>18</td>\n",
       "      <td>3:18</td>\n",
       "      <td>0.181287</td>\n",
       "      <td>3</td>\n",
       "    </tr>\n",
       "  </tbody>\n",
       "</table>\n",
       "<p>5 rows × 124 columns</p>\n",
       "</div>"
      ],
      "text/plain": [
       "                   track_name  popularity  duration_ms explicit  danceability  \\\n",
       "0                      Comedy        0.73     230666.0    False      0.686294   \n",
       "1            Ghost - Acoustic        0.55     149610.0    False      0.426396   \n",
       "2              To Begin Again        0.57     210826.0    False      0.444670   \n",
       "3  Can't Help Falling In Love        0.71     201933.0    False      0.270051   \n",
       "4                     Hold On        0.82     198853.0    False      0.627411   \n",
       "\n",
       "     energy  loudness  mode  speechiness  acousticness  ...  track_genre_100  \\\n",
       "0  0.460961       0.0   0.0     0.148187      0.032329  ...                0   \n",
       "1  0.165939       0.0   1.0     0.079067      0.927711  ...                0   \n",
       "2  0.358953       0.0   1.0     0.057720      0.210843  ...                0   \n",
       "3  0.059532       0.0   1.0     0.037617      0.908635  ...                0   \n",
       "4  0.442960       0.0   1.0     0.054508      0.470884  ...                0   \n",
       "\n",
       "   track_genre_101  track_genre_102  track_genre_103  track_genre_104  \\\n",
       "0                0                0                0                0   \n",
       "1                0                0                0                0   \n",
       "2                0                0                0                0   \n",
       "3                0                0                0                0   \n",
       "4                0                0                0                0   \n",
       "\n",
       "   duration_minutes  duration_seconds  formatted_duration  intensidade  \\\n",
       "0                 3                50                3:50     0.187135   \n",
       "1                 2                29                2:29     0.070175   \n",
       "2                 3                30                3:30     0.146199   \n",
       "3                 3                21                3:21     0.023392   \n",
       "4                 3                18                3:18     0.181287   \n",
       "\n",
       "   velocidade  \n",
       "0           1  \n",
       "1           1  \n",
       "2           1  \n",
       "3           2  \n",
       "4           3  \n",
       "\n",
       "[5 rows x 124 columns]"
      ]
     },
     "execution_count": 263,
     "metadata": {},
     "output_type": "execute_result"
    }
   ],
   "source": [
    "from sklearn.preprocessing import MinMaxScaler\n",
    "\n",
    "# Colunas numéricas\n",
    "colunas_numericas = ['popularity', 'danceability', 'energy', 'loudness', \n",
    "                     'speechiness', 'acousticness', 'instrumentalness', \n",
    "                     'tempo', 'intensidade']\n",
    "#Criando um MinMaxScaler\n",
    "scaler = MinMaxScaler()\n",
    "\n",
    "#Aplicar a normalização às colunas numéricas\n",
    "df1[colunas_numericas] = scaler.fit_transform(df1[colunas_numericas])\n",
    "\n",
    "(df1.head())"
   ]
  },
  {
   "cell_type": "markdown",
   "metadata": {},
   "source": [
    "### Divisão dos dados para treino e teste:"
   ]
  },
  {
   "cell_type": "code",
   "execution_count": 264,
   "metadata": {
    "tags": []
   },
   "outputs": [
    {
     "name": "stdout",
     "output_type": "stream",
     "text": [
      "<class 'pandas.core.frame.DataFrame'>\n",
      "RangeIndex: 52296 entries, 0 to 52295\n",
      "Columns: 124 entries, track_name to velocidade\n",
      "dtypes: float64(14), int64(107), object(3)\n",
      "memory usage: 49.5+ MB\n"
     ]
    }
   ],
   "source": [
    "# Pegando algumas informações gerais sobre o dataframe\n",
    "df1.info()"
   ]
  },
  {
   "cell_type": "code",
   "execution_count": 265,
   "metadata": {
    "tags": []
   },
   "outputs": [],
   "source": [
    "# Separando as colunas que serão usadas para os dados de treino e teste\n",
    "\n",
    "x_columns = valores = [\"duration_ms\", \"explicit\", \"danceability\", \"energy\", \"loudness\", \"mode\", \"speechiness\", \"acousticness\", \"instrumentalness\", \"liveness\", \"valence\", \"tempo\", \"time_signature\", \n",
    "                        \"track_genre_1\", \"track_genre_2\", \"track_genre_3\", \"track_genre_4\", \"track_genre_5\", \"track_genre_6\", \"track_genre_7\", \"track_genre_8\", \"track_genre_9\", \"track_genre_10\", \"track_genre_11\", \"track_genre_12\", \n",
    "                        \"track_genre_13\", \"track_genre_14\", \"track_genre_15\", \"track_genre_16\", \"track_genre_17\", \"track_genre_18\", \"track_genre_19\", \"track_genre_20\", \"track_genre_21\", \"track_genre_22\", \"track_genre_23\", \"track_genre_24\", \n",
    "                        \"track_genre_25\", \"track_genre_26\", \"track_genre_27\", \"track_genre_28\", \"track_genre_29\", \"track_genre_30\", \"track_genre_31\", \"track_genre_32\", \"track_genre_33\", \"track_genre_34\", \"track_genre_35\", \"track_genre_36\", \n",
    "                        \"track_genre_37\", \"track_genre_38\", \"track_genre_39\", \"track_genre_40\", \"track_genre_41\", \"track_genre_42\", \"track_genre_43\", \"track_genre_44\", \"track_genre_45\", \"track_genre_46\", \"track_genre_47\", \"track_genre_48\", \n",
    "                        \"track_genre_49\", \"track_genre_50\", \"track_genre_51\", \"track_genre_52\", \"track_genre_53\", \"track_genre_54\", \"track_genre_55\", \"track_genre_56\", \"track_genre_57\", \"track_genre_58\", \"track_genre_59\", \"track_genre_60\", \n",
    "                        \"track_genre_61\", \"track_genre_62\", \"track_genre_63\", \"track_genre_64\", \"track_genre_65\", \"track_genre_66\", \"track_genre_67\", \"track_genre_68\", \"track_genre_69\", \"track_genre_70\", \"track_genre_71\", \n",
    "                        \"track_genre_72\", \"track_genre_73\", \"track_genre_74\", \"track_genre_75\", \"track_genre_76\", \"track_genre_77\", \"track_genre_78\", \"track_genre_79\", \"track_genre_80\", \"track_genre_81\", \"track_genre_82\", \"track_genre_83\", \n",
    "                        \"track_genre_84\", \"track_genre_85\", \"track_genre_86\", \"track_genre_87\", \"track_genre_88\", \"track_genre_89\", \"track_genre_90\", \"track_genre_91\", \"track_genre_92\", \"track_genre_93\", \"track_genre_94\", \"track_genre_95\", \n",
    "                        \"track_genre_96\", \"track_genre_97\", \"track_genre_98\", \"track_genre_99\", \"track_genre_100\", \"track_genre_101\", \"track_genre_102\", \"track_genre_103\", \"track_genre_104\", \"duration_minutes\", \"duration_seconds\", \"formatted_duration\", \"intensidade\", \"velocidade\"\n",
    "                      ]\n",
    "\n",
    "y_columns = [\"popularity\"]"
   ]
  },
  {
   "cell_type": "code",
   "execution_count": 266,
   "metadata": {
    "tags": []
   },
   "outputs": [],
   "source": [
    "# Criando e separando dados de treino e teste\n",
    "from sklearn.model_selection import train_test_split\n",
    "\n",
    "\n",
    "X = df1[x_columns]\n",
    "y = df1[y_columns]\n",
    "\n",
    "X_train, X_test, y_train, y_test = train_test_split(X, y, test_size=0.33, random_state=42)"
   ]
  }
 ],
 "metadata": {
  "colab": {
   "provenance": []
  },
  "kernelspec": {
   "display_name": "Python 3 (ipykernel)",
   "language": "python",
   "name": "python3"
  },
  "language_info": {
   "codemirror_mode": {
    "name": "ipython",
    "version": 3
   },
   "file_extension": ".py",
   "mimetype": "text/x-python",
   "name": "python",
   "nbconvert_exporter": "python",
   "pygments_lexer": "ipython3",
   "version": "3.12.4"
  }
 },
 "nbformat": 4,
 "nbformat_minor": 4
}
